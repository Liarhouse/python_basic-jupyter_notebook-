{
 "cells": [
  {
   "cell_type": "markdown",
   "id": "87ed859f",
   "metadata": {},
   "source": [
    "### 변수 - 자료형 - 자료구조(리스트, 튜플, 딕셔너리)\n",
    "### 변수의 유효범위 : 지역변수와 전역변수\n",
    "### 제어문 : 조건문과 반복문\n",
    "### 함수 : 기능별로 묶어놓은 명령어 집합\n",
    "### 클래스"
   ]
  },
  {
   "cell_type": "code",
   "execution_count": null,
   "id": "f938d469",
   "metadata": {
    "ExecuteTime": {
     "end_time": "2022-09-08T00:21:46.153208Z",
     "start_time": "2022-09-08T00:21:46.145229Z"
    }
   },
   "outputs": [],
   "source": [
    "a = 10"
   ]
  },
  {
   "cell_type": "code",
   "execution_count": null,
   "id": "519c1e01",
   "metadata": {
    "ExecuteTime": {
     "end_time": "2022-09-08T00:23:46.275884Z",
     "start_time": "2022-09-08T00:23:46.260263Z"
    }
   },
   "outputs": [],
   "source": [
    "print(a) # 변수의 참조"
   ]
  },
  {
   "cell_type": "code",
   "execution_count": null,
   "id": "5726d0b1",
   "metadata": {
    "ExecuteTime": {
     "end_time": "2022-09-08T00:24:08.328946Z",
     "start_time": "2022-09-08T00:24:08.311971Z"
    }
   },
   "outputs": [],
   "source": [
    "a = 10\n",
    "b = 20\n",
    "c = 30\n",
    "\n",
    "print(a)\n",
    "print(b)\n",
    "print(c)"
   ]
  },
  {
   "cell_type": "code",
   "execution_count": null,
   "id": "9b5228aa",
   "metadata": {
    "ExecuteTime": {
     "end_time": "2022-09-08T00:30:05.458645Z",
     "start_time": "2022-09-08T00:30:05.443689Z"
    }
   },
   "outputs": [],
   "source": [
    "# list(리스트) : 배열(Array)을 확장한 개념으로 서로 다른 자료형을 묶어서 관리하는 자료구조\n",
    "x = []   # 비어있는 리스트 하나를 할당\n",
    "\n",
    "x.append(a)\n",
    "x.append(b)\n",
    "x.append(c)\n",
    "x"
   ]
  },
  {
   "cell_type": "code",
   "execution_count": null,
   "id": "6920a78c",
   "metadata": {
    "ExecuteTime": {
     "end_time": "2022-09-08T00:30:11.682378Z",
     "start_time": "2022-09-08T00:30:11.663428Z"
    }
   },
   "outputs": [],
   "source": [
    "x[0]"
   ]
  },
  {
   "cell_type": "code",
   "execution_count": null,
   "id": "f9028907",
   "metadata": {
    "ExecuteTime": {
     "end_time": "2022-09-08T00:31:09.675360Z",
     "start_time": "2022-09-08T00:31:09.661396Z"
    }
   },
   "outputs": [],
   "source": [
    "y = (a, b, c)\n",
    "# packing vs unpacking\n",
    "y"
   ]
  },
  {
   "cell_type": "code",
   "execution_count": null,
   "id": "48e5ca21",
   "metadata": {
    "ExecuteTime": {
     "end_time": "2022-09-08T00:31:29.494984Z",
     "start_time": "2022-09-08T00:31:29.478028Z"
    }
   },
   "outputs": [],
   "source": [
    "z = a, b, c\n",
    "z"
   ]
  },
  {
   "cell_type": "code",
   "execution_count": null,
   "id": "c51fddbf",
   "metadata": {
    "ExecuteTime": {
     "end_time": "2022-09-08T00:35:07.831519Z",
     "start_time": "2022-09-08T00:35:07.822543Z"
    }
   },
   "outputs": [],
   "source": [
    "aa = list()\n",
    "bb = tuple()\n",
    "cc = set()\n",
    "dd = dict()"
   ]
  },
  {
   "cell_type": "code",
   "execution_count": 1,
   "id": "1cc2489c",
   "metadata": {
    "ExecuteTime": {
     "end_time": "2022-09-08T00:42:41.779835Z",
     "start_time": "2022-09-08T00:42:41.372033Z"
    }
   },
   "outputs": [
    {
     "name": "stdout",
     "output_type": "stream",
     "text": [
      "x =  10\n",
      "x =  1\n",
      "x =  10\n",
      "x =  10\n",
      "y =  2\n"
     ]
    },
    {
     "ename": "NameError",
     "evalue": "name 'y' is not defined",
     "output_type": "error",
     "traceback": [
      "\u001b[1;31m---------------------------------------------------------------------------\u001b[0m",
      "\u001b[1;31mNameError\u001b[0m                                 Traceback (most recent call last)",
      "Input \u001b[1;32mIn [1]\u001b[0m, in \u001b[0;36m<cell line: 16>\u001b[1;34m()\u001b[0m\n\u001b[0;32m     14\u001b[0m \u001b[38;5;28mprint\u001b[39m(\u001b[38;5;124m\"\u001b[39m\u001b[38;5;124mx = \u001b[39m\u001b[38;5;124m\"\u001b[39m, x)\n\u001b[0;32m     15\u001b[0m bbb()\n\u001b[1;32m---> 16\u001b[0m \u001b[38;5;28mprint\u001b[39m(\u001b[38;5;124m\"\u001b[39m\u001b[38;5;124my = \u001b[39m\u001b[38;5;124m\"\u001b[39m, \u001b[43my\u001b[49m)\n",
      "\u001b[1;31mNameError\u001b[0m: name 'y' is not defined"
     ]
    }
   ],
   "source": [
    "x = 10\n",
    "\n",
    "def aaa():\n",
    "    x = 1\n",
    "    print(\"x = \", x)\n",
    "    \n",
    "def bbb():\n",
    "    y = 2\n",
    "    print(\"x = \", x)\n",
    "    print(\"y = \", y)\n",
    "    \n",
    "print(\"x = \", x)\n",
    "aaa()\n",
    "print(\"x = \", x)\n",
    "bbb()\n",
    "print(\"y = \", y)\n"
   ]
  },
  {
   "cell_type": "code",
   "execution_count": 2,
   "id": "ddc810ae",
   "metadata": {
    "ExecuteTime": {
     "end_time": "2022-09-08T00:46:25.042565Z",
     "start_time": "2022-09-08T00:46:25.028579Z"
    }
   },
   "outputs": [
    {
     "name": "stdout",
     "output_type": "stream",
     "text": [
      "[('aaa', 10, 12.5), ('bbb', 20, 30.7), ('ccc', 30, 18.9)]\n"
     ]
    }
   ],
   "source": [
    "k = [(\"aaa\", 10, 12.5), (\"bbb\", 20, 30.7), (\"ccc\", 30, 18.9)]\n",
    "print(k)"
   ]
  },
  {
   "cell_type": "code",
   "execution_count": 19,
   "id": "da688b47",
   "metadata": {
    "ExecuteTime": {
     "end_time": "2022-09-08T01:07:44.643387Z",
     "start_time": "2022-09-08T01:07:44.630424Z"
    }
   },
   "outputs": [],
   "source": [
    "class AAA:\n",
    "    \n",
    "    def __init__(self, name, no, jumsu): # 생성자 메서드 - 객체가 생성될 때 호출되는 메서드\n",
    "        self.name = name\n",
    "        self.no = no\n",
    "        self.jumsu = jumsu\n",
    "    \n",
    "    def getName(self):\n",
    "        return self.name\n",
    "    \n",
    "    def disp(self):\n",
    "        print(self.name, self.no, self.jumsu)\n",
    "        \n",
    "    \n",
    "        \n",
    "    def __del__(self): # 소멸자 메서드 - 생략가능\n",
    "        print(\"AAA 객체 소멸자 호출\")"
   ]
  },
  {
   "cell_type": "code",
   "execution_count": 20,
   "id": "9a25f539",
   "metadata": {
    "ExecuteTime": {
     "end_time": "2022-09-08T01:07:49.806312Z",
     "start_time": "2022-09-08T01:07:49.791353Z"
    }
   },
   "outputs": [
    {
     "name": "stdout",
     "output_type": "stream",
     "text": [
      "aaa 10 12.5\n",
      "None\n",
      "bbb 20 30.7\n",
      "None\n",
      "ccc 30 18.9\n",
      "None\n"
     ]
    }
   ],
   "source": [
    "ap = AAA('aaa', 10, 12.5)\n",
    "bp = AAA('bbb', 20, 30.7)\n",
    "cp = AAA('ccc', 30, 18.9)\n",
    "\n",
    "print(ap.disp())\n",
    "print(bp.disp())\n",
    "print(cp.disp())"
   ]
  },
  {
   "cell_type": "code",
   "execution_count": 21,
   "id": "e1f3640a",
   "metadata": {
    "ExecuteTime": {
     "end_time": "2022-09-08T01:07:51.495166Z",
     "start_time": "2022-09-08T01:07:51.479661Z"
    }
   },
   "outputs": [
    {
     "name": "stdout",
     "output_type": "stream",
     "text": [
      "AAA 객체 소멸자 호출\n",
      "AAA 객체 소멸자 호출\n",
      "AAA 객체 소멸자 호출\n"
     ]
    }
   ],
   "source": [
    "xxx = [ap, bp, cp]\n",
    "yyy = [AAA('aaa', 10, 12.5), AAA('bbb', 20, 30.7), AAA('ccc', 30, 18.9)]"
   ]
  },
  {
   "cell_type": "code",
   "execution_count": 9,
   "id": "6abc28fa",
   "metadata": {
    "ExecuteTime": {
     "end_time": "2022-09-08T01:00:32.221648Z",
     "start_time": "2022-09-08T01:00:32.215664Z"
    }
   },
   "outputs": [
    {
     "name": "stdout",
     "output_type": "stream",
     "text": [
      "[<__main__.AAA object at 0x0000017D7CE66C40>, <__main__.AAA object at 0x0000017D7CE81040>, <__main__.AAA object at 0x0000017D7D0308B0>]\n"
     ]
    }
   ],
   "source": [
    "print(xxx)"
   ]
  },
  {
   "cell_type": "code",
   "execution_count": 10,
   "id": "85c05876",
   "metadata": {
    "ExecuteTime": {
     "end_time": "2022-09-08T01:00:35.253267Z",
     "start_time": "2022-09-08T01:00:35.239306Z"
    }
   },
   "outputs": [
    {
     "name": "stdout",
     "output_type": "stream",
     "text": [
      "[<__main__.AAA object at 0x0000017D7CE66A30>, <__main__.AAA object at 0x0000017D7CE66940>, <__main__.AAA object at 0x0000017D7CE2D0A0>]\n"
     ]
    }
   ],
   "source": [
    "print(yyy)"
   ]
  },
  {
   "cell_type": "code",
   "execution_count": 11,
   "id": "9ae78f54",
   "metadata": {
    "ExecuteTime": {
     "end_time": "2022-09-08T01:00:47.149061Z",
     "start_time": "2022-09-08T01:00:47.137086Z"
    }
   },
   "outputs": [
    {
     "name": "stdout",
     "output_type": "stream",
     "text": [
      "<__main__.AAA object at 0x0000017D7CE66C40>\n"
     ]
    }
   ],
   "source": [
    "print(xxx[0])"
   ]
  },
  {
   "cell_type": "code",
   "execution_count": 12,
   "id": "529f6346",
   "metadata": {
    "ExecuteTime": {
     "end_time": "2022-09-08T01:02:03.533444Z",
     "start_time": "2022-09-08T01:02:03.519480Z"
    }
   },
   "outputs": [
    {
     "name": "stdout",
     "output_type": "stream",
     "text": [
      "aaa 10 12.5\n",
      "None\n",
      "bbb 20 30.7\n",
      "None\n",
      "ccc 30 18.9\n",
      "None\n"
     ]
    }
   ],
   "source": [
    "print(xxx[0].disp())\n",
    "print(xxx[1].disp())\n",
    "print(xxx[2].disp())"
   ]
  },
  {
   "cell_type": "code",
   "execution_count": 14,
   "id": "d779053f",
   "metadata": {
    "ExecuteTime": {
     "end_time": "2022-09-08T01:05:18.163687Z",
     "start_time": "2022-09-08T01:05:18.155710Z"
    }
   },
   "outputs": [
    {
     "name": "stdout",
     "output_type": "stream",
     "text": [
      "aaa 10 12.5\n",
      "None\n",
      "bbb 20 30.7\n",
      "None\n",
      "ccc 30 18.9\n",
      "None\n"
     ]
    }
   ],
   "source": [
    "for i in range(3):\n",
    "    print(yyy[i].disp())"
   ]
  },
  {
   "cell_type": "code",
   "execution_count": 16,
   "id": "8b92a4fa",
   "metadata": {
    "ExecuteTime": {
     "end_time": "2022-09-08T01:07:01.085875Z",
     "start_time": "2022-09-08T01:07:01.064931Z"
    }
   },
   "outputs": [
    {
     "data": {
      "text/plain": [
       "'bbb'"
      ]
     },
     "execution_count": 16,
     "metadata": {},
     "output_type": "execute_result"
    }
   ],
   "source": [
    "xxx[1].name"
   ]
  },
  {
   "cell_type": "code",
   "execution_count": 22,
   "id": "0c9eebf8",
   "metadata": {
    "ExecuteTime": {
     "end_time": "2022-09-08T01:07:55.530048Z",
     "start_time": "2022-09-08T01:07:55.520078Z"
    }
   },
   "outputs": [
    {
     "data": {
      "text/plain": [
       "'bbb'"
      ]
     },
     "execution_count": 22,
     "metadata": {},
     "output_type": "execute_result"
    }
   ],
   "source": [
    "xxx[1].getName()"
   ]
  },
  {
   "cell_type": "code",
   "execution_count": 3,
   "id": "9f3addd2",
   "metadata": {
    "ExecuteTime": {
     "end_time": "2022-09-08T01:40:17.714390Z",
     "start_time": "2022-09-08T01:40:17.708383Z"
    }
   },
   "outputs": [],
   "source": [
    "# 원을 객체로 하는 클래스 Circle을 구현하시오.\n",
    "class Circle:\n",
    "    \n",
    "# 반지름을 입력받을 수 있도록 구현사이오.\n",
    "    def setRadius(self, radius):\n",
    "        self.radius = radius\n",
    "        \n",
    "# 반지름을 출력할 수 있도록 구현하시오.\n",
    "    def getRadius(self):\n",
    "        return self.radius\n",
    "    \n",
    "# 원의 면적을 계산하여 출력할 수 있도록 구현하시오.\n",
    "    def getArea(self):\n",
    "        return self.radius * self.radius * 3.14\n",
    "    "
   ]
  },
  {
   "cell_type": "code",
   "execution_count": 2,
   "id": "3ea01c81",
   "metadata": {
    "ExecuteTime": {
     "end_time": "2022-09-08T01:40:13.019578Z",
     "start_time": "2022-09-08T01:40:13.003956Z"
    }
   },
   "outputs": [
    {
     "ename": "NameError",
     "evalue": "name 'Circle' is not defined",
     "output_type": "error",
     "traceback": [
      "\u001b[1;31m---------------------------------------------------------------------------\u001b[0m",
      "\u001b[1;31mNameError\u001b[0m                                 Traceback (most recent call last)",
      "Input \u001b[1;32mIn [2]\u001b[0m, in \u001b[0;36m<cell line: 2>\u001b[1;34m()\u001b[0m\n\u001b[0;32m      1\u001b[0m \u001b[38;5;66;03m# 인스턴스 객체 생성 : 생성자 메서드 호출, default 생성자\u001b[39;00m\n\u001b[1;32m----> 2\u001b[0m c1 \u001b[38;5;241m=\u001b[39m \u001b[43mCircle\u001b[49m()\n\u001b[0;32m      4\u001b[0m \u001b[38;5;66;03m# 반지름 입력\u001b[39;00m\n\u001b[0;32m      5\u001b[0m c1\u001b[38;5;241m.\u001b[39msetRadius(\u001b[38;5;241m5\u001b[39m)\n",
      "\u001b[1;31mNameError\u001b[0m: name 'Circle' is not defined"
     ]
    }
   ],
   "source": [
    "# 인스턴스 객체 생성 : 생성자 메서드 호출, default 생성자\n",
    "c1 = Circle()\n",
    "\n",
    "# 반지름 입력\n",
    "c1.setRadius(5)\n",
    "\n",
    "# 반지름 출력\n",
    "print(c1.getRadius())\n",
    "\n",
    "# 원의 면적 출력\n",
    "print(c1.getArea())"
   ]
  },
  {
   "cell_type": "code",
   "execution_count": 25,
   "id": "c6e0a71e",
   "metadata": {
    "ExecuteTime": {
     "end_time": "2022-09-08T01:32:23.376245Z",
     "start_time": "2022-09-08T01:32:21.414191Z"
    }
   },
   "outputs": [
    {
     "name": "stdout",
     "output_type": "stream",
     "text": [
      "반지름 = 99\n",
      "99\n",
      "30775.14\n"
     ]
    }
   ],
   "source": [
    "c2 = Circle()\n",
    "\n",
    "radius = int(input(\"반지름 = \"))\n",
    "c2.setRadius(radius)\n",
    "\n",
    "print(c2.getRadius())\n",
    "print(c2.getArea())"
   ]
  },
  {
   "cell_type": "code",
   "execution_count": 8,
   "id": "96faefec",
   "metadata": {
    "ExecuteTime": {
     "end_time": "2022-09-08T01:56:40.694875Z",
     "start_time": "2022-09-08T01:56:38.031760Z"
    }
   },
   "outputs": [
    {
     "name": "stdout",
     "output_type": "stream",
     "text": [
      "반지름 = 6\n",
      "반지름 = 7\n",
      "반지름 = 8\n",
      "반지름 = 9\n",
      "반지름 = 10\n",
      "6 7 "
     ]
    }
   ],
   "source": [
    "# 다섯개의 반지름을 입력받아 원의 면적을 계산하되, 원의 면적이 100이상 200이하에 해당하는\n",
    "# 반지름이 출력되도록 프로그램을 구현하시오.\n",
    "\n",
    "res = list()\n",
    "\n",
    "for i in range(5):\n",
    "    i = Circle()\n",
    "    radius = int(input(\"반지름 = \"))\n",
    "    i.setRadius(radius)\n",
    "    area = i.getArea()\n",
    "    if 100 <= area <= 200:\n",
    "        res.append(radius)\n",
    "\n",
    "for n in res:\n",
    "    print(n, end = \" \")"
   ]
  },
  {
   "cell_type": "markdown",
   "id": "df7c653f",
   "metadata": {},
   "source": [
    "#### 성적처리 프로그램"
   ]
  },
  {
   "cell_type": "code",
   "execution_count": 9,
   "id": "9d6d0fa9",
   "metadata": {
    "ExecuteTime": {
     "end_time": "2022-09-08T02:24:55.222545Z",
     "start_time": "2022-09-08T02:24:55.216563Z"
    }
   },
   "outputs": [
    {
     "name": "stdout",
     "output_type": "stream",
     "text": [
      "aaa님의 총점은 249이고, 평균은 83.00입니다.\n"
     ]
    }
   ],
   "source": [
    "# 한 명의 성적을 입력받아 총점과 평균을 출력하는 프로그램\n",
    "# 단, 평균은 소숫점이하 둘째자리까지 표현할 것.\n",
    "name = \"aaa\"\n",
    "kor = 90\n",
    "eng = 87\n",
    "math = 72\n",
    "\n",
    "tot = kor + eng + math\n",
    "avg = tot / 3\n",
    "\n",
    "print(\"%s님의 총점은 %d이고, 평균은 %.2f입니다.\" % (name, tot, avg))"
   ]
  },
  {
   "cell_type": "code",
   "execution_count": 10,
   "id": "a17a13c9",
   "metadata": {
    "ExecuteTime": {
     "end_time": "2022-09-08T02:26:13.791236Z",
     "start_time": "2022-09-08T02:26:05.448179Z"
    }
   },
   "outputs": [
    {
     "name": "stdout",
     "output_type": "stream",
     "text": [
      "name = 55\n",
      "kor = 80\n",
      "eng = 40\n",
      "math = 60\n",
      "55님의 총점은 180이고, 평균은 60.00입니다.\n"
     ]
    }
   ],
   "source": [
    "name = input(\"name = \")\n",
    "kor = int(input(\"kor = \"))\n",
    "eng = int(input(\"eng = \"))\n",
    "math = int(input(\"math = \"))\n",
    "\n",
    "tot = kor + eng + math\n",
    "avg = tot / 3\n",
    "\n",
    "print(\"%s님의 총점은 %d이고, 평균은 %.2f입니다.\" % (name, tot, avg))"
   ]
  },
  {
   "cell_type": "code",
   "execution_count": 11,
   "id": "eef5fbdd",
   "metadata": {
    "ExecuteTime": {
     "end_time": "2022-09-08T02:29:52.929558Z",
     "start_time": "2022-09-08T02:29:44.126848Z"
    }
   },
   "outputs": [
    {
     "name": "stdout",
     "output_type": "stream",
     "text": [
      "name = ㅁㅁㅁ\n",
      "kor = 50\n",
      "eng = 90\n",
      "math = 40\n",
      "ㅁㅁㅁ님의 총점은 180이고, 평균은 60.00이며 학점은 D학점입니다.\n"
     ]
    }
   ],
   "source": [
    "# 학점 : A학점, B,학점, C학점, D학점, F학점으로 구분한다.\n",
    "# 평균이 90이상일때 A, 80이상일떄 B, 70이상일때 C 등등등\n",
    "name = input(\"name = \")\n",
    "kor = int(input(\"kor = \"))\n",
    "eng = int(input(\"eng = \"))\n",
    "math = int(input(\"math = \"))\n",
    "\n",
    "tot = kor + eng + math\n",
    "avg = tot / 3\n",
    "\n",
    "if avg >= 90:\n",
    "    grade = \"A\"\n",
    "elif avg >= 80:\n",
    "    grade = \"B\"\n",
    "elif avg >= 70:\n",
    "    grade = \"C\"\n",
    "elif avg >= 60:\n",
    "    grade = \"D\"\n",
    "else:\n",
    "    grade = \"F\"\n",
    "    \n",
    "print(\"%s님의 총점은 %d이고, 평균은 %.2f이며 학점은 %s입니다.\" % (name, tot, avg,grade))"
   ]
  },
  {
   "cell_type": "code",
   "execution_count": 18,
   "id": "53be4040",
   "metadata": {
    "ExecuteTime": {
     "end_time": "2022-09-08T02:47:05.034256Z",
     "start_time": "2022-09-08T02:47:05.015308Z"
    }
   },
   "outputs": [],
   "source": [
    "# 세명의 성적을 입력받아 출력하는 프로그램을 구현하시오.\n",
    "\n",
    "class Score:\n",
    "    name = \"\"\n",
    "    kor = 0\n",
    "    eng = 0\n",
    "    math = 0\n",
    "    \n",
    "#     def __init__(self, name=\"aaa\", kor=0, eng=0, math=0):\n",
    "#         name = self.name\n",
    "#         kor = self.kor\n",
    "#         eng = self.eng\n",
    "#         math = self.math\n",
    "    \n",
    "    def scoreIn(self, code):\n",
    "        code = input(\"학번 = \")\n",
    "        self.name = input(\"이름 = \")\n",
    "        self.kor = int(input(\"국어 = \"))\n",
    "        self.eng = int(input(\"영어 = \"))\n",
    "        self.math = int(input(\"수학 = \"))\n",
    "    \n",
    "    def disp(self):\n",
    "        print(self.name, self.kor, self.eng, self.math)\n",
    "        \n",
    "    def showTitle(self):\n",
    "        print(\"======성적 관리 프로그램======\")\n",
    "        print(\"1. 성적 입력\")\n",
    "        print(\"2. 성적 조회\")\n",
    "        print(\"3. 전체 성적 조회\")\n",
    "        print(\"=\" * 21)\n",
    "    \n",
    "    def showScore(self):\n",
    "        \n"
   ]
  },
  {
   "cell_type": "code",
   "execution_count": 17,
   "id": "25a5910e",
   "metadata": {
    "ExecuteTime": {
     "end_time": "2022-09-08T02:46:54.242513Z",
     "start_time": "2022-09-08T02:46:46.432098Z"
    }
   },
   "outputs": [
    {
     "name": "stdout",
     "output_type": "stream",
     "text": [
      "이름 = aaa\n",
      "국어 = 50\n",
      "국어 = 60\n",
      "국어 = 70\n",
      "aaa 50 60 70\n"
     ]
    }
   ],
   "source": [
    "c1 = Score()\n",
    "c1.scoreIn()\n",
    "c1.disp()"
   ]
  },
  {
   "cell_type": "code",
   "execution_count": 24,
   "id": "7843b696",
   "metadata": {
    "ExecuteTime": {
     "end_time": "2022-09-08T03:41:56.437620Z",
     "start_time": "2022-09-08T03:41:39.791148Z"
    }
   },
   "outputs": [
    {
     "name": "stdout",
     "output_type": "stream",
     "text": [
      "name = aaa\n",
      "kor = 55\n",
      "eng = 74\n",
      "math = 62\n",
      "\n",
      "name = bbb\n",
      "kor = 87\n",
      "eng = 95\n",
      "math = 42\n",
      "\n",
      "name = ccc\n",
      "kor = 73\n",
      "eng = 64\n",
      "math = 91\n",
      "\n",
      "이름 : aaa, 총점 : 191, 평균 : 63.67, 학점 : D\n",
      "이름 : bbb, 총점 : 224, 평균 : 74.67, 학점 : C\n",
      "이름 : ccc, 총점 : 228, 평균 : 76.00, 학점 : C\n"
     ]
    }
   ],
   "source": [
    "student = []\n",
    "\n",
    "for i in range(3):\n",
    "    name = input(\"name = \")\n",
    "    kor = int(input(\"kor = \"))\n",
    "    eng = int(input(\"eng = \"))\n",
    "    math = int(input(\"math = \"))\n",
    "    tot = kor + eng + math\n",
    "    avg = tot / 3\n",
    "    if avg >= 90:\n",
    "        grade = \"A\"\n",
    "    elif avg >= 80:\n",
    "        grade = \"B\"\n",
    "    elif avg >= 70:\n",
    "        grade = \"C\"\n",
    "    elif avg >= 60:\n",
    "        grade = \"D\"\n",
    "    else:\n",
    "        grade = \"F\"\n",
    "    student.append([name, tot, avg, grade])\n",
    "    print()\n",
    "\n",
    "for n in range(3):\n",
    "    \n",
    "    print(\"이름 : %s, 총점 : %d, 평균 : %.2f, 학점 : %s\" % (\n",
    "        student[n][0],student[n][1],student[n][2],student[n][3]))"
   ]
  },
  {
   "cell_type": "code",
   "execution_count": 29,
   "id": "bdd7cd80",
   "metadata": {
    "ExecuteTime": {
     "end_time": "2022-09-08T03:58:38.325651Z",
     "start_time": "2022-09-08T03:58:38.310000Z"
    }
   },
   "outputs": [],
   "source": [
    "# # 전체 학생에 대한 점수를 담을 리스트 선언\n",
    "# students = list()\n",
    "# student = list()\n",
    "\n",
    "# def add():\n",
    "#     name = input(\"name = \")\n",
    "#     kor = int(input(\"kor = \"))\n",
    "#     eng = int(input(\"eng = \"))\n",
    "#     math = int(input(\"math = \"))\n",
    "    \n",
    "#     student = [name, kor, eng, math]\n",
    "#     students.append(student)\n",
    "    \n",
    "# def compute()\n",
    "students = list()\n",
    "\n",
    "class Student:\n",
    "    \n",
    "    def adder(self):\n",
    "        self.name = input(\"name = \")\n",
    "        self.kor = int(input(\"kor = \"))\n",
    "        self.eng = int(input(\"eng = \"))\n",
    "        self.math = int(input(\"math = \"))\n",
    "       \n",
    "        \n",
    "    def compute(self):\n",
    "        self.tot = self.kor + self.eng + self.math\n",
    "        self.avg = self.tot / 3\n",
    "        \n",
    "        if self.avg >= 90:\n",
    "            self.grade = \"A\"\n",
    "        elif self.avg >= 80:\n",
    "            self.grade = \"B\"\n",
    "        elif self.avg >= 70:\n",
    "            self.grade = \"C\"\n",
    "        elif self.avg >= 60:\n",
    "            self.grade = \"D\"\n",
    "        else:\n",
    "            self.grade = \"F\"\n",
    "\n",
    "    def disp(self):\n",
    "        return \"%s님의 총점은 %d이고, 평균은 %.2f이며, 학점은 %s입니다.\" % (\n",
    "            self.name,self.tot, self.avg, self.grade)"
   ]
  },
  {
   "cell_type": "code",
   "execution_count": 30,
   "id": "59fd22a0",
   "metadata": {
    "ExecuteTime": {
     "end_time": "2022-09-08T03:58:58.864666Z",
     "start_time": "2022-09-08T03:58:40.177513Z"
    }
   },
   "outputs": [
    {
     "name": "stdout",
     "output_type": "stream",
     "text": [
      "name = aaa\n",
      "kor = 78\n",
      "eng = 46\n",
      "math = 19\n",
      "name = bbb\n",
      "kor = 85\n",
      "eng = 76\n",
      "math = 34\n",
      "name = ccc\n",
      "kor = 91\n",
      "eng = 76\n",
      "math = 43\n",
      "aaa님의 총점은 143이고, 평균은 47.67이며, 학점은 F입니다.\n",
      "bbb님의 총점은 195이고, 평균은 65.00이며, 학점은 D입니다.\n",
      "ccc님의 총점은 210이고, 평균은 70.00이며, 학점은 C입니다.\n"
     ]
    }
   ],
   "source": [
    "for i in range(3):\n",
    "    s = Student()\n",
    "    s.adder()\n",
    "    s.compute()\n",
    "    students.append(s)\n",
    "    print()\n",
    "\n",
    "for i in students:\n",
    "    print(i.disp())"
   ]
  },
  {
   "cell_type": "markdown",
   "id": "ef628833",
   "metadata": {},
   "source": [
    "#### 학적관리 프로그램\n",
    "- 학생등록 : 학번(중복X,생략X), 이름, 국어, 영어, 수학\n",
    "- 학번검색 : 학번을 입력받아 해당 학생에 성적정보를 추출\n",
    "- 학번 이름 국어 영어 수학 총점 평균 학점\n",
    "- 학번수정 : 학번을 입력받아 해당 학생에 성적정보 수정\n",
    "- 이름 = \n",
    "- 국어 = \n",
    "- 영어 = \n",
    "- 수학 = \n",
    "- 이름출력 : 입력받은 이름과 동일한 학생 정보 출력\n",
    "- 학번 이름 국어 영어 수학 총점 평균 학점\n",
    "- 전체출력 : \n",
    "- 학번 이름 국어 영어 수학 총점 평균 학점\n",
    "- 작업종료"
   ]
  },
  {
   "cell_type": "code",
   "execution_count": null,
   "id": "bbf6cc94",
   "metadata": {},
   "outputs": [],
   "source": []
  }
 ],
 "metadata": {
  "kernelspec": {
   "display_name": "Python 3 (ipykernel)",
   "language": "python",
   "name": "python3"
  },
  "language_info": {
   "codemirror_mode": {
    "name": "ipython",
    "version": 3
   },
   "file_extension": ".py",
   "mimetype": "text/x-python",
   "name": "python",
   "nbconvert_exporter": "python",
   "pygments_lexer": "ipython3",
   "version": "3.9.12"
  },
  "toc": {
   "base_numbering": 1,
   "nav_menu": {},
   "number_sections": true,
   "sideBar": true,
   "skip_h1_title": false,
   "title_cell": "Table of Contents",
   "title_sidebar": "Contents",
   "toc_cell": false,
   "toc_position": {},
   "toc_section_display": true,
   "toc_window_display": true
  }
 },
 "nbformat": 4,
 "nbformat_minor": 5
}
