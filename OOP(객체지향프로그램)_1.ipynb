{
 "cells": [
  {
   "cell_type": "markdown",
   "id": "7b9cfec9",
   "metadata": {},
   "source": [
    "### 객체 : Object vs Instance\n",
    "- Object : 붕어빵틀, 설계도\n",
    "- Instance : 붕어빵, 제품"
   ]
  },
  {
   "cell_type": "code",
   "execution_count": null,
   "id": "635055d0",
   "metadata": {},
   "outputs": [],
   "source": [
    "# 자전거(Bike)\n",
    "## 특성이나 속성 - 멤버 필드, 색상, 무게\n",
    "## 행위나 동작 - 멤버 메서드, 기어기능, 브레이크 기능, 주행 기능"
   ]
  },
  {
   "cell_type": "markdown",
   "id": "29bfcc46",
   "metadata": {},
   "source": [
    "### 클래스(class)\n",
    "- 객체지향프로그램에서 객체를 표현하는 단위(구조)\n",
    "- 키워드 class\n",
    "- 포함멤버 : 멤버필드(변수, 클래스변수), 생성자 메서드, 멤버 메서드(함수), 소멸자 메서드"
   ]
  },
  {
   "cell_type": "code",
   "execution_count": 2,
   "id": "8ffc3bbf",
   "metadata": {
    "ExecuteTime": {
     "end_time": "2022-09-14T01:23:00.646170Z",
     "start_time": "2022-09-14T01:23:00.630547Z"
    }
   },
   "outputs": [],
   "source": [
    "class Bike:\n",
    "    # 멤버 필드 = 프로퍼티, _, __(private) / public\n",
    "    \n",
    "    # 생성자 메서드\n",
    "    def __init__(self):\n",
    "        self.color = 'black'\n",
    "        self.weight = 3\n",
    "        \n",
    "        \n",
    "    # 멤버 메서드\n",
    "    def gear(self):\n",
    "        print('gear')\n",
    "        \n",
    "    def brake(self):\n",
    "        print('break')\n",
    "        \n",
    "    def drive(self):\n",
    "        print('drive')\n",
    "        \n",
    "    def state(self):\n",
    "        print('color : ' + self.color + \" , \" + \"weight : \" + str(self.weight))\n",
    "        \n",
    "    # 소멸자 메서드 __del__"
   ]
  },
  {
   "cell_type": "markdown",
   "id": "a25b8472",
   "metadata": {},
   "source": [
    "### 객체 생성\n",
    "- 멤버에 접근하는 연산자 : direct 연산자(.)\n",
    "- 객체명.멤버필드 or 객체명.멤버메서드"
   ]
  },
  {
   "cell_type": "code",
   "execution_count": 4,
   "id": "6dd0ba7f",
   "metadata": {
    "ExecuteTime": {
     "end_time": "2022-09-14T01:24:03.623450Z",
     "start_time": "2022-09-14T01:24:03.609489Z"
    }
   },
   "outputs": [],
   "source": [
    "b1 = Bike() # default 생성자 : 매개변수를 가지고 있지 않은 생성자\n",
    "b2 = Bike()\n",
    "b3 = Bike()\n",
    "b4 = Bike()"
   ]
  },
  {
   "cell_type": "code",
   "execution_count": 5,
   "id": "960eb60f",
   "metadata": {
    "ExecuteTime": {
     "end_time": "2022-09-14T01:24:44.044643Z",
     "start_time": "2022-09-14T01:24:44.027688Z"
    }
   },
   "outputs": [
    {
     "name": "stdout",
     "output_type": "stream",
     "text": [
      "color : black , weight : 3\n",
      "color : black , weight : 3\n",
      "color : black , weight : 3\n",
      "color : black , weight : 3\n"
     ]
    }
   ],
   "source": [
    "b1.state()\n",
    "b2.state()\n",
    "b3.state()\n",
    "b4.state()"
   ]
  },
  {
   "cell_type": "code",
   "execution_count": 6,
   "id": "3208fcc7",
   "metadata": {
    "ExecuteTime": {
     "end_time": "2022-09-14T01:27:40.466602Z",
     "start_time": "2022-09-14T01:27:40.458623Z"
    }
   },
   "outputs": [],
   "source": [
    "# 오버로딩(Overloading) : 다중함수\n",
    "## 동일한 이름을 가진 메서드를 여러개 만들어 사용하는 기능\n",
    "## 단, 매개변수의 개수가 다르거나 데이터 타입이 달라야 한다. - java 특징\n",
    "# default parameter : 초기 매개변수"
   ]
  },
  {
   "cell_type": "code",
   "execution_count": 9,
   "id": "2304677c",
   "metadata": {
    "ExecuteTime": {
     "end_time": "2022-09-14T01:32:32.573994Z",
     "start_time": "2022-09-14T01:32:32.556702Z"
    }
   },
   "outputs": [],
   "source": [
    "class Bike:\n",
    "    # 멤버 필드 = 프로퍼티, _, __(private) / public\n",
    "    \n",
    "    # 생성자 메서드\n",
    "#     def __init__(self):\n",
    "#         self.color = 'black'\n",
    "#         self.weight = 3\n",
    "        \n",
    "    def __init__(self, color = 'black', weight = 3):\n",
    "        self.color = color\n",
    "        self.weight = weight\n",
    "        \n",
    "    # 멤버 메서드\n",
    "    def gear(self):\n",
    "        print('gear')\n",
    "        \n",
    "    def brake(self):\n",
    "        print('break')\n",
    "        \n",
    "    def drive(self):\n",
    "        print('drive')\n",
    "        \n",
    "    def state(self):\n",
    "        print('color : ' + self.color + \" , \" + \"weight : \" + str(self.weight))"
   ]
  },
  {
   "cell_type": "code",
   "execution_count": 10,
   "id": "4250883f",
   "metadata": {
    "ExecuteTime": {
     "end_time": "2022-09-14T01:32:34.841274Z",
     "start_time": "2022-09-14T01:32:34.825186Z"
    }
   },
   "outputs": [],
   "source": [
    "ap = Bike()\n",
    "bp = Bike('red', 7)"
   ]
  },
  {
   "cell_type": "code",
   "execution_count": 11,
   "id": "edde4ba2",
   "metadata": {
    "ExecuteTime": {
     "end_time": "2022-09-14T01:32:59.664377Z",
     "start_time": "2022-09-14T01:32:59.657396Z"
    }
   },
   "outputs": [
    {
     "name": "stdout",
     "output_type": "stream",
     "text": [
      "color : black , weight : 3\n",
      "color : red , weight : 7\n"
     ]
    }
   ],
   "source": [
    "ap.state()\n",
    "bp.state()"
   ]
  },
  {
   "cell_type": "markdown",
   "id": "aef03e49",
   "metadata": {},
   "source": [
    "### 접근 제한자(지정자)\n",
    "- public : 객체만 생성하면 어디서든 접근이 허용된다. 일반적으로 생략해서 사용한다.\n",
    "- protected : 상속관계에서만 접급을 허용한다. 파이썬은 지원하지 않는다.\n",
    "- private : 클래스 내에서만 접근이 허용된다"
   ]
  },
  {
   "cell_type": "code",
   "execution_count": 12,
   "id": "ecf2fb64",
   "metadata": {
    "ExecuteTime": {
     "end_time": "2022-09-14T01:39:54.652979Z",
     "start_time": "2022-09-14T01:39:54.644491Z"
    }
   },
   "outputs": [],
   "source": [
    "# 외부에서 객체의 속석(필드)과 기능(메서드)에 접근을 제한할 수 있다.\n",
    "## private 네이밍 규칙 : 접두사(__) 사용, 접미사(_)까지 허용\n",
    "## protected 네이밍 규칙 : 접두사(_) 사용"
   ]
  },
  {
   "cell_type": "code",
   "execution_count": 16,
   "id": "e7d46ba6",
   "metadata": {
    "ExecuteTime": {
     "end_time": "2022-09-14T01:46:09.803968Z",
     "start_time": "2022-09-14T01:46:09.786089Z"
    }
   },
   "outputs": [],
   "source": [
    "class PayGildong:\n",
    "    \n",
    "    def __init__(self):\n",
    "        self.day = 25\n",
    "        self.__pay = 1000000       # private : 외부에서 접근 불가능\n",
    "        \n",
    "    def setPay(self, pay):\n",
    "        self.__pay = pay\n",
    "        \n",
    "    def getPay(self):\n",
    "        return self.__pay"
   ]
  },
  {
   "cell_type": "code",
   "execution_count": 22,
   "id": "8d93ba59",
   "metadata": {
    "ExecuteTime": {
     "end_time": "2022-09-14T02:00:45.739681Z",
     "start_time": "2022-09-14T02:00:45.724093Z"
    }
   },
   "outputs": [],
   "source": [
    "gd = PayGildong()\n",
    "\n",
    "gd.day = 14\n",
    "# gd.__pay = 800000\n",
    "gd.setPay(800000)"
   ]
  },
  {
   "cell_type": "code",
   "execution_count": 24,
   "id": "7ac02c58",
   "metadata": {
    "ExecuteTime": {
     "end_time": "2022-09-14T02:01:02.648416Z",
     "start_time": "2022-09-14T02:01:02.643430Z"
    }
   },
   "outputs": [
    {
     "name": "stdout",
     "output_type": "stream",
     "text": [
      "800000 14\n"
     ]
    }
   ],
   "source": [
    "print(gd.getPay(), gd.day)"
   ]
  },
  {
   "cell_type": "markdown",
   "id": "85f96a31",
   "metadata": {},
   "source": [
    "### 객체 생성 메서드와 초기화 메서드"
   ]
  },
  {
   "cell_type": "code",
   "execution_count": 25,
   "id": "0f733fd4",
   "metadata": {
    "ExecuteTime": {
     "end_time": "2022-09-14T02:06:04.594819Z",
     "start_time": "2022-09-14T02:06:04.583472Z"
    }
   },
   "outputs": [],
   "source": [
    "# 객체 생성 메서드 : 생성자 메서드, __init__\n",
    "# 초기화 메서드 ㅣ 멤버 필드의 처음값을 지정하는 메서드"
   ]
  },
  {
   "cell_type": "code",
   "execution_count": 29,
   "id": "3843fe72",
   "metadata": {
    "ExecuteTime": {
     "end_time": "2022-09-14T02:13:29.816445Z",
     "start_time": "2022-09-14T02:13:29.800821Z"
    }
   },
   "outputs": [],
   "source": [
    "class Circle:\n",
    "    \n",
    "    def __init__(self):\n",
    "        self.radius = 1\n",
    "    \n",
    "    \n",
    "    def start(self, radius):\n",
    "        self.radius = radius\n",
    "        \n",
    "    def disp(self):\n",
    "        print(\"radius : \", self.radius)"
   ]
  },
  {
   "cell_type": "code",
   "execution_count": 28,
   "id": "3e291315",
   "metadata": {
    "ExecuteTime": {
     "end_time": "2022-09-14T02:10:39.808196Z",
     "start_time": "2022-09-14T02:10:39.793744Z"
    }
   },
   "outputs": [
    {
     "name": "stdout",
     "output_type": "stream",
     "text": [
      "radius :  5\n"
     ]
    }
   ],
   "source": [
    "ap = Circle() # default 생성자 메서드가 호출, 생성자 메서드가 없을 경우 생략된 걸로 간주한다.\n",
    "\n",
    "#ap.radius = 1\n",
    "ap.start()\n",
    "\n",
    "ap.disp()"
   ]
  },
  {
   "cell_type": "code",
   "execution_count": 30,
   "id": "df88d9a6",
   "metadata": {
    "ExecuteTime": {
     "end_time": "2022-09-14T02:16:04.550554Z",
     "start_time": "2022-09-14T02:16:04.542593Z"
    }
   },
   "outputs": [],
   "source": [
    "class Circle:\n",
    "    \n",
    "    def __init__(self, radius = 1):\n",
    "        self.radius = radius\n",
    "  \n",
    "        \n",
    "    def disp(self):\n",
    "        print(\"radius : \", self.radius)"
   ]
  },
  {
   "cell_type": "code",
   "execution_count": 31,
   "id": "5b140af5",
   "metadata": {
    "ExecuteTime": {
     "end_time": "2022-09-14T02:16:25.912151Z",
     "start_time": "2022-09-14T02:16:25.896194Z"
    }
   },
   "outputs": [
    {
     "name": "stdout",
     "output_type": "stream",
     "text": [
      "radius :  1\n",
      "radius :  5\n"
     ]
    }
   ],
   "source": [
    "bp = Circle()\n",
    "cp = Circle(5)\n",
    "\n",
    "bp.disp()\n",
    "cp.disp()"
   ]
  },
  {
   "cell_type": "markdown",
   "id": "b9537bde",
   "metadata": {},
   "source": [
    "### 정적(static) 메서드와 클래스 메서드\n",
    "- 데코레이션(@) 기능"
   ]
  },
  {
   "cell_type": "code",
   "execution_count": 36,
   "id": "639cfd13",
   "metadata": {
    "ExecuteTime": {
     "end_time": "2022-09-14T02:51:29.518932Z",
     "start_time": "2022-09-14T02:51:29.504821Z"
    }
   },
   "outputs": [],
   "source": [
    "class Earth:\n",
    "    \n",
    "    @staticmethod \n",
    "    def getRadius():\n",
    "        return 6400\n",
    "    \n",
    "    @staticmethod\n",
    "    def getArea():\n",
    "        return 514457600"
   ]
  },
  {
   "cell_type": "code",
   "execution_count": 37,
   "id": "02d42633",
   "metadata": {
    "ExecuteTime": {
     "end_time": "2022-09-14T02:51:30.529590Z",
     "start_time": "2022-09-14T02:51:30.523604Z"
    }
   },
   "outputs": [
    {
     "name": "stdout",
     "output_type": "stream",
     "text": [
      "Earth Radius :  6400\n",
      "Earth Area :  514457600\n"
     ]
    }
   ],
   "source": [
    "print(\"Earth Radius : \", Earth.getRadius())\n",
    "print(\"Earth Area : \", Earth.getArea())"
   ]
  },
  {
   "cell_type": "code",
   "execution_count": 38,
   "id": "74b7cf8b",
   "metadata": {
    "ExecuteTime": {
     "end_time": "2022-09-14T02:52:20.336387Z",
     "start_time": "2022-09-14T02:52:20.328409Z"
    }
   },
   "outputs": [],
   "source": [
    "class Earth:\n",
    "    \n",
    "    @classmethod \n",
    "    def getRadius(cls):\n",
    "        return 6400\n",
    "    \n",
    "    @classmethod\n",
    "    def getArea(cls):\n",
    "        return 514457600"
   ]
  },
  {
   "cell_type": "code",
   "execution_count": 39,
   "id": "8fb02c23",
   "metadata": {
    "ExecuteTime": {
     "end_time": "2022-09-14T02:52:27.972138Z",
     "start_time": "2022-09-14T02:52:27.963165Z"
    }
   },
   "outputs": [
    {
     "name": "stdout",
     "output_type": "stream",
     "text": [
      "Earth Radius :  6400\n",
      "Earth Area :  514457600\n"
     ]
    }
   ],
   "source": [
    "print(\"Earth Radius : \", Earth.getRadius())\n",
    "print(\"Earth Area : \", Earth.getArea())"
   ]
  },
  {
   "cell_type": "code",
   "execution_count": null,
   "id": "d7f8bfe9",
   "metadata": {},
   "outputs": [],
   "source": [
    "class PayGildong:\n",
    "    \n",
    "    __pay    \n",
    "#     def __init__(self):\n",
    "#         self.day = 25\n",
    "#         self.__pay = 1000000       # private : 외부에서 접근 불가능\n",
    "        \n",
    "    def setPay(self, pay):\n",
    "        self.__pay = pay\n",
    "        \n",
    "    def getPay(self):\n",
    "        return self.__pay"
   ]
  },
  {
   "cell_type": "code",
   "execution_count": 40,
   "id": "100fa0a4",
   "metadata": {
    "ExecuteTime": {
     "end_time": "2022-09-14T03:08:21.619985Z",
     "start_time": "2022-09-14T03:08:21.598044Z"
    }
   },
   "outputs": [
    {
     "data": {
      "text/plain": [
       "{'__name__': '__main__',\n",
       " '__doc__': 'Automatically created module for IPython interactive environment',\n",
       " '__package__': None,\n",
       " '__loader__': None,\n",
       " '__spec__': None,\n",
       " '__builtin__': <module 'builtins' (built-in)>,\n",
       " '__builtins__': <module 'builtins' (built-in)>,\n",
       " '_ih': ['',\n",
       "  \"class Bike:\\n    # 멤버 필드 = 프로퍼티, _, __(private) / public\\n    \\n    # 생성자 메서드\\n    def __init__(self):\\n        self.color = 'black'\\n        self.weight = 3\\n        \\n        \\n    # 멤버 메서드\\n    def gear(self):\\n        print('gear')\\n        \\n    def brake(self):\\n        print('break')\\n        \\n    def drive(self):\\n        print('drive')\\n        \\n    # 소멸자 메서드 __del__\",\n",
       "  'class Bike:\\n    # 멤버 필드 = 프로퍼티, _, __(private) / public\\n    \\n    # 생성자 메서드\\n    def __init__(self):\\n        self.color = \\'black\\'\\n        self.weight = 3\\n        \\n        \\n    # 멤버 메서드\\n    def gear(self):\\n        print(\\'gear\\')\\n        \\n    def brake(self):\\n        print(\\'break\\')\\n        \\n    def drive(self):\\n        print(\\'drive\\')\\n        \\n    def state(self):\\n        print(\\'color : \\' + self.color + \" , \" + \"weight : \" + str(self.weight))\\n        \\n    # 소멸자 메서드 __del__',\n",
       "  'b1 = Bike() # default 생성자 : 매개변수를 가지고 있지 않은 생성자\\nb2 = Bike()\\nb3 = Bike()\\nb4 - Bike()',\n",
       "  'b1 = Bike() # default 생성자 : 매개변수를 가지고 있지 않은 생성자\\nb2 = Bike()\\nb3 = Bike()\\nb4 = Bike()',\n",
       "  'b1.state()\\nb2.state()\\nb3.state()\\nb4.state()',\n",
       "  '# 오버로딩(Overloading) : 다중함수\\n## 동일한 이름을 가진 메서드를 여러개 만들어 사용하는 기능\\n## 단, 매개변수의 개수가 다르거나 데이터 타입이 달라야 한다. - java 특징\\n# default parameter : 초기 매개변수',\n",
       "  'class Bike:\\n    # 멤버 필드 = 프로퍼티, _, __(private) / public\\n    \\n    # 생성자 메서드\\n    def __init__(self):\\n        self.color = \\'black\\'\\n        self.weight = 3\\n        \\n    def __init__(self, color, weight):\\n        self.color = color\\n        self.weight = weight\\n        \\n    # 멤버 메서드\\n    def gear(self):\\n        print(\\'gear\\')\\n        \\n    def brake(self):\\n        print(\\'break\\')\\n        \\n    def drive(self):\\n        print(\\'drive\\')\\n        \\n    def state(self):\\n        print(\\'color : \\' + self.color + \" , \" + \"weight : \" + str(self.weight))',\n",
       "  \"ap = Bike()\\nbp = Bike('red', 7)\",\n",
       "  'class Bike:\\n    # 멤버 필드 = 프로퍼티, _, __(private) / public\\n    \\n    # 생성자 메서드\\n#     def __init__(self):\\n#         self.color = \\'black\\'\\n#         self.weight = 3\\n        \\n    def __init__(self, color = \\'black\\', weight = 3):\\n        self.color = color\\n        self.weight = weight\\n        \\n    # 멤버 메서드\\n    def gear(self):\\n        print(\\'gear\\')\\n        \\n    def brake(self):\\n        print(\\'break\\')\\n        \\n    def drive(self):\\n        print(\\'drive\\')\\n        \\n    def state(self):\\n        print(\\'color : \\' + self.color + \" , \" + \"weight : \" + str(self.weight))',\n",
       "  \"ap = Bike()\\nbp = Bike('red', 7)\",\n",
       "  'ap.state()\\nbp.state()',\n",
       "  '# 외부에서 객체의 속석(필드)과 기능(메서드)에 접근을 제한할 수 있다.\\n## private 네이밍 규칙 : 접두사(__) 사용, 접미사(_)까지 허용',\n",
       "  'class PayGildong:\\n    \\n    def __init__(self):\\n        self.day = 25\\n        self.pay = 1000000\\n        \\n    def setPay(self, pay):\\n        self.pay = pay\\n        \\n    def getPay(self):\\n        return self.pay',\n",
       "  'gd = PayGildong()\\n\\ngd.day = 14\\ngd.pay = 800000',\n",
       "  'print(gd.pay, gd.day)',\n",
       "  'class PayGildong:\\n    \\n    def __init__(self):\\n        self.day = 25\\n        self.__pay = 1000000       # private : 외부에서 접근 불가능\\n        \\n    def setPay(self, pay):\\n        self.__pay = pay\\n        \\n    def getPay(self):\\n        return self.__pay',\n",
       "  'gd = PayGildong()\\n\\ngd.day = 14\\ngd.pay = 800000',\n",
       "  'print(gd.pay, gd.day)',\n",
       "  'gd = PayGildong()\\n\\ngd.day = 14\\ngd.__pay = 800000',\n",
       "  'print(gd.pay, gd.day)',\n",
       "  'print(gd.__pay, gd.day)',\n",
       "  'gd = PayGildong()\\n\\ngd.day = 14\\n# gd.__pay = 800000\\ngd.setPay(800000)',\n",
       "  'print(gd.getPay, gd.day)',\n",
       "  'print(gd.getPay(), gd.day)',\n",
       "  '# 객체 생성 메서드 : 생성자 메서드, __init__\\n# 초기화 메서드 ㅣ 멤버 필드의 처음값을 지정하는 메서드',\n",
       "  'class Circle:\\n    \\n#     def __init__(self): 생략 가능하다.\\n    def start(self):\\n        self.radius = 5\\n    def disp(self):\\n        print(\"radius : \", self.radius)',\n",
       "  'ap = Circle() # default 생성자 메서드가 호출, 생성자 메서드가 없을 경우 생략된 걸로 간주한다.\\n\\nap.disp()',\n",
       "  'ap = Circle() # default 생성자 메서드가 호출, 생성자 메서드가 없을 경우 생략된 걸로 간주한다.\\n\\n#ap.radius = 1\\nap.start()\\n\\nap.disp()',\n",
       "  'class Circle:\\n    \\n    def __init__(self):\\n        self.radius = 1\\n    \\n    \\n    def start(self, radius):\\n        self.radius = radius\\n        \\n    def disp(self):\\n        print(\"radius : \", self.radius)',\n",
       "  'class Circle:\\n    \\n    def __init__(self, radius = 1):\\n        self.radius = radius\\n  \\n        \\n    def disp(self):\\n        print(\"radius : \", self.radius)',\n",
       "  'bp = Circle()\\ncp = Circle(5)\\n\\nbp.disp()\\ncp.disp()',\n",
       "  'class Earth:\\n    \\n    def getRadius():\\n        return 6400\\n    \\n    def getArea():\\n        return 514457600',\n",
       "  'print(\"Earth Radius : \", Earth.getRadius())\\nprint(\"Earth Area : \", Earth.getArea())',\n",
       "  'class Earth:\\n    \\n    def getRadius(self):\\n        return 6400\\n    \\n    def getArea(self):\\n        return 514457600',\n",
       "  'print(\"Earth Radius : \", Earth.getRadius())\\nprint(\"Earth Area : \", Earth.getArea())',\n",
       "  'class Earth:\\n    \\n    @staticmethod \\n    def getRadius():\\n        return 6400\\n    \\n    @staticmethod\\n    def getArea():\\n        return 514457600',\n",
       "  'print(\"Earth Radius : \", Earth.getRadius())\\nprint(\"Earth Area : \", Earth.getArea())',\n",
       "  'class Earth:\\n    \\n    @classmethod \\n    def getRadius(cls):\\n        return 6400\\n    \\n    @classmethod\\n    def getArea(cls):\\n        return 514457600',\n",
       "  'print(\"Earth Radius : \", Earth.getRadius())\\nprint(\"Earth Area : \", Earth.getArea())',\n",
       "  'locals()'],\n",
       " '_oh': {},\n",
       " '_dh': [WindowsPath('C:/K_digital/source/python_source')],\n",
       " 'In': ['',\n",
       "  \"class Bike:\\n    # 멤버 필드 = 프로퍼티, _, __(private) / public\\n    \\n    # 생성자 메서드\\n    def __init__(self):\\n        self.color = 'black'\\n        self.weight = 3\\n        \\n        \\n    # 멤버 메서드\\n    def gear(self):\\n        print('gear')\\n        \\n    def brake(self):\\n        print('break')\\n        \\n    def drive(self):\\n        print('drive')\\n        \\n    # 소멸자 메서드 __del__\",\n",
       "  'class Bike:\\n    # 멤버 필드 = 프로퍼티, _, __(private) / public\\n    \\n    # 생성자 메서드\\n    def __init__(self):\\n        self.color = \\'black\\'\\n        self.weight = 3\\n        \\n        \\n    # 멤버 메서드\\n    def gear(self):\\n        print(\\'gear\\')\\n        \\n    def brake(self):\\n        print(\\'break\\')\\n        \\n    def drive(self):\\n        print(\\'drive\\')\\n        \\n    def state(self):\\n        print(\\'color : \\' + self.color + \" , \" + \"weight : \" + str(self.weight))\\n        \\n    # 소멸자 메서드 __del__',\n",
       "  'b1 = Bike() # default 생성자 : 매개변수를 가지고 있지 않은 생성자\\nb2 = Bike()\\nb3 = Bike()\\nb4 - Bike()',\n",
       "  'b1 = Bike() # default 생성자 : 매개변수를 가지고 있지 않은 생성자\\nb2 = Bike()\\nb3 = Bike()\\nb4 = Bike()',\n",
       "  'b1.state()\\nb2.state()\\nb3.state()\\nb4.state()',\n",
       "  '# 오버로딩(Overloading) : 다중함수\\n## 동일한 이름을 가진 메서드를 여러개 만들어 사용하는 기능\\n## 단, 매개변수의 개수가 다르거나 데이터 타입이 달라야 한다. - java 특징\\n# default parameter : 초기 매개변수',\n",
       "  'class Bike:\\n    # 멤버 필드 = 프로퍼티, _, __(private) / public\\n    \\n    # 생성자 메서드\\n    def __init__(self):\\n        self.color = \\'black\\'\\n        self.weight = 3\\n        \\n    def __init__(self, color, weight):\\n        self.color = color\\n        self.weight = weight\\n        \\n    # 멤버 메서드\\n    def gear(self):\\n        print(\\'gear\\')\\n        \\n    def brake(self):\\n        print(\\'break\\')\\n        \\n    def drive(self):\\n        print(\\'drive\\')\\n        \\n    def state(self):\\n        print(\\'color : \\' + self.color + \" , \" + \"weight : \" + str(self.weight))',\n",
       "  \"ap = Bike()\\nbp = Bike('red', 7)\",\n",
       "  'class Bike:\\n    # 멤버 필드 = 프로퍼티, _, __(private) / public\\n    \\n    # 생성자 메서드\\n#     def __init__(self):\\n#         self.color = \\'black\\'\\n#         self.weight = 3\\n        \\n    def __init__(self, color = \\'black\\', weight = 3):\\n        self.color = color\\n        self.weight = weight\\n        \\n    # 멤버 메서드\\n    def gear(self):\\n        print(\\'gear\\')\\n        \\n    def brake(self):\\n        print(\\'break\\')\\n        \\n    def drive(self):\\n        print(\\'drive\\')\\n        \\n    def state(self):\\n        print(\\'color : \\' + self.color + \" , \" + \"weight : \" + str(self.weight))',\n",
       "  \"ap = Bike()\\nbp = Bike('red', 7)\",\n",
       "  'ap.state()\\nbp.state()',\n",
       "  '# 외부에서 객체의 속석(필드)과 기능(메서드)에 접근을 제한할 수 있다.\\n## private 네이밍 규칙 : 접두사(__) 사용, 접미사(_)까지 허용',\n",
       "  'class PayGildong:\\n    \\n    def __init__(self):\\n        self.day = 25\\n        self.pay = 1000000\\n        \\n    def setPay(self, pay):\\n        self.pay = pay\\n        \\n    def getPay(self):\\n        return self.pay',\n",
       "  'gd = PayGildong()\\n\\ngd.day = 14\\ngd.pay = 800000',\n",
       "  'print(gd.pay, gd.day)',\n",
       "  'class PayGildong:\\n    \\n    def __init__(self):\\n        self.day = 25\\n        self.__pay = 1000000       # private : 외부에서 접근 불가능\\n        \\n    def setPay(self, pay):\\n        self.__pay = pay\\n        \\n    def getPay(self):\\n        return self.__pay',\n",
       "  'gd = PayGildong()\\n\\ngd.day = 14\\ngd.pay = 800000',\n",
       "  'print(gd.pay, gd.day)',\n",
       "  'gd = PayGildong()\\n\\ngd.day = 14\\ngd.__pay = 800000',\n",
       "  'print(gd.pay, gd.day)',\n",
       "  'print(gd.__pay, gd.day)',\n",
       "  'gd = PayGildong()\\n\\ngd.day = 14\\n# gd.__pay = 800000\\ngd.setPay(800000)',\n",
       "  'print(gd.getPay, gd.day)',\n",
       "  'print(gd.getPay(), gd.day)',\n",
       "  '# 객체 생성 메서드 : 생성자 메서드, __init__\\n# 초기화 메서드 ㅣ 멤버 필드의 처음값을 지정하는 메서드',\n",
       "  'class Circle:\\n    \\n#     def __init__(self): 생략 가능하다.\\n    def start(self):\\n        self.radius = 5\\n    def disp(self):\\n        print(\"radius : \", self.radius)',\n",
       "  'ap = Circle() # default 생성자 메서드가 호출, 생성자 메서드가 없을 경우 생략된 걸로 간주한다.\\n\\nap.disp()',\n",
       "  'ap = Circle() # default 생성자 메서드가 호출, 생성자 메서드가 없을 경우 생략된 걸로 간주한다.\\n\\n#ap.radius = 1\\nap.start()\\n\\nap.disp()',\n",
       "  'class Circle:\\n    \\n    def __init__(self):\\n        self.radius = 1\\n    \\n    \\n    def start(self, radius):\\n        self.radius = radius\\n        \\n    def disp(self):\\n        print(\"radius : \", self.radius)',\n",
       "  'class Circle:\\n    \\n    def __init__(self, radius = 1):\\n        self.radius = radius\\n  \\n        \\n    def disp(self):\\n        print(\"radius : \", self.radius)',\n",
       "  'bp = Circle()\\ncp = Circle(5)\\n\\nbp.disp()\\ncp.disp()',\n",
       "  'class Earth:\\n    \\n    def getRadius():\\n        return 6400\\n    \\n    def getArea():\\n        return 514457600',\n",
       "  'print(\"Earth Radius : \", Earth.getRadius())\\nprint(\"Earth Area : \", Earth.getArea())',\n",
       "  'class Earth:\\n    \\n    def getRadius(self):\\n        return 6400\\n    \\n    def getArea(self):\\n        return 514457600',\n",
       "  'print(\"Earth Radius : \", Earth.getRadius())\\nprint(\"Earth Area : \", Earth.getArea())',\n",
       "  'class Earth:\\n    \\n    @staticmethod \\n    def getRadius():\\n        return 6400\\n    \\n    @staticmethod\\n    def getArea():\\n        return 514457600',\n",
       "  'print(\"Earth Radius : \", Earth.getRadius())\\nprint(\"Earth Area : \", Earth.getArea())',\n",
       "  'class Earth:\\n    \\n    @classmethod \\n    def getRadius(cls):\\n        return 6400\\n    \\n    @classmethod\\n    def getArea(cls):\\n        return 514457600',\n",
       "  'print(\"Earth Radius : \", Earth.getRadius())\\nprint(\"Earth Area : \", Earth.getArea())',\n",
       "  'locals()'],\n",
       " 'Out': {},\n",
       " 'get_ipython': <bound method InteractiveShell.get_ipython of <ipykernel.zmqshell.ZMQInteractiveShell object at 0x000001FBED32D4C0>>,\n",
       " 'exit': <IPython.core.autocall.ZMQExitAutocall at 0x1fbed32dbb0>,\n",
       " 'quit': <IPython.core.autocall.ZMQExitAutocall at 0x1fbed32dbb0>,\n",
       " '_': '',\n",
       " '__': '',\n",
       " '___': '',\n",
       " 'json': <module 'json' from 'C:\\\\Anaconda3\\\\lib\\\\json\\\\__init__.py'>,\n",
       " 'yapf_reformat': <function __main__.yapf_reformat(cell_text)>,\n",
       " '_i': 'print(\"Earth Radius : \", Earth.getRadius())\\nprint(\"Earth Area : \", Earth.getArea())',\n",
       " '_ii': 'class Earth:\\n    \\n    @classmethod \\n    def getRadius(cls):\\n        return 6400\\n    \\n    @classmethod\\n    def getArea(cls):\\n        return 514457600',\n",
       " '_iii': 'print(\"Earth Radius : \", Earth.getRadius())\\nprint(\"Earth Area : \", Earth.getArea())',\n",
       " '_i1': \"class Bike:\\n    # 멤버 필드 = 프로퍼티, _, __(private) / public\\n    \\n    # 생성자 메서드\\n    def __init__(self):\\n        self.color = 'black'\\n        self.weight = 3\\n        \\n        \\n    # 멤버 메서드\\n    def gear(self):\\n        print('gear')\\n        \\n    def brake(self):\\n        print('break')\\n        \\n    def drive(self):\\n        print('drive')\\n        \\n    # 소멸자 메서드 __del__\",\n",
       " 'Bike': __main__.Bike,\n",
       " '_i2': 'class Bike:\\n    # 멤버 필드 = 프로퍼티, _, __(private) / public\\n    \\n    # 생성자 메서드\\n    def __init__(self):\\n        self.color = \\'black\\'\\n        self.weight = 3\\n        \\n        \\n    # 멤버 메서드\\n    def gear(self):\\n        print(\\'gear\\')\\n        \\n    def brake(self):\\n        print(\\'break\\')\\n        \\n    def drive(self):\\n        print(\\'drive\\')\\n        \\n    def state(self):\\n        print(\\'color : \\' + self.color + \" , \" + \"weight : \" + str(self.weight))\\n        \\n    # 소멸자 메서드 __del__',\n",
       " '_i3': 'b1 = Bike() # default 생성자 : 매개변수를 가지고 있지 않은 생성자\\nb2 = Bike()\\nb3 = Bike()\\nb4 - Bike()',\n",
       " 'b1': <__main__.Bike at 0x1fbed379250>,\n",
       " 'b2': <__main__.Bike at 0x1fbee6c1940>,\n",
       " 'b3': <__main__.Bike at 0x1fbed379880>,\n",
       " '_i4': 'b1 = Bike() # default 생성자 : 매개변수를 가지고 있지 않은 생성자\\nb2 = Bike()\\nb3 = Bike()\\nb4 = Bike()',\n",
       " 'b4': <__main__.Bike at 0x1fbed3799d0>,\n",
       " '_i5': 'b1.state()\\nb2.state()\\nb3.state()\\nb4.state()',\n",
       " '_i6': '# 오버로딩(Overloading) : 다중함수\\n## 동일한 이름을 가진 메서드를 여러개 만들어 사용하는 기능\\n## 단, 매개변수의 개수가 다르거나 데이터 타입이 달라야 한다. - java 특징\\n# default parameter : 초기 매개변수',\n",
       " '_i7': 'class Bike:\\n    # 멤버 필드 = 프로퍼티, _, __(private) / public\\n    \\n    # 생성자 메서드\\n    def __init__(self):\\n        self.color = \\'black\\'\\n        self.weight = 3\\n        \\n    def __init__(self, color, weight):\\n        self.color = color\\n        self.weight = weight\\n        \\n    # 멤버 메서드\\n    def gear(self):\\n        print(\\'gear\\')\\n        \\n    def brake(self):\\n        print(\\'break\\')\\n        \\n    def drive(self):\\n        print(\\'drive\\')\\n        \\n    def state(self):\\n        print(\\'color : \\' + self.color + \" , \" + \"weight : \" + str(self.weight))',\n",
       " '_i8': \"ap = Bike()\\nbp = Bike('red', 7)\",\n",
       " '_i9': 'class Bike:\\n    # 멤버 필드 = 프로퍼티, _, __(private) / public\\n    \\n    # 생성자 메서드\\n#     def __init__(self):\\n#         self.color = \\'black\\'\\n#         self.weight = 3\\n        \\n    def __init__(self, color = \\'black\\', weight = 3):\\n        self.color = color\\n        self.weight = weight\\n        \\n    # 멤버 메서드\\n    def gear(self):\\n        print(\\'gear\\')\\n        \\n    def brake(self):\\n        print(\\'break\\')\\n        \\n    def drive(self):\\n        print(\\'drive\\')\\n        \\n    def state(self):\\n        print(\\'color : \\' + self.color + \" , \" + \"weight : \" + str(self.weight))',\n",
       " '_i10': \"ap = Bike()\\nbp = Bike('red', 7)\",\n",
       " 'ap': <__main__.Circle at 0x1fbef0f6b20>,\n",
       " 'bp': <__main__.Circle at 0x1fbef183c40>,\n",
       " '_i11': 'ap.state()\\nbp.state()',\n",
       " '_i12': '# 외부에서 객체의 속석(필드)과 기능(메서드)에 접근을 제한할 수 있다.\\n## private 네이밍 규칙 : 접두사(__) 사용, 접미사(_)까지 허용',\n",
       " '_i13': 'class PayGildong:\\n    \\n    def __init__(self):\\n        self.day = 25\\n        self.pay = 1000000\\n        \\n    def setPay(self, pay):\\n        self.pay = pay\\n        \\n    def getPay(self):\\n        return self.pay',\n",
       " 'PayGildong': __main__.PayGildong,\n",
       " '_i14': 'gd = PayGildong()\\n\\ngd.day = 14\\ngd.pay = 800000',\n",
       " 'gd': <__main__.PayGildong at 0x1fbef186c10>,\n",
       " '_i15': 'print(gd.pay, gd.day)',\n",
       " '_i16': 'class PayGildong:\\n    \\n    def __init__(self):\\n        self.day = 25\\n        self.__pay = 1000000       # private : 외부에서 접근 불가능\\n        \\n    def setPay(self, pay):\\n        self.__pay = pay\\n        \\n    def getPay(self):\\n        return self.__pay',\n",
       " '_i17': 'gd = PayGildong()\\n\\ngd.day = 14\\ngd.pay = 800000',\n",
       " '_i18': 'print(gd.pay, gd.day)',\n",
       " '_i19': 'gd = PayGildong()\\n\\ngd.day = 14\\ngd.__pay = 800000',\n",
       " '_i20': 'print(gd.pay, gd.day)',\n",
       " '_i21': 'print(gd.__pay, gd.day)',\n",
       " '_i22': 'gd = PayGildong()\\n\\ngd.day = 14\\n# gd.__pay = 800000\\ngd.setPay(800000)',\n",
       " '_i23': 'print(gd.getPay, gd.day)',\n",
       " '_i24': 'print(gd.getPay(), gd.day)',\n",
       " '_i25': '# 객체 생성 메서드 : 생성자 메서드, __init__\\n# 초기화 메서드 ㅣ 멤버 필드의 처음값을 지정하는 메서드',\n",
       " '_i26': 'class Circle:\\n    \\n#     def __init__(self): 생략 가능하다.\\n    def start(self):\\n        self.radius = 5\\n    def disp(self):\\n        print(\"radius : \", self.radius)',\n",
       " 'Circle': __main__.Circle,\n",
       " '_i27': 'ap = Circle() # default 생성자 메서드가 호출, 생성자 메서드가 없을 경우 생략된 걸로 간주한다.\\n\\nap.disp()',\n",
       " '_i28': 'ap = Circle() # default 생성자 메서드가 호출, 생성자 메서드가 없을 경우 생략된 걸로 간주한다.\\n\\n#ap.radius = 1\\nap.start()\\n\\nap.disp()',\n",
       " '_i29': 'class Circle:\\n    \\n    def __init__(self):\\n        self.radius = 1\\n    \\n    \\n    def start(self, radius):\\n        self.radius = radius\\n        \\n    def disp(self):\\n        print(\"radius : \", self.radius)',\n",
       " '_i30': 'class Circle:\\n    \\n    def __init__(self, radius = 1):\\n        self.radius = radius\\n  \\n        \\n    def disp(self):\\n        print(\"radius : \", self.radius)',\n",
       " '_i31': 'bp = Circle()\\ncp = Circle(5)\\n\\nbp.disp()\\ncp.disp()',\n",
       " 'cp': <__main__.Circle at 0x1fbee5e2d00>,\n",
       " '_i32': 'class Earth:\\n    \\n    def getRadius():\\n        return 6400\\n    \\n    def getArea():\\n        return 514457600',\n",
       " 'Earth': __main__.Earth,\n",
       " '_i33': 'print(\"Earth Radius : \", Earth.getRadius())\\nprint(\"Earth Area : \", Earth.getArea())',\n",
       " '_i34': 'class Earth:\\n    \\n    def getRadius(self):\\n        return 6400\\n    \\n    def getArea(self):\\n        return 514457600',\n",
       " '_i35': 'print(\"Earth Radius : \", Earth.getRadius())\\nprint(\"Earth Area : \", Earth.getArea())',\n",
       " '_i36': 'class Earth:\\n    \\n    @staticmethod \\n    def getRadius():\\n        return 6400\\n    \\n    @staticmethod\\n    def getArea():\\n        return 514457600',\n",
       " '_i37': 'print(\"Earth Radius : \", Earth.getRadius())\\nprint(\"Earth Area : \", Earth.getArea())',\n",
       " '_i38': 'class Earth:\\n    \\n    @classmethod \\n    def getRadius(cls):\\n        return 6400\\n    \\n    @classmethod\\n    def getArea(cls):\\n        return 514457600',\n",
       " '_i39': 'print(\"Earth Radius : \", Earth.getRadius())\\nprint(\"Earth Area : \", Earth.getArea())',\n",
       " '_i40': 'locals()'}"
      ]
     },
     "execution_count": 40,
     "metadata": {},
     "output_type": "execute_result"
    }
   ],
   "source": [
    "locals()"
   ]
  },
  {
   "cell_type": "code",
   "execution_count": 45,
   "id": "9125dd68",
   "metadata": {
    "ExecuteTime": {
     "end_time": "2022-09-14T03:13:56.284763Z",
     "start_time": "2022-09-14T03:13:56.277775Z"
    }
   },
   "outputs": [],
   "source": [
    "class AAA:\n",
    "    def __k(self):\n",
    "        print(\"private function\")\n",
    "    \n",
    "    def kk(self):\n",
    "        print(\"public function\")\n",
    "        \n",
    "    def disp(self):\n",
    "        self.__k()"
   ]
  },
  {
   "cell_type": "code",
   "execution_count": 46,
   "id": "de45babf",
   "metadata": {
    "ExecuteTime": {
     "end_time": "2022-09-14T03:13:58.502486Z",
     "start_time": "2022-09-14T03:13:58.486859Z"
    }
   },
   "outputs": [
    {
     "name": "stdout",
     "output_type": "stream",
     "text": [
      "private function\n",
      "public function\n"
     ]
    }
   ],
   "source": [
    "aaa = AAA()\n",
    "aaa.disp()\n",
    "aaa.kk()"
   ]
  },
  {
   "cell_type": "code",
   "execution_count": 52,
   "id": "ec4a0883",
   "metadata": {
    "ExecuteTime": {
     "end_time": "2022-09-14T03:20:15.127345Z",
     "start_time": "2022-09-14T03:20:15.113382Z"
    }
   },
   "outputs": [],
   "source": [
    "class BBB:\n",
    "    __a = 100\n",
    "    b = 200\n",
    "    \n",
    "    def disp(self):\n",
    "        print(\"a : \", self.__a)\n",
    "        print(\"b : \", self.b)"
   ]
  },
  {
   "cell_type": "code",
   "execution_count": 48,
   "id": "47b2904f",
   "metadata": {
    "ExecuteTime": {
     "end_time": "2022-09-14T03:15:25.432198Z",
     "start_time": "2022-09-14T03:15:25.418218Z"
    }
   },
   "outputs": [
    {
     "ename": "AttributeError",
     "evalue": "'BBB' object has no attribute '__a'",
     "output_type": "error",
     "traceback": [
      "\u001b[1;31m---------------------------------------------------------------------------\u001b[0m",
      "\u001b[1;31mAttributeError\u001b[0m                            Traceback (most recent call last)",
      "Input \u001b[1;32mIn [48]\u001b[0m, in \u001b[0;36m<cell line: 2>\u001b[1;34m()\u001b[0m\n\u001b[0;32m      1\u001b[0m bbb \u001b[38;5;241m=\u001b[39m BBB()\n\u001b[1;32m----> 2\u001b[0m \u001b[38;5;28mprint\u001b[39m(\u001b[43mbbb\u001b[49m\u001b[38;5;241;43m.\u001b[39;49m\u001b[43m__a\u001b[49m)\n",
      "\u001b[1;31mAttributeError\u001b[0m: 'BBB' object has no attribute '__a'"
     ]
    }
   ],
   "source": [
    "bbb = BBB()\n",
    "print(bbb.__a)"
   ]
  },
  {
   "cell_type": "code",
   "execution_count": 53,
   "id": "53e2b479",
   "metadata": {
    "ExecuteTime": {
     "end_time": "2022-09-14T03:20:17.432929Z",
     "start_time": "2022-09-14T03:20:17.414977Z"
    }
   },
   "outputs": [
    {
     "name": "stdout",
     "output_type": "stream",
     "text": [
      "['_BBB__a', '__class__', '__delattr__', '__dict__', '__dir__', '__doc__', '__eq__', '__format__', '__ge__', '__getattribute__', '__gt__', '__hash__', '__init__', '__init_subclass__', '__le__', '__lt__', '__module__', '__ne__', '__new__', '__reduce__', '__reduce_ex__', '__repr__', '__setattr__', '__sizeof__', '__str__', '__subclasshook__', '__weakref__', 'b', 'disp']\n",
      "300\n",
      "['_BBB__a', '__class__', '__delattr__', '__dict__', '__dir__', '__doc__', '__eq__', '__format__', '__ge__', '__getattribute__', '__gt__', '__hash__', '__init__', '__init_subclass__', '__le__', '__lt__', '__module__', '__ne__', '__new__', '__reduce__', '__reduce_ex__', '__repr__', '__setattr__', '__sizeof__', '__str__', '__subclasshook__', '__weakref__', 'b', 'disp']\n"
     ]
    }
   ],
   "source": [
    "print(dir(BBB))\n",
    "bbb.__a = 300\n",
    "print(bbb.__a)\n",
    "print(dir(BBB))"
   ]
  },
  {
   "cell_type": "code",
   "execution_count": null,
   "id": "0d8a3809",
   "metadata": {},
   "outputs": [],
   "source": [
    "# 대입연산자 or 할당연산자 or 치환연산자\n",
    "# 파이썬은 모든 것을 객체로 취급한다.\n"
   ]
  },
  {
   "cell_type": "code",
   "execution_count": 62,
   "id": "0c3ec38a",
   "metadata": {
    "ExecuteTime": {
     "end_time": "2022-09-14T03:32:08.485698Z",
     "start_time": "2022-09-14T03:32:08.468879Z"
    }
   },
   "outputs": [],
   "source": [
    "class P:\n",
    "    x = 1\n",
    "    y = 2\n",
    "    z = 3"
   ]
  },
  {
   "cell_type": "code",
   "execution_count": null,
   "id": "a53fc805",
   "metadata": {},
   "outputs": [],
   "source": []
  },
  {
   "cell_type": "code",
   "execution_count": null,
   "id": "aa7e6b68",
   "metadata": {},
   "outputs": [],
   "source": []
  },
  {
   "cell_type": "code",
   "execution_count": 65,
   "id": "38688da5",
   "metadata": {
    "ExecuteTime": {
     "end_time": "2022-09-14T03:32:31.153674Z",
     "start_time": "2022-09-14T03:32:31.139712Z"
    }
   },
   "outputs": [],
   "source": [
    "class CC(P):\n",
    "    x = 10\n",
    "    y = 20"
   ]
  },
  {
   "cell_type": "code",
   "execution_count": 66,
   "id": "2c5d17ab",
   "metadata": {
    "ExecuteTime": {
     "end_time": "2022-09-14T03:32:51.284904Z",
     "start_time": "2022-09-14T03:32:51.280916Z"
    }
   },
   "outputs": [
    {
     "name": "stdout",
     "output_type": "stream",
     "text": [
      "10\n",
      "20\n",
      "3\n"
     ]
    }
   ],
   "source": [
    "c = CC()\n",
    "\n",
    "print(c.x)\n",
    "print(c.y)\n",
    "print(c.z)"
   ]
  },
  {
   "cell_type": "code",
   "execution_count": 67,
   "id": "e53d6a25",
   "metadata": {
    "ExecuteTime": {
     "end_time": "2022-09-14T03:38:10.681464Z",
     "start_time": "2022-09-14T03:38:10.668498Z"
    }
   },
   "outputs": [],
   "source": [
    "class Parent:\n",
    "    \n",
    "    def __init__(self):\n",
    "        pass\n",
    "    \n",
    "    def disp(self):\n",
    "        print(\"hello\")\n",
    "        \n",
    "class Child(Parent):\n",
    "    \n",
    "    def __init__(self):\n",
    "        pass\n",
    "    \n",
    "    "
   ]
  },
  {
   "cell_type": "code",
   "execution_count": 68,
   "id": "3c5af5a6",
   "metadata": {
    "ExecuteTime": {
     "end_time": "2022-09-14T03:38:38.390163Z",
     "start_time": "2022-09-14T03:38:38.377200Z"
    }
   },
   "outputs": [
    {
     "name": "stdout",
     "output_type": "stream",
     "text": [
      "hello\n"
     ]
    }
   ],
   "source": [
    "c = Child()\n",
    "c.disp()"
   ]
  },
  {
   "cell_type": "code",
   "execution_count": 70,
   "id": "233ba067",
   "metadata": {
    "ExecuteTime": {
     "end_time": "2022-09-14T03:46:44.078765Z",
     "start_time": "2022-09-14T03:46:44.059816Z"
    }
   },
   "outputs": [],
   "source": [
    "class Parent:\n",
    "    \n",
    "    def __init__(self):\n",
    "        self.a = 'python'\n",
    "        self.b = 'c++'\n",
    "        self.c = 'java'\n",
    "    \n",
    "    def disp(self):\n",
    "        print(self.a)\n",
    "        print(self.b)\n",
    "        print(self.c)\n",
    "        \n",
    "class Child(Parent):\n",
    "    \n",
    "    def __init__(self):\n",
    "        Parent.__init__(self)\n",
    "        pass                      # super() - 부모 default 생성자\n",
    "    "
   ]
  },
  {
   "cell_type": "code",
   "execution_count": 71,
   "id": "a867ed99",
   "metadata": {
    "ExecuteTime": {
     "end_time": "2022-09-14T03:46:44.664811Z",
     "start_time": "2022-09-14T03:46:44.659823Z"
    }
   },
   "outputs": [
    {
     "name": "stdout",
     "output_type": "stream",
     "text": [
      "python\n",
      "c++\n",
      "java\n"
     ]
    }
   ],
   "source": [
    "# 상속을 받은 자식은 반드시 부모 객체의 멤버를 초기화시킬 의무가 있다.\n",
    "# 부모 객체가 생성자가 존재한다면 자식 객체도 생성자를 통해 부모 멤버를 초기화한다.\n",
    "c = Child()\n",
    "c.disp()"
   ]
  },
  {
   "cell_type": "markdown",
   "id": "9ced48f2",
   "metadata": {
    "ExecuteTime": {
     "end_time": "2022-09-14T03:47:59.307224Z",
     "start_time": "2022-09-14T03:47:59.295254Z"
    }
   },
   "source": [
    "### 오버라이딩(Overriding, 재정의)\n",
    "- 부모와 자녀가 동일한 이름의 메서드를 가지고 있는 기능\n",
    "- 자녀객체의 메서드가 호출된다."
   ]
  },
  {
   "cell_type": "code",
   "execution_count": 73,
   "id": "26b98078",
   "metadata": {
    "ExecuteTime": {
     "end_time": "2022-09-14T03:50:17.293653Z",
     "start_time": "2022-09-14T03:50:17.284662Z"
    }
   },
   "outputs": [],
   "source": [
    "class Parent:\n",
    "    \n",
    "    def __init__(self):\n",
    "        pass\n",
    "    \n",
    "    def cooking(self):\n",
    "        print('make pizza')\n",
    "\n",
    "class Child(Parent):\n",
    "    \n",
    "    def __init__(self):\n",
    "        Parent.__init__(self)\n",
    "        pass                      # super() - 부모 default 생성자\n",
    "    \n",
    "    def cooking(self):\n",
    "        print('make pasta')"
   ]
  },
  {
   "cell_type": "code",
   "execution_count": 74,
   "id": "4269d275",
   "metadata": {
    "ExecuteTime": {
     "end_time": "2022-09-14T03:52:35.101493Z",
     "start_time": "2022-09-14T03:52:35.093515Z"
    }
   },
   "outputs": [
    {
     "name": "stdout",
     "output_type": "stream",
     "text": [
      "make pasta\n"
     ]
    }
   ],
   "source": [
    "cp = Child()\n",
    "cp.cooking()"
   ]
  },
  {
   "cell_type": "code",
   "execution_count": 76,
   "id": "dcf93541",
   "metadata": {
    "ExecuteTime": {
     "end_time": "2022-09-14T03:52:59.382939Z",
     "start_time": "2022-09-14T03:52:59.368978Z"
    }
   },
   "outputs": [
    {
     "name": "stdout",
     "output_type": "stream",
     "text": [
      "make pasta\n"
     ]
    }
   ],
   "source": [
    "ccp = Child()\n",
    "ccp.cooking()"
   ]
  },
  {
   "cell_type": "markdown",
   "id": "a9cff1f2",
   "metadata": {},
   "source": [
    "### 다중상속"
   ]
  },
  {
   "cell_type": "code",
   "execution_count": 77,
   "id": "397251f5",
   "metadata": {
    "ExecuteTime": {
     "end_time": "2022-09-14T05:40:31.279219Z",
     "start_time": "2022-09-14T05:40:31.265256Z"
    }
   },
   "outputs": [
    {
     "name": "stdout",
     "output_type": "stream",
     "text": [
      "통화 기능\n",
      "촬영 기능\n",
      "영상통화 기능\n"
     ]
    }
   ],
   "source": [
    "class Phone:\n",
    "    def call(self):\n",
    "        print(\"통화 기능\")\n",
    "        \n",
    "class Camera:\n",
    "    def picture(self):\n",
    "        print(\"촬영 기능\")\n",
    "        \n",
    "class SmartPhone(Phone, Camera):\n",
    "    def pictureCall(self):\n",
    "        print(\"영상통화 기능\")\n",
    "        \n",
    "sp = SmartPhone()\n",
    "sp.call()\n",
    "sp.picture()\n",
    "sp.pictureCall()"
   ]
  },
  {
   "cell_type": "markdown",
   "id": "07902826",
   "metadata": {
    "ExecuteTime": {
     "end_time": "2022-09-14T05:40:40.732616Z",
     "start_time": "2022-09-14T05:40:40.706484Z"
    }
   },
   "source": [
    "### 다형성"
   ]
  },
  {
   "cell_type": "code",
   "execution_count": 79,
   "id": "01ede87e",
   "metadata": {
    "ExecuteTime": {
     "end_time": "2022-09-14T05:46:04.763960Z",
     "start_time": "2022-09-14T05:46:04.756981Z"
    }
   },
   "outputs": [],
   "source": [
    "# 부모객체에 자식객체를 담아서 표현하는 방법\n",
    "class Phone:\n",
    "    def call(self):\n",
    "        print(\"전화 기능\")\n",
    "        \n",
    "class FolderPhone(Phone):\n",
    "    def call(self):  # 오버라이딩(함수 재정의)\n",
    "        print(\"통화 기능\")\n",
    "        \n",
    "class CameraPhone(Phone):\n",
    "    def call(self):\n",
    "        print(\"통화 + 카메라 기능\")\n",
    "        \n",
    "class SmartPhone(Phone):\n",
    "    def call(self):\n",
    "        print(\"통화 + 카메라 + 인터넷 기능\")\n",
    "        \n"
   ]
  },
  {
   "cell_type": "code",
   "execution_count": 80,
   "id": "00c049f0",
   "metadata": {
    "ExecuteTime": {
     "end_time": "2022-09-14T05:47:59.605633Z",
     "start_time": "2022-09-14T05:47:59.600647Z"
    }
   },
   "outputs": [
    {
     "name": "stdout",
     "output_type": "stream",
     "text": [
      "전화 기능\n",
      "통화 기능\n",
      "통화 + 카메라 기능\n",
      "통화 + 카메라 + 인터넷 기능\n"
     ]
    }
   ],
   "source": [
    "p = Phone()\n",
    "p.call()\n",
    "\n",
    "p = FolderPhone()\n",
    "p.call()\n",
    "\n",
    "p = CameraPhone()\n",
    "p.call()\n",
    "\n",
    "p = SmartPhone()\n",
    "p.call()"
   ]
  },
  {
   "cell_type": "markdown",
   "id": "59124b54",
   "metadata": {},
   "source": [
    "### super() : 부모 객체를 가르키는 메서드"
   ]
  },
  {
   "cell_type": "code",
   "execution_count": 83,
   "id": "613dbb2d",
   "metadata": {
    "ExecuteTime": {
     "end_time": "2022-09-14T06:13:17.058411Z",
     "start_time": "2022-09-14T06:13:17.044449Z"
    }
   },
   "outputs": [],
   "source": [
    "class Parent:\n",
    "    \n",
    "    def __init__(self):\n",
    "        self.a = 'python'\n",
    "        self.b = 'c++'\n",
    "        self.c = 'java'\n",
    "    \n",
    "    def disp(self):\n",
    "        print(self.a)\n",
    "        print(self.b)\n",
    "        print(self.c)\n",
    "        \n",
    "class Child(Parent):\n",
    "    \n",
    "    def __init__(self):\n",
    "        super().Parent.__init__()      # super() - 부모 default 생성자, self는 생략한다.\n",
    "        pass"
   ]
  },
  {
   "cell_type": "code",
   "execution_count": 84,
   "id": "b33897af",
   "metadata": {
    "ExecuteTime": {
     "end_time": "2022-09-14T06:13:18.830521Z",
     "start_time": "2022-09-14T06:13:18.798604Z"
    }
   },
   "outputs": [
    {
     "ename": "AttributeError",
     "evalue": "'super' object has no attribute 'Parent'",
     "output_type": "error",
     "traceback": [
      "\u001b[1;31m---------------------------------------------------------------------------\u001b[0m",
      "\u001b[1;31mAttributeError\u001b[0m                            Traceback (most recent call last)",
      "Input \u001b[1;32mIn [84]\u001b[0m, in \u001b[0;36m<cell line: 1>\u001b[1;34m()\u001b[0m\n\u001b[1;32m----> 1\u001b[0m c \u001b[38;5;241m=\u001b[39m \u001b[43mChild\u001b[49m\u001b[43m(\u001b[49m\u001b[43m)\u001b[49m\n\u001b[0;32m      2\u001b[0m c\u001b[38;5;241m.\u001b[39mdisp()\n",
      "Input \u001b[1;32mIn [83]\u001b[0m, in \u001b[0;36mChild.__init__\u001b[1;34m(self)\u001b[0m\n\u001b[0;32m     15\u001b[0m \u001b[38;5;28;01mdef\u001b[39;00m \u001b[38;5;21m__init__\u001b[39m(\u001b[38;5;28mself\u001b[39m):\n\u001b[1;32m---> 16\u001b[0m     \u001b[38;5;28;43msuper\u001b[39;49m\u001b[43m(\u001b[49m\u001b[43m)\u001b[49m\u001b[38;5;241;43m.\u001b[39;49m\u001b[43mParent\u001b[49m\u001b[38;5;241m.\u001b[39m\u001b[38;5;21m__init__\u001b[39m()      \u001b[38;5;66;03m# super() - 부모 default 생성자, self는 생략한다.\u001b[39;00m\n\u001b[0;32m     17\u001b[0m     \u001b[38;5;28;01mpass\u001b[39;00m\n",
      "\u001b[1;31mAttributeError\u001b[0m: 'super' object has no attribute 'Parent'"
     ]
    }
   ],
   "source": [
    "c = Child()\n",
    "c.disp()"
   ]
  },
  {
   "cell_type": "code",
   "execution_count": null,
   "id": "35aa8210",
   "metadata": {},
   "outputs": [],
   "source": []
  }
 ],
 "metadata": {
  "kernelspec": {
   "display_name": "Python 3 (ipykernel)",
   "language": "python",
   "name": "python3"
  },
  "language_info": {
   "codemirror_mode": {
    "name": "ipython",
    "version": 3
   },
   "file_extension": ".py",
   "mimetype": "text/x-python",
   "name": "python",
   "nbconvert_exporter": "python",
   "pygments_lexer": "ipython3",
   "version": "3.9.12"
  },
  "toc": {
   "base_numbering": 1,
   "nav_menu": {},
   "number_sections": true,
   "sideBar": true,
   "skip_h1_title": false,
   "title_cell": "Table of Contents",
   "title_sidebar": "Contents",
   "toc_cell": false,
   "toc_position": {},
   "toc_section_display": true,
   "toc_window_display": false
  }
 },
 "nbformat": 4,
 "nbformat_minor": 5
}
