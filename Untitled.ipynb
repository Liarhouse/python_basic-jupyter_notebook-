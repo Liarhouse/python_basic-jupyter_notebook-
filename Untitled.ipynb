{
 "cells": [
  {
   "cell_type": "code",
   "execution_count": 3,
   "id": "7be06c88",
   "metadata": {
    "ExecuteTime": {
     "end_time": "2022-09-20T08:33:22.117671Z",
     "start_time": "2022-09-20T08:33:22.097018Z"
    }
   },
   "outputs": [
    {
     "ename": "NameError",
     "evalue": "name 'stuMan' is not defined",
     "output_type": "error",
     "traceback": [
      "\u001b[1;31m---------------------------------------------------------------------------\u001b[0m",
      "\u001b[1;31mNameError\u001b[0m                                 Traceback (most recent call last)",
      "Input \u001b[1;32mIn [3]\u001b[0m, in \u001b[0;36m<cell line: 2>\u001b[1;34m()\u001b[0m\n\u001b[0;32m      1\u001b[0m \u001b[38;5;28;01mfrom\u001b[39;00m \u001b[38;5;21;01mQuizWorld\u001b[39;00m \u001b[38;5;28;01mimport\u001b[39;00m \u001b[38;5;241m*\u001b[39m\n\u001b[1;32m----> 2\u001b[0m handle \u001b[38;5;241m=\u001b[39m \u001b[43mstuMan\u001b[49m()\n\u001b[0;32m      3\u001b[0m mainMenu()\n",
      "\u001b[1;31mNameError\u001b[0m: name 'stuMan' is not defined"
     ]
    }
   ],
   "source": [
    "from QuizWorld import *\n",
    "handle = stuMan()\n",
    "mainMenu()"
   ]
  },
  {
   "cell_type": "code",
   "execution_count": 2,
   "id": "fe66764f",
   "metadata": {
    "ExecuteTime": {
     "end_time": "2022-09-20T08:33:13.382545Z",
     "start_time": "2022-09-20T08:33:12.993718Z"
    }
   },
   "outputs": [
    {
     "ename": "NameError",
     "evalue": "name 'stuMan' is not defined",
     "output_type": "error",
     "traceback": [
      "\u001b[1;31m---------------------------------------------------------------------------\u001b[0m",
      "\u001b[1;31mNameError\u001b[0m                                 Traceback (most recent call last)",
      "Input \u001b[1;32mIn [2]\u001b[0m, in \u001b[0;36m<cell line: 1>\u001b[1;34m()\u001b[0m\n\u001b[1;32m----> 1\u001b[0m handle \u001b[38;5;241m=\u001b[39m \u001b[43mstuMan\u001b[49m()\n\u001b[0;32m      2\u001b[0m mainMenu()\n",
      "\u001b[1;31mNameError\u001b[0m: name 'stuMan' is not defined"
     ]
    }
   ],
   "source": []
  }
 ],
 "metadata": {
  "kernelspec": {
   "display_name": "Python 3 (ipykernel)",
   "language": "python",
   "name": "python3"
  },
  "language_info": {
   "codemirror_mode": {
    "name": "ipython",
    "version": 3
   },
   "file_extension": ".py",
   "mimetype": "text/x-python",
   "name": "python",
   "nbconvert_exporter": "python",
   "pygments_lexer": "ipython3",
   "version": "3.9.12"
  },
  "toc": {
   "base_numbering": 1,
   "nav_menu": {},
   "number_sections": true,
   "sideBar": true,
   "skip_h1_title": false,
   "title_cell": "Table of Contents",
   "title_sidebar": "Contents",
   "toc_cell": false,
   "toc_position": {},
   "toc_section_display": true,
   "toc_window_display": false
  }
 },
 "nbformat": 4,
 "nbformat_minor": 5
}
