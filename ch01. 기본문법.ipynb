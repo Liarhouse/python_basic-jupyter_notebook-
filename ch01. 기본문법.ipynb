{
 "cells": [
  {
   "cell_type": "markdown",
   "id": "25839305",
   "metadata": {},
   "source": [
    "# 기본 문법\n"
   ]
  },
  {
   "cell_type": "markdown",
   "id": "833422bf",
   "metadata": {},
   "source": [
    "## 파이썬 표준 라이브러리 문서\n",
    "- **공식문서** https://docs.python.org/ko/3/library/index.html"
   ]
  },
  {
   "cell_type": "markdown",
   "id": "4bf2e04f",
   "metadata": {},
   "source": [
    "## 실행 - 파이썬 실행하는 방법\n",
    "1. 도구표시줄에서 RUN 아이콜을 이용해서 실행 : Shift + Enther\n",
    "2. Shift + Enter : 해당 셀을 실행한 후 새로운 셀을 생성\n",
    "3. Ctrl + Enter : 해당 셀을 실행"
   ]
  },
  {
   "cell_type": "markdown",
   "id": "6e2e6010",
   "metadata": {},
   "source": [
    "## 예약어(Keywords) \n",
    "- 이미 그 용도가 정해져 있는 명령어들\n",
    "- 식별자(명명법 or 사용자 정의 규칙)로 사용 불가"
   ]
  },
  {
   "cell_type": "code",
   "execution_count": 1,
   "id": "c170d5d9",
   "metadata": {},
   "outputs": [
    {
     "name": "stdout",
     "output_type": "stream",
     "text": [
      "['False', 'None', 'True', '__peg_parser__', 'and', 'as', 'assert', 'async', 'await', 'break', 'class', 'continue', 'def', 'del', 'elif', 'else', 'except', 'finally', 'for', 'from', 'global', 'if', 'import', 'in', 'is', 'lambda', 'nonlocal', 'not', 'or', 'pass', 'raise', 'return', 'try', 'while', 'with', 'yield']\n"
     ]
    }
   ],
   "source": [
    "# 파이썬 예약어를 확인\n",
    "import keyword # keyword 라이브러리를 포함\n",
    "\n",
    "# 파이썬의 예약어 목록 출력\n",
    "print(keyword.kwlist)"
   ]
  },
  {
   "cell_type": "code",
   "execution_count": 3,
   "id": "4291045a",
   "metadata": {},
   "outputs": [
    {
     "name": "stdout",
     "output_type": "stream",
     "text": [
      "36\n"
     ]
    }
   ],
   "source": [
    "# len = length, 자료의 개수, 묹자의 길이\n",
    "print(len(keyword.kwlist))"
   ]
  },
  {
   "cell_type": "code",
   "execution_count": 4,
   "id": "89ec6645",
   "metadata": {},
   "outputs": [
    {
     "data": {
      "text/plain": [
       "'3.9.12 (main, Apr  4 2022, 05:22:27) [MSC v.1916 64 bit (AMD64)]'"
      ]
     },
     "execution_count": 4,
     "metadata": {},
     "output_type": "execute_result"
    }
   ],
   "source": [
    "# 파이썬 버전 확인\n",
    "import sys\n",
    "\n",
    "sys.version"
   ]
  },
  {
   "cell_type": "markdown",
   "id": "b18b2fa4",
   "metadata": {},
   "source": [
    "## 사칙연산\n",
    "- 파이쎤을 계산기처럼 사용이 가능하다.\n",
    "- 사칙연산(산술연산) : +, -, *, /, //, %/%"
   ]
  },
  {
   "cell_type": "code",
   "execution_count": 5,
   "id": "c956bf33",
   "metadata": {},
   "outputs": [
    {
     "data": {
      "text/plain": [
       "55"
      ]
     },
     "execution_count": 5,
     "metadata": {},
     "output_type": "execute_result"
    }
   ],
   "source": [
    "25 + 30"
   ]
  },
  {
   "cell_type": "code",
   "execution_count": 6,
   "id": "f39d6f22",
   "metadata": {},
   "outputs": [
    {
     "data": {
      "text/plain": [
       "18"
      ]
     },
     "execution_count": 6,
     "metadata": {},
     "output_type": "execute_result"
    }
   ],
   "source": [
    "30 - 12"
   ]
  },
  {
   "cell_type": "code",
   "execution_count": 7,
   "id": "7ff7bd18",
   "metadata": {},
   "outputs": [
    {
     "data": {
      "text/plain": [
       "150"
      ]
     },
     "execution_count": 7,
     "metadata": {},
     "output_type": "execute_result"
    }
   ],
   "source": [
    "50 * 3"
   ]
  },
  {
   "cell_type": "code",
   "execution_count": 8,
   "id": "71b938fc",
   "metadata": {},
   "outputs": [
    {
     "data": {
      "text/plain": [
       "6.0"
      ]
     },
     "execution_count": 8,
     "metadata": {},
     "output_type": "execute_result"
    }
   ],
   "source": [
    "30 / 5 # 나누기 결과가 실수"
   ]
  },
  {
   "cell_type": "code",
   "execution_count": 9,
   "id": "814a54f9",
   "metadata": {},
   "outputs": [
    {
     "data": {
      "text/plain": [
       "243"
      ]
     },
     "execution_count": 9,
     "metadata": {},
     "output_type": "execute_result"
    }
   ],
   "source": [
    "3 * 3 * 3 * 3 * 3"
   ]
  },
  {
   "cell_type": "code",
   "execution_count": 10,
   "id": "799dfed7",
   "metadata": {},
   "outputs": [
    {
     "data": {
      "text/plain": [
       "243"
      ]
     },
     "execution_count": 10,
     "metadata": {},
     "output_type": "execute_result"
    }
   ],
   "source": [
    "3**5"
   ]
  },
  {
   "cell_type": "code",
   "execution_count": 11,
   "id": "98e5007b",
   "metadata": {},
   "outputs": [
    {
     "data": {
      "text/plain": [
       "1"
      ]
     },
     "execution_count": 11,
     "metadata": {},
     "output_type": "execute_result"
    }
   ],
   "source": [
    "# 나머지 연산\n",
    "7 % 2"
   ]
  },
  {
   "cell_type": "code",
   "execution_count": 12,
   "id": "46a1e95b",
   "metadata": {},
   "outputs": [
    {
     "data": {
      "text/plain": [
       "3"
      ]
     },
     "execution_count": 12,
     "metadata": {},
     "output_type": "execute_result"
    }
   ],
   "source": [
    "# 몫\n",
    "7 // 2"
   ]
  },
  {
   "cell_type": "code",
   "execution_count": 13,
   "id": "d72f5d20",
   "metadata": {},
   "outputs": [
    {
     "data": {
      "text/plain": [
       "3.5"
      ]
     },
     "execution_count": 13,
     "metadata": {},
     "output_type": "execute_result"
    }
   ],
   "source": [
    "7 / 2"
   ]
  },
  {
   "cell_type": "code",
   "execution_count": 14,
   "id": "ca8f3f95",
   "metadata": {},
   "outputs": [
    {
     "name": "stdout",
     "output_type": "stream",
     "text": [
      "1\n",
      "2\n",
      "3\n"
     ]
    }
   ],
   "source": [
    "print(1)\n",
    "print(2)\n",
    "print(3)"
   ]
  },
  {
   "cell_type": "code",
   "execution_count": 17,
   "id": "5095959f",
   "metadata": {},
   "outputs": [
    {
     "name": "stdout",
     "output_type": "stream",
     "text": [
      "100\n",
      "200\n"
     ]
    }
   ],
   "source": [
    "print(100);\n",
    "print(200);"
   ]
  },
  {
   "cell_type": "markdown",
   "id": "8a11e39c",
   "metadata": {},
   "source": [
    "## 주석(comment)\n",
    "- 프로그램 실행과는 상관없이 설명을 담기 위해 사용하는 구문\n",
    "- '#' : 한 줄 주석\n",
    "- 여러 줄 주석"
   ]
  },
  {
   "cell_type": "code",
   "execution_count": 18,
   "id": "cb7251b5",
   "metadata": {},
   "outputs": [
    {
     "data": {
      "text/plain": [
       "'\\n오 이것도 주석쓰~\\n여기도 주석쓰\\n꿀잼쓰~\\n잼잼잼잼잼\\n'"
      ]
     },
     "execution_count": 18,
     "metadata": {},
     "output_type": "execute_result"
    }
   ],
   "source": [
    "# 이것은 한줄짜리 주석입니다.\n",
    "\"\"\"\n",
    "여러 줄 주석\n",
    "여기도 주석\n",
    "저기도 주석\n",
    "\"\"\"\n",
    "'''\n",
    "오 이것도 주석쓰~\n",
    "여기도 주석쓰\n",
    "꿀잼쓰~\n",
    "잼잼잼잼잼\n",
    "'''"
   ]
  },
  {
   "cell_type": "code",
   "execution_count": 19,
   "id": "15f5f6a3",
   "metadata": {},
   "outputs": [],
   "source": [
    "# 블럭주석 : 여러줄을 작성한 후 블럭을 설정하고 ctrl + /\n",
    "# 주석이고 싶어요\n",
    "# 나두 주석일거야\n",
    "# 여기까지 주석일거예요"
   ]
  },
  {
   "cell_type": "code",
   "execution_count": 1,
   "id": "b3dbe1e5",
   "metadata": {},
   "outputs": [
    {
     "data": {
      "text/plain": [
       "'\\n여러 줄 주석\\n여기도 주석\\n저기도 주석\\n'"
      ]
     },
     "execution_count": 1,
     "metadata": {},
     "output_type": "execute_result"
    }
   ],
   "source": [
    "\"\"\"\n",
    "여러 줄 주석\n",
    "여기도 주석\n",
    "저기도 주석\n",
    "\"\"\""
   ]
  },
  {
   "cell_type": "markdown",
   "id": "7f5e2355",
   "metadata": {},
   "source": [
    "# 변수(Variable)\n",
    "- 변수 : 변할 수 있는 수, 값(상수, data)을 저장하는 공간 즉, 기억공간\n",
    "- 메모리(Memory) : 주기억장소(RAM), 변수를 저장하는 물리적인 공간\n",
    "- 동적타이핑(Dynamic Typing) : 자료형이 실행할 때 자동으로 할당된다\n",
    "- 표현식 : V= C;"
   ]
  },
  {
   "cell_type": "code",
   "execution_count": 20,
   "id": "6061f5cc",
   "metadata": {},
   "outputs": [],
   "source": [
    "a = 10;"
   ]
  },
  {
   "cell_type": "code",
   "execution_count": 21,
   "id": "d46f523b",
   "metadata": {},
   "outputs": [
    {
     "data": {
      "text/plain": [
       "10"
      ]
     },
     "execution_count": 21,
     "metadata": {},
     "output_type": "execute_result"
    }
   ],
   "source": [
    "a"
   ]
  },
  {
   "cell_type": "code",
   "execution_count": 22,
   "id": "67d34515",
   "metadata": {},
   "outputs": [
    {
     "name": "stdout",
     "output_type": "stream",
     "text": [
      "10\n"
     ]
    }
   ],
   "source": [
    "print(a);"
   ]
  },
  {
   "cell_type": "markdown",
   "id": "b94ac90b",
   "metadata": {},
   "source": [
    "## 변수 작성 규칙 : 명명법 or 사용자 정의 규칙\n",
    "- 알파벳(A to Z, a to z), 숫자(0 to 9), 밑줄(_, 언더스코어)\n",
    "- 첫글자는 반드시 영문자의 대, 소문자이거나 밑줄(_)만 올 수 있다.\n",
    "- 예약어는 사용 불가\n",
    "- 글자수에 제한 없음"
   ]
  },
  {
   "cell_type": "code",
   "execution_count": 23,
   "id": "786d8ebd",
   "metadata": {},
   "outputs": [
    {
     "name": "stdout",
     "output_type": "stream",
     "text": [
      "10\n"
     ]
    }
   ],
   "source": [
    "a = 10\n",
    "print(a)"
   ]
  },
  {
   "cell_type": "code",
   "execution_count": 28,
   "id": "2f1172ce",
   "metadata": {},
   "outputs": [
    {
     "data": {
      "text/plain": [
       "'파이썬'"
      ]
     },
     "execution_count": 28,
     "metadata": {},
     "output_type": "execute_result"
    }
   ],
   "source": [
    "# 문자열 변수 : 문자열 상수\n",
    "a = '파이썬'\n",
    "a"
   ]
  },
  {
   "cell_type": "code",
   "execution_count": 29,
   "id": "c2ece24c",
   "metadata": {},
   "outputs": [
    {
     "data": {
      "text/plain": [
       "42.125"
      ]
     },
     "execution_count": 29,
     "metadata": {},
     "output_type": "execute_result"
    }
   ],
   "source": [
    "# 실수형 변수 : 실수형 상수\n",
    "a = 42.125\n",
    "a"
   ]
  },
  {
   "cell_type": "code",
   "execution_count": 32,
   "id": "9ed6f710",
   "metadata": {},
   "outputs": [
    {
     "name": "stdout",
     "output_type": "stream",
     "text": [
      "7\n",
      "<class 'int'>\n"
     ]
    }
   ],
   "source": [
    "# type() : 자료형을 확인하는 함수\n",
    "a = 3\n",
    "b = 4\n",
    "print(a + b);\n",
    "print(type(a)) # 뱐수 a의 자효형 확인"
   ]
  },
  {
   "cell_type": "code",
   "execution_count": 33,
   "id": "09204c92",
   "metadata": {},
   "outputs": [],
   "source": [
    "# '=' : 대입연산자, 할당연산자, 치환연산자"
   ]
  },
  {
   "cell_type": "markdown",
   "id": "2e06b070",
   "metadata": {},
   "source": [
    "## 연산자(Operation)\n",
    "- 피연산자(항) 사이에 계산을 수행하기 위해 사용하는 기호들\n",
    "- 단항연산자 : 하나의 피연산자를 가지고 있는 연산\n",
    "- 이항연산자 : 하나 이상의 피연산자를 가지고 있는 연산\n",
    "  1. 최우선 연산자 : 우선순위가 가장 높은 연산자('.', '[ ]', '( )')\n",
    "  2. 산술 연산자\n",
    "  3. 관계 연산자(비교 연산자) : ==, !=, >, >=, <, <=\n",
    "  4. 논리 연산자 : and(&&), or(||), not(!, 단항 연산자)\n",
    "  5. 비트(bit = binary digit) 연산자 : amd(&), or(|), not(~)\n",
    "  6. 대입할당연산자 : 대입연산자(=)와 산술연산자를 중첩해서 사용하는 연산자, 축약\n",
    "  7. 대입연산자 = "
   ]
  },
  {
   "cell_type": "code",
   "execution_count": 34,
   "id": "7b9491d1",
   "metadata": {},
   "outputs": [
    {
     "data": {
      "text/plain": [
       "2"
      ]
     },
     "execution_count": 34,
     "metadata": {},
     "output_type": "execute_result"
    }
   ],
   "source": [
    "# C언어나 Java 증감연산자(++, --)를 파이썬은 지원하지 않는다.\n",
    "a = 1\n",
    "# a++ == a = a + 1 <==> a += 1\n",
    "a += 1\n",
    "a"
   ]
  },
  {
   "cell_type": "code",
   "execution_count": 36,
   "id": "68c13e7c",
   "metadata": {},
   "outputs": [
    {
     "data": {
      "text/plain": [
       "9"
      ]
     },
     "execution_count": 36,
     "metadata": {},
     "output_type": "execute_result"
    }
   ],
   "source": [
    "a = 10\n",
    "a -= 1\n",
    "a"
   ]
  },
  {
   "cell_type": "code",
   "execution_count": 38,
   "id": "1e520512",
   "metadata": {},
   "outputs": [
    {
     "data": {
      "text/plain": [
       "6"
      ]
     },
     "execution_count": 38,
     "metadata": {},
     "output_type": "execute_result"
    }
   ],
   "source": [
    "a = 3\n",
    "a *= 2\n",
    "a"
   ]
  },
  {
   "cell_type": "markdown",
   "id": "f1fe880e",
   "metadata": {},
   "source": [
    "## 기본 자료형\n",
    "- 숫자형(수치형) : 정수형과 실수형\n",
    "- 문자형 : \"or\"\n",
    "- 논리형 : T or F"
   ]
  },
  {
   "cell_type": "code",
   "execution_count": 40,
   "id": "74578ab9",
   "metadata": {},
   "outputs": [
    {
     "name": "stdout",
     "output_type": "stream",
     "text": [
      "1 2\n",
      "1.5 2.3\n",
      "Python Hello World\n",
      "True False\n"
     ]
    }
   ],
   "source": [
    "# 정수형(integer Type, int / long)\n",
    "a = 1\n",
    "b = 2\n",
    "print(a, b)\n",
    "\n",
    "# 실수형(floating-point type, float / double)\n",
    "a = 1.5\n",
    "b = 2.3\n",
    "print(a,b)\n",
    "\n",
    "# 문자형(string type, char/string)\n",
    "a = 'Python'\n",
    "b = 'Hello World'\n",
    "print(a, b)\n",
    "\n",
    "# 분린형(boolean type)\n",
    "a = True\n",
    "b = False\n",
    "print(a,b)"
   ]
  },
  {
   "cell_type": "code",
   "execution_count": 41,
   "id": "68d4f14a",
   "metadata": {},
   "outputs": [
    {
     "name": "stdout",
     "output_type": "stream",
     "text": [
      "3\n",
      "12\n"
     ]
    }
   ],
   "source": [
    "# '+' : 산술연산의 의미, 연결연산의 의미\n",
    "print(1 + 2)\n",
    "print('1' + '2')"
   ]
  },
  {
   "cell_type": "markdown",
   "id": "0ecfb320",
   "metadata": {},
   "source": [
    "## 형 변환(Casting)\n",
    "- 자료형을 다른 자료형으로 변경시켜주는 기능\n",
    "- 자동형변환(묵시적형변환, promotion) : 작은 데이터를 큰 공간에 담을 때, 자료의 손실이 없다.\n",
    "- 강제형변환(명시적형변환, casting) : 큰 데이터를 작은 공간에 담을 때, 자료의 손실이 있다."
   ]
  },
  {
   "cell_type": "code",
   "execution_count": 42,
   "id": "04d9c9b1",
   "metadata": {},
   "outputs": [
    {
     "name": "stdout",
     "output_type": "stream",
     "text": [
      "10\n",
      "10.0\n"
     ]
    }
   ],
   "source": [
    "# 정수형과 실수형 간 변환 : float(), int() 함수 사용\n",
    "a = 10\n",
    "print(a)\n",
    "\n",
    "a = float(10)\n",
    "print (a)"
   ]
  },
  {
   "cell_type": "code",
   "execution_count": 43,
   "id": "21078eb7",
   "metadata": {},
   "outputs": [
    {
     "name": "stdout",
     "output_type": "stream",
     "text": [
      "3.3333333333333335\n"
     ]
    }
   ],
   "source": [
    "a = 10\n",
    "b = 3\n",
    "print(a / b)"
   ]
  },
  {
   "cell_type": "code",
   "execution_count": 44,
   "id": "00270ec2",
   "metadata": {},
   "outputs": [
    {
     "name": "stdout",
     "output_type": "stream",
     "text": [
      "17\n",
      "10 7\n"
     ]
    }
   ],
   "source": [
    "# 정수형 < 살수형\n",
    "a = int(10.7)\n",
    "b = int(7.3)\n",
    "print(a + b)\n",
    "print(a, b)"
   ]
  },
  {
   "cell_type": "code",
   "execution_count": 45,
   "id": "58bcbc6a",
   "metadata": {},
   "outputs": [
    {
     "name": "stdout",
     "output_type": "stream",
     "text": [
      "76.3\n",
      "76.3\n"
     ]
    },
    {
     "ename": "TypeError",
     "evalue": "can only concatenate str (not \"float\") to str",
     "output_type": "error",
     "traceback": [
      "\u001b[1;31m---------------------------------------------------------------------------\u001b[0m",
      "\u001b[1;31mTypeError\u001b[0m                                 Traceback (most recent call last)",
      "Input \u001b[1;32mIn [45]\u001b[0m, in \u001b[0;36m<cell line: 6>\u001b[1;34m()\u001b[0m\n\u001b[0;32m      4\u001b[0m \u001b[38;5;28mprint\u001b[39m(a)\n\u001b[0;32m      5\u001b[0m \u001b[38;5;28mprint\u001b[39m(b)\n\u001b[1;32m----> 6\u001b[0m \u001b[38;5;28mprint\u001b[39m(\u001b[43ma\u001b[49m\u001b[43m \u001b[49m\u001b[38;5;241;43m+\u001b[39;49m\u001b[43m \u001b[49m\u001b[43mb\u001b[49m)\n",
      "\u001b[1;31mTypeError\u001b[0m: can only concatenate str (not \"float\") to str"
     ]
    }
   ],
   "source": [
    "# 숫자형과 문자형 간의 변환은 주의가 필요함\n",
    "a = '76.3'\n",
    "b = float(a)\n",
    "print(a)\n",
    "print(b)\n",
    "print(a + b)"
   ]
  },
  {
   "cell_type": "code",
   "execution_count": 46,
   "id": "122e82e0",
   "metadata": {},
   "outputs": [
    {
     "name": "stdout",
     "output_type": "stream",
     "text": [
      "152.6\n"
     ]
    }
   ],
   "source": [
    "print(float(a) + b)"
   ]
  },
  {
   "cell_type": "code",
   "execution_count": 47,
   "id": "59d08a10",
   "metadata": {},
   "outputs": [
    {
     "name": "stdout",
     "output_type": "stream",
     "text": [
      "<class 'int'>\n",
      "<class 'float'>\n",
      "<class 'str'>\n"
     ]
    }
   ],
   "source": [
    "# 자료명 확인 : type()\n",
    "a = int(7.3)\n",
    "b = float(10)\n",
    "c = '10.3'\n",
    "print(type(a))\n",
    "print(type(b))\n",
    "print(type(c))"
   ]
  },
  {
   "cell_type": "markdown",
   "id": "8cefd55e",
   "metadata": {},
   "source": [
    "# 표준 입출력(console input/output)\n",
    "- console : 카보드와 모니터 환경\n",
    "  1. 표준 입력 함수 : input('문자열')\n",
    "  2. 표준 출력 함수 : print('문자열' or 수식 or 서식)"
   ]
  },
  {
   "cell_type": "code",
   "execution_count": 56,
   "id": "37140e6f",
   "metadata": {},
   "outputs": [
    {
     "name": "stdout",
     "output_type": "stream",
     "text": [
      "숫자를 입력하세요 : 5\n",
      "연살결과 :  15\n"
     ]
    }
   ],
   "source": [
    "# 표준 입력 함수 : input()\n",
    "a = input('숫자를 입력하세요 : ')\n",
    "print('연살결과 : ', int(a) + 10)"
   ]
  },
  {
   "cell_type": "code",
   "execution_count": 54,
   "id": "bba9be55",
   "metadata": {},
   "outputs": [
    {
     "name": "stdout",
     "output_type": "stream",
     "text": [
      "<class 'str'>\n"
     ]
    }
   ],
   "source": [
    "print(type(a))"
   ]
  },
  {
   "cell_type": "code",
   "execution_count": 57,
   "id": "243f808f",
   "metadata": {},
   "outputs": [
    {
     "name": "stdout",
     "output_type": "stream",
     "text": [
      "Hello Python!!\n"
     ]
    }
   ],
   "source": [
    "# 표준 출력 함수 ; print('출력내용')\n",
    "print('Hello Python!!')"
   ]
  },
  {
   "cell_type": "code",
   "execution_count": 59,
   "id": "c3de355e",
   "metadata": {},
   "outputs": [
    {
     "name": "stdout",
     "output_type": "stream",
     "text": [
      "best python study\n"
     ]
    }
   ],
   "source": [
    "# 여러개의 문자열을 나열할 때(열거형 연산자: ,)\n",
    "print('best', 'python', 'study')"
   ]
  },
  {
   "cell_type": "code",
   "execution_count": 60,
   "id": "4cd6f0b8",
   "metadata": {},
   "outputs": [
    {
     "name": "stdout",
     "output_type": "stream",
     "text": [
      "bestpythonstudy\n"
     ]
    }
   ],
   "source": [
    "# 연결연산자 : 문자열과 문자열을 연결할 때 사용하는 연산자\n",
    "# 홑따옴표('') 안에 공백 처리\n",
    "print('best ' + 'python ' + 'study')"
   ]
  },
  {
   "cell_type": "code",
   "execution_count": 61,
   "id": "68524a98",
   "metadata": {},
   "outputs": [
    {
     "name": "stdout",
     "output_type": "stream",
     "text": [
      "best:python:study\n"
     ]
    }
   ],
   "source": [
    "# 구분자 : 문자열과 문자열 사이에 특정 문자열을 추가\n",
    "print('best', 'python', 'study', sep=':')"
   ]
  },
  {
   "cell_type": "code",
   "execution_count": 62,
   "id": "9342259f",
   "metadata": {},
   "outputs": [
    {
     "name": "stdout",
     "output_type": "stream",
     "text": [
      "10\n",
      "x =  10\n"
     ]
    }
   ],
   "source": [
    "# 변수를 이용한 출력\n",
    "x = 10\n",
    "print(x)\n",
    "print(\"x = \", x)"
   ]
  },
  {
   "cell_type": "code",
   "execution_count": 63,
   "id": "06b4601b",
   "metadata": {},
   "outputs": [
    {
     "name": "stdout",
     "output_type": "stream",
     "text": [
      "홍길동 33\n"
     ]
    }
   ],
   "source": [
    "name = \"홍길동\"\n",
    "age = 33\n",
    "print(name, age)"
   ]
  },
  {
   "cell_type": "code",
   "execution_count": 64,
   "id": "300f013c",
   "metadata": {},
   "outputs": [
    {
     "name": "stdout",
     "output_type": "stream",
     "text": [
      "홍길동:33\n"
     ]
    }
   ],
   "source": [
    "print(name, age, sep=':')"
   ]
  },
  {
   "cell_type": "code",
   "execution_count": 67,
   "id": "119c904d",
   "metadata": {},
   "outputs": [
    {
     "name": "stdout",
     "output_type": "stream",
     "text": [
      "name = 홍길동 , age = 33\n"
     ]
    }
   ],
   "source": [
    "print('name =', name, ', age =', age)"
   ]
  },
  {
   "cell_type": "code",
   "execution_count": 68,
   "id": "69d0adb0",
   "metadata": {},
   "outputs": [
    {
     "name": "stdout",
     "output_type": "stream",
     "text": [
      "James is my friend.\n",
      "He is Korean.\n"
     ]
    }
   ],
   "source": [
    "# 계행문자('\\n')\n",
    "print('James is my friend.\\nHe is Korean.')"
   ]
  },
  {
   "cell_type": "code",
   "execution_count": 69,
   "id": "1af72369",
   "metadata": {},
   "outputs": [
    {
     "name": "stdout",
     "output_type": "stream",
     "text": [
      "James is my friend.\n",
      "\n",
      "\n",
      "He is Korean.\n"
     ]
    }
   ],
   "source": [
    "print('James is my friend.\\n\\n\\nHe is Korean.')"
   ]
  },
  {
   "cell_type": "code",
   "execution_count": 70,
   "id": "ea609418",
   "metadata": {},
   "outputs": [
    {
     "name": "stdout",
     "output_type": "stream",
     "text": [
      "Welcome to \n",
      "Python World!\n"
     ]
    }
   ],
   "source": [
    "print(\"Welcome to \")\n",
    "print(\"Python World!\")"
   ]
  },
  {
   "cell_type": "code",
   "execution_count": 71,
   "id": "a0715ee1",
   "metadata": {},
   "outputs": [
    {
     "name": "stdout",
     "output_type": "stream",
     "text": [
      "Welcome to Python World!\n"
     ]
    }
   ],
   "source": [
    "# 기본형 end=\"\\n\"\n",
    "print(\"Welcome to \", end=\"\")\n",
    "print(\"Python World!\")"
   ]
  },
  {
   "cell_type": "markdown",
   "id": "8c968fe2",
   "metadata": {},
   "source": [
    "## 형식 지정 출력\n",
    "- 기본형식 print('%type' % data)\n",
    "- 서식(format) : 데이터의 타입이나 자릿수를 지정할 때 사용하는 기호\n",
    "- %s 문자열, %d 정수형, %f 실수형"
   ]
  },
  {
   "cell_type": "code",
   "execution_count": 76,
   "id": "2e43b18c",
   "metadata": {},
   "outputs": [
    {
     "name": "stdout",
     "output_type": "stream",
     "text": [
      "홍길동\n",
      "name = 홍길동\n",
      "당신의 이름은 홍길동입니다.\n",
      "홍길동은 나의 친구입니다.\n"
     ]
    }
   ],
   "source": [
    "name = \"홍길동\"\n",
    "print(name)\n",
    "print(\"name =\", name)\n",
    "print(\"당신의 이름은\", name+\"입니다.\")\n",
    "print(\"%s은 나의 친구입니다.\" % name)"
   ]
  },
  {
   "cell_type": "code",
   "execution_count": null,
   "id": "45c42f8d",
   "metadata": {},
   "outputs": [],
   "source": []
  }
 ],
 "metadata": {
  "kernelspec": {
   "display_name": "Python 3 (ipykernel)",
   "language": "python",
   "name": "python3"
  },
  "language_info": {
   "codemirror_mode": {
    "name": "ipython",
    "version": 3
   },
   "file_extension": ".py",
   "mimetype": "text/x-python",
   "name": "python",
   "nbconvert_exporter": "python",
   "pygments_lexer": "ipython3",
   "version": "3.9.12"
  },
  "toc": {
   "base_numbering": 1,
   "nav_menu": {},
   "number_sections": true,
   "sideBar": true,
   "skip_h1_title": false,
   "title_cell": "Table of Contents",
   "title_sidebar": "Contents",
   "toc_cell": false,
   "toc_position": {
    "height": "calc(100% - 180px)",
    "left": "10px",
    "top": "150px",
    "width": "303.837px"
   },
   "toc_section_display": true,
   "toc_window_display": true
  }
 },
 "nbformat": 4,
 "nbformat_minor": 5
}
