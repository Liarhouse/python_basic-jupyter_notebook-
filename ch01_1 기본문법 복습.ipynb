{
 "cells": [
  {
   "cell_type": "markdown",
   "id": "8a214e80",
   "metadata": {},
   "source": [
    "# 시작하기"
   ]
  },
  {
   "cell_type": "markdown",
   "id": "b375eb63",
   "metadata": {},
   "source": [
    "## 문장과 표현식"
   ]
  },
  {
   "cell_type": "code",
   "execution_count": 1,
   "id": "c9a4f399",
   "metadata": {},
   "outputs": [],
   "source": [
    "# 표현식 : 값을 만들어 내는 코드 => 표현식의 기본식 : 변수 = 상수(리터널)\n",
    "## 변수 = 상수 or 변수 or 수식 or 함수식\n",
    "# 문장 : 표현식이 하나 이상 모인 것\n",
    "## print('Hello World') <==> a = \"Hello World\"\n",
    "# 프로그램 : 문장이 모인 것"
   ]
  },
  {
   "cell_type": "code",
   "execution_count": null,
   "id": "bac7e883",
   "metadata": {},
   "outputs": [],
   "source": [
    "print(\"Hello World\")"
   ]
  },
  {
   "cell_type": "code",
   "execution_count": 2,
   "id": "78319389",
   "metadata": {},
   "outputs": [],
   "source": [
    "# 문자상수 or 문자리터널\n",
    "a = \"Hello World\""
   ]
  },
  {
   "cell_type": "code",
   "execution_count": 3,
   "id": "8689e859",
   "metadata": {},
   "outputs": [
    {
     "data": {
      "text/plain": [
       "'Hello World'"
      ]
     },
     "execution_count": 3,
     "metadata": {},
     "output_type": "execute_result"
    }
   ],
   "source": [
    "a"
   ]
  },
  {
   "cell_type": "code",
   "execution_count": null,
   "id": "a7ef6b54",
   "metadata": {},
   "outputs": [],
   "source": [
    "10 + 20"
   ]
  },
  {
   "cell_type": "code",
   "execution_count": 4,
   "id": "6f2c0840",
   "metadata": {},
   "outputs": [
    {
     "data": {
      "text/plain": [
       "30"
      ]
     },
     "execution_count": 4,
     "metadata": {},
     "output_type": "execute_result"
    }
   ],
   "source": [
    "b = 10 + 20\n",
    "b"
   ]
  },
  {
   "cell_type": "code",
   "execution_count": null,
   "id": "a08fc5cf",
   "metadata": {},
   "outputs": [],
   "source": []
  },
  {
   "cell_type": "markdown",
   "id": "c269253a",
   "metadata": {},
   "source": [
    "## 키워드와 식별자 그리고 주석"
   ]
  },
  {
   "cell_type": "code",
   "execution_count": 6,
   "id": "fbf32021",
   "metadata": {},
   "outputs": [
    {
     "name": "stdout",
     "output_type": "stream",
     "text": [
      "['False', 'None', 'True', '__peg_parser__', 'and', 'as', 'assert', 'async', 'await', 'break', 'class', 'continue', 'def', 'del', 'elif', 'else', 'except', 'finally', 'for', 'from', 'global', 'if', 'import', 'in', 'is', 'lambda', 'nonlocal', 'not', 'or', 'pass', 'raise', 'return', 'try', 'while', 'with', 'yield']\n"
     ]
    }
   ],
   "source": [
    "# 키워드 : 특별한 의미가 부여된 단어, 예약어\n",
    "# 키워드에 목록을 추출 : kwlist 명령어\n",
    "\n",
    "# 외부 라이브러리(패키지, 모듈)를 프로그램에 포함시킬 때\n",
    "import keyword\n",
    "keyword.kwlist\n",
    "print(keyword.kwlist)"
   ]
  },
  {
   "cell_type": "code",
   "execution_count": null,
   "id": "54251828",
   "metadata": {},
   "outputs": [],
   "source": [
    "# 식별자(identifier) == 사용자 정의 규칙 == 명명법\n",
    "## 프로그램 언어에서 이름을 붙일 때 사용하는 단어\n",
    "## 변수명 or 함수명 등 객체명도 포함\n",
    "## 키워드 사용 불가\n",
    "## 영문자(대, 소문자), 숫자(0~9), _(언더바, 밑줄, 언더스코어)만 허용\n",
    "## 시작은 반드시 영문자나 밑줄이 올 수 있다.\n",
    "## 공백은 포함 불가\n",
    "## 의미 있는 단어를 사용하는 것을 권장\n",
    "## 캐멀 케이스 : 대문자로 시작 => 객체(클래스명)\n",
    "## 스네이크 케이스 : 소문자로 시작\n",
    "kor = 100\n",
    "eng = 98\n",
    "math = 88"
   ]
  },
  {
   "cell_type": "code",
   "execution_count": null,
   "id": "306894d6",
   "metadata": {},
   "outputs": [],
   "source": [
    "# 주석(comment) : 프로그램 설명을 담는 구문으로 실행과는 상관 없음\n",
    "print(\"Hello Python\") # 문자열을 출력하라는 의미"
   ]
  },
  {
   "cell_type": "markdown",
   "id": "451d5a57",
   "metadata": {},
   "source": [
    "## 연산자와 자료"
   ]
  },
  {
   "cell_type": "code",
   "execution_count": 7,
   "id": "12c44426",
   "metadata": {},
   "outputs": [
    {
     "data": {
      "text/plain": [
       "9"
      ]
     },
     "execution_count": 7,
     "metadata": {},
     "output_type": "execute_result"
    }
   ],
   "source": [
    "# 연산자(Operation) : 항과 항 사이에 있는 기호로 계산(수식)을 할 때 이용\n",
    "10 - 1"
   ]
  },
  {
   "cell_type": "code",
   "execution_count": 8,
   "id": "90e3aa23",
   "metadata": {},
   "outputs": [],
   "source": [
    "a = 1 + 1"
   ]
  },
  {
   "cell_type": "code",
   "execution_count": 9,
   "id": "afb7f6aa",
   "metadata": {},
   "outputs": [
    {
     "data": {
      "text/plain": [
       "2"
      ]
     },
     "execution_count": 9,
     "metadata": {},
     "output_type": "execute_result"
    }
   ],
   "source": [
    "a"
   ]
  },
  {
   "cell_type": "code",
   "execution_count": 12,
   "id": "82730b0f",
   "metadata": {},
   "outputs": [],
   "source": [
    "b = 10, 20, 30 #packing : 여래개의 값을 하나의 변수에 담는 것"
   ]
  },
  {
   "cell_type": "code",
   "execution_count": 13,
   "id": "27a2b365",
   "metadata": {},
   "outputs": [
    {
     "data": {
      "text/plain": [
       "(10, 20, 30)"
      ]
     },
     "execution_count": 13,
     "metadata": {},
     "output_type": "execute_result"
    }
   ],
   "source": [
    "# tuple(튜플)\n",
    "b"
   ]
  },
  {
   "cell_type": "code",
   "execution_count": 14,
   "id": "fa059327",
   "metadata": {},
   "outputs": [
    {
     "name": "stdout",
     "output_type": "stream",
     "text": [
      "10\n",
      "20\n",
      "30\n"
     ]
    }
   ],
   "source": [
    "x, y, z = b #unpacking : 하나로 묶인 자료를 각각의 변수에 대입하는 것\n",
    "print(x)\n",
    "print(y)\n",
    "print(z)"
   ]
  },
  {
   "cell_type": "code",
   "execution_count": 10,
   "id": "1dbb7731",
   "metadata": {},
   "outputs": [
    {
     "name": "stdout",
     "output_type": "stream",
     "text": [
      "10 20\n"
     ]
    }
   ],
   "source": [
    "a = 10\n",
    "b = 20\n",
    "print(a, b)"
   ]
  },
  {
   "cell_type": "code",
   "execution_count": 11,
   "id": "69cd0900",
   "metadata": {},
   "outputs": [
    {
     "name": "stdout",
     "output_type": "stream",
     "text": [
      "20 10\n"
     ]
    }
   ],
   "source": [
    "a, b = b, a\n",
    "print(a, b)"
   ]
  },
  {
   "cell_type": "markdown",
   "id": "b4e21455",
   "metadata": {},
   "source": [
    "## 표준 출력 함수 print()"
   ]
  },
  {
   "cell_type": "code",
   "execution_count": 15,
   "id": "ff7be43f",
   "metadata": {},
   "outputs": [
    {
     "name": "stdout",
     "output_type": "stream",
     "text": [
      "today\n",
      "one two three\n"
     ]
    }
   ],
   "source": [
    "# 단순히 내용을 출력 print(\"출력할 내용\") or print(출력할 변수)\n",
    "# 여러개의 값을 출력 print(\"내용1\", \"내용2\")\n",
    "print(\"today\")\n",
    "print(\"one\", \"two\", \"three\")"
   ]
  },
  {
   "cell_type": "code",
   "execution_count": 16,
   "id": "5bfa94b6",
   "metadata": {},
   "outputs": [
    {
     "data": {
      "text/plain": [
       "20"
      ]
     },
     "execution_count": 16,
     "metadata": {},
     "output_type": "execute_result"
    }
   ],
   "source": [
    "a"
   ]
  },
  {
   "cell_type": "code",
   "execution_count": 17,
   "id": "73056c7a",
   "metadata": {},
   "outputs": [
    {
     "name": "stdout",
     "output_type": "stream",
     "text": [
      "20\n"
     ]
    }
   ],
   "source": [
    "print(a)"
   ]
  },
  {
   "cell_type": "code",
   "execution_count": 18,
   "id": "abf32063",
   "metadata": {},
   "outputs": [
    {
     "name": "stdout",
     "output_type": "stream",
     "text": [
      "20 (10, 20, 30) 10\n"
     ]
    }
   ],
   "source": [
    "print(a, b, x)"
   ]
  },
  {
   "cell_type": "markdown",
   "id": "6285bf00",
   "metadata": {},
   "source": [
    "## 자료형(기본자료형)과 상수 처리"
   ]
  },
  {
   "cell_type": "code",
   "execution_count": 23,
   "id": "fb71a0c0",
   "metadata": {},
   "outputs": [
    {
     "name": "stdout",
     "output_type": "stream",
     "text": [
      "<class 'bool'>\n"
     ]
    }
   ],
   "source": [
    "#  자료(data) ; 가공이 되지 않은 or 처리가 되지 않은 값\n",
    "# 자료형(data type) : 파이썬 언어에서 제공하는 기본 자료형\n",
    "## 데이터의 크기를 규정해 놓은 예약어\n",
    "### 문자열(string) : \"\" or ''\n",
    "### 숫자(number) : 정수형(int), 실수형(float)\n",
    "### 논리형(boolean) : True or False, 형변환이 불가능\n",
    "# 자료형을 확인하는 함수 : type()\n",
    "a = True\n",
    "print(type(a))"
   ]
  },
  {
   "cell_type": "code",
   "execution_count": 25,
   "id": "bbbc4f2d",
   "metadata": {},
   "outputs": [
    {
     "name": "stdout",
     "output_type": "stream",
     "text": [
      "# 하나만 출력한다.\n",
      "Hello Python Programming.....!\n",
      "\n",
      "# 여러개 출력한다\n",
      "10 20 30 40 50\n",
      "안녕하세요 나는 정말 졸려요\n"
     ]
    }
   ],
   "source": [
    "# 문자열(string)\n",
    "print(\"# 하나만 출력한다.\")\n",
    "print(\"Hello Python Programming.....!\")\n",
    "print() # 개행에 의미 - 단순히 줄바꿈만 처리\n",
    "\n",
    "print(\"# 여러개\"+\" 출력한다\")\n",
    "print(10, 20, 30, 40, 50)\n",
    "print(\"안녕하세요\", \"나는\", \"정말\", \"졸려요\")"
   ]
  },
  {
   "cell_type": "code",
   "execution_count": 26,
   "id": "0a966c79",
   "metadata": {},
   "outputs": [
    {
     "name": "stdout",
     "output_type": "stream",
     "text": [
      "안녕하게요\n"
     ]
    }
   ],
   "source": [
    "print('안녕하세요')"
   ]
  },
  {
   "cell_type": "code",
   "execution_count": 30,
   "id": "e938bb01",
   "metadata": {},
   "outputs": [
    {
     "name": "stdout",
     "output_type": "stream",
     "text": [
      "'안녕하세요'라고 말했습니다.\n"
     ]
    }
   ],
   "source": [
    "# \"안녕하세요\"라고 말했습니다.\n",
    "print(\"'안녕하세요'라고 말했습니다.\")"
   ]
  },
  {
   "cell_type": "code",
   "execution_count": 31,
   "id": "b3c729cd",
   "metadata": {},
   "outputs": [
    {
     "name": "stdout",
     "output_type": "stream",
     "text": [
      "이제는 '배가 고플' 시간이네요\n"
     ]
    }
   ],
   "source": [
    "print(\"이제는 '배가 고플' 시간이네요\")"
   ]
  },
  {
   "cell_type": "code",
   "execution_count": 32,
   "id": "e608cff5",
   "metadata": {},
   "outputs": [
    {
     "name": "stdout",
     "output_type": "stream",
     "text": [
      "\"안녕하세요\"라고 말했습니다.\n"
     ]
    }
   ],
   "source": [
    "# 이스케이프 문자 - \\와 함꼐 조합해서 사용하는 특수한 문자\n",
    "## \\\" : 큰따옴표를 의미\n",
    "## \\' : 작은따옴표를 의미\n",
    "print(\"\\\"안녕하세요\\\"라고 말했습니다.\")"
   ]
  },
  {
   "cell_type": "code",
   "execution_count": 35,
   "id": "0d5fcad5",
   "metadata": {},
   "outputs": [
    {
     "name": "stdout",
     "output_type": "stream",
     "text": [
      "안녕하세요\t안녕하세요\n",
      "안녕하세요\n",
      "안녕하세요\n"
     ]
    }
   ],
   "source": [
    "## \\n : 줄바꿈 의미(개행)\n",
    "## \\t : tap을 의미\n",
    "print(\"안녕하세요\\t안녕하세요\")\n",
    "print(\"안녕하세요\\n안녕하세요\")"
   ]
  },
  {
   "cell_type": "code",
   "execution_count": 36,
   "id": "46c91593",
   "metadata": {},
   "outputs": [
    {
     "name": "stdout",
     "output_type": "stream",
     "text": [
      "\\\n"
     ]
    }
   ],
   "source": [
    "## \\\\\n",
    "print(\"\\\\\")"
   ]
  },
  {
   "cell_type": "code",
   "execution_count": 37,
   "id": "f035af81",
   "metadata": {},
   "outputs": [
    {
     "data": {
      "text/plain": [
       "'\\n동해물과 백두산이 마르고 닳도록\\n하느님이 보우하사 우리나라 만세\\n무궁화 삼천리 화려강산 대한사람\\n대한으로 길이 보전하세\\n'"
      ]
     },
     "execution_count": 37,
     "metadata": {},
     "output_type": "execute_result"
    }
   ],
   "source": [
    "\"\"\"\n",
    "동해물과 백두산이 마르고 닳도록\n",
    "하느님이 보우하사 우리나라 만세\n",
    "무궁화 삼천리 화려강산 대한사람\n",
    "대한으로 길이 보전하세\n",
    "\"\"\""
   ]
  },
  {
   "cell_type": "code",
   "execution_count": 38,
   "id": "da7b5b4f",
   "metadata": {},
   "outputs": [
    {
     "data": {
      "text/plain": [
       "'\\n동해물과 백두산이 마르고 닳도록\\n하느님이 보우하사 우리나라 만세\\n무궁화 삼천리 화려강산 대한사람\\n대한으로 길이 보전하세\\n'"
      ]
     },
     "execution_count": 38,
     "metadata": {},
     "output_type": "execute_result"
    }
   ],
   "source": [
    "'''\n",
    "동해물과 백두산이 마르고 닳도록\n",
    "하느님이 보우하사 우리나라 만세\n",
    "무궁화 삼천리 화려강산 대한사람\n",
    "대한으로 길이 보전하세\n",
    "'''"
   ]
  },
  {
   "cell_type": "code",
   "execution_count": null,
   "id": "921afe5c",
   "metadata": {},
   "outputs": [],
   "source": [
    "# 여러 줄 주석 처리 : 블럭처리(ctrl + /)\n",
    "# 동해물과 백두산이 마르고 닳도록\n",
    "# 하느님이 보우하사 우리나라 만세\n",
    "# 무궁화 삼천리 화려강산 대한사람\n",
    "# 대한으로 길이 보전하세"
   ]
  },
  {
   "cell_type": "markdown",
   "id": "1c5be390",
   "metadata": {},
   "source": [
    "#### 문자열 처리"
   ]
  },
  {
   "cell_type": "code",
   "execution_count": 39,
   "id": "356bfe8f",
   "metadata": {},
   "outputs": [],
   "source": [
    "# 문자열 연결 연산자 : +"
   ]
  },
  {
   "cell_type": "code",
   "execution_count": 40,
   "id": "ed3ee101",
   "metadata": {},
   "outputs": [],
   "source": [
    "# 인덱싱 : 문자열의 특정 위치값 선택, [위치값]\n",
    "# 인덱스의 시작은 0부터\n",
    "a = \"안녕하세요\""
   ]
  },
  {
   "cell_type": "code",
   "execution_count": 41,
   "id": "5fdc5856",
   "metadata": {},
   "outputs": [
    {
     "data": {
      "text/plain": [
       "'녕'"
      ]
     },
     "execution_count": 41,
     "metadata": {},
     "output_type": "execute_result"
    }
   ],
   "source": [
    "a[1]"
   ]
  },
  {
   "cell_type": "code",
   "execution_count": 42,
   "id": "9127e964",
   "metadata": {},
   "outputs": [
    {
     "data": {
      "text/plain": [
       "'하'"
      ]
     },
     "execution_count": 42,
     "metadata": {},
     "output_type": "execute_result"
    }
   ],
   "source": [
    "a[2]"
   ]
  },
  {
   "cell_type": "code",
   "execution_count": 43,
   "id": "2c229a7d",
   "metadata": {},
   "outputs": [
    {
     "data": {
      "text/plain": [
       "'안'"
      ]
     },
     "execution_count": 43,
     "metadata": {},
     "output_type": "execute_result"
    }
   ],
   "source": [
    "a[0]"
   ]
  },
  {
   "cell_type": "code",
   "execution_count": 44,
   "id": "8fce03c1",
   "metadata": {},
   "outputs": [
    {
     "data": {
      "text/plain": [
       "'세'"
      ]
     },
     "execution_count": 44,
     "metadata": {},
     "output_type": "execute_result"
    }
   ],
   "source": [
    "a[3]"
   ]
  },
  {
   "cell_type": "code",
   "execution_count": 45,
   "id": "612b0178",
   "metadata": {},
   "outputs": [
    {
     "data": {
      "text/plain": [
       "'요'"
      ]
     },
     "execution_count": 45,
     "metadata": {},
     "output_type": "execute_result"
    }
   ],
   "source": [
    "a[4]"
   ]
  },
  {
   "cell_type": "code",
   "execution_count": 47,
   "id": "1a420b03",
   "metadata": {},
   "outputs": [
    {
     "data": {
      "text/plain": [
       "'요세하녕안'"
      ]
     },
     "execution_count": 47,
     "metadata": {},
     "output_type": "execute_result"
    }
   ],
   "source": [
    "a[-1] + a[-2] + a[-3] + a[-4] + a[-5]"
   ]
  },
  {
   "cell_type": "code",
   "execution_count": 48,
   "id": "88be4038",
   "metadata": {},
   "outputs": [
    {
     "data": {
      "text/plain": [
       "'안녕하세요'"
      ]
     },
     "execution_count": 48,
     "metadata": {},
     "output_type": "execute_result"
    }
   ],
   "source": [
    "# 문자열의 일부분(범위)을 선택 : 슬라이싱[start:end], end-1 만큼 처리\n",
    "a"
   ]
  },
  {
   "cell_type": "code",
   "execution_count": 50,
   "id": "bfafde00",
   "metadata": {},
   "outputs": [
    {
     "data": {
      "text/plain": [
       "'안녕하세요'"
      ]
     },
     "execution_count": 50,
     "metadata": {},
     "output_type": "execute_result"
    }
   ],
   "source": [
    "a[0:5]"
   ]
  },
  {
   "cell_type": "code",
   "execution_count": 51,
   "id": "99f36df0",
   "metadata": {},
   "outputs": [
    {
     "data": {
      "text/plain": [
       "'안녕하세'"
      ]
     },
     "execution_count": 51,
     "metadata": {},
     "output_type": "execute_result"
    }
   ],
   "source": [
    "a[0:4]"
   ]
  },
  {
   "cell_type": "code",
   "execution_count": 52,
   "id": "3e8da8fc",
   "metadata": {},
   "outputs": [
    {
     "data": {
      "text/plain": [
       "'녕하세'"
      ]
     },
     "execution_count": 52,
     "metadata": {},
     "output_type": "execute_result"
    }
   ],
   "source": [
    "a[1:4]"
   ]
  },
  {
   "cell_type": "markdown",
   "id": "da8c61d0",
   "metadata": {},
   "source": [
    "# 변수와 배정대입연산자"
   ]
  },
  {
   "cell_type": "code",
   "execution_count": 53,
   "id": "d4384515",
   "metadata": {},
   "outputs": [],
   "source": [
    "# 변수(variable) : 값을 저장하는 식별자, 기억공간\n",
    "pi = 3.14159265"
   ]
  },
  {
   "cell_type": "code",
   "execution_count": 54,
   "id": "98c14f4e",
   "metadata": {},
   "outputs": [
    {
     "data": {
      "text/plain": [
       "float"
      ]
     },
     "execution_count": 54,
     "metadata": {},
     "output_type": "execute_result"
    }
   ],
   "source": [
    "type(pi)"
   ]
  },
  {
   "cell_type": "code",
   "execution_count": 55,
   "id": "b5aef706",
   "metadata": {},
   "outputs": [
    {
     "data": {
      "text/plain": [
       "3.14"
      ]
     },
     "execution_count": 55,
     "metadata": {},
     "output_type": "execute_result"
    }
   ],
   "source": [
    "pi = 3.14\n",
    "pi"
   ]
  },
  {
   "cell_type": "code",
   "execution_count": 56,
   "id": "77413c0b",
   "metadata": {},
   "outputs": [
    {
     "data": {
      "text/plain": [
       "6.28"
      ]
     },
     "execution_count": 56,
     "metadata": {},
     "output_type": "execute_result"
    }
   ],
   "source": [
    "pi + pi"
   ]
  },
  {
   "cell_type": "code",
   "execution_count": 57,
   "id": "206eae75",
   "metadata": {},
   "outputs": [
    {
     "data": {
      "text/plain": [
       "6.28"
      ]
     },
     "execution_count": 57,
     "metadata": {},
     "output_type": "execute_result"
    }
   ],
   "source": [
    "pi * 2"
   ]
  },
  {
   "cell_type": "code",
   "execution_count": 58,
   "id": "449bcfda",
   "metadata": {},
   "outputs": [
    {
     "data": {
      "text/plain": [
       "1.57"
      ]
     },
     "execution_count": 58,
     "metadata": {},
     "output_type": "execute_result"
    }
   ],
   "source": [
    "pi / 2"
   ]
  },
  {
   "cell_type": "code",
   "execution_count": 63,
   "id": "0996aa8f",
   "metadata": {},
   "outputs": [
    {
     "name": "stdout",
     "output_type": "stream",
     "text": [
      "원주율 =  3.141592653589793\n",
      "반지름 =  10\n",
      "원의 둘레 =  62.83185307179586\n",
      "원의 면적 =  314.1592653589793\n"
     ]
    }
   ],
   "source": [
    "# 원의 둘레와 면적을 계산하여 출력하는 프로그램\n",
    "# 변수의 선언과 할당 - 초기화 or 선언문\n",
    "import math\n",
    "math.pi\n",
    "pi = 3.14159265\n",
    "r = 10\n",
    "#변수 참조\n",
    "print(\"원주율 = \", math.pi)\n",
    "print(\"반지름 = \", r)\n",
    "print(\"원의 둘레 = \", 2 * math.pi * r)\n",
    "print(\"원의 면적 = \", math.pi * r **2)"
   ]
  },
  {
   "cell_type": "code",
   "execution_count": 60,
   "id": "801f1fb9",
   "metadata": {},
   "outputs": [
    {
     "data": {
      "text/plain": [
       "10"
      ]
     },
     "execution_count": 60,
     "metadata": {},
     "output_type": "execute_result"
    }
   ],
   "source": [
    "# 배정대입연산자 : 대입연산자와 산술연산자가 결합되어있을 때, 좌변과 우변에 동일변수\n",
    "a = 0\n",
    "a = a + 10\n",
    "a"
   ]
  },
  {
   "cell_type": "code",
   "execution_count": 61,
   "id": "9b538270",
   "metadata": {},
   "outputs": [
    {
     "data": {
      "text/plain": [
       "20"
      ]
     },
     "execution_count": 61,
     "metadata": {},
     "output_type": "execute_result"
    }
   ],
   "source": [
    "a += 10 # +=, -=, *=, /=, %=, **=\n",
    "a"
   ]
  },
  {
   "cell_type": "code",
   "execution_count": 67,
   "id": "86de59c2",
   "metadata": {},
   "outputs": [],
   "source": [
    "string = \"안녕하세요\"\n",
    "string = string + \"!\""
   ]
  },
  {
   "cell_type": "code",
   "execution_count": 66,
   "id": "02c15c86",
   "metadata": {},
   "outputs": [
    {
     "data": {
      "text/plain": [
       "'안녕하세요!!!'"
      ]
     },
     "execution_count": 66,
     "metadata": {},
     "output_type": "execute_result"
    }
   ],
   "source": [
    "string += \"!\"\n",
    "string"
   ]
  },
  {
   "cell_type": "code",
   "execution_count": 68,
   "id": "b8850e14",
   "metadata": {},
   "outputs": [
    {
     "data": {
      "text/plain": [
       "'안녕하세요!안녕하세요!안녕하세요!'"
      ]
     },
     "execution_count": 68,
     "metadata": {},
     "output_type": "execute_result"
    }
   ],
   "source": [
    "string *= 3\n",
    "string"
   ]
  },
  {
   "cell_type": "markdown",
   "id": "c7aee9ce",
   "metadata": {},
   "source": [
    "# 표준 입출력 함수 : 콘솔 환경 입출력\n",
    "- 콘솔(console): 키보드와 모니터\n",
    "- 표준 입력 함수 : input()\n",
    "- 표준 출력 함수 : print()"
   ]
  },
  {
   "cell_type": "code",
   "execution_count": 69,
   "id": "f11b1520",
   "metadata": {},
   "outputs": [
    {
     "name": "stdout",
     "output_type": "stream",
     "text": [
      "인사말을 입력하세요 :뭘봐 !\n"
     ]
    },
    {
     "data": {
      "text/plain": [
       "'뭘봐 !'"
      ]
     },
     "execution_count": 69,
     "metadata": {},
     "output_type": "execute_result"
    }
   ],
   "source": [
    "input(\"인사말을 입력하세요 :\")"
   ]
  },
  {
   "cell_type": "code",
   "execution_count": 70,
   "id": "41ae53ee",
   "metadata": {},
   "outputs": [
    {
     "name": "stdout",
     "output_type": "stream",
     "text": [
      "인사말을 입력하세요 :꺼져\n"
     ]
    }
   ],
   "source": [
    "string = input(\"인사말을 입력하세요 :\")"
   ]
  },
  {
   "cell_type": "code",
   "execution_count": 71,
   "id": "36307077",
   "metadata": {},
   "outputs": [
    {
     "data": {
      "text/plain": [
       "'꺼져'"
      ]
     },
     "execution_count": 71,
     "metadata": {},
     "output_type": "execute_result"
    }
   ],
   "source": [
    "string"
   ]
  },
  {
   "cell_type": "code",
   "execution_count": 74,
   "id": "322a72b9",
   "metadata": {},
   "outputs": [
    {
     "name": "stdout",
     "output_type": "stream",
     "text": [
      "첫번째수 = 10\n",
      "두번째수 = 20\n",
      "더하기 :  30\n"
     ]
    }
   ],
   "source": [
    "# 두 개의 숫자를 입력받아 사칙연산을 출력하는 프로그램을 구현하시오.\n",
    "first = int(input(\"첫번째수 = \"))\n",
    "second = int(input(\"두번째수 = \"))\n",
    "\n",
    "print(\"합 : \", first + second)"
   ]
  },
  {
   "cell_type": "code",
   "execution_count": 73,
   "id": "003aad00",
   "metadata": {},
   "outputs": [
    {
     "name": "stdout",
     "output_type": "stream",
     "text": [
      "첫번째수 = 10\n",
      "두번째수 = 20\n",
      "더하기 :  1020\n"
     ]
    }
   ],
   "source": [
    "first = input(\"첫번째수 = \")\n",
    "second = input(\"두번째수 = \")\n",
    "\n",
    "print(\"합 : \", first + second)"
   ]
  },
  {
   "cell_type": "markdown",
   "id": "deba5019",
   "metadata": {},
   "source": [
    "# 형변환 : casting\n",
    "- 자료형을 다른 자료형으로 바꾸는 기능\n",
    "- 논리형(1byte) : 형변환 불가능\n",
    "- 정수형 < 실수형 < 문자형\n",
    "- 자동형변환(묵시적형변환, promotion) : 작은 자료형을 큰 자료형에 담을 때\n",
    "- 강제형변환(명시적형변환, casting) : 큰 자료형을 작은 자료형에 담을 때\n",
    "- int() : 문자열을 정수형으로 변환, 실수형을 정수형으로 변환\n",
    "- float() : 문자열을 실수형으로 변환, 정수형을 실수형으로 변환\n",
    "- str() : 정수 또는 실수형을 문자형으로 변환"
   ]
  },
  {
   "cell_type": "code",
   "execution_count": 75,
   "id": "3e38e56c",
   "metadata": {},
   "outputs": [
    {
     "data": {
      "text/plain": [
       "1987"
      ]
     },
     "execution_count": 75,
     "metadata": {},
     "output_type": "execute_result"
    }
   ],
   "source": [
    "int(\"1987\")"
   ]
  },
  {
   "cell_type": "code",
   "execution_count": 76,
   "id": "83dfb0c1",
   "metadata": {},
   "outputs": [
    {
     "data": {
      "text/plain": [
       "52.273"
      ]
     },
     "execution_count": 76,
     "metadata": {},
     "output_type": "execute_result"
    }
   ],
   "source": [
    "float(\"52.273\")"
   ]
  },
  {
   "cell_type": "code",
   "execution_count": 89,
   "id": "77bc4978",
   "metadata": {},
   "outputs": [
    {
     "name": "stdout",
     "output_type": "stream",
     "text": [
      "변환할 inch 값을 입력하시오. : 15\n",
      "변환된 cm :  38.1cm\n"
     ]
    }
   ],
   "source": [
    "# 단위변환 inch 단위를 cm 단위로 변환하는 프로그램을 구현하시오.\n",
    "## 1inch = 2.54cm\n",
    "a = float(input(\"변환할 inch 값을 입력하시오. : \"))\n",
    "print(\"변환된 cm : \", str(a*2.54)+\"cm\")"
   ]
  },
  {
   "cell_type": "code",
   "execution_count": 84,
   "id": "71190411",
   "metadata": {},
   "outputs": [
    {
     "name": "stdout",
     "output_type": "stream",
     "text": [
      "초를 입력하시오. : 7000\n",
      "1 시간 56 분 40 초\n"
     ]
    }
   ],
   "source": [
    "# 초를 입력받아 시, 분, 초로 출력되는 프로그램을 구현하시오.\n",
    "a = int(input(\"초를 입력하시오. : \"))\n",
    "b = a // 3600\n",
    "c = (a % 3600) // 60\n",
    "d = (a % 3600) % 60\n",
    "print(b, \"시간\", c, \"분\", d, \"초\")"
   ]
  },
  {
   "cell_type": "code",
   "execution_count": 93,
   "id": "131f1ade",
   "metadata": {},
   "outputs": [
    {
     "name": "stdout",
     "output_type": "stream",
     "text": [
      "원의 반지름을 입력하시오 : d\n"
     ]
    },
    {
     "ename": "ValueError",
     "evalue": "could not convert string to float: 'd'",
     "output_type": "error",
     "traceback": [
      "\u001b[1;31m---------------------------------------------------------------------------\u001b[0m",
      "\u001b[1;31mValueError\u001b[0m                                Traceback (most recent call last)",
      "Input \u001b[1;32mIn [93]\u001b[0m, in \u001b[0;36m<cell line: 3>\u001b[1;34m()\u001b[0m\n\u001b[0;32m      1\u001b[0m \u001b[38;5;66;03m# 원의 반지름을 입력받아 원의 둘레와 면적을 구하는 프로그램을 작성하시오.\u001b[39;00m\n\u001b[0;32m      2\u001b[0m \u001b[38;5;28;01mimport\u001b[39;00m \u001b[38;5;21;01mmath\u001b[39;00m\n\u001b[1;32m----> 3\u001b[0m r \u001b[38;5;241m=\u001b[39m \u001b[38;5;28;43mfloat\u001b[39;49m\u001b[43m(\u001b[49m\u001b[38;5;28;43minput\u001b[39;49m\u001b[43m(\u001b[49m\u001b[38;5;124;43m\"\u001b[39;49m\u001b[38;5;124;43m원의 반지름을 입력하시오 : \u001b[39;49m\u001b[38;5;124;43m\"\u001b[39;49m\u001b[43m)\u001b[49m\u001b[43m)\u001b[49m\n\u001b[0;32m      4\u001b[0m \u001b[38;5;28mprint\u001b[39m(\u001b[38;5;124m\"\u001b[39m\u001b[38;5;124m원의 둘레 :\u001b[39m\u001b[38;5;124m\"\u001b[39m, \u001b[38;5;241m2\u001b[39m \u001b[38;5;241m*\u001b[39m math\u001b[38;5;241m.\u001b[39mpi \u001b[38;5;241m*\u001b[39m r)\n\u001b[0;32m      5\u001b[0m \u001b[38;5;28mprint\u001b[39m(\u001b[38;5;124m\"\u001b[39m\u001b[38;5;124m원의 면적 :\u001b[39m\u001b[38;5;124m\"\u001b[39m, r \u001b[38;5;241m*\u001b[39m r \u001b[38;5;241m*\u001b[39m math\u001b[38;5;241m.\u001b[39mpi)\n",
      "\u001b[1;31mValueError\u001b[0m: could not convert string to float: 'd'"
     ]
    }
   ],
   "source": [
    "# 원의 반지름을 입력받아 원의 둘레와 면적을 구하는 프로그램을 작성하시오.\n",
    "import math\n",
    "r = float(input(\"원의 반지름을 입력하시오 : \"))\n",
    "print(\"원의 둘레 :\", 2 * math.pi * r)\n",
    "print(\"원의 면적 :\", r * r * math.pi)"
   ]
  },
  {
   "cell_type": "markdown",
   "id": "314d159c",
   "metadata": {},
   "source": [
    "# 표준 출력 함수와 서식"
   ]
  },
  {
   "cell_type": "code",
   "execution_count": 96,
   "id": "c8874dec",
   "metadata": {},
   "outputs": [
    {
     "name": "stdout",
     "output_type": "stream",
     "text": [
      "Help on method raw_input in module ipykernel.kernelbase:\n",
      "\n",
      "raw_input(prompt='') method of ipykernel.ipkernel.IPythonKernel instance\n",
      "    Forward raw_input to frontends\n",
      "    \n",
      "    Raises\n",
      "    ------\n",
      "    StdinNotImplementedError if active frontend doesn't support stdin.\n",
      "\n"
     ]
    }
   ],
   "source": [
    "#도움말 : help()\n",
    "help(input)"
   ]
  },
  {
   "cell_type": "code",
   "execution_count": 98,
   "id": "a020aa4e",
   "metadata": {},
   "outputs": [
    {
     "name": "stdout",
     "output_type": "stream",
     "text": [
      "9\n",
      "x =  9\n",
      "x = 9\n",
      "x =  9 y =  20\n",
      "x = 9, y = 20\n"
     ]
    }
   ],
   "source": [
    "x = 9\n",
    "# 형식화된 문자열.format(출력할 값)\n",
    "print(x)\n",
    "print(\"x = \", x)\n",
    "print(\"x = {0}\".format(x))\n",
    "print(\"x = \", x, \"y = \", y)\n",
    "print(\"x = {0}, y = {1}\".format(x,y))"
   ]
  },
  {
   "cell_type": "code",
   "execution_count": 102,
   "id": "a517f479",
   "metadata": {},
   "outputs": [
    {
     "name": "stdout",
     "output_type": "stream",
     "text": [
      "실수 1: 3.074\n",
      "실수 2: 7.3\n",
      "실수 3: 2.67\n",
      "실수 4:     2.6667\n"
     ]
    }
   ],
   "source": [
    "# 서식기호와 함께 : %s(문자열), %d(정수형), %f(실수형)\n",
    "print(\"실수 1: {0:.3f}\".format(8.3/2.7)) # 소수 이하 3자리까지\n",
    "xx = 2.5 + 4.8\n",
    "print(\"실수 2: {0:.1f}\".format(xx)) # 소수 이하 1자리\n",
    "r = 8 / 3\n",
    "print(\"실수 3: {0:.2f}\".format(r))\n",
    "# 전체자릿수도 지정\n",
    "print(\"실수 4: {0:10.4f}\".format(8.0/3))"
   ]
  },
  {
   "cell_type": "code",
   "execution_count": 103,
   "id": "59e12aad",
   "metadata": {},
   "outputs": [
    {
     "data": {
      "text/plain": [
       "'10'"
      ]
     },
     "execution_count": 103,
     "metadata": {},
     "output_type": "execute_result"
    }
   ],
   "source": [
    "# 문자열의 format() 함수\n",
    "\"{}\".format(10)"
   ]
  },
  {
   "cell_type": "code",
   "execution_count": 104,
   "id": "91e70e57",
   "metadata": {},
   "outputs": [
    {
     "data": {
      "text/plain": [
       "'10 20'"
      ]
     },
     "execution_count": 104,
     "metadata": {},
     "output_type": "execute_result"
    }
   ],
   "source": [
    "\"{} {}\".format(10, 20)"
   ]
  },
  {
   "cell_type": "code",
   "execution_count": 107,
   "id": "b33c76b7",
   "metadata": {},
   "outputs": [],
   "source": [
    "aa = \"{0:d}\".format(10)"
   ]
  },
  {
   "cell_type": "code",
   "execution_count": 108,
   "id": "ee4a3e8a",
   "metadata": {},
   "outputs": [
    {
     "data": {
      "text/plain": [
       "'   10'"
      ]
     },
     "execution_count": 108,
     "metadata": {},
     "output_type": "execute_result"
    }
   ],
   "source": [
    "aa = \"{0:5d}\".format(10)\n",
    "aa"
   ]
  },
  {
   "cell_type": "code",
   "execution_count": 109,
   "id": "2cf835e0",
   "metadata": {},
   "outputs": [
    {
     "data": {
      "text/plain": [
       "'        10'"
      ]
     },
     "execution_count": 109,
     "metadata": {},
     "output_type": "execute_result"
    }
   ],
   "source": [
    "aa = \"{0:10d}\".format(10)\n",
    "aa"
   ]
  },
  {
   "cell_type": "code",
   "execution_count": 111,
   "id": "3abf5894",
   "metadata": {},
   "outputs": [
    {
     "data": {
      "text/plain": [
       "'     +12.345670'"
      ]
     },
     "execution_count": 111,
     "metadata": {},
     "output_type": "execute_result"
    }
   ],
   "source": [
    "bb = \"{:+15f}\".format(12.34567)\n",
    "bb"
   ]
  },
  {
   "cell_type": "code",
   "execution_count": 117,
   "id": "5959db2a",
   "metadata": {},
   "outputs": [
    {
     "data": {
      "text/plain": [
       "'-0000012.345670'"
      ]
     },
     "execution_count": 117,
     "metadata": {},
     "output_type": "execute_result"
    }
   ],
   "source": [
    "bb = \"{:015f}\".format(-12.34567)\n",
    "bb"
   ]
  },
  {
   "cell_type": "code",
   "execution_count": 113,
   "id": "0ccef4bd",
   "metadata": {},
   "outputs": [
    {
     "data": {
      "text/plain": [
       "'          12.35'"
      ]
     },
     "execution_count": 113,
     "metadata": {},
     "output_type": "execute_result"
    }
   ],
   "source": [
    "bb = \"{:15.2f}\".format(12.34567)\n",
    "bb"
   ]
  },
  {
   "cell_type": "code",
   "execution_count": 114,
   "id": "dd046ddf",
   "metadata": {},
   "outputs": [
    {
     "data": {
      "text/plain": [
       "'           12.3'"
      ]
     },
     "execution_count": 114,
     "metadata": {},
     "output_type": "execute_result"
    }
   ],
   "source": [
    "bb = \"{:15.1f}\".format(12.34567)\n",
    "bb"
   ]
  },
  {
   "cell_type": "markdown",
   "id": "99e22943",
   "metadata": {},
   "source": [
    "### 표준 출력 함수 : print(\"문자열 or 서식\")\n",
    "- 서식(format) : 데이터의 자료형과 데이터의 자릿수를 지정하는 형식\n",
    "- 열거연산자(,)\n",
    "- sep 매배변수 : print(\"출력내용\", \"출력내용\", sep\"-\")\n",
    "- end = \"\\n\"\n",
    "- %(나머지연산자)를 이용해서 형식 및 위치 지정"
   ]
  },
  {
   "cell_type": "code",
   "execution_count": 119,
   "id": "004cfab5",
   "metadata": {},
   "outputs": [
    {
     "name": "stdout",
     "output_type": "stream",
     "text": [
      "출력내용 출력내용\n"
     ]
    }
   ],
   "source": [
    "print(\"출력내용\", \"출력내용\")"
   ]
  },
  {
   "cell_type": "code",
   "execution_count": 120,
   "id": "2429c65b",
   "metadata": {},
   "outputs": [
    {
     "data": {
      "text/plain": [
       "'12.345 7.25'"
      ]
     },
     "execution_count": 120,
     "metadata": {},
     "output_type": "execute_result"
    }
   ],
   "source": [
    "# 형식지정문자열을 이용해서 출력 위치 지정 : \"\".format()\n",
    "# string.format()\n",
    "bb = \"{0} {1}\".format(12.345, 7.25)\n",
    "bb"
   ]
  },
  {
   "cell_type": "code",
   "execution_count": 121,
   "id": "79555155",
   "metadata": {},
   "outputs": [
    {
     "name": "stdout",
     "output_type": "stream",
     "text": [
      "홍길동 33 187.45\n"
     ]
    }
   ],
   "source": [
    "# %기호 : %s(문자열), %d(정수형), %f(실수형)\n",
    "name = \"홍길동\"\n",
    "age = 33\n",
    "height = 187.45\n",
    "\n",
    "print(name, age, height)"
   ]
  },
  {
   "cell_type": "code",
   "execution_count": 122,
   "id": "ce0994c7",
   "metadata": {},
   "outputs": [
    {
     "name": "stdout",
     "output_type": "stream",
     "text": [
      "나이 : 33세\n"
     ]
    }
   ],
   "source": [
    "print(\"나이 : \", age, \"세\", sep=\"\")"
   ]
  },
  {
   "cell_type": "code",
   "execution_count": 123,
   "id": "99b0e2fc",
   "metadata": {},
   "outputs": [
    {
     "name": "stdout",
     "output_type": "stream",
     "text": [
      "나이 : 33세\n"
     ]
    }
   ],
   "source": [
    "print(\"나이 : {}세\".format(age))"
   ]
  },
  {
   "cell_type": "code",
   "execution_count": 125,
   "id": "caacbc55",
   "metadata": {},
   "outputs": [
    {
     "name": "stdout",
     "output_type": "stream",
     "text": [
      "나이 : 33세\n"
     ]
    }
   ],
   "source": [
    "print(\"나이 : %d세\" % age)"
   ]
  },
  {
   "cell_type": "code",
   "execution_count": 126,
   "id": "f32b11df",
   "metadata": {},
   "outputs": [
    {
     "name": "stdout",
     "output_type": "stream",
     "text": [
      "홍길동\n"
     ]
    }
   ],
   "source": [
    "print(name)"
   ]
  },
  {
   "cell_type": "code",
   "execution_count": 127,
   "id": "61776ce8",
   "metadata": {},
   "outputs": [
    {
     "name": "stdout",
     "output_type": "stream",
     "text": [
      "홍길동 은 내 친구\n"
     ]
    }
   ],
   "source": [
    "print(name, \"은 내 친구\")"
   ]
  },
  {
   "cell_type": "code",
   "execution_count": 128,
   "id": "27819cdc",
   "metadata": {},
   "outputs": [
    {
     "name": "stdout",
     "output_type": "stream",
     "text": [
      "홍길동은 내 친구\n"
     ]
    }
   ],
   "source": [
    "print(name+\"은 내 친구\")"
   ]
  },
  {
   "cell_type": "code",
   "execution_count": 129,
   "id": "c3c9c416",
   "metadata": {},
   "outputs": [
    {
     "name": "stdout",
     "output_type": "stream",
     "text": [
      "홍길동       은 내 친구\n"
     ]
    }
   ],
   "source": [
    "print(\"{:10s}은 내 친구\".format(name))"
   ]
  },
  {
   "cell_type": "code",
   "execution_count": 130,
   "id": "df6ae905",
   "metadata": {},
   "outputs": [
    {
     "name": "stdout",
     "output_type": "stream",
     "text": [
      "홍길동은 내 친구\n"
     ]
    }
   ],
   "source": [
    "print(\"%s은 내 친구\" % name)"
   ]
  },
  {
   "cell_type": "code",
   "execution_count": 131,
   "id": "58827336",
   "metadata": {},
   "outputs": [
    {
     "name": "stdout",
     "output_type": "stream",
     "text": [
      "당첨확률 98%입니다.\n"
     ]
    }
   ],
   "source": [
    "rate = 98\n",
    "print(\"당첨확률 {}%입니다.\".format(rate))"
   ]
  },
  {
   "cell_type": "code",
   "execution_count": 132,
   "id": "3f8681ef",
   "metadata": {},
   "outputs": [
    {
     "name": "stdout",
     "output_type": "stream",
     "text": [
      "당첨확률  98 %입니다.\n"
     ]
    }
   ],
   "source": [
    "print(\"당첨확률 \", rate, \"%입니다.\")"
   ]
  },
  {
   "cell_type": "code",
   "execution_count": 133,
   "id": "0156e383",
   "metadata": {},
   "outputs": [
    {
     "name": "stdout",
     "output_type": "stream",
     "text": [
      "당첨확률은 98%입니다.\n"
     ]
    }
   ],
   "source": [
    "print(\"당첨확률은 %d%%입니다.\" % (rate))"
   ]
  },
  {
   "cell_type": "code",
   "execution_count": 134,
   "id": "3996264e",
   "metadata": {},
   "outputs": [
    {
     "name": "stdout",
     "output_type": "stream",
     "text": [
      "원주율 :       3.14\n"
     ]
    }
   ],
   "source": [
    "pi = 3.1441592\n",
    "print(\"원주율 : %10.2f\" % pi)"
   ]
  },
  {
   "cell_type": "code",
   "execution_count": 135,
   "id": "3453ca0a",
   "metadata": {},
   "outputs": [
    {
     "name": "stdout",
     "output_type": "stream",
     "text": [
      "원주율 : 3.14\n"
     ]
    }
   ],
   "source": [
    "print(\"원주율 : %.2f\" % pi)"
   ]
  },
  {
   "cell_type": "code",
   "execution_count": null,
   "id": "25d17f40",
   "metadata": {},
   "outputs": [],
   "source": []
  }
 ],
 "metadata": {
  "kernelspec": {
   "display_name": "Python 3 (ipykernel)",
   "language": "python",
   "name": "python3"
  },
  "language_info": {
   "codemirror_mode": {
    "name": "ipython",
    "version": 3
   },
   "file_extension": ".py",
   "mimetype": "text/x-python",
   "name": "python",
   "nbconvert_exporter": "python",
   "pygments_lexer": "ipython3",
   "version": "3.9.12"
  },
  "toc": {
   "base_numbering": 1,
   "nav_menu": {},
   "number_sections": true,
   "sideBar": true,
   "skip_h1_title": false,
   "title_cell": "Table of Contents",
   "title_sidebar": "Contents",
   "toc_cell": false,
   "toc_position": {},
   "toc_section_display": true,
   "toc_window_display": true
  }
 },
 "nbformat": 4,
 "nbformat_minor": 5
}
