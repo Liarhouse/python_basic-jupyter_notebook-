{
 "cells": [
  {
   "cell_type": "code",
   "execution_count": 1,
   "id": "6222e5cc",
   "metadata": {},
   "outputs": [
    {
     "name": "stdout",
     "output_type": "stream",
     "text": [
      "안녕하세요\n"
     ]
    }
   ],
   "source": [
    "# 대소문자 변환 함수 : upper()와 lower()\n",
    "# 모든 것을 객체로 간주한다.\n",
    "print(\"안녕하세요\")\n",
    "\n",
    "love = print"
   ]
  },
  {
   "cell_type": "code",
   "execution_count": 2,
   "id": "8479c1e6",
   "metadata": {},
   "outputs": [
    {
     "data": {
      "text/plain": [
       "'Hello Python Programming...'"
      ]
     },
     "execution_count": 2,
     "metadata": {},
     "output_type": "execute_result"
    }
   ],
   "source": [
    "string = \"Hello Python Programming...\"\n",
    "string"
   ]
  },
  {
   "cell_type": "code",
   "execution_count": 3,
   "id": "a959cfaf",
   "metadata": {},
   "outputs": [
    {
     "data": {
      "text/plain": [
       "'HELLO PYTHON PROGRAMMING...'"
      ]
     },
     "execution_count": 3,
     "metadata": {},
     "output_type": "execute_result"
    }
   ],
   "source": [
    "string.upper()"
   ]
  },
  {
   "cell_type": "code",
   "execution_count": 4,
   "id": "3a7b37f0",
   "metadata": {},
   "outputs": [
    {
     "data": {
      "text/plain": [
       "'hello python programming...'"
      ]
     },
     "execution_count": 4,
     "metadata": {},
     "output_type": "execute_result"
    }
   ],
   "source": [
    "string.lower()"
   ]
  },
  {
   "cell_type": "code",
   "execution_count": 5,
   "id": "18d8cfe7",
   "metadata": {},
   "outputs": [],
   "source": [
    "# strip, lstrip, rstrip\n",
    "aaa = \"\"\"\n",
    "            안녕하세요\n",
    "문자열과 관련된 함수를 알아볼까요?\n",
    "\"\"\""
   ]
  },
  {
   "cell_type": "code",
   "execution_count": 6,
   "id": "8bff596b",
   "metadata": {},
   "outputs": [
    {
     "data": {
      "text/plain": [
       "'\\n            안녕하세요\\n문자열과 관련된 함수를 알아볼까요?\\n'"
      ]
     },
     "execution_count": 6,
     "metadata": {},
     "output_type": "execute_result"
    }
   ],
   "source": [
    "aaa"
   ]
  },
  {
   "cell_type": "code",
   "execution_count": 7,
   "id": "6b6e57a8",
   "metadata": {},
   "outputs": [
    {
     "name": "stdout",
     "output_type": "stream",
     "text": [
      "\n",
      "            안녕하세요\n",
      "문자열과 관련된 함수를 알아볼까요?\n",
      "\n"
     ]
    }
   ],
   "source": [
    "print(aaa)"
   ]
  },
  {
   "cell_type": "code",
   "execution_count": 8,
   "id": "7fe78a9c",
   "metadata": {},
   "outputs": [
    {
     "name": "stdout",
     "output_type": "stream",
     "text": [
      "안녕하세요\n",
      "문자열과 관련된 함수를 알아볼까요?\n"
     ]
    }
   ],
   "source": [
    "print(aaa.strip())"
   ]
  },
  {
   "cell_type": "code",
   "execution_count": 9,
   "id": "2f8008a3",
   "metadata": {},
   "outputs": [
    {
     "name": "stdout",
     "output_type": "stream",
     "text": [
      "\n",
      "            안녕하세요\n",
      "문자열과 관련된 함수를 알아볼까요?\n"
     ]
    }
   ],
   "source": [
    "print(aaa.rstrip())"
   ]
  },
  {
   "cell_type": "code",
   "execution_count": 10,
   "id": "3e4c5658",
   "metadata": {},
   "outputs": [
    {
     "name": "stdout",
     "output_type": "stream",
     "text": [
      "안녕하세요\n",
      "문자열과 관련된 함수를 알아볼까요?\n",
      "\n"
     ]
    }
   ],
   "source": [
    "print(aaa.lstrip())"
   ]
  },
  {
   "cell_type": "code",
   "execution_count": 11,
   "id": "d3c26282",
   "metadata": {},
   "outputs": [
    {
     "name": "stdout",
     "output_type": "stream",
     "text": [
      "<class 'bool'>\n"
     ]
    }
   ],
   "source": [
    "# 논리형 변수 : True or False, and, or, not\n",
    "hungry = True\n",
    "sleep = False\n",
    "\n",
    "print(type(hungry))"
   ]
  },
  {
   "cell_type": "code",
   "execution_count": 13,
   "id": "1d5b84ec",
   "metadata": {},
   "outputs": [
    {
     "name": "stdout",
     "output_type": "stream",
     "text": [
      "False\n"
     ]
    }
   ],
   "source": [
    "print(hungry and sleep)"
   ]
  },
  {
   "cell_type": "code",
   "execution_count": 14,
   "id": "aff6111e",
   "metadata": {},
   "outputs": [
    {
     "name": "stdout",
     "output_type": "stream",
     "text": [
      "True\n"
     ]
    }
   ],
   "source": [
    "print(hungry or sleep)"
   ]
  },
  {
   "cell_type": "code",
   "execution_count": 18,
   "id": "0812b34d",
   "metadata": {},
   "outputs": [
    {
     "name": "stdout",
     "output_type": "stream",
     "text": [
      "True\n"
     ]
    }
   ],
   "source": [
    "print(hungry and not sleep)"
   ]
  },
  {
   "cell_type": "code",
   "execution_count": 19,
   "id": "44a95962",
   "metadata": {},
   "outputs": [
    {
     "name": "stdout",
     "output_type": "stream",
     "text": [
      "ok\n"
     ]
    }
   ],
   "source": [
    "a = 1\n",
    "b = 3\n",
    "\n",
    "if a == 1 and b == 3:\n",
    "    print(\"ok\")\n",
    "else:\n",
    "    print(\"not ok\")"
   ]
  },
  {
   "cell_type": "code",
   "execution_count": 20,
   "id": "3b0ef68e",
   "metadata": {},
   "outputs": [],
   "source": [
    "# 비교(관계) 연산자 : ==, !=, >=, >, <=, <\n",
    "# 논리연산자 : and, or, not"
   ]
  },
  {
   "cell_type": "code",
   "execution_count": 22,
   "id": "99bb1f6d",
   "metadata": {},
   "outputs": [
    {
     "data": {
      "text/plain": [
       "0"
      ]
     },
     "execution_count": 22,
     "metadata": {},
     "output_type": "execute_result"
    }
   ],
   "source": [
    "# find() : 왼쪽부터 찾아서 처음 나오는 위치값을 얻어오는 함수\n",
    "# rfind() : 오른쪽부터\n",
    "string = \"안녕안녕하세요\".find(\"안녕\")\n",
    "string"
   ]
  },
  {
   "cell_type": "code",
   "execution_count": null,
   "id": "d631a2b8",
   "metadata": {},
   "outputs": [],
   "source": [
    "- 안 녕 안 녕 하 세 요\n",
    "- 0  1  2 3  4  5  6"
   ]
  },
  {
   "cell_type": "code",
   "execution_count": 23,
   "id": "7f5a9d43",
   "metadata": {},
   "outputs": [
    {
     "data": {
      "text/plain": [
       "2"
      ]
     },
     "execution_count": 23,
     "metadata": {},
     "output_type": "execute_result"
    }
   ],
   "source": [
    "string = \"안녕안녕하세요\".rfind(\"안녕\")\n",
    "string"
   ]
  },
  {
   "cell_type": "code",
   "execution_count": 24,
   "id": "c4543c29",
   "metadata": {},
   "outputs": [
    {
     "name": "stdout",
     "output_type": "stream",
     "text": [
      "True\n"
     ]
    }
   ],
   "source": [
    "# in 연산자\n",
    "print(\"안녕\" in \"안녕하세요\")"
   ]
  },
  {
   "cell_type": "code",
   "execution_count": 25,
   "id": "000efb59",
   "metadata": {},
   "outputs": [
    {
     "name": "stdout",
     "output_type": "stream",
     "text": [
      "False\n"
     ]
    }
   ],
   "source": [
    "print(\"잘자\" in \"안녕하세요\")"
   ]
  },
  {
   "cell_type": "code",
   "execution_count": 26,
   "id": "b083b65b",
   "metadata": {},
   "outputs": [
    {
     "data": {
      "text/plain": [
       "['10', '20', '30', '40', '50']"
      ]
     },
     "execution_count": 26,
     "metadata": {},
     "output_type": "execute_result"
    }
   ],
   "source": [
    "# split() : 문자열을 자르는 함수\n",
    "a = \"10 20 30 40 50\".split(\" \")\n",
    "a"
   ]
  },
  {
   "cell_type": "code",
   "execution_count": 27,
   "id": "e8efb7da",
   "metadata": {},
   "outputs": [
    {
     "data": {
      "text/plain": [
       "'10'"
      ]
     },
     "execution_count": 27,
     "metadata": {},
     "output_type": "execute_result"
    }
   ],
   "source": [
    "# f-문자열 : 파이썬 3.6버전부터 사용되는 기능\n",
    "# 문자열 앞에 f를 붙이고 문자열 내부에 표현식을 {}괄호로 삽입\n",
    "## f'문자열{표현식}문자열'\n",
    "\"{}\".format(10)"
   ]
  },
  {
   "cell_type": "code",
   "execution_count": null,
   "id": "b4b098e8",
   "metadata": {},
   "outputs": [],
   "source": []
  }
 ],
 "metadata": {
  "kernelspec": {
   "display_name": "Python 3 (ipykernel)",
   "language": "python",
   "name": "python3"
  },
  "language_info": {
   "codemirror_mode": {
    "name": "ipython",
    "version": 3
   },
   "file_extension": ".py",
   "mimetype": "text/x-python",
   "name": "python",
   "nbconvert_exporter": "python",
   "pygments_lexer": "ipython3",
   "version": "3.9.12"
  },
  "toc": {
   "base_numbering": 1,
   "nav_menu": {},
   "number_sections": true,
   "sideBar": true,
   "skip_h1_title": false,
   "title_cell": "Table of Contents",
   "title_sidebar": "Contents",
   "toc_cell": false,
   "toc_position": {},
   "toc_section_display": true,
   "toc_window_display": false
  }
 },
 "nbformat": 4,
 "nbformat_minor": 5
}
