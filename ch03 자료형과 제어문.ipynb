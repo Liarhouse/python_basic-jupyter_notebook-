{
 "cells": [
  {
   "cell_type": "markdown",
   "id": "96b4bebd",
   "metadata": {},
   "source": [
    "# 자료구조\n",
    "- 데이터를 저장하는 기억공간을 효율적으로 사용할 수 있도록 도와주는 기능\n",
    "- 기억공간을 효율적으로 사용하는 것은 낭비를 최소화하고 처리속도를 빠르게\n",
    "- 파이썬에서 제공하는 자료구조 : 리스트, 튜플, 세트, 딕셔너리, 데이터프레임"
   ]
  },
  {
   "cell_type": "markdown",
   "id": "8bcd6859",
   "metadata": {},
   "source": [
    "## 리스트(List)\n",
    "- 임의의 객체를 순서대로 저장하는 자료형(시퀀스_sequence 자료형)\n",
    "- 각 데이터의 값이 담겨지는 위치를 인덱스(index)라고 부른다.\n",
    "- 인덱스는 0부터 시작된다.\n",
    "- 변경 가능\n",
    "- 대괄호[]를 사용하여 데이터를 표현한다."
   ]
  },
  {
   "cell_type": "code",
   "execution_count": null,
   "id": "ce4ab216",
   "metadata": {},
   "outputs": [],
   "source": [
    "# 리스트(list) : 하나의 변수에 여러 값을 할당하는 자료구조(자료형)\n",
    "# 시퀀스 자료형 : 순서대로 데이터를 저장하는 자료형(리스트, 문자열, 튜플)\n",
    "a = [10, 20, 30, 40, 50]\n",
    "a"
   ]
  },
  {
   "cell_type": "code",
   "execution_count": null,
   "id": "1e150ab8",
   "metadata": {},
   "outputs": [],
   "source": [
    "print(type(a))"
   ]
  },
  {
   "cell_type": "code",
   "execution_count": null,
   "id": "1ef66453",
   "metadata": {},
   "outputs": [],
   "source": [
    "b = ['red', 'blue', 'green']\n",
    "b"
   ]
  },
  {
   "cell_type": "code",
   "execution_count": null,
   "id": "d484e18d",
   "metadata": {},
   "outputs": [],
   "source": [
    "# 인덱스(index) : 데이터의 위치\n",
    "b[0]"
   ]
  },
  {
   "cell_type": "code",
   "execution_count": null,
   "id": "29f6bd22",
   "metadata": {},
   "outputs": [],
   "source": [
    "b[-1]"
   ]
  },
  {
   "cell_type": "code",
   "execution_count": null,
   "id": "6754e2f6",
   "metadata": {},
   "outputs": [],
   "source": [
    "# 중첩 리스트 : 리스트 안에 또 다른 리스트를 담는 것\n",
    "x = [1, 2, 3,['a', 'b', 'c']]\n",
    "x"
   ]
  },
  {
   "cell_type": "code",
   "execution_count": null,
   "id": "e4652e2f",
   "metadata": {},
   "outputs": [],
   "source": [
    "x[3]"
   ]
  },
  {
   "cell_type": "code",
   "execution_count": null,
   "id": "b6453ac7",
   "metadata": {},
   "outputs": [],
   "source": [
    "x[3][0]"
   ]
  },
  {
   "cell_type": "code",
   "execution_count": null,
   "id": "ebd8e238",
   "metadata": {},
   "outputs": [],
   "source": [
    "x[3][-1]"
   ]
  },
  {
   "cell_type": "code",
   "execution_count": null,
   "id": "362148c9",
   "metadata": {},
   "outputs": [],
   "source": [
    "x[-1][-1]"
   ]
  },
  {
   "cell_type": "code",
   "execution_count": null,
   "id": "90d49161",
   "metadata": {},
   "outputs": [],
   "source": [
    "y = [1, 2, 3, 4, 5]\n",
    "y"
   ]
  },
  {
   "cell_type": "code",
   "execution_count": null,
   "id": "6e124baf",
   "metadata": {},
   "outputs": [],
   "source": [
    "# 변수 = 값\n",
    "y[0] = 10\n",
    "y"
   ]
  },
  {
   "cell_type": "code",
   "execution_count": null,
   "id": "d7cb64e7",
   "metadata": {},
   "outputs": [],
   "source": [
    "# 슬라이싱(slicing) : 리스트에 범위지정을 통해 데이터를 추출, start:end\n",
    "# 파이썬은 마지막데이터를 포함하지 않는다. end-1번째까지만 추출\n",
    "x = [1, 2, 3, 4, 5]\n",
    "x"
   ]
  },
  {
   "cell_type": "code",
   "execution_count": null,
   "id": "8cb6d1c1",
   "metadata": {},
   "outputs": [],
   "source": [
    "x[0:5]"
   ]
  },
  {
   "cell_type": "code",
   "execution_count": null,
   "id": "5778d9a7",
   "metadata": {},
   "outputs": [],
   "source": [
    "x[:5]"
   ]
  },
  {
   "cell_type": "code",
   "execution_count": null,
   "id": "7b5a3bd9",
   "metadata": {},
   "outputs": [],
   "source": [
    "x[0:]"
   ]
  },
  {
   "cell_type": "code",
   "execution_count": null,
   "id": "cd3a82cd",
   "metadata": {},
   "outputs": [],
   "source": [
    "x[:]"
   ]
  },
  {
   "cell_type": "code",
   "execution_count": null,
   "id": "da3b23a6",
   "metadata": {},
   "outputs": [],
   "source": [
    "cities = ['서울', '부산', '인천', '대구', '대전', '광주', '울산', '수원']"
   ]
  },
  {
   "cell_type": "code",
   "execution_count": null,
   "id": "fdd8dd02",
   "metadata": {},
   "outputs": [],
   "source": [
    "# 변수명[인덱스]\n",
    "# 변수명[시작인덱스:마지막인덱스], 마지막인덱스-1까지만 추출\n",
    "print(cities)\n",
    "print(cities[0:8])"
   ]
  },
  {
   "cell_type": "code",
   "execution_count": null,
   "id": "f8db8c60",
   "metadata": {},
   "outputs": [],
   "source": [
    "print(cities[-1:])"
   ]
  },
  {
   "cell_type": "code",
   "execution_count": null,
   "id": "14c3dc59",
   "metadata": {},
   "outputs": [],
   "source": [
    "# 증가값(step)\n",
    "# 변\n",
    "# 수명[시작인덱스:마지막인덱스:증감값]\n",
    "cities[::2]"
   ]
  },
  {
   "cell_type": "code",
   "execution_count": null,
   "id": "faee89fc",
   "metadata": {},
   "outputs": [],
   "source": [
    "cities[::-1] #역으로 슬라이싱"
   ]
  },
  {
   "cell_type": "code",
   "execution_count": null,
   "id": "a4a3f07d",
   "metadata": {},
   "outputs": [],
   "source": [
    "# 깊은 복사와 얕은 복사\n",
    "a = [1, 2, 3, 4, 5]\n",
    "b = a # 개체복사\n",
    "print(\"a = \", a)\n",
    "print(\"b = \", b)"
   ]
  },
  {
   "cell_type": "code",
   "execution_count": null,
   "id": "10d17f06",
   "metadata": {},
   "outputs": [],
   "source": [
    "a[0] = 10\n",
    "print(\"a = \", a)\n",
    "print(\"b = \", b) # 깊은 복사"
   ]
  },
  {
   "cell_type": "code",
   "execution_count": null,
   "id": "58b41d2f",
   "metadata": {},
   "outputs": [],
   "source": [
    "# 자료형의 주소를 읽어오는 함수 : id()\n",
    "print(id(a))\n",
    "print(id(b))"
   ]
  },
  {
   "cell_type": "code",
   "execution_count": null,
   "id": "6167e998",
   "metadata": {},
   "outputs": [],
   "source": [
    "a = [1, 2, 3, 4, 5]\n",
    "b = a[:] \n",
    "print(\"a = \", a)\n",
    "print(\"b = \", b)"
   ]
  },
  {
   "cell_type": "code",
   "execution_count": null,
   "id": "b829f24a",
   "metadata": {},
   "outputs": [],
   "source": [
    "a[0] = 10\n",
    "print(\"a = \", a)\n",
    "print(\"b = \", b)"
   ]
  },
  {
   "cell_type": "markdown",
   "id": "c6880fb4",
   "metadata": {},
   "source": [
    "### 리스트의 연산"
   ]
  },
  {
   "cell_type": "code",
   "execution_count": null,
   "id": "81bae675",
   "metadata": {},
   "outputs": [],
   "source": [
    "# 덧셈연산\n",
    "x = [1, 2, 3]\n",
    "y = [4, 5, 6]\n",
    "a = x + y # 확장(extend)\n",
    "a"
   ]
  },
  {
   "cell_type": "code",
   "execution_count": null,
   "id": "ec70f05f",
   "metadata": {},
   "outputs": [],
   "source": [
    "xx = ['red', 'blue', 'green']\n",
    "yy = ['orange', 'black', 'white']\n",
    "print(xx + yy)\n",
    "print(len(xx + yy))"
   ]
  },
  {
   "cell_type": "code",
   "execution_count": null,
   "id": "832bdea3",
   "metadata": {},
   "outputs": [],
   "source": [
    "print(x + yy)"
   ]
  },
  {
   "cell_type": "code",
   "execution_count": null,
   "id": "5fdc0c2e",
   "metadata": {},
   "outputs": [],
   "source": [
    "# 리스트 곱셈\n",
    "xx * 3"
   ]
  },
  {
   "cell_type": "code",
   "execution_count": null,
   "id": "e7df58aa",
   "metadata": {},
   "outputs": [],
   "source": [
    "a = [1, 2, 3]\n",
    "print(a[2])\n",
    "print(\"hello\" + \"python\")\n",
    "print(a[2] + \"hi\")"
   ]
  },
  {
   "cell_type": "code",
   "execution_count": null,
   "id": "ca95cf38",
   "metadata": {},
   "outputs": [],
   "source": [
    "type(a[2])"
   ]
  },
  {
   "cell_type": "code",
   "execution_count": null,
   "id": "ab05c934",
   "metadata": {},
   "outputs": [],
   "source": [
    "type(a)"
   ]
  },
  {
   "cell_type": "code",
   "execution_count": null,
   "id": "1fec01c7",
   "metadata": {},
   "outputs": [],
   "source": [
    "print(str(a[2])+\"hi\")"
   ]
  },
  {
   "cell_type": "code",
   "execution_count": null,
   "id": "dd7bbc05",
   "metadata": {},
   "outputs": [],
   "source": [
    "# in 연산 : 포함 여부를 나타내는 연산\n",
    "color = ['red', 'blue', 'green', 'orange', 'black', 'white']\n",
    "color"
   ]
  },
  {
   "cell_type": "code",
   "execution_count": null,
   "id": "a2ce03f2",
   "metadata": {},
   "outputs": [],
   "source": [
    "'blue' in color"
   ]
  },
  {
   "cell_type": "code",
   "execution_count": null,
   "id": "e27fb89e",
   "metadata": {},
   "outputs": [],
   "source": [
    "# 리스트에 데이터를 추가 및 삭제\n",
    "## append() : 새로운 데이터가 마지막 위치에 추가된다.\n",
    "color = ['red', 'blue', 'green']\n",
    "color"
   ]
  },
  {
   "cell_type": "code",
   "execution_count": null,
   "id": "89de80c1",
   "metadata": {},
   "outputs": [],
   "source": [
    "color.append('white')\n",
    "color"
   ]
  },
  {
   "cell_type": "code",
   "execution_count": null,
   "id": "e181e9c7",
   "metadata": {},
   "outputs": [],
   "source": [
    "# extend() : 기존의 리스트에 새로운 리스트를 추가하는 함수\n",
    "color = ['red', 'blue', 'green']\n",
    "color.extend(['orange', 'black', 'white'])\n",
    "color"
   ]
  },
  {
   "cell_type": "code",
   "execution_count": null,
   "id": "5069a11f",
   "metadata": {},
   "outputs": [],
   "source": [
    "# insert(index, data)\n",
    "color.insert(0, 'violet')\n",
    "color"
   ]
  },
  {
   "cell_type": "code",
   "execution_count": null,
   "id": "68a04daf",
   "metadata": {},
   "outputs": [],
   "source": [
    "# remove(data)\n",
    "color.remove('red')\n",
    "color"
   ]
  },
  {
   "cell_type": "code",
   "execution_count": null,
   "id": "5cd411dc",
   "metadata": {},
   "outputs": [],
   "source": [
    "# del() : 인덱스를 이용한 삭제\n",
    "del color[0]\n",
    "color"
   ]
  },
  {
   "cell_type": "code",
   "execution_count": null,
   "id": "332a6747",
   "metadata": {},
   "outputs": [],
   "source": [
    "# 패킹(packing)과 언패킹(unpacking)\n",
    "## packing : 하나의 변수에 여러 개의 데이터를 할당하는 것\n",
    "## unpakcing : 하나의 변수에 담긴 여러 개의 데이터를 가각의 변수로 반환\n",
    "x = [1, 2, 3]\n",
    "a, b, c = x\n",
    "print(x, a, b, c)"
   ]
  },
  {
   "cell_type": "code",
   "execution_count": null,
   "id": "ce642982",
   "metadata": {},
   "outputs": [],
   "source": [
    "a, b, c, d = x # 변수가 많아도 ERROR"
   ]
  },
  {
   "cell_type": "code",
   "execution_count": null,
   "id": "99c64850",
   "metadata": {},
   "outputs": [],
   "source": [
    "a, b = x # 변수가 적어도 ERROR"
   ]
  },
  {
   "cell_type": "code",
   "execution_count": null,
   "id": "e1c8b784",
   "metadata": {},
   "outputs": [],
   "source": [
    "# 이차원 리스트\n",
    "kor = [49, 79, 20, 100, 80]\n",
    "eng = [88, 77, 99, 66, 50]\n",
    "math = [90, 100, 52, 60,70]\n",
    "score = [kor, eng, math]\n",
    "score"
   ]
  },
  {
   "cell_type": "code",
   "execution_count": null,
   "id": "ed882168",
   "metadata": {},
   "outputs": [],
   "source": [
    "print(kor)\n",
    "print(score[0])"
   ]
  },
  {
   "cell_type": "code",
   "execution_count": null,
   "id": "8e187182",
   "metadata": {},
   "outputs": [],
   "source": [
    "print(eng)\n",
    "print(score[1])"
   ]
  },
  {
   "cell_type": "code",
   "execution_count": null,
   "id": "89665145",
   "metadata": {},
   "outputs": [],
   "source": [
    "print(math)\n",
    "print(score[2])"
   ]
  },
  {
   "cell_type": "code",
   "execution_count": null,
   "id": "0dbbaa43",
   "metadata": {},
   "outputs": [],
   "source": [
    "# 두번쨰 학생의 국어점수\n",
    "print(kor[1])\n",
    "print(score[0][1])"
   ]
  },
  {
   "cell_type": "code",
   "execution_count": null,
   "id": "b741328b",
   "metadata": {},
   "outputs": [],
   "source": [
    "x = [1, 2, 3, 4, 5]\n",
    "y = x\n",
    "x[0] = 100\n",
    "y"
   ]
  },
  {
   "cell_type": "code",
   "execution_count": null,
   "id": "7919baee",
   "metadata": {},
   "outputs": [],
   "source": [
    "# == : 값을 비교하는 연산자, is : 메모리의 주소를 비교하는 연산자\n",
    "a = 300\n",
    "b = 300\n",
    "\n",
    "print(a == b)\n",
    "print(a is b)"
   ]
  },
  {
   "cell_type": "code",
   "execution_count": null,
   "id": "3f166ad8",
   "metadata": {},
   "outputs": [],
   "source": [
    "# 파이썬은 -5에서부터 256까지 이미 메모리에 할당되어 있다.\n",
    "a = 256\n",
    "b = 256\n",
    "\n",
    "print(a == b)\n",
    "print(a is b)"
   ]
  },
  {
   "cell_type": "code",
   "execution_count": null,
   "id": "425e7f8a",
   "metadata": {},
   "outputs": [],
   "source": [
    "# 리스트의 요소를 제거하는 작업\n",
    "## 인덱스를 이용해서 제거 : del 명령어, pop() 함수\n",
    "a = [0, 1, 2, 3, 4, 5]\n",
    "del a[1]\n",
    "print(\"a= \", a)"
   ]
  },
  {
   "cell_type": "code",
   "execution_count": null,
   "id": "5317b399",
   "metadata": {},
   "outputs": [],
   "source": [
    "a.pop(2)\n",
    "print(\"a= \", a)"
   ]
  },
  {
   "cell_type": "code",
   "execution_count": null,
   "id": "352c319b",
   "metadata": {},
   "outputs": [],
   "source": [
    "# 모두 제거 : clear()\n",
    "a.clear()\n",
    "print(\"a = \", a)"
   ]
  },
  {
   "cell_type": "code",
   "execution_count": null,
   "id": "90c68fab",
   "metadata": {},
   "outputs": [],
   "source": [
    "# 정렬(sort) : 기본 오름차순\n",
    "b = [52, 34, 69, 20, 78, 92, 11, 5, 101, -5]\n",
    "b.sort()\n",
    "b"
   ]
  },
  {
   "cell_type": "code",
   "execution_count": null,
   "id": "3f28b6b2",
   "metadata": {},
   "outputs": [],
   "source": [
    "b = [52, 34, 69, 20, 78, 92, 11, 5, 101, -5]\n",
    "b.sort(reverse=True)"
   ]
  },
  {
   "cell_type": "code",
   "execution_count": null,
   "id": "f24bde4b",
   "metadata": {},
   "outputs": [],
   "source": [
    "b"
   ]
  },
  {
   "cell_type": "code",
   "execution_count": null,
   "id": "a0031d17",
   "metadata": {},
   "outputs": [],
   "source": [
    "b = [52, 34, 69, 20, 78, 92, 11, 5, 101, -5]\n",
    "7 in b"
   ]
  },
  {
   "cell_type": "code",
   "execution_count": null,
   "id": "e21977ac",
   "metadata": {},
   "outputs": [],
   "source": [
    "7 not in b"
   ]
  },
  {
   "cell_type": "markdown",
   "id": "d6942b8e",
   "metadata": {},
   "source": [
    "## 튜플(Tuple)\n",
    "- 리스트와 유사하지만 값을 변경할 수 없다. 즉, 읽기 전용 자료를 저장할 때 사용\n",
    "- 각 값에 대한 인덱스가 부여된다.\n",
    "- 변경 불가능\n",
    "- 소괄호()를 사용하여 데이터를 표현한다."
   ]
  },
  {
   "cell_type": "markdown",
   "id": "f3cba310",
   "metadata": {},
   "source": [
    "## 사전(Dictionary)\n",
    "- 키(key)와 값(value)를 쌍(아이템, item)으로 담아서 관리하는 자료구조\n",
    "- 저장된 각 값에 대한 순서는 의미가 없다.\n",
    "- 저장된 데이터는 키에 의해 조회된다.\n",
    "- 키는 중복을 허용하지 않는다.\n",
    "- 중괄호 {}를 사용하여 데이터를 표현한다."
   ]
  },
  {
   "cell_type": "markdown",
   "id": "86a3cc5b",
   "metadata": {},
   "source": [
    "## 집합(Set)\n",
    "- 인덱스가 없고 값만 저장되는 자료구조\n",
    "- 순서는 의미가 없다.\n",
    "- 중괄호 {}를 사용\n",
    "- 컴마(.)를 기준으로 데이터를 분리한다.\n",
    "- 중복값을 허용하지 않는다."
   ]
  },
  {
   "cell_type": "markdown",
   "id": "56f9c09c",
   "metadata": {},
   "source": [
    "# 제어문\n",
    "1. 정의 : 프로그램의 흐름이나 순서를 제어할 때 사용하는 문장\n",
    "         일반적으로 프로그램은 위에서 아래로, 좌에서 우로 진행\n",
    "2. 조건문 or 비교/판단문 or 선택문\n",
    "   - 주어진 조건에 따라 프로그램의 실행을 선택 또는 변경\n",
    "   - 조건식은 반드시 그 결과가 참 또는 거짓으로 판정이 되는 식\n",
    "   - if문\n",
    "3. 반복문\n",
    "   - 동일하거나 유사한 성격을 가진 문장을 반복할 떄 사용하는 문장\n",
    "   - 주어진 조건이 참일 때 문장을 반복\n",
    "   - 유사한 성격이란 동일한 행위를 하되 일정한 규칙을 가지고 있는 문장\n",
    "   - for문, while문\n",
    "4. 기타 제어문\n",
    "   - break : 무조건 반복을 벗어나라는 의미\n",
    "   - continue : 이하 생략"
   ]
  },
  {
   "cell_type": "markdown",
   "id": "38ad0440",
   "metadata": {},
   "source": [
    "## 조건문 - if문"
   ]
  },
  {
   "cell_type": "code",
   "execution_count": null,
   "id": "c4f052fb",
   "metadata": {},
   "outputs": [],
   "source": [
    "print(\"hi\")\n",
    "a= 1\n",
    "print(\"a = \", a)\n",
    "print(\"바보 배고파\")"
   ]
  },
  {
   "cell_type": "code",
   "execution_count": null,
   "id": "a294afd5",
   "metadata": {},
   "outputs": [],
   "source": [
    "# 파이썬은 들여쓰기를 중시한다.\n",
    "print(\"hi\")\n",
    "a= 1\n",
    "if a == 0:\n",
    "    print(\"a = \", a)\n",
    "print(\"바보 배고파\")"
   ]
  },
  {
   "cell_type": "code",
   "execution_count": null,
   "id": "05dbbb2a",
   "metadata": {},
   "outputs": [],
   "source": [
    "# 하나의 숫자를 입력받아 짝수인지 판정하는 프로그램을 구현하시오.\n",
    "a = int(input(\"숫자를 입력하시오.: \"))\n",
    "if a % 2 == 0:\n",
    "    print(\"입력받은 숫자 %d은/는 짝수입니다.\" % a)\n",
    "else :\n",
    "    print(\"입력받은 숫자 %d은/는 홀수입니다.\" % a)"
   ]
  },
  {
   "cell_type": "code",
   "execution_count": null,
   "id": "aea4b7a3",
   "metadata": {},
   "outputs": [],
   "source": [
    "# 하나의 숫자를 입력받아 양수인지 음수인지 판정하는 프로그램을 구현\n",
    "\n",
    "num = int(input(\"숫자를 입력하시오.: \"))\n",
    "if num > 0 :\n",
    "    print(\"%d은/는 양수입니다.\" % num)\n",
    "else :\n",
    "    print(\"%d은/는 음수입니다.\" % num)"
   ]
  },
  {
   "cell_type": "code",
   "execution_count": null,
   "id": "7cd2f261",
   "metadata": {},
   "outputs": [],
   "source": [
    "# 하나의 숫자를 입력받아 양수인지 음수인지 0인지 판정하는 프로그램을 구현\n",
    "\n",
    "num = int(input(\"숫자를 입력하시오.: \"))\n",
    "if num > 0 :\n",
    "    print(\"%d은/는 양수입니다.\" % num)\n",
    "elif num < 0 :\n",
    "    print(\"%d은/는 음수입니다.\" % num)\n",
    "else :\n",
    "    print(\"%d은/는 0입니다.\" % num)"
   ]
  },
  {
   "cell_type": "markdown",
   "id": "61e6cc91",
   "metadata": {},
   "source": [
    "### 문제 : 성적처리 프로그램 1단계\n",
    "국어, 영어, 수학점수를 입력받아 총점과 평균을 계산하여 출력하는 프로그램을 작성하시오. 단, 평균은 소숫점 이하 둘째자리까지 출력되도록 구현하시오."
   ]
  },
  {
   "cell_type": "code",
   "execution_count": null,
   "id": "279336b8",
   "metadata": {},
   "outputs": [],
   "source": [
    "# 입력문 - 키보드를 통해 데이터를 입력받을 때 사용하는 문장\n",
    "kor = int(input(\"국어 점수를 입력하시오: \"))\n",
    "eng = int(input(\"영어 점수를 입력하시오: \"))\n",
    "math = int(input(\"수학 점수를 입력하시오: \"))\n",
    "\n",
    "# 처리문 - 제어문이나 함수를 통해 처리하는 문장\n",
    "tot = kor+eng+math\n",
    "avg = tot/3\n",
    "\n",
    "print(\"총점 : {0}점, 평균 : {1:.2f}점\".format(tot, avg))\n",
    "print(\"총점 : \", kor+eng+math,\"점, 평균 : \", \"{0:.2f}\".format((kor+eng+math)/3), \"점\", sep = \"\")"
   ]
  },
  {
   "cell_type": "markdown",
   "id": "c590c69e",
   "metadata": {},
   "source": [
    "### 성적 처리 프로그램 2단계\n",
    "학점을 입력하시오. 학점을 평균을 이용하여 A, B, C, D, F로 표현하되,\n",
    "평균이 90점 이상이면 'A학점', 80점 이상이면 'B학점', 70<=C 60<=D 60>F"
   ]
  },
  {
   "cell_type": "code",
   "execution_count": null,
   "id": "80a375e2",
   "metadata": {},
   "outputs": [],
   "source": [
    "kor = int(input(\"국어 점수를 입력하시오: \"))\n",
    "eng = int(input(\"영어 점수를 입력하시오: \"))\n",
    "math = int(input(\"수학 점수를 입력하시오: \"))\n",
    "\n",
    "tot = kor+eng+math\n",
    "avg = tot/3\n",
    "\n",
    "if avg >= 90:\n",
    "    grade = \"A\" \n",
    "elif avg >= 80:\n",
    "    grade = \"B\"\n",
    "elif avg >= 70:\n",
    "    grade = \"C\" \n",
    "elif avg >= 60:\n",
    "    grade = \"D\" \n",
    "else:\n",
    "    grade = \"F\"\n",
    "    \n",
    "print(\"총점 : {0}점, 평균 : {1:.2f}점,\\\n",
    "학점 : {2}학점\".format(tot, avg, grade))"
   ]
  },
  {
   "cell_type": "code",
   "execution_count": null,
   "id": "11f60d3c",
   "metadata": {},
   "outputs": [],
   "source": [
    "# if avg >= 90:\n",
    "#     grade = \"A\" \n",
    "# if avg >= 80:\n",
    "#     grade = \"B\"\n",
    "# if avg >= 70:\n",
    "#     grade = \"C\" \n",
    "# if avg >= 60:\n",
    "#     grade = \"D\" \n",
    "# if avg < 60:\n",
    "#     grade = \"F\"\n",
    "print(\"총점 : {0}점, 평균 : {1:.2f}점,\\\n",
    "학점 : {2}학점\".format(tot, avg, grade))"
   ]
  },
  {
   "cell_type": "markdown",
   "id": "341667d7",
   "metadata": {},
   "source": [
    "## 반복문\n",
    "- 반복하는 문장\n",
    "- for문, while문"
   ]
  },
  {
   "cell_type": "code",
   "execution_count": null,
   "id": "1fe116cf",
   "metadata": {},
   "outputs": [],
   "source": [
    "# for 개별변수 in 집합변수:\n",
    "a = [1, 2, 3, 4, 5]\n",
    "print(a[0])"
   ]
  },
  {
   "cell_type": "code",
   "execution_count": null,
   "id": "71ed7e7f",
   "metadata": {},
   "outputs": [],
   "source": [
    "for i in range(1,6):\n",
    "    print(i)"
   ]
  },
  {
   "cell_type": "code",
   "execution_count": null,
   "id": "7f487765",
   "metadata": {},
   "outputs": [],
   "source": [
    "for i in a:\n",
    "    print(i)"
   ]
  },
  {
   "cell_type": "code",
   "execution_count": null,
   "id": "53b17f05",
   "metadata": {},
   "outputs": [],
   "source": [
    "for i in a:\n",
    "    print(\"hello\")"
   ]
  },
  {
   "cell_type": "code",
   "execution_count": null,
   "id": "cd60efba",
   "metadata": {},
   "outputs": [],
   "source": [
    "for _ in a:\n",
    "    print(\"hello\")"
   ]
  },
  {
   "cell_type": "code",
   "execution_count": null,
   "id": "55e02ae1",
   "metadata": {},
   "outputs": [],
   "source": [
    "# range(start, end, step(증감값))\n",
    "for i in range(1, 6):\n",
    "    print(i)"
   ]
  },
  {
   "cell_type": "code",
   "execution_count": null,
   "id": "fc0068c8",
   "metadata": {},
   "outputs": [],
   "source": [
    "for i in range(6): # 0, 1, 2, 3, 4, 5\n",
    "    print(i)"
   ]
  },
  {
   "cell_type": "code",
   "execution_count": null,
   "id": "96dc1113",
   "metadata": {},
   "outputs": [],
   "source": [
    "for i in \"korea\":\n",
    "    print(i)"
   ]
  },
  {
   "cell_type": "code",
   "execution_count": null,
   "id": "7f251db8",
   "metadata": {},
   "outputs": [],
   "source": [
    "for i in [\"red\", \"blue\", \"black\"]:\n",
    "    print(i)"
   ]
  },
  {
   "cell_type": "code",
   "execution_count": null,
   "id": "5c3c4864",
   "metadata": {},
   "outputs": [],
   "source": [
    "for i in range(1, 10, 2):\n",
    "    print(i)"
   ]
  },
  {
   "cell_type": "code",
   "execution_count": null,
   "id": "145bb682",
   "metadata": {},
   "outputs": [],
   "source": [
    "for i in range(1, 11):\n",
    "    if i % 2 != 0:\n",
    "        print(i)"
   ]
  },
  {
   "cell_type": "code",
   "execution_count": null,
   "id": "01c44d7f",
   "metadata": {},
   "outputs": [],
   "source": [
    "for i in range(10, 0, -1):\n",
    "    print(i)"
   ]
  },
  {
   "cell_type": "markdown",
   "id": "5ad464f5",
   "metadata": {},
   "source": [
    "#### 구구단 출력하는 프로그램\n",
    "하나의 수를 입력받아 해당 숫자의 구구단을 출력하는 프로그램을 구현하시오."
   ]
  },
  {
   "cell_type": "code",
   "execution_count": null,
   "id": "8cd2cb17",
   "metadata": {},
   "outputs": [],
   "source": [
    "dan = int(input(\"단수: \")\n",
    "for i in range(1,10)\n",
    "          "
   ]
  },
  {
   "cell_type": "code",
   "execution_count": null,
   "id": "a93950d0",
   "metadata": {},
   "outputs": [],
   "source": [
    "dan = int(input(\"단수: \"))\n",
    "for i in range(1,10):\n",
    "    print(\"{0} x {1} = {2}\".format(dan, i, dan*i))"
   ]
  },
  {
   "cell_type": "markdown",
   "id": "20051024",
   "metadata": {},
   "source": [
    "### 구구단을 출력하시오."
   ]
  },
  {
   "cell_type": "code",
   "execution_count": null,
   "id": "7774408d",
   "metadata": {},
   "outputs": [],
   "source": [
    "# 단수\n",
    "for dan in range(2, 10):\n",
    "    print(\"==== {0}단 ====\".format(dan))\n",
    "    # 자연수\n",
    "    for su in range(1, 10):\n",
    "        print(\"{} x {} = {}\".format(dan, su, dan*su))\n",
    "    print()"
   ]
  },
  {
   "cell_type": "code",
   "execution_count": null,
   "id": "8ad9ce55",
   "metadata": {},
   "outputs": [],
   "source": [
    "# 다중 for\n",
    "for i in [1, 2]:\n",
    "    for j in [1, 2, 3]:\n",
    "        print(\"hi\")"
   ]
  },
  {
   "cell_type": "markdown",
   "id": "f82f1353",
   "metadata": {},
   "source": [
    "### 1부터 100까지 자연수를 출력하는 프로그램을 구현하시오."
   ]
  },
  {
   "cell_type": "code",
   "execution_count": null,
   "id": "3dd9118d",
   "metadata": {},
   "outputs": [],
   "source": [
    "for i in range(1,101):\n",
    "    print(\"%3d\" % i, end=\" \")\n",
    "    if i % 10 == 0:\n",
    "        print()"
   ]
  },
  {
   "cell_type": "code",
   "execution_count": null,
   "id": "3edd3115",
   "metadata": {},
   "outputs": [],
   "source": [
    "for i in range(1, 11):\n",
    "    print(\"%5d\" %i, end=\"\")"
   ]
  },
  {
   "cell_type": "code",
   "execution_count": 1,
   "id": "71f0cc4b",
   "metadata": {},
   "outputs": [
    {
     "name": "stdout",
     "output_type": "stream",
     "text": [
      "    1    2    3    4    5    6    7    8    9   10"
     ]
    }
   ],
   "source": [
    "i = 1\n",
    "while i < 11:\n",
    "    print(\"%5d\" % i, end=\"\")\n",
    "    i += 1"
   ]
  },
  {
   "cell_type": "code",
   "execution_count": 2,
   "id": "53a4614f",
   "metadata": {},
   "outputs": [
    {
     "name": "stdout",
     "output_type": "stream",
     "text": [
      "    1    2    3    4    5    6    7    8    9   10"
     ]
    }
   ],
   "source": [
    "i = 1\n",
    "while True:\n",
    "    print(\"%5d\" % i, end=\"\")\n",
    "    i += 1\n",
    "    if i > 10:\n",
    "        break"
   ]
  },
  {
   "cell_type": "markdown",
   "id": "690db24f",
   "metadata": {},
   "source": [
    "### 숫자를 다섯개 입력받아 그 합을 계산한 후 출력하는 프로그램"
   ]
  },
  {
   "cell_type": "code",
   "execution_count": 4,
   "id": "03dbe651",
   "metadata": {},
   "outputs": [
    {
     "name": "stdout",
     "output_type": "stream",
     "text": [
      "숫자 = 12\n",
      "숫자 = 12\n",
      "숫자 = 12\n",
      "숫자 = 12\n",
      "숫자 = 12\n",
      "숫자의 합은 60입니다.\n"
     ]
    }
   ],
   "source": [
    "tot = 0\n",
    "for i in range(5):\n",
    "    num = int(input(\"숫자 = \"))\n",
    "    tot = tot + num\n",
    "    \n",
    "print(\"숫자의 합은 %d입니다.\" % tot)"
   ]
  },
  {
   "cell_type": "markdown",
   "id": "b7ca2771",
   "metadata": {},
   "source": [
    "### 숫자를 입력받아 누적합을 계산하는 프로그램을 작성하되, 입력받은 숫자가 0이면 입력을 중지하고 누적합의 결과를 출력하는 프로그램을 구현하시오."
   ]
  },
  {
   "cell_type": "code",
   "execution_count": 7,
   "id": "27a0e19f",
   "metadata": {},
   "outputs": [
    {
     "name": "stdout",
     "output_type": "stream",
     "text": [
      "숫자 = 1\n",
      "숫자 = 2\n",
      "숫자 = 3\n",
      "숫자 = 4\n",
      "숫자 = 5\n",
      "숫자 = 6\n",
      "숫자 = 7\n",
      "숫자 = 8\n",
      "숫자 = 9\n",
      "숫자 = 10\n",
      "숫자 = 11\n",
      "숫자 = 12\n",
      "숫자 = 13\n",
      "숫자 = 14\n",
      "숫자 = 15\n",
      "숫자 = 16\n",
      "숫자 = 17\n",
      "숫자 = 18\n",
      "숫자 = 19\n",
      "숫자 = 20\n",
      "숫자 = 0\n",
      "숫자의 합은 210입니다.\n"
     ]
    }
   ],
   "source": [
    "tot = 0\n",
    "while True:\n",
    "    num = int(input(\"숫자 = \"))\n",
    "    if num == 0:\n",
    "        break\n",
    "    tot = tot + num\n",
    "    \n",
    "print(\"숫자의 합은 %d입니다.\" % tot)"
   ]
  },
  {
   "cell_type": "code",
   "execution_count": 10,
   "id": "cc697a8c",
   "metadata": {},
   "outputs": [
    {
     "name": "stdout",
     "output_type": "stream",
     "text": [
      "0\n",
      "1\n",
      "2\n",
      "3\n",
      "4\n",
      "6\n",
      "7\n",
      "8\n",
      "9\n"
     ]
    }
   ],
   "source": [
    "for i in range(10):\n",
    "    if i == 5: continue # 이하생략\n",
    "    print(i)"
   ]
  },
  {
   "cell_type": "code",
   "execution_count": 11,
   "id": "b64cc37a",
   "metadata": {},
   "outputs": [
    {
     "name": "stdout",
     "output_type": "stream",
     "text": [
      "0\n",
      "1\n",
      "2\n",
      "3\n",
      "4\n",
      "5\n",
      "6\n",
      "7\n",
      "8\n",
      "9\n",
      "End of Program\n"
     ]
    }
   ],
   "source": [
    "# 반복문의 else의 의미\n",
    "## 어떤 조건ㅇ이 완전히 끝났을 때 한 번 더 실행해 주는 역할\n",
    "for i in range(10):\n",
    "    print(i)\n",
    "else:\n",
    "    print(\"End of Program\")"
   ]
  },
  {
   "cell_type": "code",
   "execution_count": 13,
   "id": "05ed4b59",
   "metadata": {},
   "outputs": [
    {
     "name": "stdout",
     "output_type": "stream",
     "text": [
      "숫자 = 1\n",
      "숫자 = 2\n",
      "숫자 = 3\n",
      "숫자 = 4\n",
      "숫자 = 5\n",
      "숫자 = 6\n",
      "숫자 = 0\n"
     ]
    }
   ],
   "source": [
    "tot = 0\n",
    "while True:\n",
    "    num = int(input(\"숫자 = \"))\n",
    "    if num == 0:\n",
    "        break\n",
    "    tot = tot + num\n",
    "else:\n",
    "    print(\"end of program\")"
   ]
  },
  {
   "cell_type": "code",
   "execution_count": 19,
   "id": "9cb494ac",
   "metadata": {},
   "outputs": [
    {
     "name": "stdout",
     "output_type": "stream",
     "text": [
      "단 = 1\n",
      "짝수단만 출력하고 싶어요~\n"
     ]
    }
   ],
   "source": [
    "dan = int(input(\"단 = \"))\n",
    "i = 1\n",
    "while dan < 2 and dan > 9:\n",
    "    dan = int(input(\"2에서 9의 값만 입력해주세요. = \"))\n",
    "else:\n",
    "    while dan % 2 == 0:\n",
    "        print(\"{} x {} = {}\".format(dan, i, dan*i))\n",
    "        i += 1\n",
    "        if i > 9: break\n",
    "    else:\n",
    "        print(\"짝수단만 출력하고 싶어요~\")"
   ]
  },
  {
   "cell_type": "code",
   "execution_count": null,
   "id": "ae196fa4",
   "metadata": {},
   "outputs": [],
   "source": []
  }
 ],
 "metadata": {
  "kernelspec": {
   "display_name": "Python 3 (ipykernel)",
   "language": "python",
   "name": "python3"
  },
  "language_info": {
   "codemirror_mode": {
    "name": "ipython",
    "version": 3
   },
   "file_extension": ".py",
   "mimetype": "text/x-python",
   "name": "python",
   "nbconvert_exporter": "python",
   "pygments_lexer": "ipython3",
   "version": "3.9.12"
  },
  "toc": {
   "base_numbering": 1,
   "nav_menu": {},
   "number_sections": true,
   "sideBar": true,
   "skip_h1_title": false,
   "title_cell": "Table of Contents",
   "title_sidebar": "Contents",
   "toc_cell": false,
   "toc_position": {},
   "toc_section_display": true,
   "toc_window_display": true
  }
 },
 "nbformat": 4,
 "nbformat_minor": 5
}
