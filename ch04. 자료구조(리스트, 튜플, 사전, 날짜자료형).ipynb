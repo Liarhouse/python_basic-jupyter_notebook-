{
 "cells": [
  {
   "cell_type": "markdown",
   "id": "120ecafa",
   "metadata": {},
   "source": [
    "# 리스트"
   ]
  },
  {
   "cell_type": "code",
   "execution_count": 1,
   "id": "f20f42d8",
   "metadata": {},
   "outputs": [
    {
     "name": "stdout",
     "output_type": "stream",
     "text": [
      "[1, 2, 3, 4, 5]\n",
      "<class 'list'>\n",
      "1\n",
      "2\n",
      "5\n",
      "a=  [10, 2, 3, 4, 5]\n",
      "10\n",
      "2\n",
      "3\n",
      "4\n",
      "5\n",
      "--------------------\n"
     ]
    }
   ],
   "source": [
    "# 리스트 생성\n",
    "a = [1, 2, 3, 4, 5]\n",
    "print(a)\n",
    "# 자료형 확인\n",
    "print(type(a))\n",
    "# 개별 요소를 참조 - 인덱스\n",
    "print(a[0])\n",
    "print(a[1])\n",
    "print(a[-1])\n",
    "# 리스트는 변경 가능\n",
    "a[0] = 10\n",
    "print(\"a= \", a)\n",
    "# 개별요소를 줄단위로 출력\n",
    "for i in a:\n",
    "    print(i)\n",
    "\n",
    "print(\"-\" * 20)\n",
    "\n",
    "# for in a:\n",
    "#     print(a[i])"
   ]
  },
  {
   "cell_type": "code",
   "execution_count": 2,
   "id": "17037cd5",
   "metadata": {},
   "outputs": [
    {
     "name": "stdout",
     "output_type": "stream",
     "text": [
      "[1, 2, 3, ['a', 'b', 'c']]\n",
      "['a', 'b', 'c']\n",
      "a\n"
     ]
    }
   ],
   "source": [
    "# 중첩 리스트 - 이차원 리스트, 이차원 배열\n",
    "a = [1, 2, 3, ['a', 'b', 'c']]\n",
    "print(a)\n",
    "print(a[3])\n",
    "print(a[3][0]) # 리스트 [행][열]"
   ]
  },
  {
   "cell_type": "code",
   "execution_count": 3,
   "id": "d6cf782f",
   "metadata": {},
   "outputs": [
    {
     "name": "stdout",
     "output_type": "stream",
     "text": [
      "x =  [10, 2, 3, 4, 5]\n",
      "y =  [10, 2, 3, 4, 5]\n"
     ]
    }
   ],
   "source": [
    "#리스트를 저장할 때 값 자체가 아니라 값이 위치한 메모리의 주소를 저장한다.\n",
    "x = [1, 2, 3, 4, 5]\n",
    "# 객체 복사\n",
    "y = x\n",
    "y[0] = 10\n",
    "print(\"x = \", x)\n",
    "print(\"y = \", y)"
   ]
  },
  {
   "cell_type": "code",
   "execution_count": 5,
   "id": "cd8b79ae",
   "metadata": {},
   "outputs": [
    {
     "name": "stdout",
     "output_type": "stream",
     "text": [
      "x =  [1, 2, 3, 4, 5]\n",
      "y =  [10, 2, 3, 4, 5]\n"
     ]
    }
   ],
   "source": [
    "x = [1, 2, 3, 4, 5]\n",
    "y = x[:]\n",
    "y[0] = 10\n",
    "print(\"x = \", x)\n",
    "print(\"y = \", y)"
   ]
  },
  {
   "cell_type": "code",
   "execution_count": 6,
   "id": "c30683a2",
   "metadata": {},
   "outputs": [
    {
     "name": "stdout",
     "output_type": "stream",
     "text": [
      "[1, 2]\n"
     ]
    }
   ],
   "source": [
    "x = [1, 2, 3, 4, 5]\n",
    "print(x[0:2])"
   ]
  },
  {
   "cell_type": "code",
   "execution_count": 7,
   "id": "eb738136",
   "metadata": {},
   "outputs": [
    {
     "name": "stdout",
     "output_type": "stream",
     "text": [
      "[1, 2, 3, 4, 5]\n"
     ]
    }
   ],
   "source": [
    "print(x[:])"
   ]
  },
  {
   "cell_type": "code",
   "execution_count": 8,
   "id": "06653ad1",
   "metadata": {},
   "outputs": [
    {
     "name": "stdout",
     "output_type": "stream",
     "text": [
      "[1, 2, 3]\n"
     ]
    }
   ],
   "source": [
    "print(x[:3])"
   ]
  },
  {
   "cell_type": "code",
   "execution_count": 9,
   "id": "c7317359",
   "metadata": {},
   "outputs": [
    {
     "name": "stdout",
     "output_type": "stream",
     "text": [
      "[2, 3, 4, 5]\n"
     ]
    }
   ],
   "source": [
    "print(x[1:])"
   ]
  },
  {
   "cell_type": "code",
   "execution_count": 11,
   "id": "f2e745b4",
   "metadata": {},
   "outputs": [
    {
     "ename": "IndexError",
     "evalue": "list index out of range",
     "output_type": "error",
     "traceback": [
      "\u001b[1;31m---------------------------------------------------------------------------\u001b[0m",
      "\u001b[1;31mIndexError\u001b[0m                                Traceback (most recent call last)",
      "Input \u001b[1;32mIn [11]\u001b[0m, in \u001b[0;36m<cell line: 2>\u001b[1;34m()\u001b[0m\n\u001b[0;32m      1\u001b[0m a \u001b[38;5;241m=\u001b[39m [[\u001b[38;5;241m1\u001b[39m, \u001b[38;5;241m2\u001b[39m, \u001b[38;5;241m3\u001b[39m], [\u001b[38;5;124m'\u001b[39m\u001b[38;5;124ma\u001b[39m\u001b[38;5;124m'\u001b[39m, \u001b[38;5;124m'\u001b[39m\u001b[38;5;124mb\u001b[39m\u001b[38;5;124m'\u001b[39m, \u001b[38;5;124m'\u001b[39m\u001b[38;5;124mc\u001b[39m\u001b[38;5;124m'\u001b[39m]]\n\u001b[1;32m----> 2\u001b[0m \u001b[38;5;28mprint\u001b[39m(\u001b[43mx\u001b[49m\u001b[43m[\u001b[49m\u001b[38;5;241;43m0\u001b[39;49m\u001b[43m:\u001b[49m\u001b[38;5;241;43m1\u001b[39;49m\u001b[43m]\u001b[49m\u001b[43m[\u001b[49m\u001b[38;5;241;43m2\u001b[39;49m\u001b[43m]\u001b[49m)\n",
      "\u001b[1;31mIndexError\u001b[0m: list index out of range"
     ]
    }
   ],
   "source": [
    "a = [[1, 2, 3], ['a', 'b', 'c']]\n",
    "print(x[0:1][2])"
   ]
  },
  {
   "cell_type": "code",
   "execution_count": 12,
   "id": "8bf9950c",
   "metadata": {},
   "outputs": [
    {
     "name": "stdout",
     "output_type": "stream",
     "text": [
      "c =  [1, 2, 3, 5, 6, 7]\n",
      "d =  None\n"
     ]
    }
   ],
   "source": [
    "# 리스트 연산 : 더하기 연산\n",
    "a = [1, 2, 3]\n",
    "b = [5, 6 ,7]\n",
    "c = a + b # extend(확장)을 의미, 리스트가 가로로 연결된다.\n",
    "a.extend(b) # a.extend(b) = a = a + b\n",
    "print(\"c = \", c)\n",
    "print(\"d = \", d)"
   ]
  },
  {
   "cell_type": "code",
   "execution_count": 13,
   "id": "44f6f006",
   "metadata": {},
   "outputs": [
    {
     "data": {
      "text/plain": [
       "'hellopython'"
      ]
     },
     "execution_count": 13,
     "metadata": {},
     "output_type": "execute_result"
    }
   ],
   "source": [
    "# 문자열도 시퀀스 자료형\n",
    "# 문자열 + 문자열 \n",
    "\"hello\" + \"python\""
   ]
  },
  {
   "cell_type": "code",
   "execution_count": 14,
   "id": "df0702b0",
   "metadata": {},
   "outputs": [
    {
     "data": {
      "text/plain": [
       "[1, 2, 3, 1, 2, 3, 1, 2, 3]"
      ]
     },
     "execution_count": 14,
     "metadata": {},
     "output_type": "execute_result"
    }
   ],
   "source": [
    "# 리스트 연산 : 곱셈(*), 반복\n",
    "a = [1, 2, 3]\n",
    "b = a * 3\n",
    "b"
   ]
  },
  {
   "cell_type": "code",
   "execution_count": 15,
   "id": "cdb8937e",
   "metadata": {},
   "outputs": [
    {
     "data": {
      "text/plain": [
       "'hellohellohello'"
      ]
     },
     "execution_count": 15,
     "metadata": {},
     "output_type": "execute_result"
    }
   ],
   "source": [
    "\"hello\" * 3"
   ]
  },
  {
   "cell_type": "code",
   "execution_count": 16,
   "id": "1881cadd",
   "metadata": {},
   "outputs": [
    {
     "data": {
      "text/plain": [
       "[1, 'a', 'b', 'c', 3]"
      ]
     },
     "execution_count": 16,
     "metadata": {},
     "output_type": "execute_result"
    }
   ],
   "source": [
    "a[1:2] = ['a', 'b', 'c']\n",
    "a"
   ]
  },
  {
   "cell_type": "code",
   "execution_count": 17,
   "id": "67fb78cb",
   "metadata": {},
   "outputs": [
    {
     "data": {
      "text/plain": [
       "[1]"
      ]
     },
     "execution_count": 17,
     "metadata": {},
     "output_type": "execute_result"
    }
   ],
   "source": [
    "a = [1, 2, 3]\n",
    "a[1:3] = []\n",
    "a"
   ]
  },
  {
   "cell_type": "code",
   "execution_count": 18,
   "id": "917dfb76",
   "metadata": {},
   "outputs": [
    {
     "data": {
      "text/plain": [
       "[1, 3]"
      ]
     },
     "execution_count": 18,
     "metadata": {},
     "output_type": "execute_result"
    }
   ],
   "source": [
    "a = [1, 2, 3]\n",
    "del a[1]\n",
    "a"
   ]
  },
  {
   "cell_type": "code",
   "execution_count": 19,
   "id": "416b9e58",
   "metadata": {},
   "outputs": [
    {
     "name": "stdout",
     "output_type": "stream",
     "text": [
      "[1, 2, 3, 4]\n"
     ]
    }
   ],
   "source": [
    "a = [1, 4, 2, 3]\n",
    "a.sort()\n",
    "print(a)"
   ]
  },
  {
   "cell_type": "code",
   "execution_count": 20,
   "id": "a3ec5a47",
   "metadata": {},
   "outputs": [
    {
     "data": {
      "text/plain": [
       "[3, 2, 4, 1]"
      ]
     },
     "execution_count": 20,
     "metadata": {},
     "output_type": "execute_result"
    }
   ],
   "source": [
    "a = [1, 4, 2, 3]\n",
    "a.reverse() #뒤집어라\n",
    "a"
   ]
  },
  {
   "cell_type": "code",
   "execution_count": 21,
   "id": "e372c82d",
   "metadata": {},
   "outputs": [
    {
     "data": {
      "text/plain": [
       "[4, 3, 2, 1]"
      ]
     },
     "execution_count": 21,
     "metadata": {},
     "output_type": "execute_result"
    }
   ],
   "source": [
    "a = [1, 4, 2, 3]\n",
    "a.sort()\n",
    "a.reverse() #뒤집어라\n",
    "a"
   ]
  },
  {
   "cell_type": "code",
   "execution_count": 22,
   "id": "5e385037",
   "metadata": {},
   "outputs": [
    {
     "data": {
      "text/plain": [
       "[4, 3, 2, 1]"
      ]
     },
     "execution_count": 22,
     "metadata": {},
     "output_type": "execute_result"
    }
   ],
   "source": [
    "a = [1, 4, 2, 3]\n",
    "a.sort(reverse=True)\n",
    "a"
   ]
  },
  {
   "cell_type": "code",
   "execution_count": 23,
   "id": "6b186e0f",
   "metadata": {},
   "outputs": [
    {
     "data": {
      "text/plain": [
       "['a', 'b', 'c', 'd']"
      ]
     },
     "execution_count": 23,
     "metadata": {},
     "output_type": "execute_result"
    }
   ],
   "source": [
    "a = ['a', 'd', 'b', 'c']\n",
    "a.sort()\n",
    "a"
   ]
  },
  {
   "cell_type": "code",
   "execution_count": 24,
   "id": "0b10db05",
   "metadata": {},
   "outputs": [
    {
     "data": {
      "text/plain": [
       "['d', 'c', 'b', 'a']"
      ]
     },
     "execution_count": 24,
     "metadata": {},
     "output_type": "execute_result"
    }
   ],
   "source": [
    "a = ['a', 'd', 'b', 'c']\n",
    "a.sort(reverse=True)\n",
    "a"
   ]
  },
  {
   "cell_type": "code",
   "execution_count": 26,
   "id": "1343e9f8",
   "metadata": {},
   "outputs": [
    {
     "data": {
      "text/plain": [
       "['가위', '동생', '한글', '한자']"
      ]
     },
     "execution_count": 26,
     "metadata": {},
     "output_type": "execute_result"
    }
   ],
   "source": [
    "a = ['가위', '한자', '동생', '한글']\n",
    "a.sort()\n",
    "a"
   ]
  },
  {
   "cell_type": "code",
   "execution_count": 27,
   "id": "af9e9d31",
   "metadata": {},
   "outputs": [
    {
     "name": "stdout",
     "output_type": "stream",
     "text": [
      "2\n"
     ]
    }
   ],
   "source": [
    "a = [1, 2, 3, 4, 5]\n",
    "print(a.index(3)) # 3이라는 값이 몇번째 위치에 있느냐?"
   ]
  },
  {
   "cell_type": "code",
   "execution_count": 28,
   "id": "6dc1c8fc",
   "metadata": {},
   "outputs": [
    {
     "ename": "ValueError",
     "evalue": "'h' is not in list",
     "output_type": "error",
     "traceback": [
      "\u001b[1;31m---------------------------------------------------------------------------\u001b[0m",
      "\u001b[1;31mValueError\u001b[0m                                Traceback (most recent call last)",
      "Input \u001b[1;32mIn [28]\u001b[0m, in \u001b[0;36m<cell line: 2>\u001b[1;34m()\u001b[0m\n\u001b[0;32m      1\u001b[0m b \u001b[38;5;241m=\u001b[39m [\u001b[38;5;124m'\u001b[39m\u001b[38;5;124ma\u001b[39m\u001b[38;5;124m'\u001b[39m, \u001b[38;5;124m'\u001b[39m\u001b[38;5;124mb\u001b[39m\u001b[38;5;124m'\u001b[39m, \u001b[38;5;124m'\u001b[39m\u001b[38;5;124mc\u001b[39m\u001b[38;5;124m'\u001b[39m]\n\u001b[1;32m----> 2\u001b[0m \u001b[38;5;28mprint\u001b[39m(\u001b[43mb\u001b[49m\u001b[38;5;241;43m.\u001b[39;49m\u001b[43mindex\u001b[49m\u001b[43m(\u001b[49m\u001b[38;5;124;43m'\u001b[39;49m\u001b[38;5;124;43mh\u001b[39;49m\u001b[38;5;124;43m'\u001b[39;49m\u001b[43m)\u001b[49m)\n",
      "\u001b[1;31mValueError\u001b[0m: 'h' is not in list"
     ]
    }
   ],
   "source": [
    "b = ['a', 'b', 'c']\n",
    "print(b.index('h')) # 없는 데이터의 위치를 찾으면 에러발생"
   ]
  },
  {
   "cell_type": "code",
   "execution_count": 29,
   "id": "77a80c4e",
   "metadata": {},
   "outputs": [
    {
     "name": "stdout",
     "output_type": "stream",
     "text": [
      "[4, 1, 2, 3]\n"
     ]
    }
   ],
   "source": [
    "a = [1, 2, 3]\n",
    "a.insert(0, 4)\n",
    "print(a)"
   ]
  },
  {
   "cell_type": "code",
   "execution_count": 30,
   "id": "27303b8e",
   "metadata": {},
   "outputs": [
    {
     "name": "stdout",
     "output_type": "stream",
     "text": [
      "[1, 2, 1, 2, 3]\n"
     ]
    }
   ],
   "source": [
    "a = [1, 2, 3, 1, 2, 3]\n",
    "# 값이 3인 요소 삭제(1개만)\n",
    "a.remove(3) # 값으로 삭제\n",
    "print(a)"
   ]
  },
  {
   "cell_type": "code",
   "execution_count": 31,
   "id": "9631bb14",
   "metadata": {},
   "outputs": [],
   "source": [
    "del a[0] # 인덱스로 삭제"
   ]
  },
  {
   "cell_type": "code",
   "execution_count": 32,
   "id": "faa11c5e",
   "metadata": {},
   "outputs": [
    {
     "data": {
      "text/plain": [
       "[2, 1, 2, 3]"
      ]
     },
     "execution_count": 32,
     "metadata": {},
     "output_type": "execute_result"
    }
   ],
   "source": [
    "a"
   ]
  },
  {
   "cell_type": "code",
   "execution_count": 33,
   "id": "36a857ff",
   "metadata": {},
   "outputs": [
    {
     "name": "stdout",
     "output_type": "stream",
     "text": [
      "[1, 2]\n",
      "3\n"
     ]
    }
   ],
   "source": [
    "a = [1, 2, 3]\n",
    "b = a.pop() # 리스트의 마지막 요소를 추출\n",
    "print(a)\n",
    "print(b)"
   ]
  },
  {
   "cell_type": "code",
   "execution_count": 34,
   "id": "5ef3e017",
   "metadata": {},
   "outputs": [
    {
     "name": "stdout",
     "output_type": "stream",
     "text": [
      "3\n"
     ]
    }
   ],
   "source": [
    "# 요소의 개수(건수)\n",
    "a = [1, 2, 3, 1, 2, 1]\n",
    "b = a.count(1) # 값이 1인 요소가 몇개인지 계산하는 함수\n",
    "print(b)"
   ]
  },
  {
   "cell_type": "code",
   "execution_count": 35,
   "id": "12f2bc6d",
   "metadata": {},
   "outputs": [
    {
     "name": "stdout",
     "output_type": "stream",
     "text": [
      "1\n"
     ]
    }
   ],
   "source": [
    "# 요소의 개수(건수)\n",
    "a = [1, 2, 3, 1, 2, 1]\n",
    "b = a.count(3) # 값이 1인 요소가 몇개인지 계산하는 함수\n",
    "print(b)"
   ]
  },
  {
   "cell_type": "code",
   "execution_count": 36,
   "id": "76833c27",
   "metadata": {},
   "outputs": [
    {
     "name": "stdout",
     "output_type": "stream",
     "text": [
      "[1, 2, 3, 4, 5]\n"
     ]
    }
   ],
   "source": [
    "# 리스트의 확장\n",
    "a = [1, 2, 3]\n",
    "# 리스트1.extend(리스트2) > 리스트1 확장\n",
    "a.extend([4, 5])\n",
    "print(a)"
   ]
  },
  {
   "cell_type": "code",
   "execution_count": 37,
   "id": "8e5dfae9",
   "metadata": {},
   "outputs": [
    {
     "name": "stdout",
     "output_type": "stream",
     "text": [
      "True\n",
      "False\n"
     ]
    }
   ],
   "source": [
    "# 값 in 리스트, 값 not in 리스트 => 결과는 True or False\n",
    "a = [1, 2, 3, 4, 5]\n",
    "result = 2 in a # 있으면 T, 없으면 F\n",
    "print(result)\n",
    "\n",
    "result = 2 not in a # 없으면 T, 있으면 F\n",
    "print(result)"
   ]
  },
  {
   "cell_type": "markdown",
   "id": "7991d4d7",
   "metadata": {},
   "source": [
    "# 튜플(Tuple)"
   ]
  },
  {
   "cell_type": "code",
   "execution_count": 38,
   "id": "31394a23",
   "metadata": {},
   "outputs": [
    {
     "name": "stdout",
     "output_type": "stream",
     "text": [
      "(1, 2, 'a', 'b')\n",
      "<class 'tuple'>\n",
      "1\n",
      "b\n"
     ]
    },
    {
     "ename": "TypeError",
     "evalue": "'tuple' object does not support item assignment",
     "output_type": "error",
     "traceback": [
      "\u001b[1;31m---------------------------------------------------------------------------\u001b[0m",
      "\u001b[1;31mTypeError\u001b[0m                                 Traceback (most recent call last)",
      "Input \u001b[1;32mIn [38]\u001b[0m, in \u001b[0;36m<cell line: 6>\u001b[1;34m()\u001b[0m\n\u001b[0;32m      4\u001b[0m \u001b[38;5;28mprint\u001b[39m(t1[\u001b[38;5;241m0\u001b[39m])\n\u001b[0;32m      5\u001b[0m \u001b[38;5;28mprint\u001b[39m(t1[\u001b[38;5;241m-\u001b[39m\u001b[38;5;241m1\u001b[39m])\n\u001b[1;32m----> 6\u001b[0m t1[\u001b[38;5;241m0\u001b[39m] \u001b[38;5;241m=\u001b[39m \u001b[38;5;124m'\u001b[39m\u001b[38;5;124mc\u001b[39m\u001b[38;5;124m'\u001b[39m\n",
      "\u001b[1;31mTypeError\u001b[0m: 'tuple' object does not support item assignment"
     ]
    }
   ],
   "source": [
    "t1 = (1, 2, 'a', 'b')\n",
    "print(t1)\n",
    "print(type(t1))\n",
    "print(t1[0])\n",
    "print(t1[-1])\n",
    "t1[0] = 'c' # 튜플은 변경불가능, 에러 발생"
   ]
  },
  {
   "cell_type": "code",
   "execution_count": 39,
   "id": "fc4e38fb",
   "metadata": {},
   "outputs": [
    {
     "ename": "TypeError",
     "evalue": "'tuple' object doesn't support item deletion",
     "output_type": "error",
     "traceback": [
      "\u001b[1;31m---------------------------------------------------------------------------\u001b[0m",
      "\u001b[1;31mTypeError\u001b[0m                                 Traceback (most recent call last)",
      "Input \u001b[1;32mIn [39]\u001b[0m, in \u001b[0;36m<cell line: 1>\u001b[1;34m()\u001b[0m\n\u001b[1;32m----> 1\u001b[0m \u001b[38;5;28;01mdel\u001b[39;00m t1[\u001b[38;5;241m0\u001b[39m]\n",
      "\u001b[1;31mTypeError\u001b[0m: 'tuple' object doesn't support item deletion"
     ]
    }
   ],
   "source": [
    "del t1[0]"
   ]
  },
  {
   "cell_type": "code",
   "execution_count": 40,
   "id": "284e9d1b",
   "metadata": {},
   "outputs": [
    {
     "name": "stdout",
     "output_type": "stream",
     "text": [
      "(2, 'a', 'b')\n",
      "(1, 2, 'a', 'b', 3, 4)\n",
      "t1 =  (1, 2, 'a', 'b', 3, 4)\n",
      "(1, 2, 'a', 'b', 3, 4, 1, 2, 'a', 'b', 3, 4, 1, 2, 'a', 'b', 3, 4)\n"
     ]
    }
   ],
   "source": [
    "t1 = (1, 2, 'a', 'b')\n",
    "print(t1[1:])\n",
    "t2 = (3, 4)\n",
    "print(t1 + t2)\n",
    "t1 = t1 + t2 # 새로운 튜플을 생성한다는 의미로 이해해야 한다.\n",
    "print(\"t1 = \", t1)\n",
    "print(t1 * 3)"
   ]
  },
  {
   "cell_type": "code",
   "execution_count": 41,
   "id": "86081f9e",
   "metadata": {},
   "outputs": [
    {
     "name": "stdout",
     "output_type": "stream",
     "text": [
      "20 10\n"
     ]
    }
   ],
   "source": [
    "# 파이썬의 기본 자료형 튜플\n",
    "a = 10\n",
    "b = 20\n",
    "a, b = b, a\n",
    "print(a, b)"
   ]
  },
  {
   "cell_type": "code",
   "execution_count": 43,
   "id": "82bbc966",
   "metadata": {},
   "outputs": [
    {
     "name": "stdout",
     "output_type": "stream",
     "text": [
      "1 2 3\n",
      "2 1\n"
     ]
    }
   ],
   "source": [
    "# packing(패킹) : 여러 개의 값을 하나의 변수에 저장하는 것\n",
    "t1 = (1, 2, 3)\n",
    "\n",
    "# unpacking : 하나의 변수에 담은 값을 각가의 변수에 할당하는 것\n",
    "# 데이터의 개수와 변수의 개수는 반드시 일치해야 한다,\n",
    "n1, n2, n3 = t1\n",
    "\n",
    "# 출력형식이 포함된 문자열.format(값1, 값2, 값3)\n",
    "print(\"{0} {1} {2}\".format(n1, n2, n3))\n",
    "\n",
    "# 변수의 값을 교환\n",
    "n1, n2 = n2, n1\n",
    "print(\"{0} {1}\".format(n1, n2))"
   ]
  },
  {
   "cell_type": "code",
   "execution_count": 44,
   "id": "4652f885",
   "metadata": {},
   "outputs": [
    {
     "name": "stdout",
     "output_type": "stream",
     "text": [
      "[1, 2, 3]\n",
      "('x', 'y', 'z')\n"
     ]
    }
   ],
   "source": [
    "# 형변환 : int(), float(), str()\n",
    "# 자료구조의 형변환 : list(), tuple()\n",
    "my_list = [1, 2, 3]\n",
    "my_tuple = ('x', 'y', 'z')\n",
    "print(my_list)\n",
    "print(my_tuple)"
   ]
  },
  {
   "cell_type": "code",
   "execution_count": 45,
   "id": "c69c8fb1",
   "metadata": {},
   "outputs": [
    {
     "name": "stdout",
     "output_type": "stream",
     "text": [
      "(1, 2, 3)\n",
      "['x', 'y', 'z']\n"
     ]
    }
   ],
   "source": [
    "print(tuple(my_list))\n",
    "print(list(my_tuple))"
   ]
  },
  {
   "cell_type": "markdown",
   "id": "c4592d48",
   "metadata": {},
   "source": [
    "## 딕셔너리"
   ]
  },
  {
   "cell_type": "code",
   "execution_count": 46,
   "id": "a092b4d6",
   "metadata": {},
   "outputs": [
    {
     "name": "stdout",
     "output_type": "stream",
     "text": [
      "{1: 'a'}\n",
      "<class 'dict'>\n"
     ]
    }
   ],
   "source": [
    "# 딕셔너리{key:value}\n",
    "# key는 순자인덱스보다 문자인덱스를 선호(권장)\n",
    "# key는 중복 불가능\n",
    "a = {1:'a'}\n",
    "print(a)\n",
    "print(type(a))"
   ]
  },
  {
   "cell_type": "code",
   "execution_count": 47,
   "id": "ec884ed4",
   "metadata": {},
   "outputs": [
    {
     "name": "stdout",
     "output_type": "stream",
     "text": [
      "{1: 'a', 2: 'b'}\n"
     ]
    }
   ],
   "source": [
    "# 사전의 아이템(item)\n",
    "a[2] = 'b'\n",
    "print(a)"
   ]
  },
  {
   "cell_type": "code",
   "execution_count": 1,
   "id": "69e86f8f",
   "metadata": {
    "ExecuteTime": {
     "end_time": "2022-09-07T07:14:57.682402Z",
     "start_time": "2022-09-07T07:14:57.675436Z"
    }
   },
   "outputs": [
    {
     "name": "stdout",
     "output_type": "stream",
     "text": [
      "{'name': ['홍길동', '010-1234-5678'], 'phone': '010-1234-5678', 'age': 23}\n"
     ]
    }
   ],
   "source": [
    "stu = {'name':['홍길동','010-1234-5678'], 'phone':'010-1234-5678', 'age':23}\n",
    "print(stu)"
   ]
  },
  {
   "cell_type": "code",
   "execution_count": 2,
   "id": "b835935d",
   "metadata": {
    "ExecuteTime": {
     "end_time": "2022-09-07T07:15:00.362862Z",
     "start_time": "2022-09-07T07:15:00.353856Z"
    }
   },
   "outputs": [
    {
     "name": "stdout",
     "output_type": "stream",
     "text": [
      "['홍길동', '010-1234-5678']\n",
      "['홍길동', '010-1234-5678']\n",
      "23\n",
      "23\n"
     ]
    }
   ],
   "source": [
    "# 키를 이용해서 값을 조회\n",
    "print(stu['name']) # 딕셔너리[key]\n",
    "print(stu.get('name')) # 딕셔너리.get(key)\n",
    "\n",
    "print(stu['age']) # 딕셔너리[key]\n",
    "print(stu.get('age')) # 딕셔너리.get(key)"
   ]
  },
  {
   "cell_type": "code",
   "execution_count": 54,
   "id": "3a3849a5",
   "metadata": {},
   "outputs": [
    {
     "data": {
      "text/plain": [
       "dict_keys(['name', 'phone', 'age'])"
      ]
     },
     "execution_count": 54,
     "metadata": {},
     "output_type": "execute_result"
    }
   ],
   "source": [
    "# keys 조회\n",
    "stu.keys()"
   ]
  },
  {
   "cell_type": "code",
   "execution_count": 55,
   "id": "dcff90c4",
   "metadata": {},
   "outputs": [
    {
     "data": {
      "text/plain": [
       "dict_values(['홍길동', '010-1234-5678', 23])"
      ]
     },
     "execution_count": 55,
     "metadata": {},
     "output_type": "execute_result"
    }
   ],
   "source": [
    "# values 조회\n",
    "stu.values()"
   ]
  },
  {
   "cell_type": "code",
   "execution_count": 56,
   "id": "02049210",
   "metadata": {},
   "outputs": [
    {
     "data": {
      "text/plain": [
       "dict_items([('name', '홍길동'), ('phone', '010-1234-5678'), ('age', 23)])"
      ]
     },
     "execution_count": 56,
     "metadata": {},
     "output_type": "execute_result"
    }
   ],
   "source": [
    "# item 조회\n",
    "stu.items()"
   ]
  },
  {
   "cell_type": "code",
   "execution_count": 58,
   "id": "0116b6ef",
   "metadata": {},
   "outputs": [
    {
     "name": "stdout",
     "output_type": "stream",
     "text": [
      "name ==> 홍길동\n",
      "phone ==> 010-1234-5678\n",
      "age ==> 23\n"
     ]
    }
   ],
   "source": [
    "# for 개별변수 in 집합변수\n",
    "for k in stu.keys(): # for k in ['name', 'phone', 'age']\n",
    "    print(k, \"==>\", stu[k])"
   ]
  },
  {
   "cell_type": "code",
   "execution_count": 61,
   "id": "0c38a35d",
   "metadata": {},
   "outputs": [
    {
     "name": "stdout",
     "output_type": "stream",
     "text": [
      "['name', 'phone', 'age']\n"
     ]
    }
   ],
   "source": [
    "b = list(stu.keys())\n",
    "print(b)"
   ]
  },
  {
   "cell_type": "code",
   "execution_count": 60,
   "id": "83262663",
   "metadata": {},
   "outputs": [
    {
     "data": {
      "text/plain": [
       "dict_keys"
      ]
     },
     "execution_count": 60,
     "metadata": {},
     "output_type": "execute_result"
    }
   ],
   "source": [
    "b = stu.keys()\n",
    "type(b)"
   ]
  },
  {
   "cell_type": "code",
   "execution_count": 62,
   "id": "ee920ebc",
   "metadata": {},
   "outputs": [
    {
     "name": "stdout",
     "output_type": "stream",
     "text": [
      "['홍길동', '010-1234-5678', 23]\n"
     ]
    }
   ],
   "source": [
    "c = list(stu.values())\n",
    "print(c)"
   ]
  },
  {
   "cell_type": "code",
   "execution_count": 63,
   "id": "43c5bc66",
   "metadata": {},
   "outputs": [
    {
     "name": "stdout",
     "output_type": "stream",
     "text": [
      "[('name', '홍길동'), ('phone', '010-1234-5678'), ('age', 23)]\n"
     ]
    }
   ],
   "source": [
    "d = list(stu.items())\n",
    "print(d)"
   ]
  },
  {
   "cell_type": "code",
   "execution_count": 64,
   "id": "ee325a75",
   "metadata": {},
   "outputs": [
    {
     "name": "stdout",
     "output_type": "stream",
     "text": [
      "('name', '홍길동')\n"
     ]
    }
   ],
   "source": [
    "print(d[0])"
   ]
  },
  {
   "cell_type": "code",
   "execution_count": 65,
   "id": "1df26ec7",
   "metadata": {},
   "outputs": [
    {
     "name": "stdout",
     "output_type": "stream",
     "text": [
      "name ==> 홍길동\n",
      "phone ==> 010-1234-5678\n",
      "age ==> 23\n"
     ]
    }
   ],
   "source": [
    "for k,v in stu.items():\n",
    "    print(k, \"==>\", v)"
   ]
  },
  {
   "cell_type": "code",
   "execution_count": 66,
   "id": "b9fa754d",
   "metadata": {},
   "outputs": [
    {
     "name": "stdout",
     "output_type": "stream",
     "text": [
      "{'name': '홍길동', 'phone': '010-1234-5678', 'age': 23, 'weight': 67.4}\n"
     ]
    }
   ],
   "source": [
    "# 새로운 item 추가\n",
    "stu['weight'] = 67.4\n",
    "print(stu)"
   ]
  },
  {
   "cell_type": "code",
   "execution_count": 67,
   "id": "2fbebe9b",
   "metadata": {},
   "outputs": [
    {
     "data": {
      "text/plain": [
       "True"
      ]
     },
     "execution_count": 67,
     "metadata": {},
     "output_type": "execute_result"
    }
   ],
   "source": [
    "'weight' in stu"
   ]
  },
  {
   "cell_type": "code",
   "execution_count": 68,
   "id": "62810add",
   "metadata": {},
   "outputs": [
    {
     "data": {
      "text/plain": [
       "False"
      ]
     },
     "execution_count": 68,
     "metadata": {},
     "output_type": "execute_result"
    }
   ],
   "source": [
    "'67.4' in stu"
   ]
  },
  {
   "cell_type": "markdown",
   "id": "76e51d28",
   "metadata": {},
   "source": [
    "# 집합(set)"
   ]
  },
  {
   "cell_type": "code",
   "execution_count": 69,
   "id": "71fa4a55",
   "metadata": {},
   "outputs": [
    {
     "data": {
      "text/plain": [
       "{1, 2, 3, 4, 5}"
      ]
     },
     "execution_count": 69,
     "metadata": {},
     "output_type": "execute_result"
    }
   ],
   "source": [
    "# 집합 자료형 : 중복값은 허용하지 않으며, 순서대로 저장되지 않는다.\n",
    "s1 = set([5, 4, 3, 2, 1, 1, 2, 3, 2, 3, 4, 5])\n",
    "s1"
   ]
  },
  {
   "cell_type": "code",
   "execution_count": 70,
   "id": "41ed12a6",
   "metadata": {},
   "outputs": [
    {
     "name": "stdout",
     "output_type": "stream",
     "text": [
      "교집합 :  {4, 5, 6}\n",
      "합집합 :  {1, 2, 3, 4, 5, 6, 7, 8, 9}\n",
      "차집합 :  {1, 2, 3}\n"
     ]
    }
   ],
   "source": [
    "s1 = set([1, 2, 3, 4, 5, 6])\n",
    "s2 = set([4, 5, 6, 7, 8, 9])\n",
    "\n",
    "# 교집합,  &\n",
    "a = s1 & s2\n",
    "print(\"교집합 : \", a)\n",
    "\n",
    "# 합집합, |\n",
    "b = s1 | s2\n",
    "print(\"합집합 : \", b)\n",
    "\n",
    "# 차집합, -\n",
    "c = s1 - s2\n",
    "print(\"차집합 : \", c)"
   ]
  },
  {
   "cell_type": "code",
   "execution_count": 71,
   "id": "ded4bc46",
   "metadata": {},
   "outputs": [
    {
     "name": "stdout",
     "output_type": "stream",
     "text": [
      "교집합 :  {4, 5, 6}\n",
      "합집합 :  {1, 2, 3, 4, 5, 6, 7, 8, 9}\n",
      "차집합 :  {1, 2, 3}\n"
     ]
    }
   ],
   "source": [
    "print(\"교집합 : \",s1.intersection(s2))\n",
    "print(\"합집합 : \", s1.union(s2))\n",
    "print(\"차집합 : \", s1.difference(s2))"
   ]
  },
  {
   "cell_type": "code",
   "execution_count": 72,
   "id": "8eb8b70f",
   "metadata": {},
   "outputs": [
    {
     "name": "stdout",
     "output_type": "stream",
     "text": [
      "{1, 2, 3, 4}\n",
      "{1, 2, 3, 4, 5}\n"
     ]
    }
   ],
   "source": [
    "s1 = set([1, 2, 3])\n",
    "# 요소 추가\n",
    "s1.add(4)\n",
    "print(s1)\n",
    "s1.add(5) # 한번에 여러 요소 추가 불가능, 에러 발생\n",
    "print(s1)"
   ]
  },
  {
   "cell_type": "code",
   "execution_count": 73,
   "id": "f3705623",
   "metadata": {},
   "outputs": [
    {
     "name": "stdout",
     "output_type": "stream",
     "text": [
      "{1, 2, 3, 4, 5, 6}\n"
     ]
    }
   ],
   "source": [
    "s1 = set([1, 2, 3])\n",
    "s1.update([4, 5, 6]) # update는 리스트 사용 가능\n",
    "print(s1)"
   ]
  },
  {
   "cell_type": "code",
   "execution_count": 74,
   "id": "a6d00b52",
   "metadata": {},
   "outputs": [
    {
     "name": "stdout",
     "output_type": "stream",
     "text": [
      "{1, 3, 4, 5, 6}\n"
     ]
    }
   ],
   "source": [
    "s1.remove(2) #값 제거\n",
    "print(s1)"
   ]
  },
  {
   "cell_type": "code",
   "execution_count": 75,
   "id": "ab4b2cfe",
   "metadata": {},
   "outputs": [
    {
     "name": "stdout",
     "output_type": "stream",
     "text": [
      "{'a': 10}\n",
      "{10}\n"
     ]
    }
   ],
   "source": [
    "dic = {\"a\":10}\n",
    "sse = {10}\n",
    "print(dic)\n",
    "print(sse)"
   ]
  },
  {
   "cell_type": "code",
   "execution_count": 81,
   "id": "b27fbbed",
   "metadata": {},
   "outputs": [
    {
     "name": "stdout",
     "output_type": "stream",
     "text": [
      "2815488611888\n",
      "2815488612848\n",
      "2815488612848\n",
      "2815488611888\n"
     ]
    }
   ],
   "source": [
    "x = 300\n",
    "y = 300\n",
    "print(id(x))\n",
    "print(id(y))\n",
    "x,y = y,x\n",
    "print(id(x))\n",
    "print(id(y))"
   ]
  },
  {
   "cell_type": "markdown",
   "id": "d4d0bde0",
   "metadata": {},
   "source": [
    "# 날짜 자료형"
   ]
  },
  {
   "cell_type": "code",
   "execution_count": 82,
   "id": "f94de940",
   "metadata": {},
   "outputs": [],
   "source": [
    "# 날짜 관련 함수를 가지고 있는 모듈을 포함\n",
    "# import datetime 해당 모듈 전체를 가져온다는 의미\n",
    "from datetime import date, time, datetime, timedelta"
   ]
  },
  {
   "cell_type": "code",
   "execution_count": 83,
   "id": "d15fe330",
   "metadata": {},
   "outputs": [
    {
     "name": "stdout",
     "output_type": "stream",
     "text": [
      "today : 2022-09-01\n"
     ]
    }
   ],
   "source": [
    "# date 변수, today() - 오늘 날짜를 구하는 함수\n",
    "today = date.today()\n",
    "print(\"today : {}\".format(today))"
   ]
  },
  {
   "cell_type": "code",
   "execution_count": 86,
   "id": "dfceb62e",
   "metadata": {},
   "outputs": [
    {
     "name": "stdout",
     "output_type": "stream",
     "text": [
      "연도 : 2022\n",
      "월 : 9\n",
      "일 : 1\n"
     ]
    }
   ],
   "source": [
    "print(\"년 : {}\".format(today.year))\n",
    "print(\"월 : {}\".format(today.month))\n",
    "print(\"일 : {}\".format(today.day))"
   ]
  },
  {
   "cell_type": "code",
   "execution_count": 105,
   "id": "60d039f5",
   "metadata": {},
   "outputs": [
    {
     "name": "stdout",
     "output_type": "stream",
     "text": [
      "현재 날짜와 시간 : 2022-09-01 12:50:25.044107\n"
     ]
    }
   ],
   "source": [
    "# 날짜 시간 구하기\n",
    "current_datetime = datetime.today()\n",
    "print(\"현재 날짜와 시간 : {}\".format(current_datetime))"
   ]
  },
  {
   "cell_type": "code",
   "execution_count": 107,
   "id": "3c49915d",
   "metadata": {},
   "outputs": [
    {
     "name": "stdout",
     "output_type": "stream",
     "text": [
      "2022-09-01 14:24:25.015394\n",
      "<class 'datetime.datetime'>\n"
     ]
    }
   ],
   "source": [
    "# 형식화된 날짜 출력 : 서식(%)\n",
    "today = datetime.today()\n",
    "print(today)\n",
    "print(type(today))"
   ]
  },
  {
   "cell_type": "code",
   "execution_count": 112,
   "id": "8bf5e33c",
   "metadata": {},
   "outputs": [
    {
     "name": "stdout",
     "output_type": "stream",
     "text": [
      "2022-09-01 14:24:25\n",
      "<class 'str'>\n"
     ]
    }
   ],
   "source": [
    "# 날짜 자료형을 문자열로 형변환\n",
    "# %y - 년도, %m - 월, %M - 분, %H - 시간\n",
    "d = today.strftime(\"%Y-%m-%d %H:%M:%S\")\n",
    "print(d)\n",
    "print(type(d))"
   ]
  },
  {
   "cell_type": "code",
   "execution_count": 113,
   "id": "f3f64f32",
   "metadata": {},
   "outputs": [
    {
     "name": "stdout",
     "output_type": "stream",
     "text": [
      "2022-08-31 14:24:25.015394\n"
     ]
    }
   ],
   "source": [
    "days = timedelta(days=-1)\n",
    "# 어제 날짜\n",
    "print(today + days)"
   ]
  },
  {
   "cell_type": "code",
   "execution_count": 114,
   "id": "184478c7",
   "metadata": {},
   "outputs": [
    {
     "name": "stdout",
     "output_type": "stream",
     "text": [
      "2022-08-25 14:24:25.015394\n"
     ]
    }
   ],
   "source": [
    "#1주일 전\n",
    "days = timedelta(days = -7)\n",
    "print(today + days)"
   ]
  },
  {
   "cell_type": "code",
   "execution_count": 116,
   "id": "493169b3",
   "metadata": {},
   "outputs": [
    {
     "name": "stdout",
     "output_type": "stream",
     "text": [
      "2022-10-01 14:24:25.015394\n"
     ]
    }
   ],
   "source": [
    "days = timedelta(days = 30)\n",
    "print(today + days)"
   ]
  },
  {
   "cell_type": "code",
   "execution_count": 117,
   "id": "2036b9c3",
   "metadata": {},
   "outputs": [
    {
     "name": "stdout",
     "output_type": "stream",
     "text": [
      "2022-09-01 06:24:25.015394\n"
     ]
    }
   ],
   "source": [
    "#8시간 전\n",
    "hours = timedelta(hours = -8)\n",
    "print(today + hours)"
   ]
  },
  {
   "cell_type": "markdown",
   "id": "3c06df98",
   "metadata": {},
   "source": [
    "# 리스트 내포(List comprehension)"
   ]
  },
  {
   "cell_type": "code",
   "execution_count": 118,
   "id": "2e03c28a",
   "metadata": {},
   "outputs": [
    {
     "name": "stdout",
     "output_type": "stream",
     "text": [
      "[2, 4, 6, 8, 10]\n"
     ]
    }
   ],
   "source": [
    "a = [] # a = list()\n",
    "\n",
    "for i in range(1, 6): # [1, 2, 3, 4, 5]\n",
    "    a.append(i * 2)\n",
    "    \n",
    "print(a)"
   ]
  },
  {
   "cell_type": "code",
   "execution_count": 119,
   "id": "89d9bcec",
   "metadata": {},
   "outputs": [
    {
     "name": "stdout",
     "output_type": "stream",
     "text": [
      "[2, 4, 6, 8, 10]\n"
     ]
    }
   ],
   "source": [
    "# 출력값 - 실제 리스트에 담겨질 값\n",
    "a = [i * 2 for i in range(1,6)]\n",
    "print(a)"
   ]
  },
  {
   "cell_type": "code",
   "execution_count": 122,
   "id": "e2e6ffa3",
   "metadata": {},
   "outputs": [
    {
     "name": "stdout",
     "output_type": "stream",
     "text": [
      "['사과', '자두', '바나나', '체리']\n"
     ]
    }
   ],
   "source": [
    "array = ['사과', '자두', '초콜릿', '바나나', '체리']\n",
    "output = []\n",
    "\n",
    "for i in array:\n",
    "    if i != '초콜릿':\n",
    "        output.append(i)\n",
    "        \n",
    "print(output)"
   ]
  },
  {
   "cell_type": "code",
   "execution_count": 125,
   "id": "a23e3a4e",
   "metadata": {},
   "outputs": [
    {
     "name": "stdout",
     "output_type": "stream",
     "text": [
      "['사과', '자두', '바나나', '체리']\n"
     ]
    }
   ],
   "source": [
    "# 인라인 함수 inline 한 줄로만 이루어진 함수\n",
    "array = ['사과', '자두', '초콜릿', '바나나', '체리']\n",
    "output = [i for i in array if i != '초콜릿']\n",
    "\n",
    "print(output)"
   ]
  }
 ],
 "metadata": {
  "kernelspec": {
   "display_name": "Python 3 (ipykernel)",
   "language": "python",
   "name": "python3"
  },
  "language_info": {
   "codemirror_mode": {
    "name": "ipython",
    "version": 3
   },
   "file_extension": ".py",
   "mimetype": "text/x-python",
   "name": "python",
   "nbconvert_exporter": "python",
   "pygments_lexer": "ipython3",
   "version": "3.9.12"
  },
  "toc": {
   "base_numbering": 1,
   "nav_menu": {},
   "number_sections": true,
   "sideBar": true,
   "skip_h1_title": false,
   "title_cell": "Table of Contents",
   "title_sidebar": "Contents",
   "toc_cell": false,
   "toc_position": {},
   "toc_section_display": true,
   "toc_window_display": true
  }
 },
 "nbformat": 4,
 "nbformat_minor": 5
}
