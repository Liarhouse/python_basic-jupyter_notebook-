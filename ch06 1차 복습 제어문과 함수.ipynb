{
 "cells": [
  {
   "cell_type": "markdown",
   "id": "ee903163",
   "metadata": {},
   "source": [
    "# Python3 Program\n",
    "#### 변수 - 자료구조(리스트, 튜플, 집합, 사전) - 함수\n",
    "#### 자료 - 기본자료형(논리형, 정수형, 실수형, 문자형)\n",
    "#### 제어문 - 조건문, 반복문"
   ]
  },
  {
   "cell_type": "markdown",
   "id": "1413e389",
   "metadata": {},
   "source": [
    "### 문자열 자료형"
   ]
  },
  {
   "cell_type": "code",
   "execution_count": 1,
   "id": "9cb80ad6",
   "metadata": {},
   "outputs": [],
   "source": [
    "# 문자열(string) 자료형 : 하나의 문자 또는 그 이상의 문자를 묶어놓은 자료형\n",
    "# 큰따옴표(\"\") 또는 작은따옴표('')\n",
    "# 여러 줄의 문자열을 처리할 때 (\"\"\" ~ \"\"\", '''~''')"
   ]
  },
  {
   "cell_type": "code",
   "execution_count": null,
   "id": "d13f881f",
   "metadata": {},
   "outputs": [],
   "source": [
    "print(\"Hello World\")"
   ]
  },
  {
   "cell_type": "code",
   "execution_count": 2,
   "id": "497f9976",
   "metadata": {},
   "outputs": [
    {
     "data": {
      "text/plain": [
       "9"
      ]
     },
     "execution_count": 2,
     "metadata": {},
     "output_type": "execute_result"
    }
   ],
   "source": [
    "4+5"
   ]
  },
  {
   "cell_type": "code",
   "execution_count": 3,
   "id": "3840aaea",
   "metadata": {},
   "outputs": [
    {
     "data": {
      "text/plain": [
       "'python is fun'"
      ]
     },
     "execution_count": 3,
     "metadata": {},
     "output_type": "execute_result"
    }
   ],
   "source": [
    "'python is fun'"
   ]
  },
  {
   "cell_type": "code",
   "execution_count": null,
   "id": "0682bdf9",
   "metadata": {},
   "outputs": [],
   "source": [
    "\"\"\"Life is short,\n",
    "You need Python\"\"\""
   ]
  },
  {
   "cell_type": "markdown",
   "id": "2f538710",
   "metadata": {},
   "source": [
    "##### 이스케이프 문자\n",
    "- \\\\(￦) 동일\n",
    "- \\n(new line) : 줄바꿈(개행)\n",
    "- \\t(tap key) : 일정 간격을 띄어라"
   ]
  },
  {
   "cell_type": "code",
   "execution_count": 4,
   "id": "77d8f1d6",
   "metadata": {},
   "outputs": [
    {
     "name": "stdout",
     "output_type": "stream",
     "text": [
      "hellopython\n",
      "hellopythonhellopythonhellopython\n"
     ]
    }
   ],
   "source": [
    "# 연산 : +, *\n",
    "a = \"hello\"\n",
    "b = \"python\"\n",
    "print(a + b)\n",
    "print((a + b) * 3)"
   ]
  },
  {
   "cell_type": "code",
   "execution_count": 6,
   "id": "9e78d142",
   "metadata": {},
   "outputs": [
    {
     "name": "stdout",
     "output_type": "stream",
     "text": [
      "====================================================================================================\n",
      "Life is short, You need Python\n",
      "====================================================================================================\n"
     ]
    }
   ],
   "source": [
    "print(\"=\" * 100)\n",
    "print(\"Life is short, You need Python\")\n",
    "print(\"=\" * 100)"
   ]
  },
  {
   "cell_type": "code",
   "execution_count": 8,
   "id": "5c6384e0",
   "metadata": {},
   "outputs": [
    {
     "name": "stdout",
     "output_type": "stream",
     "text": [
      "30\n"
     ]
    }
   ],
   "source": [
    "# 문자열 길이 : len()\n",
    "len(\"====================================================================================================\")\n",
    "p = \"Life is short, You need Python\"\n",
    "print(len(p))"
   ]
  },
  {
   "cell_type": "code",
   "execution_count": 10,
   "id": "78f0ec14",
   "metadata": {},
   "outputs": [
    {
     "name": "stdout",
     "output_type": "stream",
     "text": [
      "e\n",
      "n\n"
     ]
    }
   ],
   "source": [
    "# 인덱싱과 슬라이싱\n",
    "# [index], [start:end], [start:end:step]\n",
    "a = \"Life is too short, You need Python\"\n",
    "print(a[3]) #4번째 문자, 인덱스의 시작은 0부터\n",
    "print(a[-1]) #리버스 인덱스, 마지막 문자"
   ]
  },
  {
   "cell_type": "code",
   "execution_count": 12,
   "id": "003e3ed7",
   "metadata": {},
   "outputs": [
    {
     "name": "stdout",
     "output_type": "stream",
     "text": [
      "Life\n"
     ]
    }
   ],
   "source": [
    "print(a[0:4])\n",
    "print(a[:4]) # 시작 인덱스 생략시 처음부터"
   ]
  },
  {
   "cell_type": "code",
   "execution_count": 13,
   "id": "7d715b86",
   "metadata": {},
   "outputs": [
    {
     "name": "stdout",
     "output_type": "stream",
     "text": [
      "Life is too short, You need Python\n",
      "Life is too short, You need Python\n"
     ]
    }
   ],
   "source": [
    "print(a[0:]) # 마지막 인덱스 생략시 끝까지\n",
    "print(a[:])"
   ]
  },
  {
   "cell_type": "code",
   "execution_count": 30,
   "id": "af0a34b8",
   "metadata": {},
   "outputs": [
    {
     "name": "stdout",
     "output_type": "stream",
     "text": [
      "생년월일 : 2222년, 09월, 02일\n",
      "성별 : 남자\n"
     ]
    }
   ],
   "source": [
    "jumin = \"220902-1234567\"\n",
    "# 출생년도, 월, 일\n",
    "# 성별\n",
    "# 출생지역\n",
    "y = jumin[:2]\n",
    "m = jumin[2:4]\n",
    "d = jumin[4:6]\n",
    "print(\"생년월일 : 22{0}년, {1}월, {2}일\".format(y, m, d))\n",
    "s = int(jumin[7])\n",
    "\n",
    "\n",
    "if s % 2 == 1:\n",
    "    print(\"성별 : 남자\")\n",
    "else:\n",
    "    print(\"성별 : 여자\")"
   ]
  },
  {
   "cell_type": "code",
   "execution_count": 31,
   "id": "a4649579",
   "metadata": {},
   "outputs": [],
   "source": [
    "# 파이썬의 메모리 관리 방식\n",
    "# -5 ~ 256까지는 이미 메모리에 저장되어서 시작된다.\n",
    "a = -5\n",
    "# print(a == -5)\n",
    "print(a is -5)\n",
    "\n",
    "a = -6\n",
    "#print(a == -6)\n",
    "print(a is -6)"
   ]
  },
  {
   "cell_type": "code",
   "execution_count": 36,
   "id": "a1fdd221",
   "metadata": {},
   "outputs": [
    {
     "name": "stdout",
     "output_type": "stream",
     "text": [
      "hello\n",
      "None\n"
     ]
    },
    {
     "data": {
      "text/plain": [
       "0"
      ]
     },
     "execution_count": 36,
     "metadata": {},
     "output_type": "execute_result"
    }
   ],
   "source": [
    "a = print(\"hello\")\n",
    "print(a)\n",
    "love = 0\n",
    "love"
   ]
  },
  {
   "cell_type": "markdown",
   "id": "7f3809fd",
   "metadata": {},
   "source": [
    "### 리스트(List) 자료형"
   ]
  },
  {
   "cell_type": "code",
   "execution_count": 37,
   "id": "258e4273",
   "metadata": {},
   "outputs": [
    {
     "data": {
      "text/plain": [
       "[1, 'a', 3.14, 'Korea', True]"
      ]
     },
     "execution_count": 37,
     "metadata": {},
     "output_type": "execute_result"
    }
   ],
   "source": [
    "a = [1, 'a', 3.14, 'Korea', True]\n",
    "a"
   ]
  },
  {
   "cell_type": "code",
   "execution_count": 39,
   "id": "b6318d80",
   "metadata": {},
   "outputs": [
    {
     "name": "stdout",
     "output_type": "stream",
     "text": [
      "<class 'list'>\n",
      "<class 'int'>\n"
     ]
    }
   ],
   "source": [
    "print(type(a))\n",
    "print(type(a[0]))"
   ]
  },
  {
   "cell_type": "code",
   "execution_count": 40,
   "id": "fbd4d4ac",
   "metadata": {},
   "outputs": [
    {
     "name": "stdout",
     "output_type": "stream",
     "text": [
      "<class 'list'>\n",
      "<class 'list'>\n"
     ]
    }
   ],
   "source": [
    "b = []\n",
    "c = list() # tuple()\n",
    "print(type(b))\n",
    "print(type(c))"
   ]
  },
  {
   "cell_type": "code",
   "execution_count": 41,
   "id": "fc3bf291",
   "metadata": {},
   "outputs": [
    {
     "data": {
      "text/plain": [
       "[1, 2, 3, ['a', 'b', 'c', 'd'], 5, 6, (7, 8)]"
      ]
     },
     "execution_count": 41,
     "metadata": {},
     "output_type": "execute_result"
    }
   ],
   "source": [
    "x = [1, 2, 3, ['a', 'b', 'c', 'd'], 5, 6, (7,8)]\n",
    "x"
   ]
  },
  {
   "cell_type": "code",
   "execution_count": 42,
   "id": "54ea15a4",
   "metadata": {},
   "outputs": [
    {
     "name": "stdout",
     "output_type": "stream",
     "text": [
      "(7, 8)\n"
     ]
    }
   ],
   "source": [
    "print(x[-1])"
   ]
  },
  {
   "cell_type": "code",
   "execution_count": 43,
   "id": "47fafcde",
   "metadata": {},
   "outputs": [
    {
     "name": "stdout",
     "output_type": "stream",
     "text": [
      "['a', 'b', 'c', 'd']\n"
     ]
    }
   ],
   "source": [
    "print(x[3])"
   ]
  },
  {
   "cell_type": "code",
   "execution_count": 44,
   "id": "b15f4dc3",
   "metadata": {},
   "outputs": [
    {
     "name": "stdout",
     "output_type": "stream",
     "text": [
      "b\n"
     ]
    }
   ],
   "source": [
    "print(x[3][1]) # [행, 열]"
   ]
  },
  {
   "cell_type": "code",
   "execution_count": 45,
   "id": "8fb7fdc6",
   "metadata": {},
   "outputs": [
    {
     "name": "stdout",
     "output_type": "stream",
     "text": [
      "['b', 'c']\n"
     ]
    }
   ],
   "source": [
    "print(x[3][1:3])"
   ]
  },
  {
   "cell_type": "code",
   "execution_count": null,
   "id": "df6a7675",
   "metadata": {},
   "outputs": [],
   "source": [
    "print(x[3][1], x[3][2])"
   ]
  },
  {
   "cell_type": "code",
   "execution_count": 46,
   "id": "bc4f6ac0",
   "metadata": {},
   "outputs": [
    {
     "data": {
      "text/plain": [
       "[1, 2, 3, 4, 5, 6]"
      ]
     },
     "execution_count": 46,
     "metadata": {},
     "output_type": "execute_result"
    }
   ],
   "source": [
    "a = [1, 2, 3]\n",
    "b = [4, 5, 6]\n",
    "a + b"
   ]
  },
  {
   "cell_type": "code",
   "execution_count": 47,
   "id": "b59c75f0",
   "metadata": {},
   "outputs": [
    {
     "data": {
      "text/plain": [
       "[5, 7, 9]"
      ]
     },
     "execution_count": 47,
     "metadata": {},
     "output_type": "execute_result"
    }
   ],
   "source": [
    "[a[0] + b[0], a[1]+b[1], a[2]+b[2]]"
   ]
  },
  {
   "cell_type": "code",
   "execution_count": 53,
   "id": "2ac641a5",
   "metadata": {},
   "outputs": [
    {
     "name": "stdout",
     "output_type": "stream",
     "text": [
      "[5, 7, 9]\n",
      "[5, 7, 9]\n"
     ]
    }
   ],
   "source": [
    "x = []\n",
    "for i in range(3):  # 0, 1, 2\n",
    "    imsi = a[i] + b[i]\n",
    "    x.append(imsi)\n",
    "print(x)\n",
    "\n",
    "x = [a[i] + b[i] for i in range(3)]\n",
    "print(x)"
   ]
  },
  {
   "cell_type": "code",
   "execution_count": 54,
   "id": "a34a71f3",
   "metadata": {},
   "outputs": [
    {
     "data": {
      "text/plain": [
       "[1, 2, (3, 4, 5)]"
      ]
     },
     "execution_count": 54,
     "metadata": {},
     "output_type": "execute_result"
    }
   ],
   "source": [
    "x = [1, 2, (3, 4, 5)]\n",
    "x"
   ]
  },
  {
   "cell_type": "code",
   "execution_count": 55,
   "id": "385d7ca0",
   "metadata": {},
   "outputs": [
    {
     "name": "stdout",
     "output_type": "stream",
     "text": [
      "(1, 2, ['a', 'b', 'c'])\n",
      "<class 'tuple'>\n"
     ]
    }
   ],
   "source": [
    "y = (1, 2, ['a', 'b', 'c'])\n",
    "print(y)\n",
    "print(type(y))"
   ]
  },
  {
   "cell_type": "code",
   "execution_count": 56,
   "id": "60079c08",
   "metadata": {},
   "outputs": [
    {
     "name": "stdout",
     "output_type": "stream",
     "text": [
      "['a', 'b', 'c']\n"
     ]
    }
   ],
   "source": [
    "print(y[-1])"
   ]
  },
  {
   "cell_type": "code",
   "execution_count": 57,
   "id": "98d42de0",
   "metadata": {},
   "outputs": [
    {
     "name": "stdout",
     "output_type": "stream",
     "text": [
      "(1, 2, [3, 'b', 'c'])\n"
     ]
    }
   ],
   "source": [
    "y[-1][0] = 3\n",
    "print(y)"
   ]
  },
  {
   "cell_type": "code",
   "execution_count": 58,
   "id": "f0d781cb",
   "metadata": {},
   "outputs": [],
   "source": [
    "# 리스트 관련 함수\n",
    "## 리스트에 마지막 요소를 추가 append()\n",
    "## 리스트에 원하는 위치에 요소를 추가 insert(index, data)\n",
    "## 리스트 정렬 sort() - 오름차순, sort(reverse=True) - 내림차순\n",
    "## 리스트 뒤집기 reverse() - 리스트를 역순으로 읽음.\n",
    "## 리스트 해당 요소의 인덱스 index(data)\n",
    "## 리스트 요소 삭제 : del 리스트명[인덱스], remove(data), clear()\n",
    "## 리스트의 마지막 요소를 추출 : 리스트명.pop()\n",
    "## 리스트의 요소의 개수 : count() / count(data) : data의 개수를 확인\n",
    "## 리스트의 확장 : extend(list) 리스트 자료형만 사용가능"
   ]
  },
  {
   "cell_type": "markdown",
   "id": "c978a3e6",
   "metadata": {},
   "source": [
    "### 튜플(Tuple) 자료형"
   ]
  },
  {
   "cell_type": "code",
   "execution_count": 61,
   "id": "7b82cbd9",
   "metadata": {},
   "outputs": [
    {
     "name": "stdout",
     "output_type": "stream",
     "text": [
      "() (1,) (1, 2, 3)\n"
     ]
    }
   ],
   "source": [
    "t1 = ()\n",
    "t2 = (1,)\n",
    "t3 = (1, 2, 3)\n",
    "print(t1, t2, t3)"
   ]
  },
  {
   "cell_type": "code",
   "execution_count": 62,
   "id": "6b83d5bd",
   "metadata": {},
   "outputs": [
    {
     "name": "stdout",
     "output_type": "stream",
     "text": [
      "[] [1] [1, 2, 3]\n"
     ]
    }
   ],
   "source": [
    "l1 = []\n",
    "l2 = [1]\n",
    "l3 = [1, 2, 3]\n",
    "print(l1, l2, l3)"
   ]
  },
  {
   "cell_type": "code",
   "execution_count": 63,
   "id": "2d61442c",
   "metadata": {},
   "outputs": [
    {
     "name": "stdout",
     "output_type": "stream",
     "text": [
      "(1, 2, 3, ['a', 'b'], ('aaa', 'bbb'))\n"
     ]
    }
   ],
   "source": [
    "t4 = (1, 2, 3, ['a', 'b'], ('aaa', 'bbb'))\n",
    "print(t4)"
   ]
  },
  {
   "cell_type": "code",
   "execution_count": 65,
   "id": "c316601a",
   "metadata": {},
   "outputs": [
    {
     "name": "stdout",
     "output_type": "stream",
     "text": [
      "1834641680320\n",
      "1834522995056\n",
      "1834525795120\n",
      "1834641680320\n",
      "1834522995056\n",
      "1834522995056\n"
     ]
    }
   ],
   "source": [
    "print(id(t4[3]))\n",
    "print(id(t4[3][0]))\n",
    "print(id(t4[3][1]))\n",
    "\n",
    "t4[3][0] = 3\n",
    "\n",
    "print(id(t4[3]))\n",
    "print(id(t4[2]))\n",
    "print(id(t4[3][0]))"
   ]
  },
  {
   "cell_type": "code",
   "execution_count": 66,
   "id": "0347dfdd",
   "metadata": {},
   "outputs": [
    {
     "name": "stdout",
     "output_type": "stream",
     "text": [
      "(1, 2, 'a', 'b', 3, 4)\n",
      "(1, 2, 'a', 'b')\n",
      "(3, 4)\n"
     ]
    }
   ],
   "source": [
    "t1 = (1, 2, 'a', 'b')\n",
    "t2 = (3, 4)\n",
    "print(t1 + t2)\n",
    "print(t1)\n",
    "print(t2)\n"
   ]
  },
  {
   "cell_type": "code",
   "execution_count": 67,
   "id": "1b91a96a",
   "metadata": {},
   "outputs": [
    {
     "name": "stdout",
     "output_type": "stream",
     "text": [
      "1834638279280\n",
      "1834638818368\n"
     ]
    }
   ],
   "source": [
    "print(id(t1))\n",
    "t1 = t1 + t2\n",
    "print(id(t1))"
   ]
  },
  {
   "cell_type": "code",
   "execution_count": 68,
   "id": "2f2a34ae",
   "metadata": {},
   "outputs": [
    {
     "name": "stdout",
     "output_type": "stream",
     "text": [
      "6\n"
     ]
    }
   ],
   "source": [
    "print(len(t1))"
   ]
  },
  {
   "cell_type": "markdown",
   "id": "0bd7ad1c",
   "metadata": {},
   "source": [
    "### 사전"
   ]
  },
  {
   "cell_type": "code",
   "execution_count": 70,
   "id": "0c587422",
   "metadata": {},
   "outputs": [
    {
     "name": "stdout",
     "output_type": "stream",
     "text": [
      "{'name': 'aaa', 'phone': '123-456-7890'}\n",
      "<class 'dict'>\n"
     ]
    }
   ],
   "source": [
    "dic = {'name':\"aaa\", \"phone\":'123-456-7890'}\n",
    "print(dic)\n",
    "print(type(dic))"
   ]
  },
  {
   "cell_type": "code",
   "execution_count": 71,
   "id": "db0594ee",
   "metadata": {},
   "outputs": [
    {
     "name": "stdout",
     "output_type": "stream",
     "text": [
      "aaa\n"
     ]
    }
   ],
   "source": [
    "# 사전[조건식] : key, 조건식 - 조건식이 참인 것만 대상으로 작업\n",
    "print(dic['name'])"
   ]
  },
  {
   "cell_type": "code",
   "execution_count": 72,
   "id": "12128816",
   "metadata": {},
   "outputs": [
    {
     "name": "stdout",
     "output_type": "stream",
     "text": [
      "{'name': 'aaa', 'phone': '123-456-7890', 'age': 33}\n"
     ]
    }
   ],
   "source": [
    "dic[\"age\"] = 33\n",
    "print(dic)"
   ]
  },
  {
   "cell_type": "code",
   "execution_count": 73,
   "id": "2f850075",
   "metadata": {},
   "outputs": [
    {
     "name": "stdout",
     "output_type": "stream",
     "text": [
      "{'name': 'aaa', 'phone': '123-456-7890', 'age': 33, 3: [1, 2, 3]}\n"
     ]
    }
   ],
   "source": [
    "dic[3] = [1, 2, 3]\n",
    "print(dic)"
   ]
  },
  {
   "cell_type": "code",
   "execution_count": 74,
   "id": "a00d3643",
   "metadata": {},
   "outputs": [
    {
     "name": "stdout",
     "output_type": "stream",
     "text": [
      "{'name': 'aaa', 'phone': '123-456-7890', 'age': 33}\n"
     ]
    }
   ],
   "source": [
    "del dic[3]\n",
    "print(dic)"
   ]
  },
  {
   "cell_type": "code",
   "execution_count": 75,
   "id": "b218b6e0",
   "metadata": {},
   "outputs": [
    {
     "name": "stdout",
     "output_type": "stream",
     "text": [
      "{'id': [111, 222, 333, 444, 555], 'name': ['aaa', 'bbb', 'ccc', 'ddd', 'eee'], 'kor': [88, 92, 74, 100, 93], 'eng': [90, 87, 74, 88, 93], 'math': [80, 70, 90, 50, 60]}\n"
     ]
    }
   ],
   "source": [
    "student = {'id':[111, 222, 333, 444, 555],\n",
    "          'name':['aaa', 'bbb', 'ccc', 'ddd', 'eee'],\n",
    "          'kor':[88, 92, 74, 100, 93],\n",
    "          'eng':[90, 87, 74, 88, 93],\n",
    "          'math':[80, 70, 90, 50, 60]}\n",
    "print(student)"
   ]
  },
  {
   "cell_type": "code",
   "execution_count": 76,
   "id": "61d4164b",
   "metadata": {},
   "outputs": [
    {
     "name": "stdout",
     "output_type": "stream",
     "text": [
      "[111, 222, 333, 444, 555]\n"
     ]
    }
   ],
   "source": [
    "print(student['id'])"
   ]
  },
  {
   "cell_type": "code",
   "execution_count": 77,
   "id": "8db59282",
   "metadata": {},
   "outputs": [
    {
     "name": "stdout",
     "output_type": "stream",
     "text": [
      "dict_keys(['id', 'name', 'kor', 'eng', 'math'])\n"
     ]
    }
   ],
   "source": [
    "print(student.keys())"
   ]
  },
  {
   "cell_type": "code",
   "execution_count": 78,
   "id": "e73fb097",
   "metadata": {},
   "outputs": [
    {
     "name": "stdout",
     "output_type": "stream",
     "text": [
      "dict_values([[111, 222, 333, 444, 555], ['aaa', 'bbb', 'ccc', 'ddd', 'eee'], [88, 92, 74, 100, 93], [90, 87, 74, 88, 93], [80, 70, 90, 50, 60]])\n"
     ]
    }
   ],
   "source": [
    "print(student.values())"
   ]
  },
  {
   "cell_type": "code",
   "execution_count": 79,
   "id": "147b3694",
   "metadata": {},
   "outputs": [
    {
     "data": {
      "text/plain": [
       "[[1, 2, 3], [4, 5, 6]]"
      ]
     },
     "execution_count": 79,
     "metadata": {},
     "output_type": "execute_result"
    }
   ],
   "source": [
    "a = [[1, 2, 3], [4, 5, 6]]\n",
    "a"
   ]
  },
  {
   "cell_type": "code",
   "execution_count": 80,
   "id": "7f2d1649",
   "metadata": {},
   "outputs": [
    {
     "name": "stdout",
     "output_type": "stream",
     "text": [
      "dict_items([('id', [111, 222, 333, 444, 555]), ('name', ['aaa', 'bbb', 'ccc', 'ddd', 'eee']), ('kor', [88, 92, 74, 100, 93]), ('eng', [90, 87, 74, 88, 93]), ('math', [80, 70, 90, 50, 60])])\n"
     ]
    }
   ],
   "source": [
    "print(student.items())"
   ]
  },
  {
   "cell_type": "code",
   "execution_count": 81,
   "id": "007ddb52",
   "metadata": {},
   "outputs": [
    {
     "name": "stdout",
     "output_type": "stream",
     "text": [
      "id\n",
      "name\n",
      "kor\n",
      "eng\n",
      "math\n"
     ]
    }
   ],
   "source": [
    "for key in student.keys():\n",
    "    print(key)"
   ]
  },
  {
   "cell_type": "code",
   "execution_count": 82,
   "id": "1611959f",
   "metadata": {},
   "outputs": [
    {
     "name": "stdout",
     "output_type": "stream",
     "text": [
      "{}\n"
     ]
    }
   ],
   "source": [
    "student.clear()\n",
    "print(student)"
   ]
  },
  {
   "cell_type": "code",
   "execution_count": 83,
   "id": "12323b86",
   "metadata": {},
   "outputs": [
    {
     "name": "stdout",
     "output_type": "stream",
     "text": [
      "{'name': 'aaa', 'phone': '123=456=7890', 'age': 33}\n"
     ]
    }
   ],
   "source": [
    "dic = {'name':'aaa', 'phone':'123=456=7890'}\n",
    "dic['age'] = 33\n",
    "print(dic)"
   ]
  },
  {
   "cell_type": "code",
   "execution_count": 84,
   "id": "2274acb5",
   "metadata": {},
   "outputs": [
    {
     "name": "stdout",
     "output_type": "stream",
     "text": [
      "aaa\n"
     ]
    }
   ],
   "source": [
    "print(dic['name'])"
   ]
  },
  {
   "cell_type": "code",
   "execution_count": 85,
   "id": "39cbeefd",
   "metadata": {},
   "outputs": [
    {
     "name": "stdout",
     "output_type": "stream",
     "text": [
      "aaa\n"
     ]
    }
   ],
   "source": [
    "print(dic.get('name'))"
   ]
  },
  {
   "cell_type": "markdown",
   "id": "47f7aaa9",
   "metadata": {},
   "source": [
    "### 집합(set)"
   ]
  },
  {
   "cell_type": "code",
   "execution_count": 86,
   "id": "c6cf2869",
   "metadata": {},
   "outputs": [
    {
     "name": "stdout",
     "output_type": "stream",
     "text": [
      "{1, 2, 3, 4, 5}\n"
     ]
    }
   ],
   "source": [
    "# 중복이 불가능, 순서가 없다.\n",
    "#s = {}\n",
    "s = set([1, 2, 3, 4, 5])\n",
    "print(s)"
   ]
  },
  {
   "cell_type": "code",
   "execution_count": 87,
   "id": "6d01a74c",
   "metadata": {},
   "outputs": [
    {
     "name": "stdout",
     "output_type": "stream",
     "text": [
      "{'o', 'l', 'e', 'H'}\n"
     ]
    }
   ],
   "source": [
    "s2 = set(\"Hello\")\n",
    "print(s2)"
   ]
  },
  {
   "cell_type": "code",
   "execution_count": 88,
   "id": "bb1c0347",
   "metadata": {},
   "outputs": [
    {
     "name": "stdout",
     "output_type": "stream",
     "text": [
      "[1, 2, 3, 4, 5]\n"
     ]
    }
   ],
   "source": [
    "a = list(s)\n",
    "print(a)"
   ]
  },
  {
   "cell_type": "code",
   "execution_count": 90,
   "id": "cb65635c",
   "metadata": {},
   "outputs": [
    {
     "name": "stdout",
     "output_type": "stream",
     "text": [
      "(1, 2, 3, 4, 5)\n"
     ]
    }
   ],
   "source": [
    "b = tuple(s)\n",
    "print(b)"
   ]
  },
  {
   "cell_type": "code",
   "execution_count": 91,
   "id": "21e85e00",
   "metadata": {},
   "outputs": [
    {
     "name": "stdout",
     "output_type": "stream",
     "text": [
      "{1, 2, 3, 4, 5}\n"
     ]
    }
   ],
   "source": [
    "# 집합과 관련된 함수\n",
    "## add : 1개의 요소 추가\n",
    "print(s)"
   ]
  },
  {
   "cell_type": "code",
   "execution_count": 92,
   "id": "34584247",
   "metadata": {},
   "outputs": [
    {
     "name": "stdout",
     "output_type": "stream",
     "text": [
      "{1, 2, 3, 4, 5, 6}\n"
     ]
    }
   ],
   "source": [
    "s.add(6)\n",
    "print(s)"
   ]
  },
  {
   "cell_type": "code",
   "execution_count": null,
   "id": "988f4020",
   "metadata": {},
   "outputs": [],
   "source": [
    "s.add(5)\n",
    "print(s)"
   ]
  },
  {
   "cell_type": "code",
   "execution_count": 93,
   "id": "153c8f33",
   "metadata": {},
   "outputs": [
    {
     "name": "stdout",
     "output_type": "stream",
     "text": [
      "{1, 2, 3}\n"
     ]
    }
   ],
   "source": [
    "# 여러개의 값을 추가 update(리스트 or 튜플 등 자료구조)\n",
    "s1 = set([1, 2, 3])\n",
    "print(s1)"
   ]
  },
  {
   "cell_type": "code",
   "execution_count": 94,
   "id": "b4998e71",
   "metadata": {},
   "outputs": [
    {
     "name": "stdout",
     "output_type": "stream",
     "text": [
      "{1, 2, 3, 4}\n"
     ]
    }
   ],
   "source": [
    "s1.update([4])\n",
    "print(s1)"
   ]
  },
  {
   "cell_type": "code",
   "execution_count": 95,
   "id": "339d2add",
   "metadata": {},
   "outputs": [
    {
     "name": "stdout",
     "output_type": "stream",
     "text": [
      "{1, 2, 3, 4, 5, 6}\n"
     ]
    }
   ],
   "source": [
    "s1.update([4, 5, 6])\n",
    "print(s1)"
   ]
  },
  {
   "cell_type": "code",
   "execution_count": 97,
   "id": "47f44bf7",
   "metadata": {},
   "outputs": [
    {
     "name": "stdout",
     "output_type": "stream",
     "text": [
      "{1, 2, 3, 4, 5, 6, 7}\n"
     ]
    }
   ],
   "source": [
    "s1.update((5, 6, 7))\n",
    "print(s1)"
   ]
  },
  {
   "cell_type": "code",
   "execution_count": 98,
   "id": "95ec6eac",
   "metadata": {},
   "outputs": [
    {
     "name": "stdout",
     "output_type": "stream",
     "text": [
      "{1, 2, 3, 4, 5, 6, 7, 't', 'h', 'n', 'p', 'o', 'y'}\n"
     ]
    }
   ],
   "source": [
    "s1.update(\"python\")\n",
    "print(s1)"
   ]
  },
  {
   "cell_type": "code",
   "execution_count": 99,
   "id": "899e176c",
   "metadata": {},
   "outputs": [
    {
     "name": "stdout",
     "output_type": "stream",
     "text": [
      "{1, 2, 3, 4, 5, 6, 7, 't', 'h', 'n', 'o', 'y'}\n"
     ]
    }
   ],
   "source": [
    "# 특정 값을 제거하는 함수 remove(data)\n",
    "s1.remove('p')\n",
    "print(s1)"
   ]
  },
  {
   "cell_type": "code",
   "execution_count": 100,
   "id": "39deb595",
   "metadata": {},
   "outputs": [
    {
     "name": "stdout",
     "output_type": "stream",
     "text": [
      "#\n"
     ]
    }
   ],
   "source": [
    "print(\"#\")"
   ]
  },
  {
   "cell_type": "code",
   "execution_count": 101,
   "id": "a3238eeb",
   "metadata": {},
   "outputs": [
    {
     "name": "stdout",
     "output_type": "stream",
     "text": [
      "#####"
     ]
    }
   ],
   "source": [
    "for i in range(5):\n",
    "    print(\"#\", end=\" \")"
   ]
  },
  {
   "cell_type": "code",
   "execution_count": 103,
   "id": "654244bc",
   "metadata": {},
   "outputs": [
    {
     "name": "stdout",
     "output_type": "stream",
     "text": [
      "#####\n",
      "#####\n",
      "#####\n",
      "#####\n",
      "#####\n"
     ]
    }
   ],
   "source": [
    "#####\n",
    "#####\n",
    "#####\n",
    "#####\n",
    "#####\n",
    "for i in range(5):\n",
    "    print(\"#\"*5)"
   ]
  },
  {
   "cell_type": "code",
   "execution_count": 105,
   "id": "79f7a0fe",
   "metadata": {},
   "outputs": [
    {
     "name": "stdout",
     "output_type": "stream",
     "text": [
      "#\n",
      "##\n",
      "###\n",
      "####\n",
      "#####\n"
     ]
    }
   ],
   "source": [
    "#\n",
    "##\n",
    "###\n",
    "####\n",
    "#####\n",
    "for i in range(1,6):\n",
    "    print(\"#\"*i)"
   ]
  },
  {
   "cell_type": "code",
   "execution_count": 108,
   "id": "7b731b3f",
   "metadata": {},
   "outputs": [
    {
     "name": "stdout",
     "output_type": "stream",
     "text": [
      "    #\n",
      "   ##\n",
      "  ###\n",
      " ####\n",
      "#####\n"
     ]
    }
   ],
   "source": [
    "    #\n",
    "   ##\n",
    "  ###\n",
    " ####\n",
    "#####\n",
    "for i in range(1,6):\n",
    "     print(\" \"*(5-i) + \"#\" * i)"
   ]
  },
  {
   "cell_type": "markdown",
   "id": "b7734c56",
   "metadata": {},
   "source": [
    "### 제어문"
   ]
  },
  {
   "cell_type": "code",
   "execution_count": 109,
   "id": "6e6e6002",
   "metadata": {},
   "outputs": [
    {
     "name": "stdout",
     "output_type": "stream",
     "text": [
      "택시 타고 집가자\n"
     ]
    }
   ],
   "source": [
    "# 조건문 : 단순 if문, if~else문, elif문 => 선택문\n",
    "## 조건식 : 비교(관계) 연산자, 논리 연산자\n",
    "money = True\n",
    "\n",
    "if money:\n",
    "    print(\"택시 타고 집가자\")\n",
    "else:\n",
    "    print(\"걸어가자\")"
   ]
  },
  {
   "cell_type": "markdown",
   "id": "431a8332",
   "metadata": {},
   "source": [
    "#### 계산기 프로그램\n",
    "두 개의 정수와 하나의 연산자를 입력받아 연산을 수행한 후 결과를 출력하는 프로그램을 구하시오."
   ]
  },
  {
   "cell_type": "code",
   "execution_count": 9,
   "id": "93153af0",
   "metadata": {},
   "outputs": [
    {
     "ename": "SyntaxError",
     "evalue": "invalid syntax (1643687645.py, line 7)",
     "output_type": "error",
     "traceback": [
      "\u001b[1;36m  Input \u001b[1;32mIn [9]\u001b[1;36m\u001b[0m\n\u001b[1;33m    if c != \"+\" and c != \"-\" and c != \"*\" and c != \"/\"\u001b[0m\n\u001b[1;37m                                                      ^\u001b[0m\n\u001b[1;31mSyntaxError\u001b[0m\u001b[1;31m:\u001b[0m invalid syntax\n"
     ]
    }
   ],
   "source": [
    "x = int(input(\"첫번째 숫자를 입력하세요. : \"))\n",
    "y = int(input(\"두번째 숫자를 입력하세요. : \"))\n",
    "a = [\"+\", '-', '*', '/']\n",
    "\n",
    "while True:\n",
    "    c = input(\"+, -, *, / 중 하나를 입력하세요. : \")\n",
    "    if c != \"+\" and c != \"-\" and c != \"*\" and c != \"/\"\n",
    "    else:\n",
    "        if c == \"+\":\n",
    "            res = x + y\n",
    "        elif c == \"-\":\n",
    "            res = x - y\n",
    "        elif c == \"*\":\n",
    "            res = x * y\n",
    "        elif c == \"/\":\n",
    "            res = x / y\n",
    "        break\n",
    "    \n",
    "print(\"{0} {1} {2} = {3}\".format(x, c, y, res))"
   ]
  },
  {
   "cell_type": "code",
   "execution_count": 3,
   "id": "8b2111d6",
   "metadata": {},
   "outputs": [
    {
     "ename": "SyntaxError",
     "evalue": "invalid syntax (3243443862.py, line 8)",
     "output_type": "error",
     "traceback": [
      "\u001b[1;36m  Input \u001b[1;32mIn [3]\u001b[1;36m\u001b[0m\n\u001b[1;33m    elif c == \"+\":\u001b[0m\n\u001b[1;37m    ^\u001b[0m\n\u001b[1;31mSyntaxError\u001b[0m\u001b[1;31m:\u001b[0m invalid syntax\n"
     ]
    }
   ],
   "source": [
    "x = int(input(\"첫번째 숫자를 입력하세요. : \"))\n",
    "y = int(input(\"두번째 숫자를 입력하세요. : \"))\n",
    "c = input(\"+, -, *, / 중 하나를 입력하세요. : \")\n",
    "a = [\"+\", '-', '*', '/']\n",
    "\n",
    "while c != a[:]:\n",
    "    c = input(\"연산자를 재입력 해주세요. : \")\n",
    "elif c == \"+\":\n",
    "    res = x + y\n",
    "elif c == \"-\":\n",
    "    res = x - y\n",
    "elif c == \"*\":\n",
    "    res = x * y\n",
    "elif c == \"/\":\n",
    "    res = x / y\n",
    "    break\n",
    "print(\"{0} {1} {2} = {3}\".format(x, c, y, res))"
   ]
  },
  {
   "cell_type": "markdown",
   "id": "28ce5de1",
   "metadata": {},
   "source": [
    "#### UP/DOWN 게임\n",
    "1에서 100 사이의 숫자 하나를 랜덤으로 발생한 후 사용자가 입력한 숫자와 비교하여 그 결과를 출력하는 프로그램"
   ]
  },
  {
   "cell_type": "code",
   "execution_count": 1,
   "id": "e6efb84b",
   "metadata": {},
   "outputs": [
    {
     "name": "stdout",
     "output_type": "stream",
     "text": [
      "숫자를 입력하세요. : 50\n",
      "UP\n",
      "숫자를 입력하세요. : 60\n",
      "UP\n",
      "숫자를 입력하세요. : 7\n",
      "UP\n",
      "숫자를 입력하세요. : 080\n",
      "DOWN\n",
      "숫자를 입력하세요. : 75\n",
      "UP\n",
      "숫자를 입력하세요. : 78\n",
      "UP\n",
      "숫자를 입력하세요. : 79\n",
      "정답\n"
     ]
    }
   ],
   "source": [
    "# 난수 생성하는 함수를 가지고 있는 모듈\n",
    "import random\n",
    "\n",
    "# 난수 생성 함수 : random.randint(1, 100) - 하나의 정수 난수(1~100) 생성\n",
    "check = random.randint(1, 100)\n",
    "\n",
    "num = int(input(\"숫자를 입력하세요. : \"))\n",
    "    \n",
    "while (num != check):\n",
    "    \n",
    "    if not 1 <= num <= 100:\n",
    "        num = int(input(\"숫자를 입력하세요. : \"))\n",
    "    else:\n",
    "        if num < check:\n",
    "            print(\"UP\")\n",
    "        elif num > check:\n",
    "            print(\"DOWN\")\n",
    "        num = int(input(\"숫자를 입력하세요. : \"))\n",
    "else:\n",
    "    print(\"정답\")\n"
   ]
  },
  {
   "cell_type": "code",
   "execution_count": 32,
   "id": "c9ac0f29",
   "metadata": {},
   "outputs": [
    {
     "data": {
      "text/plain": [
       "78"
      ]
     },
     "execution_count": 32,
     "metadata": {},
     "output_type": "execute_result"
    }
   ],
   "source": [
    "import random\n",
    "check = random.randint(1, 100)\n",
    "check"
   ]
  },
  {
   "cell_type": "markdown",
   "id": "c888221a",
   "metadata": {},
   "source": [
    "### 사다리꼴의 넒이를 구하는 프로그램을 구현하시오."
   ]
  },
  {
   "cell_type": "code",
   "execution_count": 5,
   "id": "4fc6984f",
   "metadata": {},
   "outputs": [
    {
     "name": "stdout",
     "output_type": "stream",
     "text": [
      "윗변을 입력하세요 : 5.5\n",
      "아랫변을 입력하세요 : 9.5\n",
      "높이를 입력하세요 : 10.5\n",
      "윗변이 5, 아랫변이 9, 그리고 높이가 10인 사다리꼴의 넓이는 78.8입니다.\n"
     ]
    }
   ],
   "source": [
    "# (윗변 + 아랫변) * 높이 / 2\n",
    "u = float(input(\"윗변을 입력하세요 : \"))\n",
    "d = float(input(\"아랫변을 입력하세요 : \"))\n",
    "h = float(input(\"높이를 입력하세요 : \"))\n",
    "\n",
    "m = (u + d) * h / 2\n",
    "\n",
    "print(\"윗변이 %d, 아랫변이 %d, 그리고 높이가 %d인 사다리꼴의 넓이는 %.1f입니다.\" %(u,d,h,m))"
   ]
  },
  {
   "cell_type": "markdown",
   "id": "9e31e55d",
   "metadata": {},
   "source": [
    "== 멀티프로그램 ==\n",
    "1. 최대값\n",
    "2. 수나열\n",
    "3. 사칙연산\n",
    "4. 프로그램 종료\n",
    "================\n",
    "메뉴 = \n",
    "\n",
    "최대값 : 두 개의 정수를 입력 받아 큰 수를 출력하는 프로그램\n",
    "수나열 : 세 걔의 정수를 입력받아 큰 순서대로 나열하여 출력하는 프로그램\n",
    "사칙연산 : 두 개의 정수와 하나의 연산자를 입력받아 계산결과를 출력하는 프로그램"
   ]
  },
  {
   "cell_type": "code",
   "execution_count": 8,
   "id": "4ddf07fe",
   "metadata": {},
   "outputs": [
    {
     "name": "stdout",
     "output_type": "stream",
     "text": [
      "==== Main Menu ====\n",
      "1. 최대값 구하기\n",
      "2. 수나열 구하기\n",
      "3. 계산기 프로그램\n",
      "4. 프로그램 종료\n",
      "===================\n",
      "menu = 5\n",
      "너 바보지!\n",
      "==== Main Menu ====\n",
      "1. 최대값 구하기\n",
      "2. 수나열 구하기\n",
      "3. 계산기 프로그램\n",
      "4. 프로그램 종료\n",
      "===================\n",
      "menu = 10\n",
      "너 바보지!\n",
      "==== Main Menu ====\n",
      "1. 최대값 구하기\n",
      "2. 수나열 구하기\n",
      "3. 계산기 프로그램\n",
      "4. 프로그램 종료\n",
      "===================\n",
      "menu = 4\n",
      "GOOD BYE\n"
     ]
    }
   ],
   "source": [
    "while True:\n",
    "    print(\"==== Main Menu ====\")\n",
    "    print(\"1. 최대값 구하기\")\n",
    "    print(\"2. 수나열 구하기\")\n",
    "    print(\"3. 계산기 프로그램\")\n",
    "    print(\"4. 프로그램 종료\")\n",
    "    print(\"===================\")\n",
    "    menu = int(input(\"menu = \"))\n",
    "\n",
    "    if menu == 4:\n",
    "        print(\"GOOD BYE\")\n",
    "        break\n",
    "    elif menu == 1:\n",
    "        pass\n",
    "    elif menu == 2:\n",
    "        pass\n",
    "    elif menu == 3:\n",
    "        pass\n",
    "    else:\n",
    "        print(\"너 바보지!\")"
   ]
  },
  {
   "cell_type": "code",
   "execution_count": 19,
   "id": "6508b653",
   "metadata": {},
   "outputs": [
    {
     "name": "stdout",
     "output_type": "stream",
     "text": [
      "==== Main Menu ====\n",
      "1. 최대값 구하기\n",
      "2. 수나열 구하기\n",
      "3. 계산기 프로그램\n",
      "4. 프로그램 종료\n",
      "===================\n",
      "menu = 1\n",
      "==== Main Menu ====\n",
      "1. 최대값 구하기\n",
      "2. 수나열 구하기\n",
      "3. 계산기 프로그램\n",
      "4. 프로그램 종료\n",
      "===================\n",
      "menu = 2\n",
      "==== Main Menu ====\n",
      "1. 최대값 구하기\n",
      "2. 수나열 구하기\n",
      "3. 계산기 프로그램\n",
      "4. 프로그램 종료\n",
      "===================\n",
      "menu = 3\n",
      "==== Main Menu ====\n",
      "1. 최대값 구하기\n",
      "2. 수나열 구하기\n",
      "3. 계산기 프로그램\n",
      "4. 프로그램 종료\n",
      "===================\n",
      "menu = 4\n",
      "GOOD BYE\n"
     ]
    }
   ],
   "source": [
    "def main():\n",
    "    print(\"==== Main Menu ====\")\n",
    "    print(\"1. 최대값 구하기\")\n",
    "    print(\"2. 수나열 구하기\")\n",
    "    print(\"3. 계산기 프로그램\")\n",
    "    print(\"4. 프로그램 종료\")\n",
    "    print(\"===================\")\n",
    "    \n",
    "while True:\n",
    "    main()\n",
    "    menu = int(input(\"menu = \"))\n",
    "\n",
    "\n",
    "    if menu == 4:\n",
    "        print(\"GOOD BYE\")\n",
    "        break\n",
    "    elif menu == 1:\n",
    "        pass\n",
    "    elif menu == 2:\n",
    "        pass\n",
    "    elif menu == 3:\n",
    "        pass\n",
    "    else:\n",
    "        print(\"너 바보지!\")"
   ]
  },
  {
   "cell_type": "markdown",
   "id": "69360e27",
   "metadata": {},
   "source": [
    "### 함수(Function)\n",
    "1. 함수의 정의 : 관련된 기능이나 명령어 묶음\n",
    "  - 필요할 때 호출 가능\n",
    "  - 유지보수가 수월\n",
    "  - 가독성이 좋다\n",
    " \n",
    "\n",
    "2. 함수의 구조(구성) : def(=define) 선언문\n",
    "   def 함수의 이름(매개변수): <br>\n",
    "       문장1<br>\n",
    "       문장2<br>\n",
    "        |  <br>\n",
    "       return 값\n",
    "\n",
    "3. 함수의 호출 방법\n",
    "  - 이름에 의한 호출(Call by Name)\n",
    "  - 값에 의한 호출(Call by Value)\n",
    "  - 주소에 의한 호출(Call by Reference)\n",
    "  \n",
    "4. 함수의 기본 형식\n",
    "  - 매개변수 없고, 리턴값 없는 경우\n",
    "  - 매개변수 없고, 티턴값 있는 경우\n",
    "  - 매개변수 있고, 리턴값 없는 경우\n",
    "  - 매개변수 있고, 리턴값 있는 경우"
   ]
  },
  {
   "cell_type": "code",
   "execution_count": 9,
   "id": "535a9327",
   "metadata": {},
   "outputs": [
    {
     "name": "stdout",
     "output_type": "stream",
     "text": [
      "Hi\n",
      "뭘봐\n"
     ]
    }
   ],
   "source": [
    "# 매개변수 없고, 리턴값 없는 함수\n",
    "def aaa():\n",
    "    print(\"Hi\")\n",
    "    print(\"뭘봐\")\n",
    "\n",
    "aaa()"
   ]
  },
  {
   "cell_type": "code",
   "execution_count": 10,
   "id": "4947cfe8",
   "metadata": {},
   "outputs": [
    {
     "data": {
      "text/plain": [
       "'Hi'"
      ]
     },
     "execution_count": 10,
     "metadata": {},
     "output_type": "execute_result"
    }
   ],
   "source": [
    "# 매개변수 없고, 리턴값 있는 경우\n",
    "def bbb():\n",
    "    return \"Hi\"\n",
    "bbb()"
   ]
  },
  {
   "cell_type": "code",
   "execution_count": 11,
   "id": "fe563b13",
   "metadata": {},
   "outputs": [
    {
     "name": "stdout",
     "output_type": "stream",
     "text": [
      "1\n"
     ]
    }
   ],
   "source": [
    "# 매개변수 있고, 리턴값 없는 경우\n",
    "def ccc(a):\n",
    "    print(a)\n",
    "ccc(1)"
   ]
  },
  {
   "cell_type": "code",
   "execution_count": 13,
   "id": "b5879603",
   "metadata": {},
   "outputs": [
    {
     "name": "stdout",
     "output_type": "stream",
     "text": [
      "20\n"
     ]
    }
   ],
   "source": [
    "def ddd(a, b, c):\n",
    "    print(a + b + c)\n",
    "ddd(5, 6, 9)"
   ]
  },
  {
   "cell_type": "code",
   "execution_count": 15,
   "id": "3f9b9ccd",
   "metadata": {},
   "outputs": [
    {
     "data": {
      "text/plain": [
       "188"
      ]
     },
     "execution_count": 15,
     "metadata": {},
     "output_type": "execute_result"
    }
   ],
   "source": [
    "# 매개변수 있고, 리턴값 있는 경우\n",
    "def eee(a, b):\n",
    "    c = a + b\n",
    "    return c\n",
    "\n",
    "eee(99, 89)"
   ]
  },
  {
   "cell_type": "code",
   "execution_count": 16,
   "id": "f483ead6",
   "metadata": {},
   "outputs": [
    {
     "name": "stdout",
     "output_type": "stream",
     "text": [
      "Hi\n",
      "뭘봐\n",
      "35900\n"
     ]
    }
   ],
   "source": [
    "aaa()\n",
    "bbb()\n",
    "ccc(35900)"
   ]
  },
  {
   "cell_type": "code",
   "execution_count": 17,
   "id": "1d512309",
   "metadata": {},
   "outputs": [
    {
     "name": "stdout",
     "output_type": "stream",
     "text": [
      "프로그램 시작\n",
      "여러가지 작업\n",
      "Hi\n",
      "뭘봐\n",
      "프로그램 종료\n"
     ]
    }
   ],
   "source": [
    "# 함수 호출\n",
    "print(\"프로그램 시작\")\n",
    "print(\"여러가지 작업\")\n",
    "aaa()\n",
    "print(\"프로그램 종료\")"
   ]
  },
  {
   "cell_type": "code",
   "execution_count": 20,
   "id": "8d740e38",
   "metadata": {},
   "outputs": [
    {
     "name": "stdout",
     "output_type": "stream",
     "text": [
      "프로그램 시작\n",
      "여러가지 작업\n",
      "Hi\n",
      "프로그램 종료\n"
     ]
    }
   ],
   "source": [
    "# 함수 호출\n",
    "print(\"프로그램 시작\")\n",
    "print(\"여러가지 작업\")\n",
    "print(bbb())\n",
    "string = bbb()\n",
    "print(\"프로그램 종료\")"
   ]
  },
  {
   "cell_type": "code",
   "execution_count": 21,
   "id": "ada99ce0",
   "metadata": {},
   "outputs": [
    {
     "name": "stdout",
     "output_type": "stream",
     "text": [
      "안녕 디지몬~ 잘가\n"
     ]
    }
   ],
   "source": [
    "# 함수 호출\n",
    "print(\"프로그램 시작\")\n",
    "print(\"여러가지 작업\")\n",
    "ppp()\n",
    "print(\"프로그램 종료\")"
   ]
  },
  {
   "cell_type": "code",
   "execution_count": 34,
   "id": "2d008300",
   "metadata": {},
   "outputs": [],
   "source": [
    "#default parameter : 초기 파라미터\n",
    "## 함수의 매개변수에 초기값을 담아서 처리하는 기능\n",
    "def ppp(a, b, c = 3):\n",
    "    print(a, b, c)\n"
   ]
  },
  {
   "cell_type": "code",
   "execution_count": 25,
   "id": "3f730bd7",
   "metadata": {},
   "outputs": [
    {
     "name": "stdout",
     "output_type": "stream",
     "text": [
      "100 20 30\n"
     ]
    }
   ],
   "source": [
    "ppp(100)"
   ]
  },
  {
   "cell_type": "code",
   "execution_count": 26,
   "id": "17fb613d",
   "metadata": {},
   "outputs": [
    {
     "name": "stdout",
     "output_type": "stream",
     "text": [
      "100 200 30\n"
     ]
    }
   ],
   "source": [
    "ppp(100, 200)"
   ]
  },
  {
   "cell_type": "code",
   "execution_count": 27,
   "id": "0381aa9c",
   "metadata": {},
   "outputs": [
    {
     "name": "stdout",
     "output_type": "stream",
     "text": [
      "100 200 300\n"
     ]
    }
   ],
   "source": [
    "ppp(100, 200, 300)"
   ]
  },
  {
   "cell_type": "code",
   "execution_count": 28,
   "id": "ceb1e443",
   "metadata": {},
   "outputs": [
    {
     "ename": "SyntaxError",
     "evalue": "invalid syntax (499447319.py, line 1)",
     "output_type": "error",
     "traceback": [
      "\u001b[1;36m  Input \u001b[1;32mIn [28]\u001b[1;36m\u001b[0m\n\u001b[1;33m    ppp(, 200, 300)\u001b[0m\n\u001b[1;37m        ^\u001b[0m\n\u001b[1;31mSyntaxError\u001b[0m\u001b[1;31m:\u001b[0m invalid syntax\n"
     ]
    }
   ],
   "source": [
    "ppp(, 200, 300)"
   ]
  },
  {
   "cell_type": "code",
   "execution_count": 36,
   "id": "b1c36715",
   "metadata": {},
   "outputs": [
    {
     "name": "stdout",
     "output_type": "stream",
     "text": [
      "프로그램 시작\n",
      "여러가지 작업\n",
      "x =  3\n",
      "프로그램 종료\n"
     ]
    }
   ],
   "source": [
    "# 함수 호출\n",
    "print(\"프로그램 시작\")\n",
    "print(\"여러가지 작업\")\n",
    "x = eee(1, 2)\n",
    "print(\"x = \", x)\n",
    "print(\"프로그램 종료\")"
   ]
  },
  {
   "cell_type": "code",
   "execution_count": 37,
   "id": "d235b23d",
   "metadata": {},
   "outputs": [],
   "source": [
    "# 가변길이 매개변수\n",
    "def add(a, b):\n",
    "    return a+ b"
   ]
  },
  {
   "cell_type": "code",
   "execution_count": 38,
   "id": "6658ae67",
   "metadata": {},
   "outputs": [],
   "source": [
    "def add(a, b, c):\n",
    "    return a+ b"
   ]
  },
  {
   "cell_type": "code",
   "execution_count": 39,
   "id": "d0cf0d89",
   "metadata": {},
   "outputs": [],
   "source": [
    "# 가변길이 매개변수\n",
    "def add_res(*args):\n",
    "    res = 0\n",
    "    for i in args:\n",
    "        res += i\n",
    "    \n",
    "    return res"
   ]
  },
  {
   "cell_type": "code",
   "execution_count": 40,
   "id": "df53943a",
   "metadata": {},
   "outputs": [
    {
     "name": "stdout",
     "output_type": "stream",
     "text": [
      "6\n",
      "5\n",
      "2268\n"
     ]
    }
   ],
   "source": [
    "a = add_res(1, 2, 3)\n",
    "print(a)\n",
    "\n",
    "b = add_res(2, 3)\n",
    "print(b)\n",
    "\n",
    "c = add_res(111, 159, 789, 456, 753)\n",
    "print(c)"
   ]
  },
  {
   "cell_type": "code",
   "execution_count": 42,
   "id": "65be3aac",
   "metadata": {},
   "outputs": [],
   "source": [
    "def calc(ch, *ar):\n",
    "    if ch == \"add\":\n",
    "        res = 0\n",
    "        for i in ar:\n",
    "            res += i\n",
    "    elif ch == \"mul\":\n",
    "        res = 1\n",
    "        for i in ar:\n",
    "            res *= i\n",
    "            \n",
    "    return res"
   ]
  },
  {
   "cell_type": "code",
   "execution_count": 43,
   "id": "47f64f7a",
   "metadata": {},
   "outputs": [
    {
     "name": "stdout",
     "output_type": "stream",
     "text": [
      "6\n",
      "120\n"
     ]
    }
   ],
   "source": [
    "a = calc(\"add\", 1, 2, 3)\n",
    "print(a)\n",
    "b = calc(\"mul\", 1, 2, 3, 4, 5)\n",
    "print(b)"
   ]
  },
  {
   "cell_type": "code",
   "execution_count": null,
   "id": "181a2f1b",
   "metadata": {},
   "outputs": [],
   "source": []
  }
 ],
 "metadata": {
  "kernelspec": {
   "display_name": "Python 3 (ipykernel)",
   "language": "python",
   "name": "python3"
  },
  "language_info": {
   "codemirror_mode": {
    "name": "ipython",
    "version": 3
   },
   "file_extension": ".py",
   "mimetype": "text/x-python",
   "name": "python",
   "nbconvert_exporter": "python",
   "pygments_lexer": "ipython3",
   "version": "3.9.12"
  },
  "toc": {
   "base_numbering": 1,
   "nav_menu": {},
   "number_sections": true,
   "sideBar": true,
   "skip_h1_title": false,
   "title_cell": "Table of Contents",
   "title_sidebar": "Contents",
   "toc_cell": false,
   "toc_position": {},
   "toc_section_display": true,
   "toc_window_display": true
  }
 },
 "nbformat": 4,
 "nbformat_minor": 5
}
