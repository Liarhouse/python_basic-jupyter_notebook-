{
 "cells": [
  {
   "cell_type": "markdown",
   "id": "26a20645",
   "metadata": {},
   "source": [
    "### OOP\n",
    "- 객체(Object) : 현실 세계에 또는 실생활에 존재하는 실제적인 물건 또는 개념\n",
    "- 클래스(Class) : 객체를 프로그램으로 표현하는 기본 단위, 사용자 정의 자료형\n",
    "    - 클래스의 구성요소(포함멤버) : 속성(attribute, feature, field) = variable(변수)\n",
    "    - 행위나 동작(Method, Function) - 함수\n",
    "- 자료형(Data Type) : 기본 자료형, 참조형 자료형, 사용자 정의 자료형"
   ]
  },
  {
   "cell_type": "code",
   "execution_count": null,
   "id": "2d12979e",
   "metadata": {},
   "outputs": [],
   "source": [
    "# 클래스 선언\n",
    "class Person:\n",
    "    # 멤버 필드 = 프로퍼티\n",
    "    name = \"\"\n",
    "    age = 0\n",
    "    height = 0.0\n",
    "\n",
    "    # 생성자 매서드(Constructor) : 객체가 생성될 때 자동으로 호출된다.\n",
    "    \n",
    "    # 멤버 메서드 : Method = Function\n",
    "    def put(self): # 입력 매개변수가 없어도 self(=this)를 반드시 써야한다. \n",
    "        print(\"이름:\", self.name)\n",
    "        print(\"나이:\", self.age)\n",
    "        print(\"신장:\", self.height)\n",
    "    \n",
    "    # 소멸자 메서드 : 객체가 소멸될 때 자동으로 호출된다."
   ]
  },
  {
   "cell_type": "code",
   "execution_count": null,
   "id": "f285e6b4",
   "metadata": {},
   "outputs": [],
   "source": [
    "# Person 클래스의 인스턴스 객체를 생성, 이때 생성되는 인스턴스 객체 = 참조변수\n",
    "p1 = Person()\n",
    "\n",
    "# 멤버 필드를 초기화하는 작업\n",
    "p1.name = \"김철수\"\n",
    "p1.age = 20\n",
    "p1.height = 180.5\n",
    "\n",
    "# 인스턴스 객체를 이용 : 객체명.멤버필드 or 객체명.멤버메서드\n",
    "p1.put()"
   ]
  },
  {
   "cell_type": "code",
   "execution_count": null,
   "id": "5fc7306a",
   "metadata": {},
   "outputs": [],
   "source": [
    "p2 = Person()\n",
    "p2.name = \"이철수\"\n",
    "p2.age = 30\n",
    "p2.height = 175.8\n",
    "p2.put()"
   ]
  },
  {
   "cell_type": "code",
   "execution_count": null,
   "id": "113bea9d",
   "metadata": {},
   "outputs": [],
   "source": [
    "class Person:\n",
    "    # 생성자 메서드 : 멤버 필드를 초기화하는 역할\n",
    "    def __init__(self, name, age, height):\n",
    "        self.name = name\n",
    "        self.age = age\n",
    "        self.height = height\n",
    "        \n",
    "    # 멤버 메서드\n",
    "    def disp(self):\n",
    "        print(\"이름 : \" + self.name)\n",
    "        print(\"나이 : \" + str(self.age))\n",
    "        print(\"신장 : \" + str(self.height))"
   ]
  },
  {
   "cell_type": "code",
   "execution_count": null,
   "id": "c8848085",
   "metadata": {},
   "outputs": [],
   "source": [
    "p3 = Person(\"kim\", 25, 177.9)\n",
    "p3.disp()"
   ]
  },
  {
   "cell_type": "code",
   "execution_count": null,
   "id": "b09d0f73",
   "metadata": {},
   "outputs": [],
   "source": [
    "class Person:\n",
    "    #멤버 필드 = 프로퍼티 : 클래스 변수, 공유 목적의 변수\n",
    "    name = \"lee\"\n",
    "    age = 20\n",
    "    height = 180.5\n",
    "    \n",
    "    #멤버 메서드\n",
    "    def disp(self):\n",
    "        # self.변수 : 인스턴스 변수\n",
    "        print(\"이름 : \" + self.name, end=\" \")\n",
    "        print(\"나이 : \" + str(self.age), end=\" \")\n",
    "        print(\"신장 : \" + str(self.height))\n",
    "        # 클래스명.변수 : 클래스 변수, static 변수\n",
    "        print(\"이름 : \" + Person.name, end=\" \")\n",
    "        print(\"나이 : \" + str(Person.age), end=\" \")\n",
    "        print(\"신장 : \" + str(Person.height))"
   ]
  },
  {
   "cell_type": "code",
   "execution_count": null,
   "id": "05b46057",
   "metadata": {},
   "outputs": [],
   "source": [
    "p4 = Person()\n",
    "p4.name = \"김철수\"\n",
    "p4.age = 21\n",
    "p4.height = 177.7\n",
    "\n",
    "p5 = Person()\n",
    "p5.name = \"홍길동\"\n",
    "p5.age = 33\n",
    "p5.height = 178.9\n",
    "\n",
    "p6 = Person()\n",
    "\n",
    "p4.disp()\n",
    "p5.disp()\n",
    "p6.disp()"
   ]
  },
  {
   "cell_type": "code",
   "execution_count": null,
   "id": "01adbd33",
   "metadata": {},
   "outputs": [],
   "source": [
    "class JBank:\n",
    "    #멤버 필드\n",
    "    rate = 0.7\n",
    "    \n",
    "    # 생성자 메서드\n",
    "    def __init__(self, name, money, iyul):\n",
    "        self.name = name\n",
    "        self.balance = money\n",
    "        self.rate = iyul\n",
    "        \n",
    "    # 멤버 메서드\n",
    "    def disp(self):\n",
    "        print(\"고객이름 :\", self.name, end = \" \")\n",
    "        print(\"예금금액 :\", self.balance, end = \" \")\n",
    "        print(\"예금이률 :\", JBank.rate)"
   ]
  },
  {
   "cell_type": "code",
   "execution_count": null,
   "id": "e443b32f",
   "metadata": {},
   "outputs": [],
   "source": [
    "# 초기고객\n",
    "a = JBank(\"aaa\", 10000, 0.7)\n",
    "a.disp()"
   ]
  },
  {
   "cell_type": "code",
   "execution_count": null,
   "id": "9efa16df",
   "metadata": {},
   "outputs": [],
   "source": [
    "# 중기고객\n",
    "b = JBank(\"bbb\", 10000, 0.3)\n",
    "a.disp()\n",
    "b.disp()"
   ]
  },
  {
   "cell_type": "code",
   "execution_count": null,
   "id": "ec8aa24d",
   "metadata": {},
   "outputs": [],
   "source": [
    "# 후기고객\n",
    "c = JBank(\"ccc\", 10000, 0.5)\n",
    "\n",
    "a.disp()\n",
    "b.disp()\n",
    "c.disp()"
   ]
  },
  {
   "cell_type": "code",
   "execution_count": null,
   "id": "169b344e",
   "metadata": {},
   "outputs": [],
   "source": [
    "class Member:\n",
    "    userid = \"king@kong.com\"\n",
    "    \n",
    "    def __init__(self, userid=\"aaa@a.com\", userpw=\"1234\", name=\"aaa\"):\n",
    "        self.userid = userid\n",
    "        self.userpw = userpw\n",
    "        self.name =name\n",
    "    \n",
    "    def disp(self):\n",
    "        print(self.userid, self.userpw, self.name)\n",
    "        print(Member.userid)"
   ]
  },
  {
   "cell_type": "code",
   "execution_count": null,
   "id": "3989825a",
   "metadata": {},
   "outputs": [],
   "source": [
    "m1 = Member()\n",
    "\n",
    "m1.disp()"
   ]
  },
  {
   "cell_type": "code",
   "execution_count": null,
   "id": "49b966f4",
   "metadata": {},
   "outputs": [],
   "source": [
    "m2 = Member(\"bbb@b.com\", \"1234\", \"bbb\")\n",
    "m2.disp()"
   ]
  },
  {
   "cell_type": "code",
   "execution_count": null,
   "id": "77b2c333",
   "metadata": {},
   "outputs": [],
   "source": [
    "m3 = Member(\"ccc@c.com\")\n",
    "m3.disp()"
   ]
  },
  {
   "cell_type": "markdown",
   "id": "7f21634d",
   "metadata": {},
   "source": [
    "### 상속(Inheritance)"
   ]
  },
  {
   "cell_type": "code",
   "execution_count": null,
   "id": "32543dd9",
   "metadata": {},
   "outputs": [],
   "source": [
    "class A(object):    # object\n",
    "    \n",
    "    def disp(self):\n",
    "        print(\"A class\")"
   ]
  },
  {
   "cell_type": "code",
   "execution_count": null,
   "id": "5beca41b",
   "metadata": {},
   "outputs": [],
   "source": [
    "class B:\n",
    "    \n",
    "    def bbb(self):\n",
    "        print(\"B class\")"
   ]
  },
  {
   "cell_type": "code",
   "execution_count": null,
   "id": "9d04fefd",
   "metadata": {},
   "outputs": [],
   "source": [
    "class C(A):\n",
    "    \n",
    "    def disp(self): # 오버라이딩(재정의)\n",
    "        A.disp(self)\n",
    "        print(\"C class\")"
   ]
  },
  {
   "cell_type": "code",
   "execution_count": null,
   "id": "0194858a",
   "metadata": {},
   "outputs": [],
   "source": [
    "# 일반적인 클래스의 멤버는 인스턴스 객체를 통해서 접근한다.\n",
    "ap = A()\n",
    "\n",
    "ap.disp()"
   ]
  },
  {
   "cell_type": "code",
   "execution_count": null,
   "id": "01b27224",
   "metadata": {},
   "outputs": [],
   "source": [
    "bp = B()\n",
    "\n",
    "bp.bbb()"
   ]
  },
  {
   "cell_type": "code",
   "execution_count": null,
   "id": "b83ae386",
   "metadata": {},
   "outputs": [],
   "source": [
    "\n",
    "cp = C()"
   ]
  },
  {
   "cell_type": "code",
   "execution_count": null,
   "id": "8cd55439",
   "metadata": {},
   "outputs": [],
   "source": [
    "cp.disp()"
   ]
  },
  {
   "cell_type": "code",
   "execution_count": null,
   "id": "6a7f7bf8",
   "metadata": {},
   "outputs": [],
   "source": [
    "class Person: # 상위클래스(부모클래스)\n",
    "    def __init__(self, name, age, height):\n",
    "        self.name = name\n",
    "        self.age = age\n",
    "        self.height = height\n",
    "        \n",
    "    def disp(self):\n",
    "        print(\"이름 : \" + self.name, end = \" \") # end = end of line\n",
    "        print(\"나이 : \" + str(self.age), end = \" \")\n",
    "        print(\"신장 : \" + str(self.height), end = \" \")"
   ]
  },
  {
   "cell_type": "code",
   "execution_count": null,
   "id": "194ef503",
   "metadata": {},
   "outputs": [],
   "source": [
    "class PersonInfo(Person): # 하위클래스(자녀클래스, 파생클래스)\n",
    "    \n",
    "    def disp(self):\n",
    "        print(\"체중 : \" + str(self.weight), end = \" \") # end = end of line\n",
    "        print(\"시력(좌) : \" + str(self.left_eye), end = \" \")\n",
    "        print(\"시력(우) : \" + str(self.right_eye))"
   ]
  },
  {
   "cell_type": "code",
   "execution_count": null,
   "id": "667b6c8d",
   "metadata": {},
   "outputs": [],
   "source": [
    "p1 = PersonInfo(\"aaa\", 20, 178.9)\n",
    "\n",
    "p1.weight = 70\n",
    "p1.left_eye = 1.0\n",
    "p1.right_eye = 1.5\n",
    "\n",
    "p1.disp()"
   ]
  },
  {
   "cell_type": "code",
   "execution_count": null,
   "id": "d3d96f1e",
   "metadata": {},
   "outputs": [],
   "source": [
    "class PersonInfo(Person): # 하위클래스(자녀클래스, 파생클래스)\n",
    "    \n",
    "    def __init__(self, name, age, height, weight, left_eye, right_eye):\n",
    "        Person.__init__(self, name, age, height)\n",
    "        self.weight = weight\n",
    "        self.left_eye = left_eye\n",
    "        self.right_eye = right_eye\n",
    "    \n",
    "    def disp(self):\n",
    "        Person.disp(self)\n",
    "        print(\"체중 : \" + str(self.weight), end = \" \") # end = end of line\n",
    "        print(\"시력(좌) : \" + str(self.left_eye), end = \" \")\n",
    "        print(\"시력(우) : \" + str(self.right_eye))"
   ]
  },
  {
   "cell_type": "code",
   "execution_count": null,
   "id": "3dc8906b",
   "metadata": {},
   "outputs": [],
   "source": [
    "p1 = PersonInfo(\"홍길동\", 33, 170.9, 90, 1.2, 1.5)\n",
    "p1.disp()"
   ]
  },
  {
   "cell_type": "code",
   "execution_count": null,
   "id": "c5dd9e75",
   "metadata": {
    "ExecuteTime": {
     "end_time": "2022-09-07T05:15:41.667581Z",
     "start_time": "2022-09-07T05:15:41.653620Z"
    }
   },
   "outputs": [],
   "source": [
    "class A:\n",
    "    # 멤버 필드 = 프로퍼티 = 클래스 변수(공통적으로 사용할 값)\n",
    "    name = \"김철수\"\n",
    "    age = 20\n",
    "    \n",
    "    # 멤버 메서드\n",
    "    def disp(self):\n",
    "        self.message = \"안녕하세요\"\n",
    "        print(self.message)"
   ]
  },
  {
   "cell_type": "code",
   "execution_count": null,
   "id": "e2e23687",
   "metadata": {
    "ExecuteTime": {
     "end_time": "2022-09-07T05:15:44.084343Z",
     "start_time": "2022-09-07T05:15:44.070382Z"
    }
   },
   "outputs": [],
   "source": [
    "ap = A()\n",
    "ap.disp()"
   ]
  },
  {
   "cell_type": "code",
   "execution_count": null,
   "id": "1f4d9612",
   "metadata": {
    "ExecuteTime": {
     "end_time": "2022-09-07T05:15:55.029763Z",
     "start_time": "2022-09-07T05:15:55.014805Z"
    }
   },
   "outputs": [],
   "source": [
    "print(ap.name)"
   ]
  },
  {
   "cell_type": "code",
   "execution_count": null,
   "id": "9ebbfd67",
   "metadata": {
    "ExecuteTime": {
     "end_time": "2022-09-07T05:15:59.807530Z",
     "start_time": "2022-09-07T05:15:59.800561Z"
    }
   },
   "outputs": [],
   "source": [
    "print(ap.age)"
   ]
  },
  {
   "cell_type": "code",
   "execution_count": null,
   "id": "527d67b0",
   "metadata": {
    "ExecuteTime": {
     "end_time": "2022-09-07T05:16:11.266054Z",
     "start_time": "2022-09-07T05:16:11.254086Z"
    }
   },
   "outputs": [],
   "source": [
    "print(A.name)"
   ]
  },
  {
   "cell_type": "code",
   "execution_count": null,
   "id": "ff981cc3",
   "metadata": {
    "ExecuteTime": {
     "end_time": "2022-09-07T05:16:16.723277Z",
     "start_time": "2022-09-07T05:16:16.704229Z"
    }
   },
   "outputs": [],
   "source": [
    "print(A.age)"
   ]
  },
  {
   "cell_type": "code",
   "execution_count": null,
   "id": "a7b458c1",
   "metadata": {
    "ExecuteTime": {
     "end_time": "2022-09-07T05:20:51.561626Z",
     "start_time": "2022-09-07T05:20:51.552650Z"
    }
   },
   "outputs": [],
   "source": [
    "class Person:\n",
    "    nation = \"한국\"\n",
    "    name = str()\n",
    "    age = int()\n",
    "    height = float()\n",
    "    weight = float()"
   ]
  },
  {
   "cell_type": "code",
   "execution_count": null,
   "id": "15c781f7",
   "metadata": {
    "ExecuteTime": {
     "end_time": "2022-09-07T05:22:28.082915Z",
     "start_time": "2022-09-07T05:22:28.069367Z"
    }
   },
   "outputs": [],
   "source": [
    "print(dir(Person))"
   ]
  },
  {
   "cell_type": "markdown",
   "id": "0d8c7b56",
   "metadata": {},
   "source": [
    "#### 은행 계좌관리 프로그램"
   ]
  },
  {
   "cell_type": "code",
   "execution_count": null,
   "id": "88d900b7",
   "metadata": {
    "ExecuteTime": {
     "end_time": "2022-09-07T05:36:10.802849Z",
     "start_time": "2022-09-07T05:36:10.794365Z"
    }
   },
   "outputs": [],
   "source": [
    "# 1. 고객의 정보는 이름, 계좌번호, 예금금액만 관리할 것\n",
    "# 2. 계죄번호는 정수값을 가지되, 중복값을 허용하지 않는다.\n",
    "# 3. 둘 이상의 고객에 대한 정보를 저장할 수 있도록 구현할 것.\n",
    "# 4. 계좌개설, 입금처리, 출금처리, 전체고객에 대한 계좌잔액 출력에 관한 로직을 구현할 것.\n",
    "# 5. 입금처리는 계좌번호를 입력받아 해당계좌의 존재유무에 따라 처리가 되도록 구현하되,\n",
    "#    입력한 계좌번호가 존재하지 않을 경우 \"계좌번호가 존재하지 않습니다.\"라는 메시지가 출력되도록 구현할 것.\n",
    "# 6. 출금처리는 계좌번호를 입력받아 해당계좌의 존재유무에 따라 처리하는 로직은 입금처리와 동일하며,\n",
    "#    출금처리시 계좌의 잔액 유무에 따른 메시지가 출력되도록 구현할 것.\n",
    "#    즉, 출금금액보다 예금잔액이 부족할 경우 \"잔액이 부족합니다.\"라는 메시지 출력할 것.\n",
    "# 7. 기타 처리 기능은 일반적으로 통용되는 기능을 이용할 것.\n",
    "# 8. 아래 출력형식에 맞게 프로그램을 구현할 것.\n",
    "\n",
    "#      <출력형식>\n",
    "# == 계좌관리 프로그램 ==\n",
    "# 1. 계좌개설\n",
    "# 2. 입금처리\n",
    "# 3. 출금처리\n",
    "# 4. 전체고객 잔액조회\n",
    "# 5. 츠로그램 종료\n",
    "# =====================(21개)\n",
    "# 메뉴 = \n",
    "# == 계좌개설 ==\n",
    "# 계좌번호 =\n",
    "# 고객이름 = \n",
    "# 예금금액 =\n",
    "# -------------(13개)\n",
    "# 계좌개설이 완료되었습니다.\n",
    "\n",
    "# == 입금처리 ==\n",
    "# 계좌번호 =\n",
    "# -------------(13개)\n",
    "# 계좌번호가 존재하지 않습니다.\n",
    "\n",
    "# == 입금처리 ==\n",
    "# 계좌번호 =\n",
    "# 입금금액 =\n",
    "# -------------(13개)\n",
    "# 입금이 완료되었습니다.\n",
    "\n",
    "# == 출금처리 ==\n",
    "# 계좌번호 =\n",
    "# 출금금액 =\n",
    "# -------------(13개)\n",
    "# 잔액이 부족합니다.\n",
    "\n",
    "#     == 전체고객 잔액조희 ==(앞에 공백 5개)\n",
    "# 계좌번호    고객이름    예금잔액\n",
    "# -----------------------------(29개)\n",
    "# xxxx        xxxx      xxxx\n",
    "# -----------------------------(29개)\n",
    "#         총 보유예금액 : xxxx(앞에 공백 8개)"
   ]
  },
  {
   "cell_type": "code",
   "execution_count": 1,
   "id": "5301b7a9",
   "metadata": {
    "ExecuteTime": {
     "end_time": "2022-09-07T08:34:04.808845Z",
     "start_time": "2022-09-07T08:34:04.792150Z"
    }
   },
   "outputs": [],
   "source": [
    "class Client:\n",
    "    \n",
    "    def __init__(self, name, acc, dep):\n",
    "        self.name = name\n",
    "        self.acc = acc\n",
    "        self.dep = dep\n",
    "        \n",
    "    def disp(self):\n",
    "        print(self.acc, self.name, self.dep, sep = \"\\t\")\n",
    "    \n",
    "    def deposit(self, cash):\n",
    "        self.dep += cash\n",
    "    \n",
    "    def withdraw(self, cash):\n",
    "        self.dep -= cash\n",
    "            \n",
    "    def get_acc(self):\n",
    "        return self.acc\n",
    "\n",
    "\n",
    "    def get_dep(self):\n",
    "        return self.dep\n",
    "        "
   ]
  },
  {
   "cell_type": "code",
   "execution_count": 17,
   "id": "028ca8c7",
   "metadata": {
    "ExecuteTime": {
     "end_time": "2022-09-07T08:29:15.019291Z",
     "start_time": "2022-09-07T08:29:14.988072Z"
    }
   },
   "outputs": [
    {
     "data": {
      "text/plain": [
       "int"
      ]
     },
     "execution_count": 17,
     "metadata": {},
     "output_type": "execute_result"
    }
   ],
   "source": [
    "a1 = Client(\"홍길동\", 9999 , 9999)\n",
    "type(a1.get_dep())\n"
   ]
  },
  {
   "cell_type": "code",
   "execution_count": null,
   "id": "92ca1f04",
   "metadata": {},
   "outputs": [],
   "source": [
    "# While True:\n",
    "#     print(\"== 계좌관리 프로그램 ==\")\n",
    "#     print(\"1. 계좌개설\")\n",
    "#     print(\"2. 입금처리\")\n",
    "#     print(\"3. 출금처리\")\n",
    "#     print(\"4. 전체고객 잔액조회\")\n",
    "#     print(\"5. 프로그램 종료\")\n",
    "#     print(\"=\" * 21)\n",
    "#     menu = int(input(\"메뉴 = \"))\n",
    "#     if menu == 5:\n",
    "#         print(\"프로그램을 종료합니다. 감사합니다.\")\n",
    "#         break\n",
    "#     elif menu == 1:\n",
    "#         print(== 계좌개설 ==)\n",
    "#         a = int(input(\"계좌번호를 입력하세요. : \")\n",
    "#         while a in client.acc:\n",
    "#                 input(\"계좌번호가 중복됩니다. 다시 입력해주세요. : \")\n",
    "#         else:\n",
    "#                 b = input(\"성함을 입력해주세요. : \")\n",
    "#                 c = int(input(\"예금금액을 입력해주세요. : \"))\n",
    "        \n",
    "        "
   ]
  },
  {
   "cell_type": "code",
   "execution_count": 5,
   "id": "8c326334",
   "metadata": {
    "ExecuteTime": {
     "end_time": "2022-09-07T08:35:48.270377Z",
     "start_time": "2022-09-07T08:35:48.260404Z"
    }
   },
   "outputs": [],
   "source": [
    "# 여러 명의 계좌정보를 저장하기 위한 기억공간\n",
    "acclist = dict() #acclist = dict()로 구현가능\n",
    "\n",
    "    # 메뉴를 출력하는 메서드\n",
    "def show_menu():\n",
    "    print(\"\\n== 계좌관리 프로그램 ==\")\n",
    "    print(\"1. 계좌개설\")\n",
    "    print(\"2. 입금처리\")\n",
    "    print(\"3. 출금처리\")\n",
    "    print(\"4. 전체고객 잔액조회\")\n",
    "    print(\"5. 프로그램 종료\")\n",
    "    print(\"=\" * 21)\n",
    "        \n",
    "def make_account():\n",
    "    print(\"\\n== 계좌개설 ==\")\n",
    "    acc = int(input(\"계좌번호 =\"))\n",
    "        \n",
    "    while acc in acclist.keys(): #계좌번호가 존재한다면\n",
    "        print(\"입력한 계좌번호는 이미 존재합니다.\")\n",
    "        acc = int(input(\"계좌번호 =\"))\n",
    "\n",
    "    name = input(\"고객이름 =\")\n",
    "    dep = int(input(\"예금금액 =\"))\n",
    "    add = Client(name, acc, dep)\n",
    "    acclist[acc] = add\n",
    "    print(\"계좌 개설이 완료되었습니다.\")\n",
    "        \n",
    "def show_accounts():\n",
    "    print(\"\\n     == 전체고객 잔액조회 ==\")\n",
    "    for i in acclist.keys():\n",
    "        acclist[i].disp()\n",
    "    \n",
    "\n",
    "\n",
    "def withdraw():\n",
    "    print(\"\\n== 출금처리 ==\")\n",
    "    acc = int(input(\"계좌번호 =\"))\n",
    "    while acc not in acclist.keys():\n",
    "        print(\"해당 계좌번호는 존재하지 않습니다.\")\n",
    "        acc = int(input(\"계좌번호 =\"))\n",
    "    cash = int(input(\"출금금액 =\"))\n",
    "    if acclist[acc].dep < cash:\n",
    "        print(\"예금이 부족합니다.\")\n",
    "    else:\n",
    "        acclist[acc].withdraw(cash)\n",
    "        print(\"출금이 완료됐습니다.남은 잔액은 %d입니다.\" % acclist[acc].get_dep())\n",
    "\n",
    "def deposit():\n",
    "    print(\"\\n== 입금처리 ==\")\n",
    "    acc = int(input(\"계좌번호 =\"))\n",
    "    while acc not in acclist.keys():\n",
    "        print(\"해당 계좌번호는 존재하지 않습니다.\")\n",
    "        acc = int(input(\"계좌번호 =\"))\n",
    "    cash = int(input(\"입금금액 =\"))\n",
    "    acclist[acc].deposit(cash)\n",
    "    print(\"입금이 완료됐습니다. 남은 잔액은 %d입니다.\" % acclist[acc].get_dep())\n",
    "\n"
   ]
  },
  {
   "cell_type": "code",
   "execution_count": 7,
   "id": "6332429c",
   "metadata": {
    "ExecuteTime": {
     "end_time": "2022-09-07T08:36:53.518911Z",
     "start_time": "2022-09-07T08:36:14.825891Z"
    }
   },
   "outputs": [
    {
     "name": "stdout",
     "output_type": "stream",
     "text": [
      "은행 계좌관리 프로그램을 시작합니다.\n",
      "\n",
      "== 계좌관리 프로그램 ==\n",
      "1. 계좌개설\n",
      "2. 입금처리\n",
      "3. 출금처리\n",
      "4. 전체고객 잔액조회\n",
      "5. 프로그램 종료\n",
      "=====================\n",
      "menu = 1\n",
      "\n",
      "== 계좌개설 ==\n",
      "계좌번호 =123\n",
      "입력한 계좌번호는 이미 존재합니다.\n",
      "계좌번호 =4\n",
      "고객이름 =aaa\n",
      "예금금액 =200000\n",
      "계좌 개설이 완료되었습니다.\n",
      "\n",
      "== 계좌관리 프로그램 ==\n",
      "1. 계좌개설\n",
      "2. 입금처리\n",
      "3. 출금처리\n",
      "4. 전체고객 잔액조회\n",
      "5. 프로그램 종료\n",
      "=====================\n",
      "menu = 4\n",
      "\n",
      "     == 전체고객 잔액조회 ==\n",
      "123\taaa\t20000\n",
      "124\tbbb\t20000\n",
      "4\taaa\t200000\n",
      "\n",
      "== 계좌관리 프로그램 ==\n",
      "1. 계좌개설\n",
      "2. 입금처리\n",
      "3. 출금처리\n",
      "4. 전체고객 잔액조회\n",
      "5. 프로그램 종료\n",
      "=====================\n",
      "menu = 5\n",
      "은행 계좌관리 프로그램을 종료합니다.\n"
     ]
    }
   ],
   "source": [
    "print(\"은행 계좌관리 프로그램을 시작합니다.\")\n",
    "\n",
    "while True:\n",
    "    show_menu()\n",
    "    menu = int(input(\"menu = \"))\n",
    "    \n",
    "    if menu == 1:\n",
    "        make_account()\n",
    "    elif menu == 2:\n",
    "        deposit()\n",
    "    elif menu == 3:\n",
    "        withdraw()\n",
    "    elif menu == 4:\n",
    "        show_accounts()\n",
    "    elif menu == 5:\n",
    "        break\n",
    "    else:\n",
    "        print(\"메뉴의 선택이 올바르지 않습니다.\")\n",
    "        \n",
    "print(\"은행 계좌관리 프로그램을 종료합니다.\")"
   ]
  },
  {
   "cell_type": "code",
   "execution_count": null,
   "id": "e6188273",
   "metadata": {},
   "outputs": [],
   "source": []
  }
 ],
 "metadata": {
  "kernelspec": {
   "display_name": "Python 3 (ipykernel)",
   "language": "python",
   "name": "python3"
  },
  "language_info": {
   "codemirror_mode": {
    "name": "ipython",
    "version": 3
   },
   "file_extension": ".py",
   "mimetype": "text/x-python",
   "name": "python",
   "nbconvert_exporter": "python",
   "pygments_lexer": "ipython3",
   "version": "3.9.12"
  },
  "toc": {
   "base_numbering": 1,
   "nav_menu": {},
   "number_sections": true,
   "sideBar": true,
   "skip_h1_title": false,
   "title_cell": "Table of Contents",
   "title_sidebar": "Contents",
   "toc_cell": false,
   "toc_position": {},
   "toc_section_display": true,
   "toc_window_display": false
  }
 },
 "nbformat": 4,
 "nbformat_minor": 5
}
