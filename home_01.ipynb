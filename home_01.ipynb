{
 "cells": [
  {
   "cell_type": "markdown",
   "id": "b4d970a1",
   "metadata": {},
   "source": [
    "# 제어문과 함수"
   ]
  },
  {
   "cell_type": "code",
   "execution_count": 1,
   "id": "cec384a0",
   "metadata": {
    "ExecuteTime": {
     "end_time": "2022-09-05T00:14:30.784069Z",
     "start_time": "2022-09-05T00:14:30.768977Z"
    }
   },
   "outputs": [
    {
     "name": "stdout",
     "output_type": "stream",
     "text": [
      "1 2 3 4 5 "
     ]
    }
   ],
   "source": [
    "# 조건문(if, if~else, elif)과 반복문(for, while)\n",
    "## for 개별변수 in 집합변수:\n",
    "for i in [1, 2, 3, 4, 5]:\n",
    "    print(i, end=\" \")   # end = \"\\n\""
   ]
  },
  {
   "cell_type": "code",
   "execution_count": 2,
   "id": "0ad144fe",
   "metadata": {
    "ExecuteTime": {
     "end_time": "2022-09-05T00:15:39.930245Z",
     "start_time": "2022-09-05T00:15:39.915185Z"
    }
   },
   "outputs": [
    {
     "name": "stdout",
     "output_type": "stream",
     "text": [
      "1 2 3 4 5 "
     ]
    }
   ],
   "source": [
    "numbers = [1, 2, 3, 4, 5]\n",
    "for i in numbers:\n",
    "    print(i, end=' ')    "
   ]
  },
  {
   "cell_type": "code",
   "execution_count": 3,
   "id": "e00b9046",
   "metadata": {
    "ExecuteTime": {
     "end_time": "2022-09-05T00:18:09.821137Z",
     "start_time": "2022-09-05T00:18:09.806985Z"
    }
   },
   "outputs": [
    {
     "name": "stdout",
     "output_type": "stream",
     "text": [
      "range(0, 10)\n"
     ]
    }
   ],
   "source": [
    "# sequence type : 시퀀스 자료형\n",
    "## 순서대로 데이터를 저장하고 관리하는 자료구조\n",
    "## list, tuple\n",
    "a = range(10)  # range(start, end, step), length : 0 ~ 9\n",
    "print(a)"
   ]
  },
  {
   "cell_type": "code",
   "execution_count": 4,
   "id": "9e8e6c49",
   "metadata": {
    "ExecuteTime": {
     "end_time": "2022-09-05T00:19:21.696530Z",
     "start_time": "2022-09-05T00:19:21.690321Z"
    }
   },
   "outputs": [
    {
     "name": "stdout",
     "output_type": "stream",
     "text": [
      "[0, 1, 2, 3, 4, 5, 6, 7, 8, 9]\n"
     ]
    }
   ],
   "source": [
    "a = list(range(10))  # 리스트로 저장\n",
    "print(a)"
   ]
  },
  {
   "cell_type": "code",
   "execution_count": 5,
   "id": "af7d9c4f",
   "metadata": {
    "ExecuteTime": {
     "end_time": "2022-09-05T00:20:01.901080Z",
     "start_time": "2022-09-05T00:20:01.891013Z"
    }
   },
   "outputs": [
    {
     "name": "stdout",
     "output_type": "stream",
     "text": [
      "range(1, 11)\n"
     ]
    }
   ],
   "source": [
    "a = range(1, 11) # 1 ~ 10\n",
    "print(a)"
   ]
  },
  {
   "cell_type": "code",
   "execution_count": 6,
   "id": "9dafea67",
   "metadata": {
    "ExecuteTime": {
     "end_time": "2022-09-05T00:20:27.761890Z",
     "start_time": "2022-09-05T00:20:27.758542Z"
    }
   },
   "outputs": [
    {
     "name": "stdout",
     "output_type": "stream",
     "text": [
      "[1, 2, 3, 4, 5, 6, 7, 8, 9, 10]\n"
     ]
    }
   ],
   "source": [
    "a = list(range(1, 11))\n",
    "print(a)"
   ]
  },
  {
   "cell_type": "code",
   "execution_count": 7,
   "id": "d21c1507",
   "metadata": {
    "ExecuteTime": {
     "end_time": "2022-09-05T00:21:10.716436Z",
     "start_time": "2022-09-05T00:21:10.697393Z"
    }
   },
   "outputs": [
    {
     "name": "stdout",
     "output_type": "stream",
     "text": [
      "[1, 3, 5, 7, 9]\n"
     ]
    }
   ],
   "source": [
    "a = list(range(1, 11, 2)) # 1 ~ 10, step 2\n",
    "print(a)"
   ]
  },
  {
   "cell_type": "code",
   "execution_count": 8,
   "id": "28810c4a",
   "metadata": {
    "ExecuteTime": {
     "end_time": "2022-09-05T00:28:06.815967Z",
     "start_time": "2022-09-05T00:28:06.804638Z"
    }
   },
   "outputs": [
    {
     "name": "stdout",
     "output_type": "stream",
     "text": [
      "sum =  55\n"
     ]
    }
   ],
   "source": [
    "# 1 ~ 10까지의 합을 계산하여 출력하는 프로그램\n",
    "# 1 + 2 + 3 + 4 + 5 + 6 + 7 + 8 + 9 + 10 = ?\n",
    "# 변수 할당, 변수 참조\n",
    "sum = 0   # 변수의 초기화, 1~10까지의 자연수를 누적해서 담을 변수\n",
    "for i in range(1, 11):\n",
    "    # sum = sum + i, 누적변수 - 좌변과 우변에 동일한 변수로 이루어진 변수\n",
    "    sum += i\n",
    "    \n",
    "print(\"sum = \", sum)"
   ]
  },
  {
   "cell_type": "code",
   "execution_count": 9,
   "id": "e863ba6d",
   "metadata": {
    "ExecuteTime": {
     "end_time": "2022-09-05T00:33:13.929868Z",
     "start_time": "2022-09-05T00:33:05.067120Z"
    }
   },
   "outputs": [
    {
     "name": "stdout",
     "output_type": "stream",
     "text": [
      "숫자를 입력하세요 = 100\n",
      "sum =  5050\n"
     ]
    }
   ],
   "source": [
    "# 사용자로부터 하나의 숫자를 입력받아 1부터 입력받은 수까지의 합계를 계산하여 출력하는 프로그램\n",
    "## 1 ~ n\n",
    "n = int(input(\"숫자를 입력하세요 = \"))  # 10\n",
    "\n",
    "sum = 0\n",
    "for i in range(1, n+1):  # n+1의 의미를 생각해보자!!!(입력값 10)\n",
    "    sum += i\n",
    "    \n",
    "print(\"sum = \", sum)"
   ]
  },
  {
   "cell_type": "code",
   "execution_count": 11,
   "id": "15c2f5e3",
   "metadata": {
    "ExecuteTime": {
     "end_time": "2022-09-05T00:40:35.831366Z",
     "start_time": "2022-09-05T00:40:21.754291Z"
    }
   },
   "outputs": [
    {
     "name": "stdout",
     "output_type": "stream",
     "text": [
      "숫자 = 10\n",
      "배수 = 5\n",
      "sum =  15\n"
     ]
    }
   ],
   "source": [
    "# n, m에 숫자를 입력받아 1 ~ n까지의 m의 배수의 합계를 계산하여 출력하는 프로그램을 구현하시오.\n",
    "## n = 10, m = 2가 입력되었다면 : 1부터 10사이의 수중 2에 배수에 값만 누적합을 계산\n",
    "n = int(input(\"숫자 = \")) # 10\n",
    "m = int(input(\"배수 = \")) # 2 => 2, 4, 6, 8, 10\n",
    "sum = 0\n",
    "\n",
    "for i in range(0, n+1, m):  # range(1, 11, 2) - 1, 3, 5, 7, 9\n",
    "    sum += i\n",
    "    \n",
    "print(\"sum = \", sum)"
   ]
  },
  {
   "cell_type": "code",
   "execution_count": 12,
   "id": "64d5bf67",
   "metadata": {
    "ExecuteTime": {
     "end_time": "2022-09-05T00:42:37.647939Z",
     "start_time": "2022-09-05T00:42:37.642866Z"
    }
   },
   "outputs": [
    {
     "name": "stdout",
     "output_type": "stream",
     "text": [
      "(1, 2)\n",
      "(3, 4)\n",
      "(5, 6)\n"
     ]
    }
   ],
   "source": [
    "# 리스트 안에 요소가 튜플인 경우\n",
    "a = [(1, 2), (3, 4), (5, 6)]\n",
    "\n",
    "for i in a:\n",
    "    print(i)"
   ]
  },
  {
   "cell_type": "code",
   "execution_count": 13,
   "id": "b3cf54ed",
   "metadata": {
    "ExecuteTime": {
     "end_time": "2022-09-05T00:44:50.093938Z",
     "start_time": "2022-09-05T00:44:50.075904Z"
    }
   },
   "outputs": [
    {
     "name": "stdout",
     "output_type": "stream",
     "text": [
      "(1, 2) 1 2\n",
      "(3, 4) 3 4\n",
      "(5, 6) 5 6\n"
     ]
    }
   ],
   "source": [
    "a = [(1, 2), (3, 4), (5, 6)]\n",
    "\n",
    "for aa in a:\n",
    "    a1 = aa[0]\n",
    "    a2 = aa[1]\n",
    "    print(aa, a1, a2)"
   ]
  },
  {
   "cell_type": "code",
   "execution_count": 14,
   "id": "b280a844",
   "metadata": {
    "ExecuteTime": {
     "end_time": "2022-09-05T00:47:19.903802Z",
     "start_time": "2022-09-05T00:47:19.896803Z"
    }
   },
   "outputs": [
    {
     "name": "stdout",
     "output_type": "stream",
     "text": [
      "1 + 2 = 3\n",
      "3 + 4 = 7\n",
      "5 + 6 = 11\n"
     ]
    }
   ],
   "source": [
    "# 리스트 a의 개별요소들의 합을 출력하는 프로그램\n",
    "a = [(1, 2), (3, 4), (5, 6)]\n",
    "\n",
    "for (first, second) in a:\n",
    "    print(\"{0} + {1} = {2}\".format(first, second, first+second))"
   ]
  },
  {
   "cell_type": "code",
   "execution_count": 17,
   "id": "cfd3b257",
   "metadata": {
    "ExecuteTime": {
     "end_time": "2022-09-05T01:09:58.221167Z",
     "start_time": "2022-09-05T01:09:58.203199Z"
    }
   },
   "outputs": [
    {
     "name": "stdout",
     "output_type": "stream",
     "text": [
      "1번 학생 : 90점, 합격 입니다.\n",
      "2번 학생 : 25점, 불합격 입니다.\n",
      "3번 학생 : 67점, 합격 입니다.\n",
      "4번 학생 : 45점, 불합격 입니다.\n",
      "5번 학생 : 80점, 합격 입니다.\n"
     ]
    }
   ],
   "source": [
    "# 학생들의 점수를 이용해서 합격과 불합격을 판정하는 프로그램을 구현하시오.\n",
    "points = [90, 25, 67, 45, 80]\n",
    "# 점수가 60점 이상이면 \"합격\", 그렇지 않으면 \"불합격\"을 판정\n",
    "# 출력형식 : 1번학생 : 90점, 합격입니다.\n",
    "\n",
    "# 학생들 번호를 누적할 변수 선언\n",
    "#num = 0\n",
    "num = 1\n",
    "for point in points:\n",
    "    # 학생 번호\n",
    "    #num += 1\n",
    "    \n",
    "    # 합격, 불합격 판정식\n",
    "    if point >= 60:\n",
    "        result = \"합격\"\n",
    "    else:\n",
    "        result = \"불합격\" \n",
    "        \n",
    "    # 출력형식\n",
    "    #print(\"%d번 학생 : %d점, %s 입니다.\" % (num, point, result))\n",
    "    print(\"{0}번 학생 : {1}점, {2} 입니다.\".format(num, point, result))\n",
    "    \n",
    "    num += 1"
   ]
  },
  {
   "cell_type": "code",
   "execution_count": 18,
   "id": "2eed528c",
   "metadata": {
    "ExecuteTime": {
     "end_time": "2022-09-05T01:13:27.708306Z",
     "start_time": "2022-09-05T01:13:27.689614Z"
    }
   },
   "outputs": [
    {
     "name": "stdout",
     "output_type": "stream",
     "text": [
      "2\n",
      "4\n",
      "6\n",
      "8\n",
      "10\n"
     ]
    }
   ],
   "source": [
    "a = 0\n",
    "\n",
    "while a < 10: # 조건식 참일 때 반복해서 수행된다.\n",
    "    a += 1\n",
    "    if a % 2 != 0:  # 입력받은 값을 2로 나눈 나머지가 0이 아니라면 - 홀수라면\n",
    "        continue  # skip, 이하 생략(건너띄어라)\n",
    "    print(a)"
   ]
  },
  {
   "cell_type": "code",
   "execution_count": 19,
   "id": "b25ef0b6",
   "metadata": {
    "ExecuteTime": {
     "end_time": "2022-09-05T01:17:38.123568Z",
     "start_time": "2022-09-05T01:17:30.078590Z"
    }
   },
   "outputs": [
    {
     "name": "stdout",
     "output_type": "stream",
     "text": [
      "문자입력(종료하려면 x) = a\n",
      "입력한 내용 :  a\n",
      "문자입력(종료하려면 x) = b\n",
      "입력한 내용 :  b\n",
      "문자입력(종료하려면 x) = e\n",
      "입력한 내용 :  e\n",
      "문자입력(종료하려면 x) = x\n",
      "입력한 내용 :  x\n"
     ]
    }
   ],
   "source": [
    "# 무한Loop : 무한반복 - 반드시 반복문을 벗어나는 문장을 기술해야 한다.\n",
    "# 문자를 입력받아 출력하는 프로그램 단, 입력문자가 x이면 작업을 종료\n",
    "while True:\n",
    "    s = input(\"문자입력(종료하려면 x) = \")\n",
    "    print(\"입력한 내용 : \", s)\n",
    "    if s == \"x\":\n",
    "        break # 탈출조건, 반복을 벗어나는 경우"
   ]
  },
  {
   "cell_type": "code",
   "execution_count": 20,
   "id": "027e1a91",
   "metadata": {
    "ExecuteTime": {
     "end_time": "2022-09-05T01:22:56.111959Z",
     "start_time": "2022-09-05T01:22:33.430532Z"
    }
   },
   "outputs": [
    {
     "name": "stdout",
     "output_type": "stream",
     "text": [
      "단 = 5\n",
      "5 x 1 = 5\n",
      "5 x 2 = 10\n",
      "5 x 3 = 15\n",
      "5 x 4 = 20\n",
      "5 x 5 = 25\n",
      "5 x 6 = 30\n",
      "5 x 7 = 35\n",
      "5 x 8 = 40\n",
      "5 x 9 = 45\n",
      "단 = 7\n",
      "7 x 1 = 7\n",
      "7 x 2 = 14\n",
      "7 x 3 = 21\n",
      "7 x 4 = 28\n",
      "7 x 5 = 35\n",
      "7 x 6 = 42\n",
      "7 x 7 = 49\n",
      "7 x 8 = 56\n",
      "7 x 9 = 63\n",
      "단 = 0\n"
     ]
    }
   ],
   "source": [
    "# 구구단을 작성하는 프로그램\n",
    "# 사용자로부터 단을 입력받아 구구단을 출력하되, 단에 0이 입력되면 작업을 종료하시오.\n",
    "\n",
    "# True(1), False(0)\n",
    "while 1: # while True와 같은 의미, 무한반복\n",
    "    dan = int(input(\"단 = \"))\n",
    "    if dan == 0:\n",
    "        break\n",
    "    for i in range(1, 10):\n",
    "        print(\"{0} x {1} = {2}\".format(dan, i, dan*i))"
   ]
  },
  {
   "cell_type": "code",
   "execution_count": 21,
   "id": "3ff4d3f9",
   "metadata": {
    "ExecuteTime": {
     "end_time": "2022-09-05T01:35:15.328686Z",
     "start_time": "2022-09-05T01:34:50.353459Z"
    }
   },
   "outputs": [
    {
     "name": "stdout",
     "output_type": "stream",
     "text": [
      "년도(종료:0) = 2018\n",
      "2018년도는 평년입니다.\n",
      "년도(종료:0) = 2000\n",
      "2000년도는 윤년입니다.\n",
      "년도(종료:0) = 0\n",
      "프로그램을 종료합니다.\n"
     ]
    }
   ],
   "source": [
    "# 년도를 입력받아 평년인지 윤년인지 판단하여 출력하는 프로그램을 구현하시오.\n",
    "# 단, 입력받은 년도가 0이면 작업을 종료하시오.\n",
    "# 윤년은 4년마다 돌아오는데 100으로 나누어 떨어지는 연도는 평년이다. 하지만, 400으로 나누어 떨어지는\n",
    "# 년도는 윤년이다.\n",
    "\n",
    "while True: # 무한반복(0이 입력되면 종료)\n",
    "    year = int(input(\"년도(종료:0) = \"))\n",
    "    \n",
    "    if year == 0:\n",
    "        print(\"프로그램을 종료합니다.\")\n",
    "        break\n",
    "        \n",
    "    if year % 4 == 0 and year % 100 != 0 or year % 400 == 0:\n",
    "        print(\"{0}년도는 윤년입니다.\".format(year))\n",
    "    else:\n",
    "        print(\"{0}년도는 평년입니다.\".format(year))"
   ]
  },
  {
   "cell_type": "code",
   "execution_count": 22,
   "id": "17026832",
   "metadata": {
    "ExecuteTime": {
     "end_time": "2022-09-05T01:45:14.175085Z",
     "start_time": "2022-09-05T01:45:14.171031Z"
    }
   },
   "outputs": [
    {
     "name": "stdout",
     "output_type": "stream",
     "text": [
      "9\n",
      "x =  3\n"
     ]
    }
   ],
   "source": [
    "# 함수의 수행순서\n",
    "# 지역변수와 전역변수의 의미\n",
    "# 지역변수 : 특정 지역내에서(함수안에서)만 유효한 변수, local\n",
    "# 전역변수 : 프로그램 전반적으로 유효한 변수, global\n",
    "\n",
    "# 함수의 선언\n",
    "def f(x):   # f라는 이름의 함수를 선언할 때, 매개변수 x\n",
    "    y = x\n",
    "    x = 5   # 지역변수 : 변수가 선언된 지역에서만 사용이 제한된 변수\n",
    "    #print(\"x = \", x)\n",
    "    return y * y  # 3 * 3\n",
    "\n",
    "x = 3 # 전역변수\n",
    "print(f(x)) # 함수호출, print(9)\n",
    "print(\"x = \", x)"
   ]
  },
  {
   "cell_type": "code",
   "execution_count": 23,
   "id": "ecab4242",
   "metadata": {
    "ExecuteTime": {
     "end_time": "2022-09-05T01:51:33.931013Z",
     "start_time": "2022-09-05T01:51:33.441159Z"
    }
   },
   "outputs": [
    {
     "name": "stdout",
     "output_type": "stream",
     "text": [
      "10\n",
      "In Function :  20\n",
      "In Main :  10\n"
     ]
    },
    {
     "ename": "NameError",
     "evalue": "name 't' is not defined",
     "output_type": "error",
     "traceback": [
      "\u001b[1;31m---------------------------------------------------------------------------\u001b[0m",
      "\u001b[1;31mNameError\u001b[0m                                 Traceback (most recent call last)",
      "Input \u001b[1;32mIn [23]\u001b[0m, in \u001b[0;36m<cell line: 13>\u001b[1;34m()\u001b[0m\n\u001b[0;32m     11\u001b[0m test(x)  \u001b[38;5;66;03m# 함수호출\u001b[39;00m\n\u001b[0;32m     12\u001b[0m \u001b[38;5;28mprint\u001b[39m(\u001b[38;5;124m\"\u001b[39m\u001b[38;5;124mIn Main : \u001b[39m\u001b[38;5;124m\"\u001b[39m, x) \u001b[38;5;66;03m# 10\u001b[39;00m\n\u001b[1;32m---> 13\u001b[0m \u001b[38;5;28mprint\u001b[39m(\u001b[38;5;124m\"\u001b[39m\u001b[38;5;124mIn Main : \u001b[39m\u001b[38;5;124m\"\u001b[39m, \u001b[43mt\u001b[49m)\n",
      "\u001b[1;31mNameError\u001b[0m: name 't' is not defined"
     ]
    }
   ],
   "source": [
    "# 변수의 유효범위(scope)\n",
    "## 지역변수 : 함수안에서 선언된 변수는 함수안에서만 유효하다.\n",
    "## 전역변수 : 함수와 상관없이 구현된 변수는 프로그램 전체에서 유효하다.\n",
    "\n",
    "def test(t):\n",
    "    print(x) # 10\n",
    "    t = 20  # 지역변수 - 함수를 벗어나면 소멸된다.\n",
    "    print(\"In Function : \", t) # 20\n",
    "    \n",
    "x = 10  # 전역변수\n",
    "test(x)  # 함수호출\n",
    "print(\"In Main : \", x) # 10\n",
    "print(\"In Main : \", t) # error"
   ]
  },
  {
   "cell_type": "code",
   "execution_count": 25,
   "id": "8d0766b0",
   "metadata": {
    "ExecuteTime": {
     "end_time": "2022-09-05T01:57:12.380808Z",
     "start_time": "2022-09-05T01:57:12.363540Z"
    }
   },
   "outputs": [
    {
     "name": "stdout",
     "output_type": "stream",
     "text": [
      "I Love London!!\n",
      "I Love London!!\n"
     ]
    }
   ],
   "source": [
    "# 변수(variable) : 변하는 수, 기억공간(메모리), 하나의 데이터만 저장된다.\n",
    "\n",
    "def f():\n",
    "    global s    # 함수안에서 전역변수를 선언할 때\n",
    "    s = \"I Love London!!\"   # 전역변수\n",
    "    print(s)\n",
    "    \n",
    "s = \"I Love Paris!!\"  # 전역변수\n",
    "f()  # 함수호출\n",
    "#s = \"I Love London!!\" \n",
    "print(s)"
   ]
  },
  {
   "cell_type": "code",
   "execution_count": 26,
   "id": "c22af8c9",
   "metadata": {
    "ExecuteTime": {
     "end_time": "2022-09-05T02:16:29.578540Z",
     "start_time": "2022-09-05T02:16:29.560476Z"
    }
   },
   "outputs": [
    {
     "name": "stdout",
     "output_type": "stream",
     "text": [
      "*    \n",
      " *   \n",
      "  *  \n",
      "   * \n",
      "    *\n"
     ]
    }
   ],
   "source": [
    "for i in range(5):  # i = 0, 1, 2, 3, 4  => 행을 뜻한다라고 생각하고\n",
    "    for j in range(5): # j = 0, 1, 2, 3, 4  => 열을 의미한다고 생각해보면\n",
    "        if j == i:   # if i == j와 동일한 의미\n",
    "            print('*', end='') # 0행0열, 1행1열, 2행2열, 3행3열, 4행4열에 찍힘\n",
    "        else:\n",
    "            print(' ', end='') # 빈칸(공백) 처리\n",
    "    print() # 개행의 의미\n",
    "    \n",
    "# 다중 for의 실행순서는\n",
    "# 바깥쪽 for문이 한번동작할 때 안쪽 for문은 주어진 횟수만큼 반복하다.\n",
    "# i = 0일때, j = 0, 1, 2, 3, 4\n",
    "# i = 1일때, j = 0, 1, 2, 3, 4\n",
    "# i = 2일때, j = 0, 1, 2, 3, 4\n",
    "# i = 3일때, j = 0, 1, 2, 3, 4\n",
    "# i = 4일때, j = 0, 1, 2, 3, 4"
   ]
  },
  {
   "cell_type": "code",
   "execution_count": 27,
   "id": "df52e9b2",
   "metadata": {
    "ExecuteTime": {
     "end_time": "2022-09-05T02:20:09.120803Z",
     "start_time": "2022-09-05T02:20:09.107401Z"
    }
   },
   "outputs": [
    {
     "name": "stdout",
     "output_type": "stream",
     "text": [
      "*\n",
      "**\n",
      "***\n",
      "****\n",
      "*****\n"
     ]
    }
   ],
   "source": [
    "for i in range(5):  # i = 0, 1, 2, 3, 4  => 행을 뜻한다라고 생각하고\n",
    "    for j in range(0, i+1): # 열을 의미한다고 , *가 찍히는 개수\n",
    "        print(\"*\", end='')\n",
    "    print() # 개행의 의미\n",
    "    \n",
    "    \n",
    "# *\n",
    "# **\n",
    "# ***\n",
    "# ****\n",
    "# *****\n",
    "# i = 0일때, j = 0 \n",
    "# i = 1일때, j = 0, 1 \n",
    "# i = 2일때, j = 0, 1, 2 \n",
    "# i = 3일때, j = 0, 1, 2, 3 \n",
    "# i = 4일때, j = 0, 1, 2, 3, 4"
   ]
  },
  {
   "cell_type": "code",
   "execution_count": 28,
   "id": "0c70517a",
   "metadata": {
    "ExecuteTime": {
     "end_time": "2022-09-05T02:31:00.285385Z",
     "start_time": "2022-09-05T02:31:00.276421Z"
    }
   },
   "outputs": [
    {
     "name": "stdout",
     "output_type": "stream",
     "text": [
      "In Program\n",
      "a:  5 b:  7 a+b:  12\n",
      "In Function\n",
      "a:  5 b:  7 a+b:  12 tot:  12\n",
      "함수 calc 호출 후\n",
      "tot:  0 sum:  12\n"
     ]
    }
   ],
   "source": [
    "# 변수의 사용범위(유효범위)\n",
    "def calc(x, y):\n",
    "    tot = x + y  # 5 + 7, 지역변수\n",
    "    print(\"In Function\")\n",
    "    # str() : 숫자를 문자열로 변환하는 함수\n",
    "    print(\"a: \", str(a), \"b: \", str(b), \"a+b: \", str(a+b), \"tot: \", str(tot))\n",
    "    return tot\n",
    "\n",
    "a = 5 # 전역변수\n",
    "b = 7 # 전역변수\n",
    "tot = 0 # 전역변수\n",
    "print(\"In Program\")\n",
    "print(\"a: \", str(a), \"b: \", str(b), \"a+b: \", str(a+b)) # 5, 7, 12\n",
    "\n",
    "sum = calc(a, b)  # 함수호출\n",
    "print(\"함수 calc 호출 후\")\n",
    "print(\"tot: \", str(tot), \"sum: \", str(sum))  # 0, 12"
   ]
  },
  {
   "cell_type": "code",
   "execution_count": 29,
   "id": "78833c34",
   "metadata": {
    "ExecuteTime": {
     "end_time": "2022-09-05T02:34:03.606866Z",
     "start_time": "2022-09-05T02:34:03.591710Z"
    }
   },
   "outputs": [],
   "source": [
    "# default parameter : 매개변수의 초기화\n",
    "# 함수의 오버로딩(Overloadding) : 동일한 이름을 가진 함수를 여러개 만들어 사용하는 기능으로\n",
    "# 매개변수의 개수가 달라야 한다.\n",
    "\n",
    "def aaa():\n",
    "    print(\"Hi\")\n",
    "    \n",
    "def aaa(x):\n",
    "    print(\"Hi\" * x)\n",
    "    \n",
    "def aaa(string, x):\n",
    "    print(string * x)"
   ]
  },
  {
   "cell_type": "code",
   "execution_count": 30,
   "id": "3ff2fabd",
   "metadata": {
    "ExecuteTime": {
     "end_time": "2022-09-05T02:34:28.972670Z",
     "start_time": "2022-09-05T02:34:28.950300Z"
    }
   },
   "outputs": [
    {
     "ename": "TypeError",
     "evalue": "aaa() missing 2 required positional arguments: 'string' and 'x'",
     "output_type": "error",
     "traceback": [
      "\u001b[1;31m---------------------------------------------------------------------------\u001b[0m",
      "\u001b[1;31mTypeError\u001b[0m                                 Traceback (most recent call last)",
      "Input \u001b[1;32mIn [30]\u001b[0m, in \u001b[0;36m<cell line: 2>\u001b[1;34m()\u001b[0m\n\u001b[0;32m      1\u001b[0m \u001b[38;5;66;03m# 함수호출\u001b[39;00m\n\u001b[1;32m----> 2\u001b[0m \u001b[43maaa\u001b[49m\u001b[43m(\u001b[49m\u001b[43m)\u001b[49m\n",
      "\u001b[1;31mTypeError\u001b[0m: aaa() missing 2 required positional arguments: 'string' and 'x'"
     ]
    }
   ],
   "source": [
    "# 함수호출\n",
    "aaa()"
   ]
  },
  {
   "cell_type": "code",
   "execution_count": 31,
   "id": "883d9db2",
   "metadata": {
    "ExecuteTime": {
     "end_time": "2022-09-05T02:35:33.261578Z",
     "start_time": "2022-09-05T02:35:33.242327Z"
    }
   },
   "outputs": [
    {
     "ename": "TypeError",
     "evalue": "aaa() missing 1 required positional argument: 'x'",
     "output_type": "error",
     "traceback": [
      "\u001b[1;31m---------------------------------------------------------------------------\u001b[0m",
      "\u001b[1;31mTypeError\u001b[0m                                 Traceback (most recent call last)",
      "Input \u001b[1;32mIn [31]\u001b[0m, in \u001b[0;36m<cell line: 1>\u001b[1;34m()\u001b[0m\n\u001b[1;32m----> 1\u001b[0m \u001b[43maaa\u001b[49m\u001b[43m(\u001b[49m\u001b[38;5;241;43m3\u001b[39;49m\u001b[43m)\u001b[49m\n",
      "\u001b[1;31mTypeError\u001b[0m: aaa() missing 1 required positional argument: 'x'"
     ]
    }
   ],
   "source": [
    "aaa(3)"
   ]
  },
  {
   "cell_type": "code",
   "execution_count": 32,
   "id": "d5108fa4",
   "metadata": {
    "ExecuteTime": {
     "end_time": "2022-09-05T02:35:58.368476Z",
     "start_time": "2022-09-05T02:35:58.350087Z"
    }
   },
   "outputs": [
    {
     "name": "stdout",
     "output_type": "stream",
     "text": [
      "HiHiHi\n"
     ]
    }
   ],
   "source": [
    "aaa(\"Hi\", 3)"
   ]
  },
  {
   "cell_type": "code",
   "execution_count": 33,
   "id": "106791ce",
   "metadata": {
    "ExecuteTime": {
     "end_time": "2022-09-05T02:36:27.806371Z",
     "start_time": "2022-09-05T02:36:27.802283Z"
    }
   },
   "outputs": [
    {
     "name": "stdout",
     "output_type": "stream",
     "text": [
      "Good MorningGood MorningGood MorningGood MorningGood Morning\n"
     ]
    }
   ],
   "source": [
    "aaa(\"Good Morning\", 5)"
   ]
  },
  {
   "cell_type": "code",
   "execution_count": 37,
   "id": "10c7605b",
   "metadata": {
    "ExecuteTime": {
     "end_time": "2022-09-05T02:38:48.443014Z",
     "start_time": "2022-09-05T02:38:48.429559Z"
    }
   },
   "outputs": [],
   "source": [
    "def aaa(x = 1, string=\"Hi\"):\n",
    "    print(string * x)"
   ]
  },
  {
   "cell_type": "code",
   "execution_count": 38,
   "id": "7205d8d0",
   "metadata": {
    "ExecuteTime": {
     "end_time": "2022-09-05T02:38:50.812460Z",
     "start_time": "2022-09-05T02:38:50.805399Z"
    }
   },
   "outputs": [
    {
     "name": "stdout",
     "output_type": "stream",
     "text": [
      "Hi\n"
     ]
    }
   ],
   "source": [
    "aaa()"
   ]
  },
  {
   "cell_type": "code",
   "execution_count": 39,
   "id": "7a80d84c",
   "metadata": {
    "ExecuteTime": {
     "end_time": "2022-09-05T02:38:55.350465Z",
     "start_time": "2022-09-05T02:38:55.331731Z"
    }
   },
   "outputs": [
    {
     "name": "stdout",
     "output_type": "stream",
     "text": [
      "HiHiHi\n"
     ]
    }
   ],
   "source": [
    "# 매개변수에 초기값(처음값)을 담는 함수를 정의해서 사용할 경우\n",
    "# 초기값을 채우는 것은 반드시 뒤에 있는 매개변수부터 채워야 한다.\n",
    "# 매개변수를 입력할 때는 앞에있는 변수부터 채워진다.\n",
    "aaa(3)"
   ]
  },
  {
   "cell_type": "code",
   "execution_count": 42,
   "id": "b813d47b",
   "metadata": {
    "ExecuteTime": {
     "end_time": "2022-09-05T02:40:25.776120Z",
     "start_time": "2022-09-05T02:40:25.770046Z"
    }
   },
   "outputs": [
    {
     "name": "stdout",
     "output_type": "stream",
     "text": [
      "Good_Luck Good_Luck Good_Luck Good_Luck Good_Luck \n"
     ]
    }
   ],
   "source": [
    "aaa(5, \"Good_Luck \")"
   ]
  },
  {
   "cell_type": "code",
   "execution_count": 48,
   "id": "d5730f80",
   "metadata": {
    "ExecuteTime": {
     "end_time": "2022-09-05T02:46:24.368778Z",
     "start_time": "2022-09-05T02:46:24.353186Z"
    }
   },
   "outputs": [
    {
     "name": "stdout",
     "output_type": "stream",
     "text": [
      "2013 - 8 - 5\n",
      "1999 - 8 - 5\n",
      "2022 - 9 - 5\n",
      "1999 - 10 - 20\n"
     ]
    }
   ],
   "source": [
    "# 함수의 매개변수에 초기값을 줄때 반드시 뒤에부터 채워야 한다.\n",
    "def birth(year = 2013, month = 8, day = 5):\n",
    "    print(str(year) + \" - \" + str(month) + \" - \" + str(day))\n",
    "\n",
    "birth()\n",
    "birth(1999)\n",
    "birth(2022, 9)\n",
    "birth(1999, 10, 20)"
   ]
  },
  {
   "cell_type": "code",
   "execution_count": 49,
   "id": "439743d4",
   "metadata": {
    "ExecuteTime": {
     "end_time": "2022-09-05T02:55:16.082531Z",
     "start_time": "2022-09-05T02:55:16.076469Z"
    }
   },
   "outputs": [],
   "source": [
    "# 가변 인수 : 매개변수의 개수가 정해지지 않았을 때 사용하는 매개변수, 변수명앞에 *를 붙인다.\n",
    "## 함수 호출 방법 : 이름에 호출, 값에 의한 호출, 참조에 의한 호출\n",
    "\n",
    "def aaa():  # 매개변수도 없고, 리턴값도 없는 함수, Call By Name(이름에 의한 호출)\n",
    "    print(\"Hello\")\n",
    "    \n",
    "def bbb(x): # 매개변수도 있고, 리턴값도 있는 함수, Call By Value(값에 의한 호출)\n",
    "    return x\n",
    "    \n",
    "def ccc(x, y): # 매개변수 있고, 리턴값이 없는 함수\n",
    "    tot = x + y  # 지역변수\n",
    "    print(\"합 : \", tot)\n",
    "    \n",
    "def adder(x): # 매개변수 있고, 리턴값도 있는 함수, Call By Reference(참조=주소에 의한 호출)\n",
    "    tot = 0\n",
    "    \n",
    "    # for 개변변수 in 집합변수:\n",
    "    for i in x:\n",
    "        tot += i\n",
    "        \n",
    "    return tot"
   ]
  },
  {
   "cell_type": "code",
   "execution_count": 50,
   "id": "f21cccb7",
   "metadata": {
    "ExecuteTime": {
     "end_time": "2022-09-05T02:55:48.021180Z",
     "start_time": "2022-09-05T02:55:48.003505Z"
    }
   },
   "outputs": [
    {
     "name": "stdout",
     "output_type": "stream",
     "text": [
      "Hello\n"
     ]
    }
   ],
   "source": [
    "# 이름에 의한 호출 - 매개변수를 가지고 있지 않은 함수 호출\n",
    "aaa()"
   ]
  },
  {
   "cell_type": "code",
   "execution_count": 53,
   "id": "2d6afc6f",
   "metadata": {
    "ExecuteTime": {
     "end_time": "2022-09-05T02:57:41.188430Z",
     "start_time": "2022-09-05T02:57:41.184431Z"
    }
   },
   "outputs": [
    {
     "name": "stdout",
     "output_type": "stream",
     "text": [
      "10\n"
     ]
    }
   ],
   "source": [
    "# 값에 의한 호출 - 매개변수를 가지고 해당 함수를 호출\n",
    "#a = bbb(10)\n",
    "#print(a)\n",
    "print(bbb(10))"
   ]
  },
  {
   "cell_type": "code",
   "execution_count": 51,
   "id": "2d9c3b86",
   "metadata": {
    "ExecuteTime": {
     "end_time": "2022-09-05T02:56:53.150762Z",
     "start_time": "2022-09-05T02:56:53.142676Z"
    }
   },
   "outputs": [
    {
     "data": {
      "text/plain": [
       "10"
      ]
     },
     "execution_count": 51,
     "metadata": {},
     "output_type": "execute_result"
    }
   ],
   "source": [
    "10"
   ]
  },
  {
   "cell_type": "code",
   "execution_count": 54,
   "id": "93fbd7f8",
   "metadata": {
    "ExecuteTime": {
     "end_time": "2022-09-05T02:58:15.567076Z",
     "start_time": "2022-09-05T02:58:15.559489Z"
    }
   },
   "outputs": [
    {
     "name": "stdout",
     "output_type": "stream",
     "text": [
      "합 :  7\n"
     ]
    }
   ],
   "source": [
    "ccc(3, 4)"
   ]
  },
  {
   "cell_type": "code",
   "execution_count": 55,
   "id": "0c014355",
   "metadata": {
    "ExecuteTime": {
     "end_time": "2022-09-05T02:59:00.038929Z",
     "start_time": "2022-09-05T02:59:00.022206Z"
    }
   },
   "outputs": [
    {
     "data": {
      "text/plain": [
       "[1, 2, 3, 4, 5]"
      ]
     },
     "execution_count": 55,
     "metadata": {},
     "output_type": "execute_result"
    }
   ],
   "source": [
    "bbb([1, 2, 3, 4, 5])"
   ]
  },
  {
   "cell_type": "code",
   "execution_count": 56,
   "id": "71717349",
   "metadata": {
    "ExecuteTime": {
     "end_time": "2022-09-05T03:00:14.272220Z",
     "start_time": "2022-09-05T03:00:14.265142Z"
    }
   },
   "outputs": [
    {
     "name": "stdout",
     "output_type": "stream",
     "text": [
      "total =  15\n"
     ]
    }
   ],
   "source": [
    "total = adder([1, 2, 3, 4, 5])\n",
    "print(\"total = \", total)"
   ]
  },
  {
   "cell_type": "code",
   "execution_count": 57,
   "id": "64c8b4d7",
   "metadata": {
    "ExecuteTime": {
     "end_time": "2022-09-05T03:01:11.590559Z",
     "start_time": "2022-09-05T03:01:11.575090Z"
    }
   },
   "outputs": [
    {
     "name": "stdout",
     "output_type": "stream",
     "text": [
      "total =  6\n",
      "total =  55\n"
     ]
    }
   ],
   "source": [
    "total = adder([1, 2, 3])\n",
    "print(\"total = \", total)\n",
    "total = adder([1, 2, 3, 4, 5, 6, 7, 8, 9, 10])\n",
    "print(\"total = \", total)"
   ]
  },
  {
   "cell_type": "code",
   "execution_count": 58,
   "id": "0584b650",
   "metadata": {
    "ExecuteTime": {
     "end_time": "2022-09-05T03:11:57.025057Z",
     "start_time": "2022-09-05T03:11:57.007431Z"
    }
   },
   "outputs": [],
   "source": [
    "def total(a, b, c):\n",
    "    tot = a + b + c\n",
    "    return tot"
   ]
  },
  {
   "cell_type": "code",
   "execution_count": 59,
   "id": "83a5ebfb",
   "metadata": {
    "ExecuteTime": {
     "end_time": "2022-09-05T03:12:17.865223Z",
     "start_time": "2022-09-05T03:12:17.854130Z"
    }
   },
   "outputs": [
    {
     "name": "stdout",
     "output_type": "stream",
     "text": [
      "a =  6\n"
     ]
    }
   ],
   "source": [
    "a = total(1, 2, 3)\n",
    "print(\"a = \", a)"
   ]
  },
  {
   "cell_type": "code",
   "execution_count": 60,
   "id": "d4252c7e",
   "metadata": {
    "ExecuteTime": {
     "end_time": "2022-09-05T03:12:39.549305Z",
     "start_time": "2022-09-05T03:12:39.531942Z"
    }
   },
   "outputs": [
    {
     "ename": "TypeError",
     "evalue": "total() takes 3 positional arguments but 5 were given",
     "output_type": "error",
     "traceback": [
      "\u001b[1;31m---------------------------------------------------------------------------\u001b[0m",
      "\u001b[1;31mTypeError\u001b[0m                                 Traceback (most recent call last)",
      "Input \u001b[1;32mIn [60]\u001b[0m, in \u001b[0;36m<cell line: 1>\u001b[1;34m()\u001b[0m\n\u001b[1;32m----> 1\u001b[0m a \u001b[38;5;241m=\u001b[39m \u001b[43mtotal\u001b[49m\u001b[43m(\u001b[49m\u001b[38;5;241;43m1\u001b[39;49m\u001b[43m,\u001b[49m\u001b[43m \u001b[49m\u001b[38;5;241;43m2\u001b[39;49m\u001b[43m,\u001b[49m\u001b[43m \u001b[49m\u001b[38;5;241;43m3\u001b[39;49m\u001b[43m,\u001b[49m\u001b[43m \u001b[49m\u001b[38;5;241;43m4\u001b[39;49m\u001b[43m,\u001b[49m\u001b[43m \u001b[49m\u001b[38;5;241;43m5\u001b[39;49m\u001b[43m)\u001b[49m\n\u001b[0;32m      2\u001b[0m \u001b[38;5;28mprint\u001b[39m(\u001b[38;5;124m\"\u001b[39m\u001b[38;5;124ma = \u001b[39m\u001b[38;5;124m\"\u001b[39m, a)\n",
      "\u001b[1;31mTypeError\u001b[0m: total() takes 3 positional arguments but 5 were given"
     ]
    }
   ],
   "source": [
    "a = total(1, 2, 3, 4, 5)\n",
    "print(\"a = \", a)"
   ]
  },
  {
   "cell_type": "code",
   "execution_count": 61,
   "id": "ba6cab0c",
   "metadata": {
    "ExecuteTime": {
     "end_time": "2022-09-05T03:14:41.020652Z",
     "start_time": "2022-09-05T03:14:41.017623Z"
    }
   },
   "outputs": [],
   "source": [
    "# 가변 인수(매개변수) : 개수가 정해지지 않은 여러개의 매개변수\n",
    "def total(*x):\n",
    "    tot = 0\n",
    "    for i in x:\n",
    "        tot += i\n",
    "        \n",
    "    return tot"
   ]
  },
  {
   "cell_type": "code",
   "execution_count": 62,
   "id": "cf8cccd4",
   "metadata": {
    "ExecuteTime": {
     "end_time": "2022-09-05T03:14:50.364932Z",
     "start_time": "2022-09-05T03:14:50.359890Z"
    }
   },
   "outputs": [
    {
     "name": "stdout",
     "output_type": "stream",
     "text": [
      "a =  6\n"
     ]
    }
   ],
   "source": [
    "a = total(1, 2, 3)\n",
    "print(\"a = \", a)"
   ]
  },
  {
   "cell_type": "code",
   "execution_count": 63,
   "id": "5ad04fa6",
   "metadata": {
    "ExecuteTime": {
     "end_time": "2022-09-05T03:14:58.303243Z",
     "start_time": "2022-09-05T03:14:58.289938Z"
    }
   },
   "outputs": [
    {
     "name": "stdout",
     "output_type": "stream",
     "text": [
      "a =  15\n"
     ]
    }
   ],
   "source": [
    "a = total(1, 2, 3, 4, 5)\n",
    "print(\"a = \", a)"
   ]
  },
  {
   "cell_type": "code",
   "execution_count": 64,
   "id": "a626db0a",
   "metadata": {
    "ExecuteTime": {
     "end_time": "2022-09-05T03:15:06.275927Z",
     "start_time": "2022-09-05T03:15:06.265537Z"
    }
   },
   "outputs": [
    {
     "name": "stdout",
     "output_type": "stream",
     "text": [
      "a =  1\n"
     ]
    }
   ],
   "source": [
    "a = total(1)\n",
    "print(\"a = \", a)"
   ]
  },
  {
   "cell_type": "code",
   "execution_count": 66,
   "id": "b1e0b4c6",
   "metadata": {
    "ExecuteTime": {
     "end_time": "2022-09-05T03:20:09.780883Z",
     "start_time": "2022-09-05T03:20:09.767611Z"
    }
   },
   "outputs": [
    {
     "name": "stdout",
     "output_type": "stream",
     "text": [
      "15\n"
     ]
    }
   ],
   "source": [
    "# 함수안에 함수를 호출할 수 있다.\n",
    "def hap(x):\n",
    "    tot = 0\n",
    "    for i in x:\n",
    "        tot += i\n",
    "    return tot\n",
    "\n",
    "def total(a, b, *args):\n",
    "    return a + b + hap(args)\n",
    "\n",
    "print(total(1, 2, 3, 4, 5)) # a = 1, b = 2, 나머지는 args"
   ]
  },
  {
   "cell_type": "code",
   "execution_count": 67,
   "id": "1c52bb41",
   "metadata": {
    "ExecuteTime": {
     "end_time": "2022-09-05T03:21:05.830975Z",
     "start_time": "2022-09-05T03:21:05.825931Z"
    }
   },
   "outputs": [
    {
     "name": "stdout",
     "output_type": "stream",
     "text": [
      "6\n"
     ]
    }
   ],
   "source": [
    "print(total(1, 2, 3)) "
   ]
  },
  {
   "cell_type": "code",
   "execution_count": 68,
   "id": "7c795275",
   "metadata": {
    "ExecuteTime": {
     "end_time": "2022-09-05T03:21:32.082891Z",
     "start_time": "2022-09-05T03:21:32.071849Z"
    }
   },
   "outputs": [
    {
     "name": "stdout",
     "output_type": "stream",
     "text": [
      "55\n"
     ]
    }
   ],
   "source": [
    "print(total(1, 2, 3, 4, 5, 6, 7, 8, 9, 10)) "
   ]
  },
  {
   "cell_type": "code",
   "execution_count": 72,
   "id": "f22dd7bd",
   "metadata": {
    "ExecuteTime": {
     "end_time": "2022-09-05T03:25:07.076594Z",
     "start_time": "2022-09-05T03:25:07.066430Z"
    }
   },
   "outputs": [
    {
     "name": "stdout",
     "output_type": "stream",
     "text": [
      "(3, 4, [5, 6, 7, 8])\n"
     ]
    }
   ],
   "source": [
    "def sample(*args):\n",
    "    x, y, *z = args  # unpacking(언팩킹)\n",
    "    return x, y, z\n",
    "\n",
    "print(sample(3, 4, 5, 6, 7, 8))"
   ]
  },
  {
   "cell_type": "code",
   "execution_count": 73,
   "id": "07d7eec9",
   "metadata": {
    "ExecuteTime": {
     "end_time": "2022-09-05T03:25:11.271719Z",
     "start_time": "2022-09-05T03:25:11.261351Z"
    }
   },
   "outputs": [
    {
     "name": "stdout",
     "output_type": "stream",
     "text": [
      "(3, 4, [5])\n"
     ]
    }
   ],
   "source": [
    "print(sample(3, 4, 5))"
   ]
  },
  {
   "cell_type": "code",
   "execution_count": 74,
   "id": "fef72734",
   "metadata": {
    "ExecuteTime": {
     "end_time": "2022-09-05T03:31:21.416980Z",
     "start_time": "2022-09-05T03:31:21.404816Z"
    }
   },
   "outputs": [
    {
     "name": "stdout",
     "output_type": "stream",
     "text": [
      "{'first': 3, 'second': 4, 'third': 5}\n",
      "First value is 3\n",
      "Second value is 4\n",
      "Third value is 5\n"
     ]
    }
   ],
   "source": [
    "# 키워드 가변 인수 : 매개변수의 이름을 따로 지정하지 않고 입력하는 방법\n",
    "# 가변인수와 구별하기 위해 매개변수앞에 ** 붙인다.\n",
    "# 입력되는 값을 딕셔너리 형으로 사용된다.\n",
    "# 여러개의 매개변수를 담을 때 반드시 키워드 매개변수는 맨 마지막에 선언되어야 한다.\n",
    "def kwargs_test(**kwargs):\n",
    "    print(kwargs)\n",
    "    print('First value is {first}'.format(**kwargs))\n",
    "    print('Second value is {second}'.format(**kwargs))\n",
    "    print('Third value is {third}'.format(**kwargs))\n",
    "    \n",
    "kwargs_test(first=3, second=4, third=5)\n",
    "# {'first':3, 'second':4, 'third':5}"
   ]
  },
  {
   "cell_type": "code",
   "execution_count": 75,
   "id": "8c344509",
   "metadata": {
    "ExecuteTime": {
     "end_time": "2022-09-05T03:34:44.660818Z",
     "start_time": "2022-09-05T03:34:44.645605Z"
    }
   },
   "outputs": [
    {
     "name": "stdout",
     "output_type": "stream",
     "text": [
      "42\n",
      "{'first': 3, 'second': 4, 'third': 5}\n"
     ]
    }
   ],
   "source": [
    "def hap(x):\n",
    "    tot = 0\n",
    "    for i in x:\n",
    "        tot += i\n",
    "    return tot\n",
    "\n",
    "def kwargs_test(a, b, *c, **kwargs):\n",
    "    print(a + b + hap(c))\n",
    "    print(kwargs)\n",
    "    \n",
    "# 함수호출\n",
    "kwargs_test(3, 4, 5, 6, 7, 8, 9, first=3, second=4, third=5)"
   ]
  },
  {
   "cell_type": "code",
   "execution_count": 76,
   "id": "2a4484f5",
   "metadata": {
    "ExecuteTime": {
     "end_time": "2022-09-05T03:37:19.515542Z",
     "start_time": "2022-09-05T03:37:19.505457Z"
    }
   },
   "outputs": [],
   "source": [
    "# None - 없다"
   ]
  },
  {
   "cell_type": "code",
   "execution_count": 85,
   "id": "2480d9d3",
   "metadata": {
    "ExecuteTime": {
     "end_time": "2022-09-05T05:23:44.268216Z",
     "start_time": "2022-09-05T05:23:44.248535Z"
    }
   },
   "outputs": [],
   "source": [
    "# 멀티프로그램 : 1-최대값, 2-수나열, 3-사칙연산, 4-작업종료\n",
    "# 각 처리기능별 함수를 구현하는 작업\n",
    "# 최대값 - 두 개의 정수를 입력받아 최대값을 출력\n",
    "# 수나열 - 세 개의 정수를 입력받아 큰 순서대로 나열하여 출력\n",
    "# 계산기 - 두 개의 정수와 하나의 연산자를 받아 연산의 결과를 출력\n",
    "# 언제든 프로그램을 사용자가 종료시킬 수 있도록 구현할 것.\n",
    "\n",
    "# 메뉴를 출력하는 함수\n",
    "def menu():\n",
    "    print(\"==== 멀티프로그램 ====\")\n",
    "    print(\"1. 최대값 구하기\")\n",
    "    print(\"2. 수나열 구하기\")\n",
    "    print(\"3. 계산기 구하기\")\n",
    "    print(\"4. 프로그램 종료\")\n",
    "\n",
    "# 최대값을 처리하는 함수\n",
    "def bigger():\n",
    "    su1 = int(input(\"첫번째수 = \"))\n",
    "    su2 = int(input(\"두번째수 = \"))\n",
    "    \n",
    "    if su1 >= su2:\n",
    "        print(\"최대값 : \", su1)\n",
    "    else:\n",
    "        print(\"최대값 : \", su2)\n",
    "        \n",
    "# 수나열을 처리하는 함수\n",
    "def sorting(su1, su2, su3):  # 4, 1, 9\n",
    "    \n",
    "    # 가장 큰 수가 될 수 있는 경우 세가지 - su1, su2, su3\n",
    "    ## su1 큰 수가 아닌 경우\n",
    "    if su2 >= su1 and su2 >= su3:  # su2가 가장 큰 수라면\n",
    "        su1, su2 = su2, su1\n",
    "    elif su3 >= su1 and su3 >= su2: # su3 가장 큰 수라면\n",
    "        su1, su3 = su3, su1\n",
    "    #else: # su1 가장 큰 수라면\n",
    "    \n",
    "    # su2와 su3을 비교해서 두번째수, 세번째수 \n",
    "    if su3 >= su2:\n",
    "        su2, su3 = su3, su2\n",
    "    \n",
    "    return \"{0} >= {1} >= {2}\".format(su1, su2, su3)  # 9 >= 4 >= 1\n",
    "    # 무조건 가장 큰수를 su1에 담는다.\n",
    "    # 두번째 큰 수를 su2에 담는다.\n",
    "    # 세번째 큰 수를 su3에 담는다.\n",
    "    \n",
    "# 사칙연산을 수행하는 함수\n",
    "## 두 개의 정수와 하나의 연산자를 입력받아 계산결과를 출력하는 작업\n",
    "def calc():\n",
    "    su1 = int(input(\"첫번째수 = \"))\n",
    "    op = input(\"연산자(+, -, *, / 중 1개) = \")\n",
    "    su2 = int(input(\"두번째수 = \"))\n",
    "    \n",
    "    if op == \"+\":\n",
    "        print(\"{0} + {1} = {2}\".format(su1, su2, su1+su2))\n",
    "    elif op == \"-\":\n",
    "        print(\"{0} - {1} = {2}\".format(su1, su2, su1-su2))\n",
    "    elif op == \"*\":\n",
    "        print(\"{0} x {1} = {2}\".format(su1, su2, su1*su2))\n",
    "    else:\n",
    "        print(\"{0} / {1} = {2}\".format(su1, su2, su1/su2))"
   ]
  },
  {
   "cell_type": "code",
   "execution_count": 86,
   "id": "0e81bdd4",
   "metadata": {
    "ExecuteTime": {
     "end_time": "2022-09-05T05:24:43.499669Z",
     "start_time": "2022-09-05T05:23:49.401924Z"
    }
   },
   "outputs": [
    {
     "name": "stdout",
     "output_type": "stream",
     "text": [
      "==== 멀티프로그램 ====\n",
      "1. 최대값 구하기\n",
      "2. 수나열 구하기\n",
      "3. 계산기 구하기\n",
      "4. 프로그램 종료\n",
      "menu = 5\n",
      "입력오류. 메뉴확인바람\n",
      "==== 멀티프로그램 ====\n",
      "1. 최대값 구하기\n",
      "2. 수나열 구하기\n",
      "3. 계산기 구하기\n",
      "4. 프로그램 종료\n",
      "menu = 1\n",
      "첫번째수 = 1\n",
      "두번째수 = 4\n",
      "최대값 :  4\n",
      "==== 멀티프로그램 ====\n",
      "1. 최대값 구하기\n",
      "2. 수나열 구하기\n",
      "3. 계산기 구하기\n",
      "4. 프로그램 종료\n",
      "menu = 2\n",
      "첫번째수 = 5\n",
      "두번째수 = 1\n",
      "세번째수 = 9\n",
      "9 >= 5 >= 1\n",
      "==== 멀티프로그램 ====\n",
      "1. 최대값 구하기\n",
      "2. 수나열 구하기\n",
      "3. 계산기 구하기\n",
      "4. 프로그램 종료\n",
      "menu = 3\n",
      "첫번째수 = 10\n",
      "연산자(+, -, *, / 중 1개) = -\n",
      "두번째수 = 3\n",
      "10 - 3 = 7\n",
      "==== 멀티프로그램 ====\n",
      "1. 최대값 구하기\n",
      "2. 수나열 구하기\n",
      "3. 계산기 구하기\n",
      "4. 프로그램 종료\n",
      "menu = 4\n",
      "프로그램을 종료합니다.\n"
     ]
    }
   ],
   "source": [
    "while True:\n",
    "    # 메뉴호출\n",
    "    menu()\n",
    "    # 사용자 입력\n",
    "    user = int(input(\"menu = \"))\n",
    "    \n",
    "    # 사용자가 선택한 메뉴에 따른 작업\n",
    "    if user == 1:\n",
    "        bigger()  # 이름에 의한 호출\n",
    "    elif user == 2:\n",
    "        su1 = int(input(\"첫번째수 = \"))\n",
    "        su2 = int(input(\"두번째수 = \"))\n",
    "        su3 = int(input(\"세번째수 = \"))\n",
    "        s = sorting(su1, su2, su3)  # 값(매개변수)에 의한 호출\n",
    "        print(s)\n",
    "    elif user == 3:\n",
    "        calc()  # 이름에 의한 호출\n",
    "    elif user == 4:\n",
    "        print(\"프로그램을 종료합니다.\")\n",
    "        break\n",
    "    else:\n",
    "        print(\"입력오류. 메뉴확인바람\")"
   ]
  },
  {
   "cell_type": "code",
   "execution_count": 78,
   "id": "4b2e1041",
   "metadata": {
    "ExecuteTime": {
     "end_time": "2022-09-05T05:10:19.748513Z",
     "start_time": "2022-09-05T05:10:19.729831Z"
    }
   },
   "outputs": [],
   "source": [
    "def sorting(su1, su2, su3):  # 4, 2, 7\n",
    "    # 가장큰값 a, 중간값 b, 작은값 c\n",
    "    \n",
    "    ## su1이 가장 큰 수가 되는 경우\n",
    "    if su1 >= su2 and su1 >= su3:\n",
    "        a = su1 # 가장 큰 수를 담는 변수에 su1 저장\n",
    "        if su2 >= su3:\n",
    "            b = su2 # 두 번째로 큰수\n",
    "            c = su3 # 세 번째 수\n",
    "        else:\n",
    "            b = su3\n",
    "            c= su2\n",
    "            \n",
    "    ## su1이 가장 큰 수가 아니라면 - su2, su3\n",
    "    elif su2 >= su1 and su2 >= su3: # su2가 가장 큰 수라면\n",
    "        a = su2 # su2를 가장 큰 수를 담는 변수에 저장\n",
    "        if su1 >= su3:\n",
    "            b = su1\n",
    "            c = su3\n",
    "        else:\n",
    "            b = su3\n",
    "            c = su1\n",
    "        \n",
    "    else: # su3 큰 수라면\n",
    "        a = su3\n",
    "        if su1 >= su2:\n",
    "            b = su1\n",
    "            c = su2\n",
    "        else:\n",
    "            b = su2\n",
    "            c = su1            \n",
    "    \n",
    "    return \"{0} >= {1} >= {2}\".format(a, b, c)  # 7 >= 4 >= 2\n",
    "    # 무조건 가장 큰수를 su1에 담는다.\n",
    "    # 두번째 큰 수를 su2에 담는다.\n",
    "    # 세번째 큰 수를 su3에 담는다."
   ]
  },
  {
   "cell_type": "code",
   "execution_count": 81,
   "id": "595ed84b",
   "metadata": {
    "ExecuteTime": {
     "end_time": "2022-09-05T05:10:42.148757Z",
     "start_time": "2022-09-05T05:10:42.143708Z"
    }
   },
   "outputs": [
    {
     "name": "stdout",
     "output_type": "stream",
     "text": [
      "22 >= 10 >= 9\n"
     ]
    }
   ],
   "source": [
    "print(sorting(9, 10, 22))"
   ]
  },
  {
   "cell_type": "code",
   "execution_count": 82,
   "id": "8dc43863",
   "metadata": {
    "ExecuteTime": {
     "end_time": "2022-09-05T05:17:50.225121Z",
     "start_time": "2022-09-05T05:17:50.217059Z"
    }
   },
   "outputs": [],
   "source": [
    "def sorting(su1, su2, su3):  # 4, 1, 9\n",
    "    \n",
    "    # 가장 큰 수가 될 수 있는 경우 세가지 - su1, su2, su3\n",
    "    ## su1 큰 수가 아닌 경우\n",
    "    if su2 >= su1 and su2 >= su3:  # su2가 가장 큰 수라면\n",
    "        su1, su2 = su2, su1\n",
    "    elif su3 >= su1 and su3 >= su2: # su3 가장 큰 수라면\n",
    "        su1, su3 = su3, su1\n",
    "    #else: # su1 가장 큰 수라면\n",
    "    \n",
    "    # su2와 su3을 비교해서 두번째수, 세번째수 \n",
    "    if su3 >= su2:\n",
    "        su2, su3 = su3, su2\n",
    "    \n",
    "    return \"{0} >= {1} >= {2}\".format(su1, su2, su3)  # 9 >= 4 >= 1\n",
    "    # 무조건 가장 큰수를 su1에 담는다.\n",
    "    # 두번째 큰 수를 su2에 담는다.\n",
    "    # 세번째 큰 수를 su3에 담는다."
   ]
  },
  {
   "cell_type": "code",
   "execution_count": 83,
   "id": "b9dceb8d",
   "metadata": {
    "ExecuteTime": {
     "end_time": "2022-09-05T05:17:56.944492Z",
     "start_time": "2022-09-05T05:17:56.938505Z"
    }
   },
   "outputs": [
    {
     "name": "stdout",
     "output_type": "stream",
     "text": [
      "22 >= 10 >= 9\n"
     ]
    }
   ],
   "source": [
    "print(sorting(9, 10, 22))"
   ]
  },
  {
   "cell_type": "code",
   "execution_count": 84,
   "id": "4b851a25",
   "metadata": {
    "ExecuteTime": {
     "end_time": "2022-09-05T05:18:07.771914Z",
     "start_time": "2022-09-05T05:18:07.764735Z"
    }
   },
   "outputs": [
    {
     "name": "stdout",
     "output_type": "stream",
     "text": [
      "100 >= 22 >= 19\n"
     ]
    }
   ],
   "source": [
    "print(sorting(19, 100, 22))"
   ]
  },
  {
   "cell_type": "markdown",
   "id": "f98b74eb",
   "metadata": {},
   "source": [
    "### 람다(lambda) 함수 - 익명의 함수"
   ]
  },
  {
   "cell_type": "code",
   "execution_count": 87,
   "id": "6dafb108",
   "metadata": {
    "ExecuteTime": {
     "end_time": "2022-09-05T05:27:55.803802Z",
     "start_time": "2022-09-05T05:27:55.799759Z"
    }
   },
   "outputs": [
    {
     "name": "stdout",
     "output_type": "stream",
     "text": [
      "11\n"
     ]
    }
   ],
   "source": [
    "# 일반적인 함수의 구조\n",
    "def f(x, y):\n",
    "    return x + y\n",
    "\n",
    "# 함수호출\n",
    "print(f(3, 8))"
   ]
  },
  {
   "cell_type": "code",
   "execution_count": 88,
   "id": "19451397",
   "metadata": {
    "ExecuteTime": {
     "end_time": "2022-09-05T05:30:24.356619Z",
     "start_time": "2022-09-05T05:30:24.337333Z"
    }
   },
   "outputs": [
    {
     "name": "stdout",
     "output_type": "stream",
     "text": [
      "[2, 4, 6, 8, 10]\n"
     ]
    }
   ],
   "source": [
    "# 리스트 내포 - 리스트안에 결과를 담아서 출력하는 작업을 수행할때\n",
    "a = []   # a = list()\n",
    "\n",
    "for i in [1, 2, 3, 4, 5]:\n",
    "    a.append(i * 2)\n",
    "    \n",
    "print(a)"
   ]
  },
  {
   "cell_type": "code",
   "execution_count": 89,
   "id": "710fffc1",
   "metadata": {
    "ExecuteTime": {
     "end_time": "2022-09-05T05:31:20.764934Z",
     "start_time": "2022-09-05T05:31:20.759873Z"
    }
   },
   "outputs": [
    {
     "name": "stdout",
     "output_type": "stream",
     "text": [
      "[2, 4, 6, 8, 10]\n"
     ]
    }
   ],
   "source": [
    "a = [i * 2 for i in [1, 2, 3, 4, 5]]\n",
    "print(a)"
   ]
  },
  {
   "cell_type": "code",
   "execution_count": 90,
   "id": "de9f24c9",
   "metadata": {
    "ExecuteTime": {
     "end_time": "2022-09-05T05:34:18.266788Z",
     "start_time": "2022-09-05T05:34:18.259741Z"
    }
   },
   "outputs": [
    {
     "name": "stdout",
     "output_type": "stream",
     "text": [
      "5\n"
     ]
    }
   ],
   "source": [
    "# 람다형식 - 입력값 : 출력값\n",
    "f = lambda x, y : x + y\n",
    "\n",
    "print(f(1, 4))"
   ]
  },
  {
   "cell_type": "code",
   "execution_count": 91,
   "id": "b797a8c2",
   "metadata": {
    "ExecuteTime": {
     "end_time": "2022-09-05T05:36:15.722757Z",
     "start_time": "2022-09-05T05:36:15.718713Z"
    }
   },
   "outputs": [
    {
     "name": "stdout",
     "output_type": "stream",
     "text": [
      "6\n"
     ]
    }
   ],
   "source": [
    "print((lambda x : x + 1)(5))"
   ]
  },
  {
   "cell_type": "code",
   "execution_count": 92,
   "id": "6c1020d2",
   "metadata": {
    "ExecuteTime": {
     "end_time": "2022-09-05T05:42:00.446677Z",
     "start_time": "2022-09-05T05:42:00.434675Z"
    }
   },
   "outputs": [
    {
     "data": {
      "text/plain": [
       "[0, 1, 4, 9, 16]"
      ]
     },
     "execution_count": 92,
     "metadata": {},
     "output_type": "execute_result"
    }
   ],
   "source": [
    "# 맵리듀스(MapReduce) : 빅데이터 처리를 위한 기본 알고리즘\n",
    "## 파이썬 2와 3 호환성이 없다.\n",
    "# map() 함수와 reduce() 함수로 구성\n",
    "# map(함수, 리스트) == filter(함수, 리스트)\n",
    "# reduce(함수, 시퀀스) - 시퀀스 : 문자열, 리스트, 튜플\n",
    "\n",
    "list(map(lambda x : x ** 2, range(5)))\n",
    "# range(5) : 0, 1, 2, 3, 4"
   ]
  },
  {
   "cell_type": "code",
   "execution_count": 93,
   "id": "b13615a7",
   "metadata": {
    "ExecuteTime": {
     "end_time": "2022-09-05T05:47:03.186179Z",
     "start_time": "2022-09-05T05:47:03.177178Z"
    }
   },
   "outputs": [
    {
     "data": {
      "text/plain": [
       "10"
      ]
     },
     "execution_count": 93,
     "metadata": {},
     "output_type": "execute_result"
    }
   ],
   "source": [
    "# 파이썬3에서 사용할 때 모듈을 가져와야 한다.\n",
    "# import 모듈명 : 해당 모듈이 가지고 있는 모든 객체를 포함시킬 때\n",
    "# from 모듈명 import 변수 or 함수 : 해당 모듈에서 선택한 변수 or 함수만 포함시킬 때\n",
    "from functools import reduce\n",
    "\n",
    "# lambda 입력 : 출력\n",
    "reduce(lambda x, y : x + y, [0, 1, 2, 3, 4])\n",
    "# 0, 1 = 1\n",
    "# 1, 2 = 3\n",
    "# 3, 3 = 6\n",
    "# 6, 4 = 10"
   ]
  },
  {
   "cell_type": "code",
   "execution_count": 94,
   "id": "a6e8b006",
   "metadata": {
    "ExecuteTime": {
     "end_time": "2022-09-05T05:49:24.153543Z",
     "start_time": "2022-09-05T05:49:24.137104Z"
    }
   },
   "outputs": [
    {
     "data": {
      "text/plain": [
       "'edcba'"
      ]
     },
     "execution_count": 94,
     "metadata": {},
     "output_type": "execute_result"
    }
   ],
   "source": [
    "reduce(lambda x, y : y + x, 'abcde')\n",
    "# a, b = ba\n",
    "# ba, c = cba\n",
    "# cba, d = dcba\n",
    "# dcba, e = edbca"
   ]
  },
  {
   "cell_type": "code",
   "execution_count": 96,
   "id": "1d04aa0a",
   "metadata": {
    "ExecuteTime": {
     "end_time": "2022-09-05T06:01:51.590706Z",
     "start_time": "2022-09-05T06:01:47.607078Z"
    }
   },
   "outputs": [
    {
     "name": "stdout",
     "output_type": "stream",
     "text": [
      "7 2 9\n",
      "9 >= 7 >= 2\n"
     ]
    }
   ],
   "source": [
    "n1, n2, n3 = map(int, input().split())\n",
    "s = [n1, n2, n3]\n",
    "s.sort(reverse = True)\n",
    "print('{} >= {} >= {}'.format(s[0], s[1], s[2]))"
   ]
  },
  {
   "cell_type": "code",
   "execution_count": null,
   "id": "6b6b379e",
   "metadata": {},
   "outputs": [],
   "source": []
  }
 ],
 "metadata": {
  "kernelspec": {
   "display_name": "Python 3 (ipykernel)",
   "language": "python",
   "name": "python3"
  },
  "language_info": {
   "codemirror_mode": {
    "name": "ipython",
    "version": 3
   },
   "file_extension": ".py",
   "mimetype": "text/x-python",
   "name": "python",
   "nbconvert_exporter": "python",
   "pygments_lexer": "ipython3",
   "version": "3.9.12"
  },
  "toc": {
   "base_numbering": 1,
   "nav_menu": {},
   "number_sections": true,
   "sideBar": true,
   "skip_h1_title": false,
   "title_cell": "Table of Contents",
   "title_sidebar": "Contents",
   "toc_cell": false,
   "toc_position": {},
   "toc_section_display": true,
   "toc_window_display": false
  }
 },
 "nbformat": 4,
 "nbformat_minor": 5
}
