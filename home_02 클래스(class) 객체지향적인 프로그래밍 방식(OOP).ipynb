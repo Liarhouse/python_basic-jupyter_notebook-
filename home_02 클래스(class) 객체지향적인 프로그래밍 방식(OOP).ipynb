{
 "cells": [
  {
   "cell_type": "markdown",
   "id": "5a340a51",
   "metadata": {},
   "source": [
    "# 1. 객체지향적인 프로그래밍\n",
    "### 1. 객체지향적인 프로그래밍 : 객체를 기반으로 프로그램을 구현하는 방식\n",
    "  - 객체(Object) : 현실 세계의 모든 유형, 무형의 물질을 총칭하는 표현(명사형)  \n",
    "  - 개체(Object) : 붕어빵틀, 설계도\n",
    "  - 객체(Instance) : 붕어빵, 제품\n",
    "  - 객체의 구성 : 객체의 특성(변수)과 행위나 동작(함수)로 이루어져있다.\n",
    "  - 프로그램을 통해 객체를 구현할 때 사용하는 구조가 클래스(class)  \n",
    "  \n",
    "### 2. \"나는 사과장수에게 2000원 어치의 사과를 구매했다.\"\n",
    "  - 객체 : 명사, 나, 사과장수, 사과\n",
    "  - 객체 '나'\n",
    "    - 어떤 특성 : 사과를 구매할 돈\n",
    "    - 어떤 행위 : 사과를 구매하는 행위\n",
    "  - 객체 '사과장수'\n",
    "    - 어떤 특성 : 판매할 사과, 사과가격, 판매할 사과의 수량\n",
    "    - 어떤 행위 : 사과를 판매하는 행위\n",
    "    \n",
    "### 3. 객체지향에서 클래스는 객체를 표현하는 가장 기본 단위이다.\n",
    "  - Object(객체) : 모든 객체(Instance)의 공통의 성질(변수)을 가지고 있다.\n",
    "  - 클래스명 : 사람\n",
    "    - 클래스 변수 : 이름, 나이, 혈액형....."
   ]
  },
  {
   "cell_type": "code",
   "execution_count": null,
   "id": "baccbc42",
   "metadata": {},
   "outputs": [],
   "source": []
  },
  {
   "cell_type": "markdown",
   "id": "9f3714eb",
   "metadata": {},
   "source": [
    "# 클래스(class)\n",
    "\n",
    "### 모듈(Module) vs 클래스(class) vs 인스턴스(instance)\n",
    "- 모듈 : py라는 확장자로 끝나는 파이썬 파일\n",
    "- 클래스 : 사용자 정의 자료형\n",
    "  (파이썬 기본 자료형 : 정수, 실수, 문자, 논리, 리스트, 튜플, 사전, 집합)\n",
    "- 인스턴스 : 클래스로부터 만들어낸 객체\n",
    "\n",
    "### 클래스의 형식 : 키워드 class\n",
    "-    class 클래스명: // 클래스명의 첫글자는 대문자로 작성한다.\n",
    "-       멤버 필드(Member Field) : 변수\n",
    "-       멤버 메서드(Member Method = Function) : 함수"
   ]
  },
  {
   "cell_type": "code",
   "execution_count": null,
   "id": "9e9a87b3",
   "metadata": {},
   "outputs": [],
   "source": []
  }
 ],
 "metadata": {
  "kernelspec": {
   "display_name": "Python 3 (ipykernel)",
   "language": "python",
   "name": "python3"
  },
  "language_info": {
   "codemirror_mode": {
    "name": "ipython",
    "version": 3
   },
   "file_extension": ".py",
   "mimetype": "text/x-python",
   "name": "python",
   "nbconvert_exporter": "python",
   "pygments_lexer": "ipython3",
   "version": "3.9.12"
  },
  "toc": {
   "base_numbering": 1,
   "nav_menu": {},
   "number_sections": true,
   "sideBar": true,
   "skip_h1_title": false,
   "title_cell": "Table of Contents",
   "title_sidebar": "Contents",
   "toc_cell": false,
   "toc_position": {},
   "toc_section_display": true,
   "toc_window_display": false
  }
 },
 "nbformat": 4,
 "nbformat_minor": 5
}
