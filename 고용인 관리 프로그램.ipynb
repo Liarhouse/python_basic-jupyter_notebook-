{
 "cells": [
  {
   "cell_type": "code",
   "execution_count": null,
   "id": "64dd4014",
   "metadata": {},
   "outputs": [],
   "source": []
  },
  {
   "cell_type": "code",
   "execution_count": 10,
   "id": "8d44283c",
   "metadata": {
    "ExecuteTime": {
     "end_time": "2022-09-08T06:47:01.380884Z",
     "start_time": "2022-09-08T06:47:01.361906Z"
    }
   },
   "outputs": [],
   "source": [
    "# Entity Class : 단순히 데이터를 담아서 전달할 목적으로 사용하는 클래스\n",
    "# 한 명의 작원에 대한 정보를 관리할 목적의 클래스\n",
    "class Employee:\n",
    "    \n",
    "    def __init__(self, name, pay):\n",
    "        self.name = name\n",
    "        self.pay = pay\n",
    "        \n",
    "    def getName(self):\n",
    "        return self.name\n",
    "    \n",
    "    def setName(self, name):\n",
    "        self.name = name\n",
    "    \n",
    "    def getPay(self):\n",
    "        return self.pay\n",
    "    \n",
    "    def setPay(self, pay):\n",
    "        self.pay = pay\n",
    "    \n",
    "    def disp(self):\n",
    "        return \"{} : {}\".format(self.getName(), self.getPay())"
   ]
  },
  {
   "cell_type": "code",
   "execution_count": null,
   "id": "1935c92d",
   "metadata": {
    "ExecuteTime": {
     "end_time": "2022-09-08T05:36:50.425996Z",
     "start_time": "2022-09-08T05:36:50.416021Z"
    }
   },
   "outputs": [],
   "source": [
    "e1 = Employee(\"aaa\", 1000)\n",
    "\n",
    "print(e1.disp())"
   ]
  },
  {
   "cell_type": "code",
   "execution_count": null,
   "id": "eb581da5",
   "metadata": {
    "ExecuteTime": {
     "end_time": "2022-09-08T05:38:49.502687Z",
     "start_time": "2022-09-08T05:38:46.847191Z"
    }
   },
   "outputs": [],
   "source": [
    "name = input(\"name = \")\n",
    "pay = int(input(\"pay = \"))\n",
    "\n",
    "e2 = Employee(name, pay)\n",
    "\n",
    "print(e2.disp())"
   ]
  },
  {
   "cell_type": "code",
   "execution_count": 14,
   "id": "1057531b",
   "metadata": {
    "ExecuteTime": {
     "end_time": "2022-09-08T06:47:58.628433Z",
     "start_time": "2022-09-08T06:47:58.609490Z"
    }
   },
   "outputs": [],
   "source": [
    "# 여러명의 직원 객체를 저장하기 위한 기억 공간\n",
    "empList = [] # 전역변수 - 모든 함수에 사용이 가능\n",
    "\n",
    "# 직원등록을 위한 함수\n",
    "def addEmployee():\n",
    "    name = input(\"name = \")\n",
    "    pay = int(input(\"pay = \"))\n",
    "    \n",
    "    emp = Employee(name, pay)\n",
    "    empList.append(emp)\n",
    "    print(\"직원 등록이 완료되었습니다.\")\n",
    "    \n",
    "# 직원정보 출력\n",
    "def allEmployee():\n",
    "    if len(empList) != 0:\n",
    "        for emp in empList:\n",
    "            print(emp.disp())\n",
    "        print(\"직원정보 조회가 완료되었습니다.\")\n",
    "    else:\n",
    "        print(\"등록된 직원의 정보가 존재하지 않습니다.\")\n",
    "        \n",
    "# 입력받은 이름에 해당하는 회원의 정보를 출력\n",
    "def oneEmployee():\n",
    "    name = input(\"name = \")\n",
    "    check = 0\n",
    "    \n",
    "    if len(empList) != 0:\n",
    "        for emp in empList:\n",
    "            if name == emp.getName():\n",
    "                print(emp.disp())\n",
    "                check = 1\n",
    "    \n",
    "#             print(\"해당 이름의 직원이 존재하지 않습니다.\")\n",
    "    if check == 0:\n",
    "        print(\"해당 이름의 직원이 존재하지 않습니다.\")\n",
    "        \n",
    "# 화면에 출력할 메뉴를 관리하는 함수\n",
    "def showMenu():\n",
    "    print(\"\\n == 직원관리 프로그램 ==\")\n",
    "    print(\"1. 직원등록\")\n",
    "    print(\"2. 직원검색(이름)\")\n",
    "    print(\"3. 전체 직원조회\")\n",
    "    print(\"4. 프로그램 종료\")"
   ]
  },
  {
   "cell_type": "code",
   "execution_count": 17,
   "id": "b72b4655",
   "metadata": {
    "ExecuteTime": {
     "end_time": "2022-09-08T07:01:50.627399Z",
     "start_time": "2022-09-08T07:01:50.608452Z"
    }
   },
   "outputs": [],
   "source": [
    "# Handler Class = Controller\n",
    "# 실제 처리를 담당하는 클래스, 프로그램 전체의 흐름을 관리하는 클래스\n",
    "\n",
    "class EmpManager:\n",
    "    \n",
    "    def __init__(self):\n",
    "        self.empList = []\n",
    "        \n",
    "    def addEmployee():\n",
    "        name = input(\"name = \")\n",
    "        pay = int(input(\"pay = \"))\n",
    "\n",
    "        emp = Employee(name, pay)\n",
    "        self.empList.append(emp)\n",
    "        print(\"직원 등록이 완료되었습니다.\")\n",
    "    \n",
    "    def allEmployee():\n",
    "        if len(self.empList) != 0:\n",
    "            for emp in self.empList:\n",
    "                print(emp.disp())\n",
    "            print(\"직원정보 조회가 완료되었습니다.\")\n",
    "        else:\n",
    "            print(\"등록된 직원의 정보가 존재하지 않습니다.\")\n",
    "    \n",
    "    def oneEmployee():\n",
    "        name = input(\"name = \")\n",
    "        check = 0\n",
    "\n",
    "        if len(empList) != 0:\n",
    "            for emp in empList:\n",
    "                if name == emp.getName():\n",
    "                    print(emp.disp())\n",
    "                    check = 1\n",
    "        if check == 0:\n",
    "            print(\"해당 이름의 직원이 존재하지 않습니다.\")\n",
    "    \n",
    "    def showMenu(self):\n",
    "        print(\"\\n == 직원관리 프로그램 ==\")\n",
    "        print(\"1. 직원등록\")\n",
    "        print(\"2. 직원검색(이름)\")\n",
    "        print(\"3. 전체 직원조회\")\n",
    "        print(\"4. 프로그램 종료\")\n",
    "    \n",
    "    "
   ]
  },
  {
   "cell_type": "code",
   "execution_count": 16,
   "id": "85b18839",
   "metadata": {
    "ExecuteTime": {
     "end_time": "2022-09-08T07:01:40.442508Z",
     "start_time": "2022-09-08T07:01:40.432534Z"
    }
   },
   "outputs": [],
   "source": [
    "# 프로그램을 동작하는 역활을 수행하는 함수\n",
    "def main():\n",
    "    \n",
    "    handle = empmanger()\n",
    "    \n",
    "    while True:\n",
    "        handle.showMenu()\n",
    "        menu = input(\"menu = \")\n",
    "        \n",
    "        if menu == \"1\":\n",
    "            handle.addEmployee()\n",
    "        elif menu == \"2\":\n",
    "            handle.oneEmployee()\n",
    "        elif menu == \"3\":\n",
    "            handle.allEmployee()\n",
    "        elif menu == \"4\":\n",
    "            print(\"프로그램을 종료합니다.\")\n",
    "            break\n",
    "        else:\n",
    "            print(\"메뉴의 선택이 올바르지 않습니다.\")"
   ]
  },
  {
   "cell_type": "code",
   "execution_count": 15,
   "id": "c99cb1c2",
   "metadata": {
    "ExecuteTime": {
     "end_time": "2022-09-08T06:48:33.827071Z",
     "start_time": "2022-09-08T06:48:04.663218Z"
    },
    "scrolled": true
   },
   "outputs": [
    {
     "name": "stdout",
     "output_type": "stream",
     "text": [
      "\n",
      " == 직원관리 프로그램 ==\n",
      "1. 직원등록\n",
      "2. 직원검색(이름)\n",
      "3. 전체 직원조회\n",
      "4. 프로그램 종료\n",
      "menu = 3\n",
      "등록된 직원의 정보가 존재하지 않습니다.\n",
      "\n",
      " == 직원관리 프로그램 ==\n",
      "1. 직원등록\n",
      "2. 직원검색(이름)\n",
      "3. 전체 직원조회\n",
      "4. 프로그램 종료\n",
      "menu = 1\n",
      "name = aaa\n",
      "pay = 1000\n",
      "직원 등록이 완료되었습니다.\n",
      "\n",
      " == 직원관리 프로그램 ==\n",
      "1. 직원등록\n",
      "2. 직원검색(이름)\n",
      "3. 전체 직원조회\n",
      "4. 프로그램 종료\n",
      "menu = 1\n",
      "name = bbb\n",
      "pay = 2000\n",
      "직원 등록이 완료되었습니다.\n",
      "\n",
      " == 직원관리 프로그램 ==\n",
      "1. 직원등록\n",
      "2. 직원검색(이름)\n",
      "3. 전체 직원조회\n",
      "4. 프로그램 종료\n",
      "menu = 1\n",
      "name = aaa\n",
      "pay = 3000\n",
      "직원 등록이 완료되었습니다.\n",
      "\n",
      " == 직원관리 프로그램 ==\n",
      "1. 직원등록\n",
      "2. 직원검색(이름)\n",
      "3. 전체 직원조회\n",
      "4. 프로그램 종료\n",
      "menu = 3\n",
      "aaa : 1000\n",
      "bbb : 2000\n",
      "aaa : 3000\n",
      "직원정보 조회가 완료되었습니다.\n",
      "\n",
      " == 직원관리 프로그램 ==\n",
      "1. 직원등록\n",
      "2. 직원검색(이름)\n",
      "3. 전체 직원조회\n",
      "4. 프로그램 종료\n",
      "menu = 2\n",
      "name = aaa\n",
      "aaa : 1000\n",
      "aaa : 3000\n",
      "\n",
      " == 직원관리 프로그램 ==\n",
      "1. 직원등록\n",
      "2. 직원검색(이름)\n",
      "3. 전체 직원조회\n",
      "4. 프로그램 종료\n",
      "menu = 4\n",
      "프로그램을 종료합니다.\n"
     ]
    }
   ],
   "source": [
    "main()"
   ]
  },
  {
   "cell_type": "code",
   "execution_count": null,
   "id": "c3e5efc1",
   "metadata": {},
   "outputs": [],
   "source": []
  },
  {
   "cell_type": "markdown",
   "id": "7bd7f7c0",
   "metadata": {},
   "source": [
    "# 학적관리 프로그램\n",
    "- 학생등록 : 학번(중복X,생략X), 이름, 국어, 영어, 수학\n",
    "- 학번검색 : 학번을 입력받아 해당 학생에 성적정보를 추출\n",
    "- 학번 이름 국어 영어 수학 총점 평균 학점\n",
    "- 학번수정 : 학번을 입력받아 해당 학생에 성적정보 수정\n",
    "- 이름 = \n",
    "- 국어 = \n",
    "- 영어 = \n",
    "- 수학 = \n",
    "- 이름출력 : 입력받은 이름과 동일한 학생 정보 출력\n",
    "- 학번 이름 국어 영어 수학 총점 평균 학점\n",
    "- 전체출력 : \n",
    "- 학번 이름 국어 영어 수학 총점 평균 학점\n",
    "- 작업종료"
   ]
  },
  {
   "cell_type": "code",
   "execution_count": null,
   "id": "342fdd31",
   "metadata": {},
   "outputs": [],
   "source": [
    "class Student:\n",
    "    \n",
    "    def __init__(self):\n",
    "        self.id = input(\"id = \")\n",
    "        self.name = input(\"name = \")\n",
    "        self.kor = int(input(\"kor = \"))\n",
    "        self.eng = int(input(\"eng = \"))\n",
    "        self.math = int(input(\"math = \"))\n",
    "    \n",
    "    # 이름, 국어, 영어, 수학 점수의 수정\n",
    "    def update(self,name, kor, eng, math):\n",
    "        self.name = input(\"name = \")\n",
    "        self.kor = int(input(\"kor = \"))\n",
    "        self.eng = int(input(\"eng = \"))\n",
    "        self.math = int(input(\"math = \"))  \n",
    "        \n",
    "    # 학번을 반환하는 역할을 수행하는 함수\n",
    "    def getId(self):\n",
    "        return self.id\n",
    "    \n",
    "    def getName(self):\n",
    "        return self.name\n",
    "    \n",
    "    def adder(self):\n",
    "        self.id = input(\"id = \")\n",
    "        self.name = input(\"name = \")\n",
    "        self.kor = int(input(\"kor = \"))\n",
    "        self.eng = int(input(\"eng = \"))\n",
    "        self.math = int(input(\"math = \"))\n",
    "       \n",
    "        \n",
    "    def compute(self):\n",
    "        self.tot = self.kor + self.eng + self.math\n",
    "        self.avg = self.tot / 3\n",
    "        \n",
    "        if self.avg >= 90:\n",
    "            self.grade = \"A\"\n",
    "        elif self.avg >= 80:\n",
    "            self.grade = \"B\"\n",
    "        elif self.avg >= 70:\n",
    "            self.grade = \"C\"\n",
    "        elif self.avg >= 60:\n",
    "            self.grade = \"D\"\n",
    "        else:\n",
    "            self.grade = \"F\"\n",
    "\n",
    "    def disp(self):\n",
    "        return \"%s님의 총점은 %d이고, 평균은 %.2f이며, 학점은 %s입니다.\" % (\n",
    "            self.name,self.tot, self.avg, self.grade)\n",
    "    "
   ]
  }
 ],
 "metadata": {
  "kernelspec": {
   "display_name": "Python 3 (ipykernel)",
   "language": "python",
   "name": "python3"
  },
  "language_info": {
   "codemirror_mode": {
    "name": "ipython",
    "version": 3
   },
   "file_extension": ".py",
   "mimetype": "text/x-python",
   "name": "python",
   "nbconvert_exporter": "python",
   "pygments_lexer": "ipython3",
   "version": "3.9.12"
  },
  "toc": {
   "base_numbering": 1,
   "nav_menu": {},
   "number_sections": true,
   "sideBar": true,
   "skip_h1_title": false,
   "title_cell": "Table of Contents",
   "title_sidebar": "Contents",
   "toc_cell": false,
   "toc_position": {},
   "toc_section_display": true,
   "toc_window_display": false
  }
 },
 "nbformat": 4,
 "nbformat_minor": 5
}
