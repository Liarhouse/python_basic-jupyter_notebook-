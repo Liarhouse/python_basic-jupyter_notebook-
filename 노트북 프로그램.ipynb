{
 "cells": [
  {
   "cell_type": "markdown",
   "id": "43746554",
   "metadata": {},
   "source": [
    "# 노트북 프로그램\n",
    " - 노트(note)를 정리하는 프로그램이다.\n",
    " - 사용자는 노트에 컨텐츠를 적을 수 있다.\n",
    " - 노트는 노트북(notebook)에 삽입된다.\n",
    " - 노트북은 타이틀(title)을 갖는다.\n",
    " - 노트북은 노트가 삽입될 때 페이지를 생성하며, 최대 300페이지까지 저장할 수 있다.\n",
    " - 300페이지를 넘기면 노트를 더는 삽입하지 못한다."
   ]
  },
  {
   "cell_type": "code",
   "execution_count": null,
   "id": "e529f760",
   "metadata": {},
   "outputs": [],
   "source": [
    "# NoteBook class \n",
    "## 멤버 필드 : title, page_number, notes\n",
    "## 멤버 메서드 : add_note, remove_note, get_number_of_pages\n",
    "\n",
    "# Note class\n",
    "## 멤버 필드 : contents\n",
    "## 멤버 메서드 : write_contents, remove_all"
   ]
  },
  {
   "cell_type": "code",
   "execution_count": 1,
   "id": "c7a44dd2",
   "metadata": {
    "ExecuteTime": {
     "end_time": "2022-09-07T03:56:22.248204Z",
     "start_time": "2022-09-07T03:56:22.230252Z"
    }
   },
   "outputs": [],
   "source": [
    "class Note(object):\n",
    "    \n",
    "    def __init__(self, contents = None):\n",
    "        self.contents = contents\n",
    "        \n",
    "    def remove_all(self):\n",
    "        self.contents = \"\"\n",
    "        \n",
    "    def get_contents(self):\n",
    "        return self.contents\n",
    "    \n",
    "    def write_contents(self, contents):\n",
    "        self.contents = contents"
   ]
  },
  {
   "cell_type": "code",
   "execution_count": 2,
   "id": "fb23630e",
   "metadata": {
    "ExecuteTime": {
     "end_time": "2022-09-07T03:56:22.849019Z",
     "start_time": "2022-09-07T03:56:22.841041Z"
    }
   },
   "outputs": [],
   "source": [
    "class Notebook(object):\n",
    "    \n",
    "    def __init__(self, title):  # 타이틀(제목)\n",
    "        self.title = title      # 페이지수 : 현재 노트북에 총 먗장의 노트가 있는지 기록\n",
    "        self.page_number = 1    # 노트 자체를 저장하기 위한 기억공간\n",
    "        self.notes = {}\n",
    "    \n",
    "    # 새로운 노트를 삽입하는 행위를 기술하는 메서드\n",
    "    def add_note(self, note, page = 0):\n",
    "        if self.page_number < 300: # 페이지넘버가 300 이하이면 새로운 노트 추가 가능\n",
    "            if page == 0:\n",
    "                self.notes[self.page_number] = note\n",
    "                self.page_number += 1\n",
    "            elif page in self.note.keys():\n",
    "                print(\"이미 존재하는 페이지입니다.\")\n",
    "            else:\n",
    "                self.notes = {page:note}\n",
    "                self.page_number += 1\n",
    "        else:\n",
    "            print(\"페이지가 모두 채워졌습니다.\")\n",
    "            \n",
    "    def remove_note(self, page_number):\n",
    "        if page_number in self.note.keys():\n",
    "            return self.notes.pop(page_number)\n",
    "        else:\n",
    "            print(\"해당 페이지는 존재하지 않습니다.\")\n",
    "            \n",
    "    def get_number_of_page(self):\n",
    "        return len(self.notes.keys())"
   ]
  },
  {
   "cell_type": "code",
   "execution_count": null,
   "id": "9f0e9f58",
   "metadata": {},
   "outputs": [],
   "source": []
  }
 ],
 "metadata": {
  "kernelspec": {
   "display_name": "Python 3 (ipykernel)",
   "language": "python",
   "name": "python3"
  },
  "language_info": {
   "codemirror_mode": {
    "name": "ipython",
    "version": 3
   },
   "file_extension": ".py",
   "mimetype": "text/x-python",
   "name": "python",
   "nbconvert_exporter": "python",
   "pygments_lexer": "ipython3",
   "version": "3.9.12"
  },
  "toc": {
   "base_numbering": 1,
   "nav_menu": {},
   "number_sections": true,
   "sideBar": true,
   "skip_h1_title": false,
   "title_cell": "Table of Contents",
   "title_sidebar": "Contents",
   "toc_cell": false,
   "toc_position": {},
   "toc_section_display": true,
   "toc_window_display": false
  }
 },
 "nbformat": 4,
 "nbformat_minor": 5
}
