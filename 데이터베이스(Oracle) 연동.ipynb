{
 "cells": [
  {
   "cell_type": "code",
   "execution_count": 1,
   "id": "52f0c16b",
   "metadata": {
    "ExecuteTime": {
     "end_time": "2022-09-16T00:59:12.889087Z",
     "start_time": "2022-09-16T00:59:12.848165Z"
    }
   },
   "outputs": [],
   "source": [
    "import cx_Oracle"
   ]
  },
  {
   "cell_type": "code",
   "execution_count": 13,
   "id": "53809023",
   "metadata": {
    "ExecuteTime": {
     "end_time": "2022-09-16T01:29:00.787085Z",
     "start_time": "2022-09-16T01:29:00.764147Z"
    }
   },
   "outputs": [
    {
     "name": "stdout",
     "output_type": "stream",
     "text": [
      "(1, '레몬', 1500, '맛있는 레몬', 'lemon.jpg')\n",
      "(2, '오렌지', 1500, '맛있는 오렌지', 'orange.jpg')\n",
      "(3, '키위', 1500, '맛있는 키위', 'kiwi.jpg')\n",
      "(4, '포도', 1500, '맛있는 포도', 'grape.jpg')\n",
      "(5, '딸기', 1500, '맛있는 딸기', 'strawberry.jpg')\n"
     ]
    }
   ],
   "source": [
    "conn = cx_Oracle.connect(\"scott/tiger@localhost:1521/xe\")\n",
    "\n",
    "# cursor(커서) : 레코드 셋을 탐색하기 위해 사용하는 객체\n",
    "cursor = conn.cursor()\n",
    "\n",
    "sql = \"select * from product\"\n",
    "\n",
    "cursor.execute(sql)\n",
    "\n",
    "for row in cursor: # cursor가 가르키는 1개의 레코드를 row에 저장\n",
    "    print(row)"
   ]
  },
  {
   "cell_type": "code",
   "execution_count": 15,
   "id": "d7354143",
   "metadata": {
    "ExecuteTime": {
     "end_time": "2022-09-16T01:32:44.587904Z",
     "start_time": "2022-09-16T01:32:44.569869Z"
    }
   },
   "outputs": [],
   "source": [
    "# 전체 레코드 삭제\n",
    "sql = \"delete from product\"\n",
    "\n",
    "cursor.execute(sql)\n",
    "conn.commit()"
   ]
  },
  {
   "cell_type": "code",
   "execution_count": 12,
   "id": "9e2ede0f",
   "metadata": {
    "ExecuteTime": {
     "end_time": "2022-09-16T01:28:43.073026Z",
     "start_time": "2022-09-16T01:28:43.044646Z"
    }
   },
   "outputs": [],
   "source": [
    "# 파이썬 내부에서 레코드를 추가하는 작업\n",
    "items = [\n",
    "    (1, '레몬', 1500, '맛있는 레몬', 'lemon.jpg'),\n",
    "    (2, '오렌지', 1500, '맛있는 오렌지', 'orange.jpg'),\n",
    "    (3, '키위', 1500, '맛있는 키위', 'kiwi.jpg'),\n",
    "    (4, '포도', 1500, '맛있는 포도', 'grape.jpg'),\n",
    "    (5, '딸기', 1500, '맛있는 딸기', 'strawberry.jpg')]\n",
    "\n",
    "for row in items:\n",
    "    # :필드의 인덱스(1부터 인덱스가 부여된다.)\n",
    "    sql = \"insert into product values(:1, :2, :3, :4, :5)\"\n",
    "    cursor.execute(sql, row)\n",
    "    \n",
    "    \n",
    "#### db에 영구 저장\n",
    "\n",
    "conn.commit()"
   ]
  },
  {
   "cell_type": "code",
   "execution_count": 16,
   "id": "696ee5b1",
   "metadata": {
    "ExecuteTime": {
     "end_time": "2022-09-16T01:32:47.471861Z",
     "start_time": "2022-09-16T01:32:47.457901Z"
    }
   },
   "outputs": [
    {
     "name": "stdout",
     "output_type": "stream",
     "text": [
      "상품개수 :  0\n"
     ]
    }
   ],
   "source": [
    "# 테이블에 등록된 레코드의 수 확인하는 작업\n",
    "sql = \"select count(*) from product\"\n",
    "cursor.execute(sql)\n",
    "count = cursor.fetchone() #쿼리의 결과값이 1개인 경우\n",
    "print(\"상품개수 : \", count[0])"
   ]
  },
  {
   "cell_type": "code",
   "execution_count": 18,
   "id": "0c7d3e36",
   "metadata": {
    "ExecuteTime": {
     "end_time": "2022-09-16T01:36:22.400727Z",
     "start_time": "2022-09-16T01:36:22.379811Z"
    }
   },
   "outputs": [],
   "source": [
    "# 레코드를 일괄적으로 추가하는 작업\n",
    "sql = \"insert into product values(:1, :2, :3, :4, :5)\"\n",
    "cursor.bindarraysize = len(items)\n",
    "cursor.executemany(sql, items)\n",
    "conn.commit()"
   ]
  },
  {
   "cell_type": "code",
   "execution_count": 19,
   "id": "a54bcf39",
   "metadata": {
    "ExecuteTime": {
     "end_time": "2022-09-16T01:37:24.926888Z",
     "start_time": "2022-09-16T01:37:24.913319Z"
    }
   },
   "outputs": [
    {
     "name": "stdout",
     "output_type": "stream",
     "text": [
      "<class 'list'>\n",
      "[(1, '레몬', 1500, '맛있는 레몬', 'lemon.jpg'), (2, '오렌지', 1500, '맛있는 오렌지', 'orange.jpg'), (3, '키위', 1500, '맛있는 키위', 'kiwi.jpg'), (4, '포도', 1500, '맛있는 포도', 'grape.jpg'), (5, '딸기', 1500, '맛있는 딸기', 'strawberry.jpg')]\n"
     ]
    }
   ],
   "source": [
    "sql = 'select * from product'\n",
    "cursor.execute(sql)\n",
    "\n",
    "#모든 레코드를 저장하는 작업\n",
    "rs = cursor.fetchall()\n",
    "print(type(rs))\n",
    "print(rs)"
   ]
  },
  {
   "cell_type": "code",
   "execution_count": 20,
   "id": "013874ad",
   "metadata": {
    "ExecuteTime": {
     "end_time": "2022-09-16T01:37:37.008982Z",
     "start_time": "2022-09-16T01:37:36.991318Z"
    }
   },
   "outputs": [
    {
     "name": "stdout",
     "output_type": "stream",
     "text": [
      "(1, '레몬', 1500, '맛있는 레몬', 'lemon.jpg')\n",
      "(2, '오렌지', 1500, '맛있는 오렌지', 'orange.jpg')\n",
      "(3, '키위', 1500, '맛있는 키위', 'kiwi.jpg')\n",
      "(4, '포도', 1500, '맛있는 포도', 'grape.jpg')\n",
      "(5, '딸기', 1500, '맛있는 딸기', 'strawberry.jpg')\n"
     ]
    }
   ],
   "source": [
    "for row in rs:\n",
    "    print(row)"
   ]
  },
  {
   "cell_type": "code",
   "execution_count": 21,
   "id": "d081bc54",
   "metadata": {
    "ExecuteTime": {
     "end_time": "2022-09-16T01:38:24.211305Z",
     "start_time": "2022-09-16T01:38:24.196335Z"
    }
   },
   "outputs": [],
   "source": [
    "# 커서 닫기\n",
    "cursor.close()\n",
    "\n",
    "# db 접속 종료\n",
    "conn.close()"
   ]
  },
  {
   "cell_type": "code",
   "execution_count": null,
   "id": "4f33a1db",
   "metadata": {},
   "outputs": [],
   "source": []
  }
 ],
 "metadata": {
  "kernelspec": {
   "display_name": "Python 3 (ipykernel)",
   "language": "python",
   "name": "python3"
  },
  "language_info": {
   "codemirror_mode": {
    "name": "ipython",
    "version": 3
   },
   "file_extension": ".py",
   "mimetype": "text/x-python",
   "name": "python",
   "nbconvert_exporter": "python",
   "pygments_lexer": "ipython3",
   "version": "3.9.12"
  },
  "toc": {
   "base_numbering": 1,
   "nav_menu": {},
   "number_sections": true,
   "sideBar": true,
   "skip_h1_title": false,
   "title_cell": "Table of Contents",
   "title_sidebar": "Contents",
   "toc_cell": false,
   "toc_position": {},
   "toc_section_display": true,
   "toc_window_display": false
  }
 },
 "nbformat": 4,
 "nbformat_minor": 5
}
