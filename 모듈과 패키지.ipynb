{
 "cells": [
  {
   "cell_type": "code",
   "execution_count": 1,
   "id": "1671a937",
   "metadata": {
    "ExecuteTime": {
     "end_time": "2022-09-14T06:40:24.429606Z",
     "start_time": "2022-09-14T06:40:24.413961Z"
    }
   },
   "outputs": [
    {
     "name": "stdout",
     "output_type": "stream",
     "text": [
      "['C:\\\\K_digital\\\\source\\\\python_source', 'C:\\\\Anaconda3\\\\python39.zip', 'C:\\\\Anaconda3\\\\DLLs', 'C:\\\\Anaconda3\\\\lib', 'C:\\\\Anaconda3', '', 'C:\\\\Anaconda3\\\\lib\\\\site-packages', 'C:\\\\Anaconda3\\\\lib\\\\site-packages\\\\win32', 'C:\\\\Anaconda3\\\\lib\\\\site-packages\\\\win32\\\\lib', 'C:\\\\Anaconda3\\\\lib\\\\site-packages\\\\Pythonwin']\n"
     ]
    }
   ],
   "source": [
    "# 현재 작업중인 디렉토리 확인\n",
    "import sys\n",
    "\n",
    "print(sys.path)"
   ]
  },
  {
   "cell_type": "code",
   "execution_count": 3,
   "id": "1ad7a059",
   "metadata": {
    "ExecuteTime": {
     "end_time": "2022-09-14T07:00:24.966952Z",
     "start_time": "2022-09-14T07:00:24.950995Z"
    }
   },
   "outputs": [
    {
     "name": "stdout",
     "output_type": "stream",
     "text": [
      "hello\n",
      "안녕하세요\n"
     ]
    }
   ],
   "source": [
    "import greeting_en\n",
    "import greeting_ko\n",
    "\n",
    "print(greeting_en.welcome())\n",
    "print(greeting_ko.welcome())"
   ]
  },
  {
   "cell_type": "code",
   "execution_count": 4,
   "id": "0cc37f92",
   "metadata": {
    "ExecuteTime": {
     "end_time": "2022-09-14T07:02:48.661457Z",
     "start_time": "2022-09-14T07:02:48.657468Z"
    }
   },
   "outputs": [],
   "source": [
    "# 수학관련 기능을 가지고 있는 라이브러리\n",
    "import math"
   ]
  },
  {
   "cell_type": "code",
   "execution_count": 5,
   "id": "5df542d2",
   "metadata": {
    "ExecuteTime": {
     "end_time": "2022-09-14T07:04:03.260660Z",
     "start_time": "2022-09-14T07:04:03.237720Z"
    }
   },
   "outputs": [
    {
     "data": {
      "text/plain": [
       "0.8414709848078965"
      ]
     },
     "execution_count": 5,
     "metadata": {},
     "output_type": "execute_result"
    }
   ],
   "source": [
    "math.sin(1)"
   ]
  },
  {
   "cell_type": "code",
   "execution_count": 6,
   "id": "e0fce3c5",
   "metadata": {
    "ExecuteTime": {
     "end_time": "2022-09-14T07:04:12.834267Z",
     "start_time": "2022-09-14T07:04:12.820311Z"
    }
   },
   "outputs": [
    {
     "data": {
      "text/plain": [
       "0.5403023058681398"
      ]
     },
     "execution_count": 6,
     "metadata": {},
     "output_type": "execute_result"
    }
   ],
   "source": [
    "math.cos(1)"
   ]
  },
  {
   "cell_type": "code",
   "execution_count": 7,
   "id": "a53fae60",
   "metadata": {
    "ExecuteTime": {
     "end_time": "2022-09-14T07:04:16.970599Z",
     "start_time": "2022-09-14T07:04:16.951650Z"
    }
   },
   "outputs": [
    {
     "data": {
      "text/plain": [
       "1.5574077246549023"
      ]
     },
     "execution_count": 7,
     "metadata": {},
     "output_type": "execute_result"
    }
   ],
   "source": [
    "math.tan(1)"
   ]
  },
  {
   "cell_type": "code",
   "execution_count": 8,
   "id": "c3a78135",
   "metadata": {
    "ExecuteTime": {
     "end_time": "2022-09-14T07:05:47.224427Z",
     "start_time": "2022-09-14T07:05:47.209468Z"
    }
   },
   "outputs": [
    {
     "data": {
      "text/plain": [
       "2"
      ]
     },
     "execution_count": 8,
     "metadata": {},
     "output_type": "execute_result"
    }
   ],
   "source": [
    "math.floor(2.5)"
   ]
  },
  {
   "cell_type": "code",
   "execution_count": 9,
   "id": "d99d7c1c",
   "metadata": {
    "ExecuteTime": {
     "end_time": "2022-09-14T07:05:55.602368Z",
     "start_time": "2022-09-14T07:05:55.588407Z"
    }
   },
   "outputs": [
    {
     "data": {
      "text/plain": [
       "3"
      ]
     },
     "execution_count": 9,
     "metadata": {},
     "output_type": "execute_result"
    }
   ],
   "source": [
    "math.ceil(2.5)"
   ]
  },
  {
   "cell_type": "markdown",
   "id": "70df31be",
   "metadata": {},
   "source": [
    "### random 모듈"
   ]
  },
  {
   "cell_type": "code",
   "execution_count": 10,
   "id": "5169325b",
   "metadata": {
    "ExecuteTime": {
     "end_time": "2022-09-14T07:32:18.678632Z",
     "start_time": "2022-09-14T07:32:18.663673Z"
    }
   },
   "outputs": [],
   "source": [
    "import random"
   ]
  },
  {
   "cell_type": "code",
   "execution_count": 12,
   "id": "fae0d830",
   "metadata": {
    "ExecuteTime": {
     "end_time": "2022-09-14T07:33:43.958872Z",
     "start_time": "2022-09-14T07:33:43.948898Z"
    }
   },
   "outputs": [
    {
     "name": "stdout",
     "output_type": "stream",
     "text": [
      "random() :  0.7866988525944542\n"
     ]
    }
   ],
   "source": [
    "# random() : 0.0 <= x <= 1.0 사이의 float를 리턴한다.\n",
    "print(\"random() : \", random.random())"
   ]
  },
  {
   "cell_type": "code",
   "execution_count": 13,
   "id": "0dab0370",
   "metadata": {
    "ExecuteTime": {
     "end_time": "2022-09-14T07:34:53.122365Z",
     "start_time": "2022-09-14T07:34:53.119354Z"
    }
   },
   "outputs": [
    {
     "name": "stdout",
     "output_type": "stream",
     "text": [
      "uniform() :  15.341412891361994\n"
     ]
    }
   ],
   "source": [
    "# uniform(min, max) : 지정한 범위 사이의 float를 리턴한다.\n",
    "print(\"uniform() : \", random.uniform(10, 20))"
   ]
  },
  {
   "cell_type": "code",
   "execution_count": 14,
   "id": "0113b747",
   "metadata": {
    "ExecuteTime": {
     "end_time": "2022-09-14T07:36:40.224980Z",
     "start_time": "2022-09-14T07:36:40.213012Z"
    }
   },
   "outputs": [
    {
     "name": "stdout",
     "output_type": "stream",
     "text": [
      "randrange(10) :  4\n"
     ]
    }
   ],
   "source": [
    "# randrange() : 지정한 범위의 int를 리턴한다.\n",
    "# randrange(max) : 0부터 max 사이의 값을 리턴\n",
    "# randrange(min, max) : min부터 max 사이의 값을 리턴\n",
    "print(\"randrange(10) : \", random.randrange(10))"
   ]
  },
  {
   "cell_type": "code",
   "execution_count": 15,
   "id": "7f2d9992",
   "metadata": {
    "ExecuteTime": {
     "end_time": "2022-09-14T07:37:49.158043Z",
     "start_time": "2022-09-14T07:37:49.147072Z"
    }
   },
   "outputs": [
    {
     "name": "stdout",
     "output_type": "stream",
     "text": [
      "choice([1, 2, 3, 4, 5]) :  3\n"
     ]
    }
   ],
   "source": [
    "# choice(list) : 리스트 내부의 요소를 랜덤하게 풀력\n",
    "print(\"choice([1, 2, 3, 4, 5]) : \", random.choice([1, 2, 3, 4, 5]))"
   ]
  },
  {
   "cell_type": "code",
   "execution_count": 31,
   "id": "f2b6f393",
   "metadata": {
    "ExecuteTime": {
     "end_time": "2022-09-14T08:29:43.809071Z",
     "start_time": "2022-09-14T08:29:43.804085Z"
    }
   },
   "outputs": [
    {
     "name": "stdout",
     "output_type": "stream",
     "text": [
      "shuffle([1, 2, 3, 4, 5]) :  [1, 4, 2, 3, 5]\n"
     ]
    }
   ],
   "source": [
    "# shuffle(list) : 리스트 내부에 있는 섞어서 랜덤하게 출력\n",
    "x = [1, 2, 3, 4, 5]\n",
    "random.shuffle(x)\n",
    "print(\"shuffle([1, 2, 3, 4, 5]) : \", x)"
   ]
  },
  {
   "cell_type": "code",
   "execution_count": 18,
   "id": "cc2a77b1",
   "metadata": {
    "ExecuteTime": {
     "end_time": "2022-09-14T07:40:51.789155Z",
     "start_time": "2022-09-14T07:40:51.773197Z"
    }
   },
   "outputs": [
    {
     "name": "stdout",
     "output_type": "stream",
     "text": [
      "sample([1, 2, 3, 4, 5], k=2) :  [5, 4]\n"
     ]
    }
   ],
   "source": [
    "# sample(list, k=<숫자>) : 리스트 요소 중 k개를 출력\n",
    "print(\"sample([1, 2, 3, 4, 5], k=2) : \", random.sample([1, 2, 3, 4, 5], k=2))"
   ]
  },
  {
   "cell_type": "markdown",
   "id": "0d282c2c",
   "metadata": {},
   "source": [
    "### sys 모듈\n",
    "- 시스템과 관련된 정보를 제공하는 모듈"
   ]
  },
  {
   "cell_type": "markdown",
   "id": "79e23c1a",
   "metadata": {},
   "source": [
    "### os 모듈\n",
    "- Operating System, 운영체제와 관련된 기능을 가진 모듈\n",
    "-새로운 폴더를 만들거나 폴더 내부 파일의 목록을 확인하는 역할"
   ]
  },
  {
   "cell_type": "code",
   "execution_count": 19,
   "id": "b8e15d7c",
   "metadata": {
    "ExecuteTime": {
     "end_time": "2022-09-14T07:46:52.955304Z",
     "start_time": "2022-09-14T07:46:52.942340Z"
    }
   },
   "outputs": [],
   "source": [
    "import os"
   ]
  },
  {
   "cell_type": "code",
   "execution_count": 21,
   "id": "64fc3e59",
   "metadata": {
    "ExecuteTime": {
     "end_time": "2022-09-14T07:49:16.294886Z",
     "start_time": "2022-09-14T07:49:16.281890Z"
    }
   },
   "outputs": [
    {
     "name": "stdout",
     "output_type": "stream",
     "text": [
      "현재 운영체제 :  nt\n",
      "현재 디렉토리(폴더) :  C:\\K_digital\\source\\python_source\n",
      "현재 폴더 내부의 요소 :  ['.ipynb_checkpoints', '1차 복습.ipynb', 'ch01. 기본문법.ipynb', 'ch01_1 기본문법 복습.ipynb', 'ch02 문자열과 관련된 내장함수.ipynb', 'ch03 자료형과 제어문.ipynb', 'ch04. 자료구조(리스트, 튜플, 사전, 날짜자료형).ipynb', 'ch05 함수(Function).ipynb', 'ch06 1차 복습 제어문과 함수.ipynb', 'ch06. 1차복습_제어문과 함수.ipynb', 'ch07. 객체지향_클래스.ipynb', 'greeting_en.py', 'greeting_ko.py', 'home_01.ipynb', 'home_02 클래스(class) 객체지향적인 프로그래밍 방식(OOP) (1).ipynb', 'home_02 클래스(class) 객체지향적인 프로그래밍 방식(OOP).ipynb', 'OOP(객체지향프로그램)_1.ipynb', 'test.ipynb', 'Untitled1.ipynb', '__pycache__', '계좌관리 프로그램(송금추가)_최창규.ipynb', '고용인 관리 프로그램.ipynb', '노트북 프로그램.ipynb', '모듈과 패키지.ipynb', '성적관리 프로그램.ipynb', '심사문제.ipynb', '연습문제1_파이썬기초와 자료형에 관련된 문제.ipynb', '연습문제2_제어문(if, for, while).ipynb', '연습문제3_함수.ipynb', '은행 계좌관리 프로그램_김동률2.ipynb', '은행계좌관리 프로그램.ipynb']\n"
     ]
    }
   ],
   "source": [
    "print(\"현재 운영체제 : \", os.name)\n",
    "print(\"현재 디렉토리(폴더) : \", os.getcwd())\n",
    "print(\"현재 폴더 내부의 요소 : \", os.listdir())"
   ]
  },
  {
   "cell_type": "code",
   "execution_count": 23,
   "id": "2c6f95f1",
   "metadata": {
    "ExecuteTime": {
     "end_time": "2022-09-14T07:50:38.167421Z",
     "start_time": "2022-09-14T07:50:38.162436Z"
    }
   },
   "outputs": [],
   "source": [
    "# 폴더를 만들고 제거하는 작업\n",
    "# 비어있는 폴더만 삭제가 가능\n",
    "os.mkdir(\"hello\")"
   ]
  },
  {
   "cell_type": "code",
   "execution_count": 24,
   "id": "00a52db5",
   "metadata": {
    "ExecuteTime": {
     "end_time": "2022-09-14T07:50:50.493620Z",
     "start_time": "2022-09-14T07:50:50.476637Z"
    }
   },
   "outputs": [],
   "source": [
    "os.rmdir(\"hello\")"
   ]
  },
  {
   "cell_type": "code",
   "execution_count": 25,
   "id": "7fe17ddd",
   "metadata": {
    "ExecuteTime": {
     "end_time": "2022-09-14T07:56:22.126748Z",
     "start_time": "2022-09-14T07:56:22.120221Z"
    }
   },
   "outputs": [],
   "source": [
    "# 파일을 생성하고 파일의 이름을 변경하는 작업\n",
    "# open(\"경로/파일명\", \"mode\"), mode - r or w or a\n",
    "with open(\"original.txt\", \"w\") as file:\n",
    "    file.write(\"hello\")"
   ]
  },
  {
   "cell_type": "code",
   "execution_count": 26,
   "id": "f8a8cb13",
   "metadata": {
    "ExecuteTime": {
     "end_time": "2022-09-14T07:57:44.276568Z",
     "start_time": "2022-09-14T07:57:44.266614Z"
    }
   },
   "outputs": [],
   "source": [
    "# 파일명 변경 : rename(구이름, 신이름)\n",
    "os.rename(\"original.txt\", \"new.txt\")"
   ]
  },
  {
   "cell_type": "code",
   "execution_count": 27,
   "id": "fe142d87",
   "metadata": {
    "ExecuteTime": {
     "end_time": "2022-09-14T08:00:09.979324Z",
     "start_time": "2022-09-14T08:00:09.953394Z"
    },
    "scrolled": true
   },
   "outputs": [
    {
     "data": {
      "text/plain": [
       "1"
      ]
     },
     "execution_count": 27,
     "metadata": {},
     "output_type": "execute_result"
    }
   ],
   "source": [
    "os.system(\"dir()\")"
   ]
  },
  {
   "cell_type": "markdown",
   "id": "f6257f85",
   "metadata": {},
   "source": [
    "### datetime 모듈\n",
    "- date(날짜)와 time(시간)과 관련된 모듈\n",
    "- 날짜 형식 만들때 자주 사용된다"
   ]
  },
  {
   "cell_type": "code",
   "execution_count": 28,
   "id": "96935f27",
   "metadata": {
    "ExecuteTime": {
     "end_time": "2022-09-14T08:06:18.506517Z",
     "start_time": "2022-09-14T08:06:18.488533Z"
    }
   },
   "outputs": [],
   "source": [
    "import datetime"
   ]
  },
  {
   "cell_type": "code",
   "execution_count": 30,
   "id": "40157fa1",
   "metadata": {
    "ExecuteTime": {
     "end_time": "2022-09-14T08:12:42.180160Z",
     "start_time": "2022-09-14T08:12:42.162206Z"
    }
   },
   "outputs": [
    {
     "name": "stdout",
     "output_type": "stream",
     "text": [
      "2022 년\n",
      "9 월\n",
      "14 일\n"
     ]
    }
   ],
   "source": [
    "# 현재 시간 출력\n",
    "now = datetime.datetime.now()\n",
    "print(now.year, \"년\")\n",
    "print(now.month, \"월\")\n",
    "print(now.day, \"일\")"
   ]
  },
  {
   "cell_type": "markdown",
   "id": "b0b1dfec",
   "metadata": {},
   "source": [
    "### time 모듈"
   ]
  },
  {
   "cell_type": "code",
   "execution_count": 32,
   "id": "26f9461f",
   "metadata": {
    "ExecuteTime": {
     "end_time": "2022-09-14T08:35:08.702300Z",
     "start_time": "2022-09-14T08:35:08.685608Z"
    }
   },
   "outputs": [],
   "source": [
    "import time"
   ]
  },
  {
   "cell_type": "code",
   "execution_count": 33,
   "id": "ba8b5fd3",
   "metadata": {
    "ExecuteTime": {
     "end_time": "2022-09-14T08:36:56.124388Z",
     "start_time": "2022-09-14T08:36:51.093595Z"
    }
   },
   "outputs": [
    {
     "name": "stdout",
     "output_type": "stream",
     "text": [
      "지금부터 5초동안 정지합니다.\n",
      "프로그램을 종료합니다.\n"
     ]
    }
   ],
   "source": [
    "# time.sleep(초) : 특정 시간동안 코드 진행을 중지\n",
    "print(\"지금부터 5초동안 정지합니다.\")\n",
    "time.sleep(5)\n",
    "print(\"프로그램을 종료합니다.\")"
   ]
  },
  {
   "cell_type": "markdown",
   "id": "eb2bea4a",
   "metadata": {},
   "source": [
    "### urllib 모듈\n",
    "- URL을 다루는 라이브러리"
   ]
  },
  {
   "cell_type": "code",
   "execution_count": 36,
   "id": "da7200a9",
   "metadata": {
    "ExecuteTime": {
     "end_time": "2022-09-14T08:45:05.069290Z",
     "start_time": "2022-09-14T08:45:04.312174Z"
    }
   },
   "outputs": [
    {
     "name": "stdout",
     "output_type": "stream",
     "text": [
      "b'<!doctype html><html itemscope=\"\" itemtype=\"http://schema.org/WebPage\" lang=\"ko\"><head><meta content=\"text/html; charset=UTF-8\" http-equiv=\"Content-Type\"><meta content=\"/images/branding/googleg/1x/googleg_standard_color_128dp.png\" itemprop=\"image\"><title>Google</title><script nonce=\"csDn-wLeW2GX9ALcOsPmwQ\">(function(){window.google={kEI:\\'kJQhY-faOZqB1e8P27aqiA4\\',kEXPI:\\'0,1302536,56873,1710,4349,206,4804,2316,383,246,5,5367,1123753,1197712,682,79,380018,16111,28687,22430,1362,12315,2820,1930,12834,4998,13228,3847,10622,14762,7981,908,4171,1593,1279,2451,291,149,1103,840,2197,4100,3514,606,2023,2297,7882,6788,3227,2845,7,4774,28996,1851,2614,13142,3,346,230,6460,148,13975,4,1528,2304,7039,20309,4764,2658,7357,13658,4437,13627,3159,5827,2530,4094,4052,3,3541,1,42154,2,14022,6249,1397,6470,11623,5679,1021,2377,28745,4567,6253,23424,1252,5835,14967,4333,19,7465,445,2,2,1,6959,19673,8155,6582,799,1479,13201,1289,874,19633,7,1922,9779,12414,6716,3769,1523,6900,4832,5954,7070,2735,205,68,984,122,700,4,1,2,2,2,2,4648,2443,1,1310,1322,1788,3612,237,8897,3246,1285,14,82,332,617,2941,751,446,1622,1315,4032,3,1495,229,420,167,60,760,287,420,2025,2,80,45,423,322,4,300,11,751,256,172,96,295,517,44,368,58,152,348,171,1044,237,761,3079,972,918,968,547,478,2,1180,588,100,2173,3,224,7,162,601,639,4,549,259,351,294,246,99,473,5342574,12,5089,508,196,5995942,2803376,3311,141,795,19736,1,298,48,1525,45,23948915,4042142,1964,3094,13579,3405,5540\\',kBL:\\'ApCU\\'};google.sn=\\'webhp\\';google.kHL=\\'ko\\';})();(function(){\\nvar f=this||self;var h,k=[];function l(a){for(var b;a&&(!a.getAttribute||!(b=a.getAttribute(\"eid\")));)a=a.parentNode;return b||h}function m(a){for(var b=null;a&&(!a.getAttribute||!(b=a.getAttribute(\"leid\")));)a=a.parentNode;return b}\\nfunction n(a,b,c,d,g){var e=\"\";c||-1!==b.search(\"&ei=\")||(e=\"&ei=\"+l(d),-1===b.search(\"&lei=\")&&(d=m(d))&&(e+=\"&lei=\"+d));d=\"\";!c&&f._cshid&&-1===b.search(\"&cshid=\")&&\"slh\"!==a&&(d=\"&cshid=\"+f._cshid);c=c||\"/\"+(g||\"gen_204\")+\"?atyp=i&ct=\"+a+\"&cad=\"+b+e+\"&zx=\"+Date.now()+d;/^http:/i.test(c)&&\"https:\"===window.location.protocol&&(google.ml&&google.ml(Error(\"a\"),!1,{src:c,glmm:1}),c=\"\");return c};h=google.kEI;google.getEI=l;google.getLEI=m;google.ml=function(){return null};google.log=function(a,b,c,d,g){if(c=n(a,b,c,d,g)){a=new Image;var e=k.length;k[e]=a;a.onerror=a.onload=a.onabort=function(){delete k[e]};a.src=c}};google.logUrl=n;}).call(this);(function(){\\ngoogle.y={};google.sy=[];google.x=function(a,b){if(a)var c=a.id;else{do c=Math.random();while(google.y[c])}google.y[c]=[a,b];return!1};google.sx=function(a){google.sy.push(a)};google.lm=[];google.plm=function(a){google.lm.push.apply(google.lm,a)};google.lq=[];google.load=function(a,b,c){google.lq.push([[a],b,c])};google.loadAll=function(a,b){google.lq.push([a,b])};google.bx=!1;google.lx=function(){};}).call(this);google.f={};(function(){\\ndocument.documentElement.addEventListener(\"submit\",function(b){var a;if(a=b.target){var c=a.getAttribute(\"data-submitfalse\");a=\"1\"===c||\"q\"===c&&!a.elements.q.value?!0:!1}else a=!1;a&&(b.preventDefault(),b.stopPropagation())},!0);document.documentElement.addEventListener(\"click\",function(b){var a;a:{for(a=b.target;a&&a!==document.documentElement;a=a.parentElement)if(\"A\"===a.tagName){a=\"1\"===a.getAttribute(\"data-nohref\");break a}a=!1}a&&b.preventDefault()},!0);}).call(this);</script><style>#gbar,#guser{font-size:13px;padding-top:1px !important;}#gbar{height:22px}#guser{padding-bottom:7px !important;text-align:right}.gbh,.gbd{border-top:1px solid #c9d7f1;font-size:1px}.gbh{height:0;position:absolute;top:24px;width:100%}@media all{.gb1{height:22px;margin-right:.5em;vertical-align:top}#gbar{float:left}}a.gb1,a.gb4{text-decoration:underline !important}a.gb1,a.gb4{color:#00c !important}.gbi .gb4{color:#dd8e27 !important}.gbf .gb4{color:#900 !important}\\n</style><style>body,td,a,p,.h{font-family:&#44404;&#47548;,&#46027;&#50880;,arial,sans-serif}.ko{font-size:9pt}body{margin:0;overflow-y:scroll}#gog{padding:3px 8px 0}td{line-height:.8em}.gac_m td{line-height:17px}form{margin-bottom:20px}.h{color:#1558d6}em{font-weight:bold;font-style:normal}.lst{height:25px;width:496px}.gsfi,.lst{font:18px arial,sans-serif}.gsfs{font:17px arial,sans-serif}.ds{display:inline-box;display:inline-block;margin:3px 0 4px;margin-left:4px}input{font-family:inherit}body{background:#fff;color:#000}a{color:#4b11a8;text-decoration:none}a:hover,a:active{text-decoration:underline}.fl a{color:#1558d6}a:visited{color:#4b11a8}.sblc{padding-top:5px}.sblc a{display:block;margin:2px 0;margin-left:13px;font-size:11px}.lsbb{background:#f8f9fa;border:solid 1px;border-color:#dadce0 #70757a #70757a #dadce0;height:30px}.lsbb{display:block}#WqQANb a{display:inline-block;margin:0 12px}.lsb{background:url(/images/nav_logo229.png) 0 -261px repeat-x;border:none;color:#000;cursor:pointer;height:30px;margin:0;outline:0;font:15px arial,sans-serif;vertical-align:top}.lsb:active{background:#dadce0}.lst:focus{outline:none}.tiah{width:458px}</style><script nonce=\"csDn-wLeW2GX9ALcOsPmwQ\">(function(){window.google.erd={jsr:1,bv:1653,de:true};\\nvar h=this||self;var k,l=null!=(k=h.mei)?k:1,n,p=null!=(n=h.sdo)?n:!0,q=0,r,t=google.erd,v=t.jsr;google.ml=function(a,b,d,m,e){e=void 0===e?2:e;b&&(r=a&&a.message);if(google.dl)return google.dl(a,e,d),null;if(0>v){window.console&&console.error(a,d);if(-2===v)throw a;b=!1}else b=!a||!a.message||\"Error loading script\"===a.message||q>=l&&!m?!1:!0;if(!b)return null;q++;d=d||{};b=encodeURIComponent;var c=\"/gen_204?atyp=i&ei=\"+b(google.kEI);google.kEXPI&&(c+=\"&jexpid=\"+b(google.kEXPI));c+=\"&srcpg=\"+b(google.sn)+\"&jsr=\"+b(t.jsr)+\"&bver=\"+b(t.bv);var f=a.lineNumber;void 0!==f&&(c+=\"&line=\"+f);var g=\\na.fileName;g&&(0<g.indexOf(\"-extension:/\")&&(e=3),c+=\"&script=\"+b(g),f&&g===window.location.href&&(f=document.documentElement.outerHTML.split(\"\\\\n\")[f],c+=\"&cad=\"+b(f?f.substring(0,300):\"No script found.\")));c+=\"&jsel=\"+e;for(var u in d)c+=\"&\",c+=b(u),c+=\"=\",c+=b(d[u]);c=c+\"&emsg=\"+b(a.name+\": \"+a.message);c=c+\"&jsst=\"+b(a.stack||\"N/A\");12288<=c.length&&(c=c.substr(0,12288));a=c;m||google.log(0,\"\",a);return a};window.onerror=function(a,b,d,m,e){r!==a&&(a=e instanceof Error?e:Error(a),void 0===d||\"lineNumber\"in a||(a.lineNumber=d),void 0===b||\"fileName\"in a||(a.fileName=b),google.ml(a,!1,void 0,!1,\"SyntaxError\"===a.name||\"SyntaxError\"===a.message.substring(0,11)||0<a.message.indexOf(\"Script error\")?2:0));r=null;p&&q>=l&&(window.onerror=null)};})();</script></head><body bgcolor=\"#fff\"><script nonce=\"csDn-wLeW2GX9ALcOsPmwQ\">(function(){var src=\\'/images/nav_logo229.png\\';var iesg=false;document.body.onload = function(){window.n && window.n();if (document.images){new Image().src=src;}\\nif (!iesg){document.f&&document.f.q.focus();document.gbqf&&document.gbqf.q.focus();}\\n}\\n})();</script><div id=\"mngb\"><div id=gbar><nobr><b class=gb1>&#44160;&#49353;</b> <a class=gb1 href=\"https://www.google.co.kr/imghp?hl=ko&tab=wi\">&#51060;&#48120;&#51648;</a> <a class=gb1 href=\"https://maps.google.co.kr/maps?hl=ko&tab=wl\">&#51648;&#46020;</a> <a class=gb1 href=\"https://play.google.com/?hl=ko&tab=w8\">Play</a> <a class=gb1 href=\"https://www.youtube.com/?tab=w1\">YouTube</a> <a class=gb1 href=\"https://news.google.com/?tab=wn\">&#45684;&#49828;</a> <a class=gb1 href=\"https://mail.google.com/mail/?tab=wm\">Gmail</a> <a class=gb1 href=\"https://drive.google.com/?tab=wo\">&#46300;&#46972;&#51060;&#48652;</a> <a class=gb1 style=\"text-decoration:none\" href=\"https://www.google.co.kr/intl/ko/about/products?tab=wh\"><u>&#45908;&#48372;&#44592;</u> &raquo;</a></nobr></div><div id=guser width=100%><nobr><span id=gbn class=gbi></span><span id=gbf class=gbf></span><span id=gbe></span><a href=\"http://www.google.co.kr/history/optout?hl=ko\" class=gb4>&#50937; &#44592;&#47197;</a> | <a  href=\"/preferences?hl=ko\" class=gb4>&#49444;&#51221;</a> | <a target=_top id=gb_70 href=\"https://accounts.google.com/ServiceLogin?hl=ko&passive=true&continue=https://www.google.com/&ec=GAZAAQ\" class=gb4>&#47196;&#44536;&#51064;</a></nobr></div><div class=gbh style=left:0></div><div class=gbh style=right:0></div></div><center><br clear=\"all\" id=\"lgpd\"><div id=\"lga\"><img alt=\"Google\" height=\"92\" src=\"/images/branding/googlelogo/1x/googlelogo_white_background_color_272x92dp.png\" style=\"padding:28px 0 14px\" width=\"272\" id=\"hplogo\"><br><br></div><form action=\"/search\" name=\"f\"><table cellpadding=\"0\" cellspacing=\"0\"><tr valign=\"top\"><td width=\"25%\">&nbsp;</td><td align=\"center\" nowrap=\"\"><input name=\"ie\" value=\"ISO-8859-1\" type=\"hidden\"><input value=\"ko\" name=\"hl\" type=\"hidden\"><input name=\"source\" type=\"hidden\" value=\"hp\"><input name=\"biw\" type=\"hidden\"><input name=\"bih\" type=\"hidden\"><div class=\"ds\" style=\"height:32px;margin:4px 0\"><div style=\"position:relative;zoom:1\"><input class=\"lst tiah\" style=\"margin:0;padding:5px 8px 0 6px;vertical-align:top;color:#000;padding-right:38px\" autocomplete=\"off\" value=\"\" title=\"Google &#44160;&#49353;\" maxlength=\"2048\" name=\"q\" size=\"57\"><img src=\"/textinputassistant/tia.png\" style=\"position:absolute;cursor:pointer;right:5px;top:4px;z-index:300\" data-script-url=\"/textinputassistant/11/ko_tia.js\" id=\"tsuid_1\" alt=\"\" height=\"23\" width=\"27\"><script nonce=\"csDn-wLeW2GX9ALcOsPmwQ\">(function(){var id=\\'tsuid_1\\';document.getElementById(id).onclick = function(){var s = document.createElement(\\'script\\');s.src = this.getAttribute(\\'data-script-url\\');(document.getElementById(\\'xjsc\\')||document.body).appendChild(s);};})();</script></div></div><br style=\"line-height:0\"><span class=\"ds\"><span class=\"lsbb\"><input class=\"lsb\" value=\"Google &#44160;&#49353;\" name=\"btnG\" type=\"submit\"></span></span><span class=\"ds\"><span class=\"lsbb\"><input class=\"lsb\" id=\"tsuid_2\" value=\"I&#8217;m Feeling Lucky\" name=\"btnI\" type=\"submit\"><script nonce=\"csDn-wLeW2GX9ALcOsPmwQ\">(function(){var id=\\'tsuid_2\\';document.getElementById(id).onclick = function(){if (this.form.q.value){this.checked = 1;if (this.form.iflsig)this.form.iflsig.disabled = false;}\\nelse top.location=\\'/doodles/\\';};})();</script><input value=\"AJiK0e8AAAAAYyGioDTOQk_uhPyPcqvEtL2T7PfnWpId\" name=\"iflsig\" type=\"hidden\"></span></span></td><td class=\"fl sblc\" align=\"left\" nowrap=\"\" width=\"25%\"><a href=\"/advanced_search?hl=ko&amp;authuser=0\">&#44256;&#44553;&#44160;&#49353;</a></td></tr></table><input id=\"gbv\" name=\"gbv\" type=\"hidden\" value=\"1\"><script nonce=\"csDn-wLeW2GX9ALcOsPmwQ\">(function(){\\nvar a,b=\"1\";if(document&&document.getElementById)if(\"undefined\"!=typeof XMLHttpRequest)b=\"2\";else if(\"undefined\"!=typeof ActiveXObject){var c,d,e=[\"MSXML2.XMLHTTP.6.0\",\"MSXML2.XMLHTTP.3.0\",\"MSXML2.XMLHTTP\",\"Microsoft.XMLHTTP\"];for(c=0;d=e[c++];)try{new ActiveXObject(d),b=\"2\"}catch(h){}}a=b;if(\"2\"==a&&-1==location.search.indexOf(\"&gbv=2\")){var f=google.gbvu,g=document.getElementById(\"gbv\");g&&(g.value=a);f&&window.setTimeout(function(){location.href=f},0)};}).call(this);</script></form><div id=\"gac_scont\"></div><div style=\"font-size:83%;min-height:3.5em\"><br></div><span id=\"footer\"><div style=\"font-size:10pt\"><div style=\"margin:19px auto;text-align:center\" id=\"WqQANb\"><a href=\"/intl/ko/ads/\">&#44305;&#44256; &#54532;&#47196;&#44536;&#47016;</a><a href=\"http://www.google.co.kr/intl/ko/services/\">&#48708;&#51592;&#45768;&#49828; &#49556;&#47336;&#49496;</a><a href=\"/intl/ko/about.html\">Google &#51221;&#48372;</a><a href=\"https://www.google.com/setprefdomain?prefdom=KR&amp;prev=https://www.google.co.kr/&amp;sig=K_aCua0m0ow8H9zsdresl1vA_m68Y%3D\">Google.co.kr</a></div></div><p style=\"font-size:8pt;color:#70757a\">&copy; 2022 - <a href=\"/intl/ko/policies/privacy/\">&#44060;&#51064;&#51221;&#48372;&#52376;&#47532;&#48169;&#52840;</a> - <a href=\"/intl/ko/policies/terms/\">&#50557;&#44288;</a></p></span></center><script nonce=\"csDn-wLeW2GX9ALcOsPmwQ\">(function(){window.google.cdo={height:757,width:1440};(function(){\\nvar a=window.innerWidth,b=window.innerHeight;if(!a||!b){var c=window.document,d=\"CSS1Compat\"==c.compatMode?c.documentElement:c.body;a=d.clientWidth;b=d.clientHeight}a&&b&&(a!=google.cdo.width||b!=google.cdo.height)&&google.log(\"\",\"\",\"/client_204?&atyp=i&biw=\"+a+\"&bih=\"+b+\"&ei=\"+google.kEI);}).call(this);})();</script> <script nonce=\"csDn-wLeW2GX9ALcOsPmwQ\">(function(){google.xjs={ck:\\'xjs.hp.nAt8mkHlvVw.L.X.O\\',cs:\\'ACT90oFu0C9YDOqPwwoyX62lO43XEiT6rg\\',excm:[]};})();</script>  <script nonce=\"csDn-wLeW2GX9ALcOsPmwQ\">(function(){var u=\\'/xjs/_/js/k\\\\x3dxjs.hp.en.YZm4LFNWvZw.O/am\\\\x3dAACeAAAkAEAB/d\\\\x3d1/ed\\\\x3d1/rs\\\\x3dACT90oGTIMu-VJotsz-7AsWs3Kh4DFW0Xw/m\\\\x3dsb_he,d\\';\\nvar d=this||self,e=function(a){return a};\\nvar g;var l=function(a,b){this.g=b===h?a:\"\"};l.prototype.toString=function(){return this.g+\"\"};var h={};function n(){var a=u;google.lx=function(){p(a);google.lx=function(){}};google.bx||google.lx()}\\nfunction p(a){google.timers&&google.timers.load&&google.tick&&google.tick(\"load\",\"xjsls\");var b=document;var c=\"SCRIPT\";\"application/xhtml+xml\"===b.contentType&&(c=c.toLowerCase());c=b.createElement(c);if(void 0===g){b=null;var k=d.trustedTypes;if(k&&k.createPolicy){try{b=k.createPolicy(\"goog#html\",{createHTML:e,createScript:e,createScriptURL:e})}catch(q){d.console&&d.console.error(q.message)}g=b}else g=b}a=(b=g)?b.createScriptURL(a):a;a=new l(a,h);c.src=a instanceof l&&a.constructor===l?a.g:\"type_error:TrustedResourceUrl\";var f,m;(f=(a=null==(m=(f=(c.ownerDocument&&c.ownerDocument.defaultView||window).document).querySelector)?void 0:m.call(f,\"script[nonce]\"))?a.nonce||a.getAttribute(\"nonce\")||\"\":\"\")&&c.setAttribute(\"nonce\",f);document.body.appendChild(c);google.psa=!0};google.xjsu=u;setTimeout(function(){n()},0);})();function _DumpException(e){throw e;}\\nfunction _F_installCss(c){}\\n(function(){google.jl={blt:\\'none\\',chnk:0,dw:false,dwu:true,emtn:0,end:0,ine:false,injs:\\'none\\',injt:0,injth:0,injv2:false,lls:\\'default\\',pdt:0,rep:0,snet:true,strt:0,ubm:false,uwp:true};})();(function(){var pmc=\\'{\\\\x22d\\\\x22:{},\\\\x22sb_he\\\\x22:{\\\\x22agen\\\\x22:true,\\\\x22cgen\\\\x22:true,\\\\x22client\\\\x22:\\\\x22heirloom-hp\\\\x22,\\\\x22dh\\\\x22:true,\\\\x22dhqt\\\\x22:true,\\\\x22ds\\\\x22:\\\\x22\\\\x22,\\\\x22ffql\\\\x22:\\\\x22ko\\\\x22,\\\\x22fl\\\\x22:true,\\\\x22host\\\\x22:\\\\x22google.com\\\\x22,\\\\x22isbh\\\\x22:28,\\\\x22jsonp\\\\x22:true,\\\\x22msgs\\\\x22:{\\\\x22cibl\\\\x22:\\\\x22&#44160;&#49353;&#50612; &#51648;&#50864;&#44592;\\\\x22,\\\\x22dym\\\\x22:\\\\x22&#51060;&#44163;&#51012; &#52286;&#51004;&#49512;&#45208;&#50836;?\\\\x22,\\\\x22lcky\\\\x22:\\\\x22I&#8217;m Feeling Lucky\\\\x22,\\\\x22lml\\\\x22:\\\\x22&#51088;&#49464;&#55176; &#50508;&#50500;&#48372;&#44592;\\\\x22,\\\\x22oskt\\\\x22:\\\\x22&#51077;&#47141; &#46020;&#44396;\\\\x22,\\\\x22psrc\\\\x22:\\\\x22&#44160;&#49353;&#50612;&#44032; \\\\\\\\u003Ca href\\\\x3d\\\\\\\\\\\\x22/history\\\\\\\\\\\\x22\\\\\\\\u003E&#50937; &#44592;&#47197;\\\\\\\\u003C/a\\\\\\\\u003E&#50640;&#49436; &#49325;&#51228;&#46104;&#50632;&#49845;&#45768;&#45796;.\\\\x22,\\\\x22psrl\\\\x22:\\\\x22&#49325;&#51228;\\\\x22,\\\\x22sbit\\\\x22:\\\\x22&#51060;&#48120;&#51648;&#47196; &#44160;&#49353;\\\\x22,\\\\x22srch\\\\x22:\\\\x22Google &#44160;&#49353;\\\\x22},\\\\x22ovr\\\\x22:{},\\\\x22pq\\\\x22:\\\\x22\\\\x22,\\\\x22refpd\\\\x22:true,\\\\x22rfs\\\\x22:[],\\\\x22sbas\\\\x22:\\\\x220 3px 8px 0 rgba(0,0,0,0.2),0 0 0 1px rgba(0,0,0,0.08)\\\\x22,\\\\x22sbpl\\\\x22:16,\\\\x22sbpr\\\\x22:16,\\\\x22scd\\\\x22:10,\\\\x22stok\\\\x22:\\\\x22FpiOae7N6qpvqzwiUAghqkKoFVA\\\\x22,\\\\x22uhde\\\\x22:false}}\\';google.pmc=JSON.parse(pmc);})();</script>        </body></html>'\n"
     ]
    }
   ],
   "source": [
    "from urllib import request\n",
    "\n",
    "target = request.urlopen('https://google.com')\n",
    "output = target.read()\n",
    "\n",
    "print(output)"
   ]
  },
  {
   "cell_type": "code",
   "execution_count": null,
   "id": "00a6be10",
   "metadata": {},
   "outputs": [],
   "source": []
  }
 ],
 "metadata": {
  "kernelspec": {
   "display_name": "Python 3 (ipykernel)",
   "language": "python",
   "name": "python3"
  },
  "language_info": {
   "codemirror_mode": {
    "name": "ipython",
    "version": 3
   },
   "file_extension": ".py",
   "mimetype": "text/x-python",
   "name": "python",
   "nbconvert_exporter": "python",
   "pygments_lexer": "ipython3",
   "version": "3.9.12"
  },
  "toc": {
   "base_numbering": 1,
   "nav_menu": {},
   "number_sections": true,
   "sideBar": true,
   "skip_h1_title": false,
   "title_cell": "Table of Contents",
   "title_sidebar": "Contents",
   "toc_cell": false,
   "toc_position": {},
   "toc_section_display": true,
   "toc_window_display": false
  }
 },
 "nbformat": 4,
 "nbformat_minor": 5
}
