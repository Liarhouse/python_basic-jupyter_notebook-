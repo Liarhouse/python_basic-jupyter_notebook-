{
 "cells": [
  {
   "cell_type": "code",
   "execution_count": null,
   "id": "7d27da3c",
   "metadata": {
    "ExecuteTime": {
     "end_time": "2022-09-15T00:07:58.401531Z",
     "start_time": "2022-09-15T00:07:58.383591Z"
    }
   },
   "outputs": [],
   "source": [
    "# 문자열 모듈\n",
    "import string"
   ]
  },
  {
   "cell_type": "code",
   "execution_count": null,
   "id": "d66cbc3f",
   "metadata": {
    "ExecuteTime": {
     "end_time": "2022-09-15T00:17:36.599767Z",
     "start_time": "2022-09-15T00:17:36.590792Z"
    }
   },
   "outputs": [],
   "source": [
    "text = \"All that I need you\"\n",
    "\n",
    "# 첫글자만 대문자로 표현하는 함수\n",
    "print(\"capword : \", string.capwords(text))\n",
    "\n",
    "# 전체 대문자로 변환\n",
    "print(\"upper : \", text.upper())\n",
    "\n",
    "# 전체 소문자로 변환\n",
    "print(\"lower : \", text.lower())\n",
    "\n",
    "# 구분기호로 나누기 : 리스트로 반환\n",
    "print(\"split : \", text.split(\" \"))\n",
    "\n",
    "# 치환\n",
    "print(\"replace : \", text.replace(\"you\", \"him\"))\n",
    "\n",
    "# 문자열의 위치를 찾는 함수\n",
    "print(\"find : \", text.find(\"need\"))\n",
    "\n",
    "# 글자수 세기\n",
    "print(\"count : \", text.count(\"e\"))"
   ]
  },
  {
   "cell_type": "markdown",
   "id": "b1304fd0",
   "metadata": {},
   "source": [
    "#### Question\n",
    "- 사용자로부터 30글자 이상의 문자열을 입력받아서 처리한다.\n",
    "- 알파벳이 몇개로 구성되어있는지 출력한다. isalpha() : True(1) or False(0)\n",
    "- 대문자(isupper), 소문자(islower) 각각 몇개로 구성되었는지 출력한다."
   ]
  },
  {
   "cell_type": "code",
   "execution_count": null,
   "id": "8bd93920",
   "metadata": {
    "ExecuteTime": {
     "end_time": "2022-09-15T00:31:45.941214Z",
     "start_time": "2022-09-15T00:31:40.770147Z"
    }
   },
   "outputs": [],
   "source": [
    "alpha = 0\n",
    "upper = 0\n",
    "lower = 0\n",
    "text = input(\"30글자 이상의 문자열을 입력하세요 : \")\n",
    "# while len(text) < 30:\n",
    "#     text = input(\"30글자 이상의 문자열을 입력하세요 : \")\n",
    "\n",
    "for i in text:\n",
    "    alpha += i.isalpha()\n",
    "    upper += i.isupper()\n",
    "    lower += i.islower()\n",
    "    \n",
    "print(\"알파벳 개수 : \", alpha)\n",
    "print(\"대문자 개수 : \", upper)\n",
    "print(\"소문자 개수 : \", lower)"
   ]
  },
  {
   "cell_type": "code",
   "execution_count": null,
   "id": "a4b789f1",
   "metadata": {
    "ExecuteTime": {
     "end_time": "2022-09-15T00:47:37.991002Z",
     "start_time": "2022-09-15T00:47:37.984021Z"
    }
   },
   "outputs": [],
   "source": [
    "import mod1\n",
    "\n",
    "print(\"더하기 결과 = \", mod1.add(3, 5))\n",
    "print(\"빼기 결과 = \", mod1.sub(4,2))"
   ]
  },
  {
   "cell_type": "code",
   "execution_count": 6,
   "id": "048dc630",
   "metadata": {
    "ExecuteTime": {
     "end_time": "2022-09-15T00:56:18.137131Z",
     "start_time": "2022-09-15T00:56:18.132144Z"
    }
   },
   "outputs": [
    {
     "name": "stdout",
     "output_type": "stream",
     "text": [
      "더하기 결과 =  8\n",
      "빼기 결과 =  2\n"
     ]
    }
   ],
   "source": [
    "from mod1 import add, sub\n",
    "\n",
    "print(\"더하기 결과 = \", add(3, 5))\n",
    "print(\"빼기 결과 = \", sub(4,2))"
   ]
  },
  {
   "cell_type": "code",
   "execution_count": 2,
   "id": "f8dbdd70",
   "metadata": {
    "ExecuteTime": {
     "end_time": "2022-09-15T00:55:37.781641Z",
     "start_time": "2022-09-15T00:55:37.760697Z"
    }
   },
   "outputs": [
    {
     "name": "stdout",
     "output_type": "stream",
     "text": [
      "자료형이 일치하지 않습니다.\n"
     ]
    }
   ],
   "source": [
    "import mod2\n",
    "mod2.safe_sum(\"kor\", 3)"
   ]
  },
  {
   "cell_type": "code",
   "execution_count": 7,
   "id": "b0e8c9dd",
   "metadata": {
    "ExecuteTime": {
     "end_time": "2022-09-15T01:23:21.119560Z",
     "start_time": "2022-09-15T01:23:21.105585Z"
    }
   },
   "outputs": [],
   "source": [
    "import mod1"
   ]
  },
  {
   "cell_type": "code",
   "execution_count": 11,
   "id": "d13be987",
   "metadata": {
    "ExecuteTime": {
     "end_time": "2022-09-15T01:43:19.374125Z",
     "start_time": "2022-09-15T01:43:19.361160Z"
    }
   },
   "outputs": [
    {
     "name": "stdout",
     "output_type": "stream",
     "text": [
      "__main__\n"
     ]
    }
   ],
   "source": [
    "import students\n",
    "print(__name__)"
   ]
  },
  {
   "cell_type": "code",
   "execution_count": 12,
   "id": "50b27d1a",
   "metadata": {
    "ExecuteTime": {
     "end_time": "2022-09-15T01:48:17.295235Z",
     "start_time": "2022-09-15T01:48:17.282269Z"
    }
   },
   "outputs": [],
   "source": [
    "from students import *"
   ]
  },
  {
   "cell_type": "code",
   "execution_count": 13,
   "id": "63ab52eb",
   "metadata": {
    "ExecuteTime": {
     "end_time": "2022-09-15T01:48:21.362421Z",
     "start_time": "2022-09-15T01:48:19.020394Z"
    }
   },
   "outputs": [
    {
     "name": "stdout",
     "output_type": "stream",
     "text": [
      "====== 학생 관리 ======\n",
      "1. 학생 등록\n",
      "2. 학번 검색\n",
      "3. 학번 수정\n",
      "4. 같은 이름 학생 확인\n",
      "5. 전체 출력\n",
      "6. 프로그램 종료\n",
      "=======================\n",
      "\n",
      "번호 입력 : 6\n",
      "\n",
      "프로그램을 종료합니다.\n"
     ]
    }
   ],
   "source": [
    "stu = Student()\n",
    "stu.menu()"
   ]
  },
  {
   "cell_type": "markdown",
   "id": "95539f48",
   "metadata": {},
   "source": [
    "### 패키지(Package)\n",
    "- 물리적으로 여러개의 모듈을 모이놓은 디렉토리(폴더)\n",
    "- 모듈 : 파이썬 파일(*.py)\n",
    "- 패키지 : 디렉토리(폴더)"
   ]
  },
  {
   "cell_type": "code",
   "execution_count": null,
   "id": "c718496e",
   "metadata": {},
   "outputs": [],
   "source": [
    "# __init__.py 파일의 의미\n",
    "## 해당 디렉토리가 패키지임을 알려주는 역할을 수행하는 파일\n",
    "## 파이썬 버전 3.3부터 없어도 패키지로 인식 가능"
   ]
  }
 ],
 "metadata": {
  "kernelspec": {
   "display_name": "Python 3 (ipykernel)",
   "language": "python",
   "name": "python3"
  },
  "language_info": {
   "codemirror_mode": {
    "name": "ipython",
    "version": 3
   },
   "file_extension": ".py",
   "mimetype": "text/x-python",
   "name": "python",
   "nbconvert_exporter": "python",
   "pygments_lexer": "ipython3",
   "version": "3.9.12"
  },
  "toc": {
   "base_numbering": 1,
   "nav_menu": {},
   "number_sections": true,
   "sideBar": true,
   "skip_h1_title": false,
   "title_cell": "Table of Contents",
   "title_sidebar": "Contents",
   "toc_cell": false,
   "toc_position": {},
   "toc_section_display": true,
   "toc_window_display": false
  }
 },
 "nbformat": 4,
 "nbformat_minor": 5
}
