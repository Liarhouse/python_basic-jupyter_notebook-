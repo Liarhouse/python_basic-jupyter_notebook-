{
 "cells": [
  {
   "cell_type": "code",
   "execution_count": null,
   "id": "deb26353",
   "metadata": {},
   "outputs": [],
   "source": [
    "# 문제 조회(확인)\n",
    "senseq = open(\"sensequs.txt\", \"r\")"
   ]
  },
  {
   "cell_type": "code",
   "execution_count": null,
   "id": "85604126",
   "metadata": {},
   "outputs": [],
   "source": [
    "# 문제 수정\n"
   ]
  },
  {
   "cell_type": "code",
   "execution_count": null,
   "id": "dac4986a",
   "metadata": {},
   "outputs": [],
   "source": [
    "# 문제 추가\n",
    "senseq = open(\"sensequs.txt\",\"a\")\n",
    "\n",
    "while True:\n",
    "    q = input(\"문제 기입 : \")\n",
    "    if q == \"종료\":\n",
    "        break\n",
    "    a = input(\"정답 기입 : \")\n",
    "    if a == \"종료\":\n",
    "        break\n",
    "    senseq.write(f\"{q} : {a}\\n\")"
   ]
  },
  {
   "cell_type": "code",
   "execution_count": 14,
   "id": "795048b8",
   "metadata": {},
   "outputs": [
    {
     "name": "stdout",
     "output_type": "stream",
     "text": [
      " 서울\n"
     ]
    }
   ],
   "source": [
    "import random\n",
    "\n",
    "with open('sensequs.txt') as f:\n",
    "    randomLine = random.choice(list(f.readlines())).splitlines()[0]\n",
    "    aaa = randomLine.split(\":\")\n",
    "    print(aaa[1])"
   ]
  },
  {
   "cell_type": "code",
   "execution_count": 13,
   "id": "343d4bd5",
   "metadata": {},
   "outputs": [
    {
     "name": "stdout",
     "output_type": "stream",
     "text": [
      "한국의 수도는?  : 서울\n",
      "맞았습니다!\n",
      "부산의 행정도시명은?  : 광역시\n",
      "맞았습니다!\n",
      "지동설을 주장한 사람은?  : ㅋ\n",
      "아쉽습니다. 정답은 갈릴레이 갈릴레오입니다.\n"
     ]
    }
   ],
   "source": [
    "# 문제 풀기 시스템_기본베이스\n",
    "senseq = open(\"sensequs.txt\",\"r\")\n",
    "\n",
    "data = {}\n",
    "i = 0\n",
    "\n",
    "for line in senseq:\n",
    "    key_value = line.strip().split(\":\")\n",
    "    if len(key_value) == 2:\n",
    "        data[key_value[0]] = key_value[1].strip()\n",
    "\n",
    "quiz = list(data.values())\n",
    "meaning = list(data.keys())\n",
    "\n",
    "while i != len(quiz):\n",
    "    answer = input(f\"{meaning[i]} : \")\n",
    "    if quiz[i] == answer:\n",
    "        print(\"맞았습니다!\")\n",
    "        i += 1\n",
    "    else:\n",
    "        print(f\"아쉽습니다. 정답은 {quiz[i]}입니다.\")\n",
    "        i += 1"
   ]
  },
  {
   "cell_type": "code",
   "execution_count": 16,
   "id": "bef868fd",
   "metadata": {},
   "outputs": [
    {
     "name": "stdout",
     "output_type": "stream",
     "text": [
      "['지동설을 주장한 사람은? ', ' 갈릴레이 갈릴레오\\n']\n",
      "[' 서울\\n', ' 광역시\\n', ' 갈릴레이 갈릴레오\\n']\n",
      "['한국의 수도는? ', '부산의 행정도시명은? ', '지동설을 주장한 사람은? ']\n"
     ]
    }
   ],
   "source": [
    "# 문제 풀기 시스템_기본베이스\n",
    "senseq = open(\"sensequs.txt\",\"r\")\n",
    "\n",
    "data = {}\n",
    "i = 0\n",
    "\n",
    "for line in senseq:\n",
    "    key_value = line.split(\":\")\n",
    "    if len(key_value) == 2:\n",
    "        data[key_value[0]] = key_value[1]\n",
    "\n",
    "quiz = list(data.values())\n",
    "meaning = list(data.keys())\n",
    "\n",
    "print(key_value)\n",
    "print(quiz)\n",
    "print(meaning)"
   ]
  }
 ],
 "metadata": {
  "kernelspec": {
   "display_name": "Python 3 (ipykernel)",
   "language": "python",
   "name": "python3"
  },
  "language_info": {
   "codemirror_mode": {
    "name": "ipython",
    "version": 3
   },
   "file_extension": ".py",
   "mimetype": "text/x-python",
   "name": "python",
   "nbconvert_exporter": "python",
   "pygments_lexer": "ipython3",
   "version": "3.9.12"
  }
 },
 "nbformat": 4,
 "nbformat_minor": 5
}
