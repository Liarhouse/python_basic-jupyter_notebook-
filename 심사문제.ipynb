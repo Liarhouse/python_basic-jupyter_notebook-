{
 "cells": [
  {
   "cell_type": "code",
   "execution_count": 1,
   "id": "8d3630c2",
   "metadata": {},
   "outputs": [
    {
     "name": "stdout",
     "output_type": "stream",
     "text": [
      "False\n"
     ]
    }
   ],
   "source": [
    "korean = 92\n",
    "english = 47\n",
    "math = 86\n",
    "science = 81\n",
    "\n",
    "print(korean >= 90 and english > 80 and math > 85 and science >= 80)"
   ]
  },
  {
   "cell_type": "code",
   "execution_count": 2,
   "id": "f07e5961",
   "metadata": {},
   "outputs": [
    {
     "name": "stdout",
     "output_type": "stream",
     "text": [
      "True\n"
     ]
    }
   ],
   "source": [
    "korean = 90\n",
    "english = 81\n",
    "math = 86\n",
    "science = 80\n",
    "\n",
    "print(korean >= 90 and english > 80 and math > 85 and science >= 80)"
   ]
  },
  {
   "cell_type": "code",
   "execution_count": 3,
   "id": "b3287c53",
   "metadata": {},
   "outputs": [
    {
     "name": "stdout",
     "output_type": "stream",
     "text": [
      "국어 점수를 입력하시오: 90\n",
      "영어 점수를 입력하시오: 81\n",
      "수학 점수를 입력하시오: 86\n",
      "과학 점수를 입력하시오: 80\n",
      "True\n"
     ]
    }
   ],
   "source": [
    "korean = int(input(\"국어 점수를 입력하시오: \"))\n",
    "english = int(input(\"영어 점수를 입력하시오: \"))\n",
    "math = int(input(\"수학 점수를 입력하시오: \"))\n",
    "science = int(input(\"과학 점수를 입력하시오: \"))\n",
    "print(korean >= 90 and english > 80 and math > 85 and science >= 80)"
   ]
  },
  {
   "cell_type": "code",
   "execution_count": 5,
   "id": "530bea67",
   "metadata": {},
   "outputs": [
    {
     "name": "stdout",
     "output_type": "stream",
     "text": [
      "80 90 55 88\n"
     ]
    },
    {
     "data": {
      "text/plain": [
       "88"
      ]
     },
     "execution_count": 5,
     "metadata": {},
     "output_type": "execute_result"
    }
   ],
   "source": [
    "a, b, c, d = map(int, input().split()) \n",
    "a\n",
    "b\n",
    "c\n",
    "d"
   ]
  },
  {
   "cell_type": "code",
   "execution_count": 6,
   "id": "9c29133e",
   "metadata": {},
   "outputs": [
    {
     "data": {
      "text/plain": [
       "80"
      ]
     },
     "execution_count": 6,
     "metadata": {},
     "output_type": "execute_result"
    }
   ],
   "source": [
    "a"
   ]
  },
  {
   "cell_type": "code",
   "execution_count": null,
   "id": "8321e8f3",
   "metadata": {},
   "outputs": [],
   "source": []
  }
 ],
 "metadata": {
  "kernelspec": {
   "display_name": "Python 3 (ipykernel)",
   "language": "python",
   "name": "python3"
  },
  "language_info": {
   "codemirror_mode": {
    "name": "ipython",
    "version": 3
   },
   "file_extension": ".py",
   "mimetype": "text/x-python",
   "name": "python",
   "nbconvert_exporter": "python",
   "pygments_lexer": "ipython3",
   "version": "3.9.12"
  },
  "toc": {
   "base_numbering": 1,
   "nav_menu": {},
   "number_sections": true,
   "sideBar": true,
   "skip_h1_title": false,
   "title_cell": "Table of Contents",
   "title_sidebar": "Contents",
   "toc_cell": false,
   "toc_position": {},
   "toc_section_display": true,
   "toc_window_display": false
  }
 },
 "nbformat": 4,
 "nbformat_minor": 5
}
