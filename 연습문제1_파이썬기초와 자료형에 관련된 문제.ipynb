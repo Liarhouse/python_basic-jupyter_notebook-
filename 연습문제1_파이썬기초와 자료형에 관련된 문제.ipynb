{
 "cells": [
  {
   "cell_type": "code",
   "execution_count": null,
   "id": "a9ec42c4",
   "metadata": {},
   "outputs": [],
   "source": [
    "# 문제1. 홍길동의 과목점수를 이용하여 평균 점수를 계산하여 출력하는 프로그램을 구현하시오.\n",
    "# 국어 : 80, 영어 : 75, 수학 : 55"
   ]
  },
  {
   "cell_type": "code",
   "execution_count": 1,
   "id": "defe7999",
   "metadata": {},
   "outputs": [
    {
     "name": "stdout",
     "output_type": "stream",
     "text": [
      "홍길동의 평균 점수는 70.00점 입니다.\n"
     ]
    }
   ],
   "source": [
    "kor = 80\n",
    "eng = 75\n",
    "math = 55\n",
    "avg = (kor + eng + math) / 3\n",
    "print(\"홍길동의 평균 점수는 %.2f점 입니다.\" % avg)"
   ]
  },
  {
   "cell_type": "code",
   "execution_count": null,
   "id": "8a824e55",
   "metadata": {},
   "outputs": [],
   "source": [
    "# 문제2. 자연수 13이 홀수인지 짝수인지 판별하는 프로그램을 구현하시오."
   ]
  },
  {
   "cell_type": "code",
   "execution_count": 2,
   "id": "991195ef",
   "metadata": {},
   "outputs": [
    {
     "name": "stdout",
     "output_type": "stream",
     "text": [
      "자연수 13는 홀수입니다.\n"
     ]
    }
   ],
   "source": [
    "num = 13\n",
    "if num % 2 == 0:\n",
    "    print(\"자연수 %d는 짝수입니다.\" % num)\n",
    "else:\n",
    "    print((\"자연수 %d는 홀수입니다.\" % num))"
   ]
  },
  {
   "cell_type": "code",
   "execution_count": null,
   "id": "c78f9144",
   "metadata": {},
   "outputs": [],
   "source": [
    "# 문제3. 홍길동의 주민번호는 881120-1068234이다. 홍길동의 주민번호를 연월일과 숫자부분을 나누어\n",
    "# 출력하는 프로그램을 구현하시오.(YYYY.MM.DD)와 숫자\n",
    "# 문자열 슬라이싱 기법을 활용할 것."
   ]
  },
  {
   "cell_type": "code",
   "execution_count": 4,
   "id": "754f1936",
   "metadata": {},
   "outputs": [
    {
     "name": "stdout",
     "output_type": "stream",
     "text": [
      "1988.11.20 - 1068234\n"
     ]
    }
   ],
   "source": [
    "cit = \"881120-1068234\"\n",
    "y = cit[:2]\n",
    "m = cit[2:4]\n",
    "d = cit[4:6]\n",
    "num = cit[7:]\n",
    "\n",
    "print(\"19%s.%s.%s - %s\" % (y,m,d,num))\n"
   ]
  },
  {
   "cell_type": "code",
   "execution_count": null,
   "id": "1c37c58c",
   "metadata": {},
   "outputs": [],
   "source": [
    "# 문제4. 주민등록번호(-)뒤에 숫자를 이용하여 성별을 판정하는 프로그램을 구현하시오.\n",
    "# pin = \"881120-1068234\"\n",
    "# 문자열 인덱싱 기법을 활용할 것."
   ]
  },
  {
   "cell_type": "code",
   "execution_count": 6,
   "id": "5edb6552",
   "metadata": {},
   "outputs": [
    {
     "name": "stdout",
     "output_type": "stream",
     "text": [
      "해당 주민번호를 가진 사람은 남성입니다.\n"
     ]
    }
   ],
   "source": [
    "pin = \"881120-1068234\"\n",
    "if int(pin[7]) % 2 == 0:\n",
    "    print(\"해당 주민번호를 가진 사람은 여성입니다.\")\n",
    "else:\n",
    "    print(\"해당 주민번호를 가진 사람은 남성입니다.\")"
   ]
  },
  {
   "cell_type": "code",
   "execution_count": null,
   "id": "f76ade40",
   "metadata": {},
   "outputs": [],
   "source": [
    "# 문제5. 문자열 \"a:b:c:d\"가 있다. replace 함수를 이용하여 a#b#c#d로 바꿔서 출력되도록 프로그램을\n",
    "# 구현하시오."
   ]
  },
  {
   "cell_type": "code",
   "execution_count": 9,
   "id": "bb038332",
   "metadata": {},
   "outputs": [
    {
     "name": "stdout",
     "output_type": "stream",
     "text": [
      "a#b#c#d\n"
     ]
    }
   ],
   "source": [
    "char = \"a:b:c:d\"\n",
    "print(char.replace(\":\", \"#\"))"
   ]
  },
  {
   "cell_type": "code",
   "execution_count": 8,
   "id": "418dc095",
   "metadata": {},
   "outputs": [
    {
     "name": "stdout",
     "output_type": "stream",
     "text": [
      "a#b#c#d\n"
     ]
    }
   ],
   "source": [
    "print(\"a:b:c:d\".replace(\":\", \"#\"))"
   ]
  },
  {
   "cell_type": "code",
   "execution_count": null,
   "id": "a11e81c0",
   "metadata": {},
   "outputs": [],
   "source": [
    "# 문제6. 리스트 [1, 3, 5, 4, 2]를 [5, 4, 3, 2, 1]로 출력되도록 구현하시오.\n",
    "# 단, 리스트의 내장함수를 이용할 것."
   ]
  },
  {
   "cell_type": "code",
   "execution_count": 10,
   "id": "c99ff162",
   "metadata": {},
   "outputs": [
    {
     "name": "stdout",
     "output_type": "stream",
     "text": [
      "[5, 4, 3, 2, 1]\n"
     ]
    }
   ],
   "source": [
    "a = [1, 3, 5, 4, 2]\n",
    "a.sort(reverse = True)\n",
    "print(a)"
   ]
  },
  {
   "cell_type": "code",
   "execution_count": 11,
   "id": "9f8d0b62",
   "metadata": {},
   "outputs": [
    {
     "name": "stdout",
     "output_type": "stream",
     "text": [
      "[5, 4, 3, 2, 1]\n"
     ]
    }
   ],
   "source": [
    "a = [1, 3, 5, 4, 2]\n",
    "a.sort()\n",
    "a.reverse()\n",
    "print(a)"
   ]
  },
  {
   "cell_type": "code",
   "execution_count": null,
   "id": "281a8e9c",
   "metadata": {},
   "outputs": [],
   "source": [
    "# 문제7. ['Life', 'is', 'too', 'short'] 리스트를 이용하여 \" Life is too short\" 문자열로\n",
    "# 출력되도록 프로그램을 구현하시오.\n",
    "# 단, join 함수를 이용할 것."
   ]
  },
  {
   "cell_type": "code",
   "execution_count": 13,
   "id": "ad0dff37",
   "metadata": {},
   "outputs": [
    {
     "name": "stdout",
     "output_type": "stream",
     "text": [
      "Life is too short\n"
     ]
    }
   ],
   "source": [
    "a = ['Life', 'is', 'too', 'short']\n",
    "print(\" \".join(a))"
   ]
  },
  {
   "cell_type": "code",
   "execution_count": null,
   "id": "cccf2ba7",
   "metadata": {},
   "outputs": [],
   "source": [
    "# 문제8.(1, 2, 3)이 저장된 튜플에 4를 추가하여 (1, 2, 3, 4)가 되도록 구현하시오.\n",
    "# 단, 튜플의 연산자(+)를 활용할 것."
   ]
  },
  {
   "cell_type": "code",
   "execution_count": 16,
   "id": "2829742e",
   "metadata": {},
   "outputs": [
    {
     "name": "stdout",
     "output_type": "stream",
     "text": [
      "(1, 2, 3, 4)\n"
     ]
    }
   ],
   "source": [
    "t1 = (1, 2, 3) \n",
    "t2 = (4,)\n",
    "t1 = t1 + t2\n",
    "print(t1)"
   ]
  },
  {
   "cell_type": "code",
   "execution_count": null,
   "id": "0c3fcfe2",
   "metadata": {},
   "outputs": [],
   "source": [
    "# 문제9.다음 주어진 딕셔너리 값을 이용하여 아래 기술된 내용중 오류가 발생하는 것과 그 이유를 서술\n",
    "a = dict()\n",
    "print(a)\n",
    "## 1. a['name'] = 'python'\n",
    "## 2. a[('a',)] = 'python'\n",
    "## 3. a[[1]] = 'python'\n",
    "## 4. a[250] = 'python'"
   ]
  },
  {
   "cell_type": "code",
   "execution_count": 19,
   "id": "cb6a0a26",
   "metadata": {},
   "outputs": [
    {
     "name": "stdout",
     "output_type": "stream",
     "text": [
      "{}\n",
      "{'name': 'python', ('a',): 'python', 250: 'python'}\n"
     ]
    }
   ],
   "source": [
    "## 3번 : 딕셔너리의 키워드는 문자열, 실수, 정수, 튜플은 지원하지만 리시트는 지원하지 않는다."
   ]
  },
  {
   "cell_type": "code",
   "execution_count": null,
   "id": "89f16f21",
   "metadata": {},
   "outputs": [],
   "source": [
    "# 문제10. 다음 주어진 딕셔너리에 키가 'B'인 값을 추출하는 프로그램을 구현하시오.\n",
    "# 단, pop 함수를 활용할 것\n",
    "dic = {'A':90, 'B':80, 'C':70}"
   ]
  },
  {
   "cell_type": "code",
   "execution_count": 21,
   "id": "bb291d5a",
   "metadata": {},
   "outputs": [
    {
     "name": "stdout",
     "output_type": "stream",
     "text": [
      "80\n"
     ]
    }
   ],
   "source": [
    "dic = {'A':90, 'B':80, 'C':70}\n",
    "print(dic.pop('B'))"
   ]
  },
  {
   "cell_type": "code",
   "execution_count": null,
   "id": "3402071d",
   "metadata": {},
   "outputs": [],
   "source": [
    "# 문제11. 주어진 리스트 x에 중복된 숫자를 제거하는 프로그램을 구현하시오.\n",
    "x = [1, 1, 1, 2, 2, 3, 3, 3, 4, 4, 5]\n",
    "# 단, 집합 자료형의 특징을 활용할 것"
   ]
  },
  {
   "cell_type": "code",
   "execution_count": 23,
   "id": "8e029af6",
   "metadata": {},
   "outputs": [
    {
     "name": "stdout",
     "output_type": "stream",
     "text": [
      "{1, 2, 3, 4, 5}\n"
     ]
    }
   ],
   "source": [
    "x = [1, 1, 1, 2, 2, 3, 3, 3, 4, 4, 5]\n",
    "print(set(x))"
   ]
  },
  {
   "cell_type": "code",
   "execution_count": null,
   "id": "d0a3526b",
   "metadata": {},
   "outputs": [],
   "source": [
    "# 문제12. 파이썬은 다른 언어와 달리 아래와 같은 방식의 코딩이 허용된다.\n",
    "# 다음과 같이 a, b 변수를 선언한 후 a의 두 번째 요소값을 변경하면 b 값은 어떻게 되는지 결과와\n",
    "# 이유를 서술하시오.\n",
    "a = b = [1, 2, 3]\n",
    "a[1] = 4\n",
    "print(\"a = \", a)\n",
    "print(\"b = \", b)"
   ]
  },
  {
   "cell_type": "code",
   "execution_count": null,
   "id": "af15c9d2",
   "metadata": {},
   "outputs": [],
   "source": [
    "# b의 값도 변경된 값으로 출력된다.\n",
    "# 파이썬은 a = b라고 선언하면 b에 a의 값이 들어가는게 아니라 해당 데이터의 주소를 가져간다. 따라서 인덱스를 활용하여 a의 값을\n",
    "# 변경하면 해당 데이터의 주소에 있는 값이 변하게되고 같은 주소를 공유하는 b도 a와 같은 결과를 출력하게 된다."
   ]
  }
 ],
 "metadata": {
  "kernelspec": {
   "display_name": "Python 3 (ipykernel)",
   "language": "python",
   "name": "python3"
  },
  "language_info": {
   "codemirror_mode": {
    "name": "ipython",
    "version": 3
   },
   "file_extension": ".py",
   "mimetype": "text/x-python",
   "name": "python",
   "nbconvert_exporter": "python",
   "pygments_lexer": "ipython3",
   "version": "3.9.12"
  },
  "toc": {
   "base_numbering": 1,
   "nav_menu": {},
   "number_sections": true,
   "sideBar": true,
   "skip_h1_title": false,
   "title_cell": "Table of Contents",
   "title_sidebar": "Contents",
   "toc_cell": false,
   "toc_position": {},
   "toc_section_display": true,
   "toc_window_display": false
  }
 },
 "nbformat": 4,
 "nbformat_minor": 5
}
