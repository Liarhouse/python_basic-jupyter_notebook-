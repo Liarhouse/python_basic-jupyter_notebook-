{
 "cells": [
  {
   "cell_type": "code",
   "execution_count": null,
   "id": "e43100c2",
   "metadata": {},
   "outputs": [],
   "source": [
    "# 문제1. 다음 주어진 프로그램의 결과값이 어떻게 되는지 그 이유와 결과를 서술하시오.\n",
    "a = \"Life is too short, you need Python\"\n",
    "\n",
    "if \"wife\" in a: print(\"wife\")\n",
    "elif \"python\" in a and \"you\" not in a: print(\"python\")\n",
    "elif \"shirt\" not in a: print(\"shirt\")\n",
    "elif \"need\" in a: print(\"need\")\n",
    "else: print(\"none\")"
   ]
  },
  {
   "cell_type": "code",
   "execution_count": null,
   "id": "d211e628",
   "metadata": {},
   "outputs": [],
   "source": [
    "# 결과값은 \"shirt\"이다.\n",
    "# 첫 조건문은 a가 \"wife\"를 포함하고 있으면 \"wife\"를 출력하라는 뜻인데 해당 단어가 없으니 다음 조건문으로 내려간다.\n",
    "# 두번째 조건문은 a에 \"python\"을 포함하고 있고(and) \"you\"가 포함되어 있지 않으면 \"python\"을 출력하라는 건데\n",
    "# a에 \"python\"과 \"you\" 둘 다 있기에 조건에 부합되지 않고 다음 조건문으로 내려간다.\n",
    "# 세번째 조건문은 a에 \"shirt\"가 없으면 \"shirt\"를 출력하라는 조건문이며 해당 단어가 없기에 \"shirt\"가 출력되고\n",
    "# 해당 프로그램은 끝이 난다."
   ]
  },
  {
   "cell_type": "code",
   "execution_count": null,
   "id": "0504aa76",
   "metadata": {},
   "outputs": [],
   "source": [
    "# 문제2. while문을 사용해 1부터 1000까지의 자연수중 3의 배수의 합을 계산하여 출력하는 프로그램"
   ]
  },
  {
   "cell_type": "code",
   "execution_count": 2,
   "id": "64019a89",
   "metadata": {},
   "outputs": [
    {
     "name": "stdout",
     "output_type": "stream",
     "text": [
      "166833\n"
     ]
    }
   ],
   "source": [
    "num = 0\n",
    "sum = 0\n",
    "while num <= 1000:\n",
    "    num += 1\n",
    "    if (num % 3) != 0: continue\n",
    "    sum = sum + num\n",
    "print(sum)\n",
    "        "
   ]
  },
  {
   "cell_type": "code",
   "execution_count": null,
   "id": "1b9114c9",
   "metadata": {},
   "outputs": [],
   "source": [
    "# 문제3. while문을 사용하여 다음과 같은 별(*)이 출력되는 프로그램\n",
    "# *\n",
    "# **\n",
    "# ***\n",
    "# ****\n",
    "# *****"
   ]
  },
  {
   "cell_type": "code",
   "execution_count": 3,
   "id": "e65e0a94",
   "metadata": {},
   "outputs": [
    {
     "name": "stdout",
     "output_type": "stream",
     "text": [
      "*\n",
      "**\n",
      "***\n",
      "****\n",
      "*****\n"
     ]
    }
   ],
   "source": [
    "num = 1\n",
    "while num <= 5:\n",
    "    print(\"*\" * num)\n",
    "    num += 1"
   ]
  },
  {
   "cell_type": "code",
   "execution_count": null,
   "id": "8bf690f4",
   "metadata": {},
   "outputs": [],
   "source": [
    "# 문제4. for문을 사용하여 1부터 100까지의 숫자가 출력되는 프로그램"
   ]
  },
  {
   "cell_type": "code",
   "execution_count": 7,
   "id": "11a4a959",
   "metadata": {},
   "outputs": [
    {
     "name": "stdout",
     "output_type": "stream",
     "text": [
      "1 2 3 4 5 6 7 8 9 10 11 12 13 14 15 16 17 18 19 20 21 22 23 24 25 26 27 28 29 30 31 32 33 34 35 36 37 38 39 40 41 42 43 44 45 46 47 48 49 50 51 52 53 54 55 56 57 58 59 60 61 62 63 64 65 66 67 68 69 70 71 72 73 74 75 76 77 78 79 80 81 82 83 84 85 86 87 88 89 90 91 92 93 94 95 96 97 98 99 100 "
     ]
    }
   ],
   "source": [
    "for i in range(1,101):\n",
    "    print(i,end=\" \")"
   ]
  },
  {
   "cell_type": "code",
   "execution_count": null,
   "id": "7662d766",
   "metadata": {},
   "outputs": [],
   "source": [
    "# 문제5. A학급에 10명의 학생이 있다. 이 학생들의 중간고사 점수가 다음과 같다. 이 반의 평균 점수를\n",
    "# 계산하여 출력하는 프로그램\n",
    "score = [70, 60, 55, 75, 95, 90, 80, 80, 85, 100]"
   ]
  },
  {
   "cell_type": "code",
   "execution_count": 8,
   "id": "4a01201e",
   "metadata": {},
   "outputs": [
    {
     "name": "stdout",
     "output_type": "stream",
     "text": [
      "79.0\n"
     ]
    }
   ],
   "source": [
    "score = [70, 60, 55, 75, 95, 90, 80, 80, 85, 100]\n",
    "sum = 0\n",
    "for i in score:\n",
    "    sum += i\n",
    "print(sum / 10)"
   ]
  },
  {
   "cell_type": "code",
   "execution_count": null,
   "id": "52cb04b8",
   "metadata": {},
   "outputs": [],
   "source": [
    "# 문제6. 리스트 중에서 홀수에만 2를 곱하여 저장하는 코드가 다음과 같다.\n",
    "numbers = [1, 2, 3, 4, 5]\n",
    "result = []\n",
    "for i in numbers:\n",
    "    if i % 2 == 1:\n",
    "        result.append(i * 2)\n",
    "        \n",
    "# 위 코드를 리스트 내포 형식으로 변환하는 프로그램을 구현하시오."
   ]
  },
  {
   "cell_type": "code",
   "execution_count": 13,
   "id": "45f86657",
   "metadata": {},
   "outputs": [
    {
     "name": "stdout",
     "output_type": "stream",
     "text": [
      "[2, 6, 10]\n"
     ]
    }
   ],
   "source": [
    "numbers = [1, 2, 3, 4, 5]\n",
    "numbers = [i * 2 for i in numbers if i % 2 == 1]\n",
    "print(numbers)"
   ]
  },
  {
   "cell_type": "code",
   "execution_count": null,
   "id": "6a322db3",
   "metadata": {},
   "outputs": [],
   "source": []
  }
 ],
 "metadata": {
  "kernelspec": {
   "display_name": "Python 3 (ipykernel)",
   "language": "python",
   "name": "python3"
  },
  "language_info": {
   "codemirror_mode": {
    "name": "ipython",
    "version": 3
   },
   "file_extension": ".py",
   "mimetype": "text/x-python",
   "name": "python",
   "nbconvert_exporter": "python",
   "pygments_lexer": "ipython3",
   "version": "3.9.12"
  },
  "toc": {
   "base_numbering": 1,
   "nav_menu": {},
   "number_sections": true,
   "sideBar": true,
   "skip_h1_title": false,
   "title_cell": "Table of Contents",
   "title_sidebar": "Contents",
   "toc_cell": false,
   "toc_position": {},
   "toc_section_display": true,
   "toc_window_display": false
  }
 },
 "nbformat": 4,
 "nbformat_minor": 5
}
