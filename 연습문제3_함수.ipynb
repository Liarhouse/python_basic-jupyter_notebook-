{
 "cells": [
  {
   "cell_type": "code",
   "execution_count": 1,
   "id": "1a478b47",
   "metadata": {
    "ExecuteTime": {
     "end_time": "2022-09-05T07:32:51.027390Z",
     "start_time": "2022-09-05T07:32:51.018268Z"
    }
   },
   "outputs": [],
   "source": [
    "# 문제1. 주어진 자연수가 홀수인지 짝수인지 판정하는 함수 is_odd()를 구현하시오."
   ]
  },
  {
   "cell_type": "code",
   "execution_count": 1,
   "id": "c9a435e8",
   "metadata": {},
   "outputs": [
    {
     "name": "stdout",
     "output_type": "stream",
     "text": [
      "홀수\n"
     ]
    }
   ],
   "source": [
    "def is_odd(a):\n",
    "    if a % 2 == 0:\n",
    "        print(\"짝수\")\n",
    "    else:\n",
    "        print(\"홀수\")\n",
    "\n",
    "is_odd(99)"
   ]
  },
  {
   "cell_type": "code",
   "execution_count": null,
   "id": "48106018",
   "metadata": {},
   "outputs": [],
   "source": [
    "# 문제2. 입력을 받아 들어오는 모든 수의 평균을 계산하는 함수를 구현하시오.\n",
    "# 단, 입력으로 들어오는 매개변수의 개수는 정해져있지 않다.\n",
    "# 평균은 계산할 때 len()함수를 이용할 것."
   ]
  },
  {
   "cell_type": "code",
   "execution_count": 4,
   "id": "1b25e57f",
   "metadata": {},
   "outputs": [
    {
     "name": "stdout",
     "output_type": "stream",
     "text": [
      "378.0\n"
     ]
    }
   ],
   "source": [
    "def avg(*score):\n",
    "    tot = 0\n",
    "    for i in score:\n",
    "        tot += i\n",
    "    res = tot/len(score)\n",
    "    print(res)\n",
    "\n",
    "avg(80, 90, 100, 456, 753, 789)"
   ]
  },
  {
   "cell_type": "code",
   "execution_count": null,
   "id": "f38b3359",
   "metadata": {},
   "outputs": [],
   "source": [
    "# 문제3. 두 개의 정수를 입력받아 더한 결과를 반환하는 함수를 구현하시오."
   ]
  },
  {
   "cell_type": "code",
   "execution_count": 5,
   "id": "09b6b3ae",
   "metadata": {},
   "outputs": [
    {
     "name": "stdout",
     "output_type": "stream",
     "text": [
      "187\n"
     ]
    }
   ],
   "source": [
    "def add(a, b):\n",
    "    res = a + b\n",
    "    return res\n",
    "\n",
    "print(add(99,88))"
   ]
  },
  {
   "cell_type": "code",
   "execution_count": null,
   "id": "52aea957",
   "metadata": {},
   "outputs": [],
   "source": [
    "# 문제4.다음 주어진 출력 결과중 다른 한 개를 찾아 그 결과를 서술하시오.\n",
    "## 1. print(\"you\"  \"need\"  \"python\")\n",
    "## 2. print(\"you\"+\"need\"+\"python\")\n",
    "## 3. print(\"you\", \"need\", \"python\")\n",
    "## 4. print(\"\".join([\"you\",\"need\",\"python\"]))"
   ]
  },
  {
   "cell_type": "code",
   "execution_count": 6,
   "id": "cde9afa7",
   "metadata": {},
   "outputs": [
    {
     "name": "stdout",
     "output_type": "stream",
     "text": [
      "youneedpython\n"
     ]
    }
   ],
   "source": [
    "## 3. print(\"you\", \"need\", \"python\")만 결과가 다르다.\n",
    "## 다른 함수들은 전부 youneedpython이라고 출력되지만 3번은 you need python이라고 출력된다.\n",
    "## 해당 결과는 구분자에 의한 것이다. 구분자 ','는 기본값이 공백(space)이므로 뛰어쓰기가 되어 출력된다.\n",
    "## 이를 수정하려면 해당 함수내에 sep을 사용하여 기본값을 변경해야한다."
   ]
  },
  {
   "cell_type": "code",
   "execution_count": null,
   "id": "5255aa21",
   "metadata": {},
   "outputs": [],
   "source": []
  },
  {
   "cell_type": "code",
   "execution_count": null,
   "id": "a371f85f",
   "metadata": {},
   "outputs": [],
   "source": []
  },
  {
   "cell_type": "code",
   "execution_count": null,
   "id": "143e1bdc",
   "metadata": {},
   "outputs": [],
   "source": []
  }
 ],
 "metadata": {
  "kernelspec": {
   "display_name": "Python 3 (ipykernel)",
   "language": "python",
   "name": "python3"
  },
  "language_info": {
   "codemirror_mode": {
    "name": "ipython",
    "version": 3
   },
   "file_extension": ".py",
   "mimetype": "text/x-python",
   "name": "python",
   "nbconvert_exporter": "python",
   "pygments_lexer": "ipython3",
   "version": "3.9.12"
  },
  "toc": {
   "base_numbering": 1,
   "nav_menu": {},
   "number_sections": true,
   "sideBar": true,
   "skip_h1_title": false,
   "title_cell": "Table of Contents",
   "title_sidebar": "Contents",
   "toc_cell": false,
   "toc_position": {},
   "toc_section_display": true,
   "toc_window_display": false
  }
 },
 "nbformat": 4,
 "nbformat_minor": 5
}
