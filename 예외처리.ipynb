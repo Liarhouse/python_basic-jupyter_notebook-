{
 "cells": [
  {
   "cell_type": "code",
   "execution_count": 1,
   "id": "10ade74e",
   "metadata": {
    "ExecuteTime": {
     "end_time": "2022-09-15T03:53:07.344241Z",
     "start_time": "2022-09-15T03:53:06.938481Z"
    }
   },
   "outputs": [
    {
     "ename": "ZeroDivisionError",
     "evalue": "division by zero",
     "output_type": "error",
     "traceback": [
      "\u001b[1;31m---------------------------------------------------------------------------\u001b[0m",
      "\u001b[1;31mZeroDivisionError\u001b[0m                         Traceback (most recent call last)",
      "Input \u001b[1;32mIn [1]\u001b[0m, in \u001b[0;36m<cell line: 1>\u001b[1;34m()\u001b[0m\n\u001b[1;32m----> 1\u001b[0m \u001b[38;5;241;43m4\u001b[39;49m\u001b[38;5;241;43m/\u001b[39;49m\u001b[38;5;241;43m0\u001b[39;49m\n",
      "\u001b[1;31mZeroDivisionError\u001b[0m: division by zero"
     ]
    }
   ],
   "source": [
    "4/0"
   ]
  },
  {
   "cell_type": "code",
   "execution_count": 4,
   "id": "3c04789d",
   "metadata": {
    "ExecuteTime": {
     "end_time": "2022-09-15T03:57:28.689907Z",
     "start_time": "2022-09-15T03:57:28.682925Z"
    }
   },
   "outputs": [
    {
     "name": "stdout",
     "output_type": "stream",
     "text": [
      "start\n",
      "바보 멍충아 0으로 나눴잖아\n",
      "end\n"
     ]
    }
   ],
   "source": [
    "print(\"start\")\n",
    "\n",
    "try:\n",
    "    4/0\n",
    "\n",
    "#except ZeroDivisionError as e:\n",
    "except Exception as e:\n",
    "    #print(e)\n",
    "    print(\"바보 멍충아 0으로 나눴잖아\")\n",
    "\n",
    "\n",
    "print(\"end\")"
   ]
  },
  {
   "cell_type": "code",
   "execution_count": 5,
   "id": "6c41a67d",
   "metadata": {
    "ExecuteTime": {
     "end_time": "2022-09-15T03:57:40.612452Z",
     "start_time": "2022-09-15T03:57:40.605470Z"
    }
   },
   "outputs": [
    {
     "name": "stdout",
     "output_type": "stream",
     "text": [
      "start\n",
      "division by zero\n",
      "end\n"
     ]
    }
   ],
   "source": [
    "print(\"start\")\n",
    "\n",
    "try:\n",
    "    4/0\n",
    "\n",
    "#except ZeroDivisionError as e:\n",
    "except Exception as e:\n",
    "    print(e)\n",
    "    \n",
    "\n",
    "print(\"end\")"
   ]
  },
  {
   "cell_type": "code",
   "execution_count": 7,
   "id": "9d5fddb2",
   "metadata": {
    "ExecuteTime": {
     "end_time": "2022-09-15T05:10:26.654670Z",
     "start_time": "2022-09-15T05:10:24.364234Z"
    }
   },
   "outputs": [
    {
     "name": "stdout",
     "output_type": "stream",
     "text": [
      "종료하려면 q를 입력하세요.\n",
      "\n",
      " 분자 = 1\n",
      "분모 = q\n",
      "프로그램을 종료합니다.\n"
     ]
    }
   ],
   "source": [
    "print(\"종료하려면 q를 입력하세요.\")\n",
    "\n",
    "while True:\n",
    "    num1 = input(\"\\n 분자 = \")\n",
    "    if num1 == 'q':\n",
    "        break\n",
    "    num2 = input(\"분모 = \")\n",
    "    if num2 == 'q':\n",
    "        break\n",
    "    \n",
    "    \n",
    "    result = int(num1) / int(num2)\n",
    "    \n",
    "    print(\"{0} / {1} = {2}\".format(num1, num2, result))\n",
    "\n",
    "print(\"프로그램을 종료합니다.\")"
   ]
  },
  {
   "cell_type": "code",
   "execution_count": 9,
   "id": "fceb79a4",
   "metadata": {
    "ExecuteTime": {
     "end_time": "2022-09-15T05:17:23.726741Z",
     "start_time": "2022-09-15T05:14:52.336996Z"
    }
   },
   "outputs": [
    {
     "name": "stdout",
     "output_type": "stream",
     "text": [
      "종료하려면 q를 입력하세요.\n",
      "\n",
      " 분자 = d\n",
      "분모 = d\n",
      "분모에는 0을 입력할 수 없습니다.\n",
      "에러 메시지 :  invalid literal for int() with base 10: 'd'\n",
      "\n",
      " 분자 = q\n",
      "프로그램을 종료합니다.\n"
     ]
    }
   ],
   "source": [
    "print(\"종료하려면 q를 입력하세요.\")\n",
    "\n",
    "while True:\n",
    "    num1 = input(\"\\n 분자 = \")\n",
    "    if num1 == 'q':\n",
    "        break\n",
    "    num2 = input(\"분모 = \")\n",
    "    if num2 == 'q':\n",
    "        break\n",
    "    \n",
    "    try :\n",
    "        result = int(num1) / int(num2)\n",
    "        print(\"{0} / {1} = {2}\".format(num1, num2, result))\n",
    "    except Exception as e:\n",
    "        print(\"분모에는 0을 입력할 수 없습니다.\")\n",
    "        print(\"에러 메시지 : \", e)\n",
    "\n",
    "print(\"프로그램을 종료합니다.\")"
   ]
  },
  {
   "cell_type": "code",
   "execution_count": 12,
   "id": "042dbf63",
   "metadata": {
    "ExecuteTime": {
     "end_time": "2022-09-15T05:19:54.371811Z",
     "start_time": "2022-09-15T05:19:36.207280Z"
    }
   },
   "outputs": [
    {
     "name": "stdout",
     "output_type": "stream",
     "text": [
      "종료하려면 q를 입력하세요.\n",
      "\n",
      "분자 = a\n",
      "분모 = a\n",
      "분자 및 분모에는 문자를 입력할 수 없습니다.\n",
      "에러 메시지 :  invalid literal for int() with base 10: 'a'\n",
      "\n",
      "분자 = q\n",
      "\n",
      "프로그램을 종료합니다.\n"
     ]
    }
   ],
   "source": [
    "print(\"종료하려면 q를 입력하세요.\")\n",
    "\n",
    "while True:\n",
    "    num1 = input(\"\\n분자 = \")\n",
    "    if num1 == 'q':\n",
    "        break\n",
    "    num2 = input(\"분모 = \")\n",
    "    if num2 == 'q':\n",
    "        break\n",
    "    \n",
    "    try :\n",
    "        result = int(num1) / int(num2)\n",
    "        print(\"{0} / {1} = {2}\".format(num1, num2, result))\n",
    "    except ZeroDivisionError as e:\n",
    "        print(\"분모에는 0을 입력할 수 없습니다.\")\n",
    "        print(\"에러 메시지 : \", e)\n",
    "    except ValueError as e:\n",
    "        print(\"분자 및 분모에는 문자를 입력할 수 없습니다.\")\n",
    "        print(\"에러 메시지 : \", e)\n",
    "\n",
    "print(\"\\n프로그램을 종료합니다.\")"
   ]
  },
  {
   "cell_type": "code",
   "execution_count": 13,
   "id": "0c3d466b",
   "metadata": {
    "ExecuteTime": {
     "end_time": "2022-09-15T05:27:02.666123Z",
     "start_time": "2022-09-15T05:27:02.653156Z"
    }
   },
   "outputs": [
    {
     "name": "stdout",
     "output_type": "stream",
     "text": [
      "0으로 나눌 수 없습니다.\n",
      "10.0\n",
      "5.0\n",
      "3.3333333333333335\n",
      "2.5\n",
      "2.0\n",
      "1.6666666666666667\n",
      "1.4285714285714286\n",
      "1.25\n",
      "1.1111111111111112\n"
     ]
    }
   ],
   "source": [
    "# try ~ except ~ else\n",
    "for i in range(10):\n",
    "    try:\n",
    "        result = 10 / i\n",
    "    except ZeroDivisionError as e:\n",
    "        print(\"0으로 나눌 수 없습니다.\")\n",
    "    else:\n",
    "        print(result)"
   ]
  },
  {
   "cell_type": "code",
   "execution_count": 14,
   "id": "99206a04",
   "metadata": {
    "ExecuteTime": {
     "end_time": "2022-09-15T05:31:32.047159Z",
     "start_time": "2022-09-15T05:31:32.030204Z"
    }
   },
   "outputs": [
    {
     "name": "stdout",
     "output_type": "stream",
     "text": [
      "10\n",
      "5\n",
      "3\n",
      "2\n",
      "2\n",
      "1\n",
      "1\n",
      "1\n",
      "1\n",
      "\n",
      "프로그램을 종료합니다.\n"
     ]
    }
   ],
   "source": [
    "# try ~ except ~ finally\n",
    "\n",
    "try:\n",
    "    for i in range(1, 10):\n",
    "            result = 10 // i\n",
    "            print(result)\n",
    "except ZeroDivisionError as e:\n",
    "    print(\"0으로 나눌 수 없습니다.\")\n",
    "finally:\n",
    "    print(\"\\n프로그램을 종료합니다.\")"
   ]
  },
  {
   "cell_type": "code",
   "execution_count": 15,
   "id": "69a49ca2",
   "metadata": {
    "ExecuteTime": {
     "end_time": "2022-09-15T05:38:39.944120Z",
     "start_time": "2022-09-15T05:38:39.930155Z"
    }
   },
   "outputs": [
    {
     "ename": "SyntaxError",
     "evalue": "unmatched ')' (2398991413.py, line 9)",
     "output_type": "error",
     "traceback": [
      "\u001b[1;36m  Input \u001b[1;32mIn [15]\u001b[1;36m\u001b[0m\n\u001b[1;33m    print(\"정수값으로 변환된 결과 : \"), int(value))\u001b[0m\n\u001b[1;37m                                        ^\u001b[0m\n\u001b[1;31mSyntaxError\u001b[0m\u001b[1;31m:\u001b[0m unmatched ')'\n"
     ]
    }
   ],
   "source": [
    "# throws : 강제로 개발자가 에러를 발생시키는 것 = java style\n",
    "# raise문 : 예외를 발생시키는 문\n",
    "\n",
    "while True:\n",
    "    value = input(\"숫자 = \")\n",
    "    for digit in value:\n",
    "        if digit not in \"0123456789\":\n",
    "            raise ValueError(\"숫자로 변환할 수 없습니다.\")\n",
    "    print(\"정수값으로 변환된 결과 : \", int(value))"
   ]
  },
  {
   "cell_type": "code",
   "execution_count": 17,
   "id": "c1633cb8",
   "metadata": {
    "ExecuteTime": {
     "end_time": "2022-09-15T05:40:12.512594Z",
     "start_time": "2022-09-15T05:40:12.420067Z"
    }
   },
   "outputs": [
    {
     "ename": "FileNotFoundError",
     "evalue": "[Errno 2] No such file or directory: 'sample.txt'",
     "output_type": "error",
     "traceback": [
      "\u001b[1;31m---------------------------------------------------------------------------\u001b[0m",
      "\u001b[1;31mFileNotFoundError\u001b[0m                         Traceback (most recent call last)",
      "Input \u001b[1;32mIn [17]\u001b[0m, in \u001b[0;36m<cell line: 1>\u001b[1;34m()\u001b[0m\n\u001b[1;32m----> 1\u001b[0m f \u001b[38;5;241m=\u001b[39m \u001b[38;5;28;43mopen\u001b[39;49m\u001b[43m(\u001b[49m\u001b[38;5;124;43m\"\u001b[39;49m\u001b[38;5;124;43msample.txt\u001b[39;49m\u001b[38;5;124;43m\"\u001b[39;49m\u001b[43m,\u001b[49m\u001b[43m \u001b[49m\u001b[38;5;124;43m\"\u001b[39;49m\u001b[38;5;124;43mr\u001b[39;49m\u001b[38;5;124;43m\"\u001b[39;49m\u001b[43m)\u001b[49m\n\u001b[0;32m      3\u001b[0m \u001b[38;5;28;01mwhile\u001b[39;00m \u001b[38;5;28;01mTrue\u001b[39;00m:\n\u001b[0;32m      4\u001b[0m     line \u001b[38;5;241m=\u001b[39m f\u001b[38;5;241m.\u001b[39mreadline()\n",
      "\u001b[1;31mFileNotFoundError\u001b[0m: [Errno 2] No such file or directory: 'sample.txt'"
     ]
    }
   ],
   "source": [
    "f = open(\"sample.txt\", \"r\")\n",
    "\n",
    "while True:\n",
    "    line = f.readline()\n",
    "    if not line: break\n",
    "    print(line, end=\"\")\n",
    "\n",
    "f.close()"
   ]
  },
  {
   "cell_type": "code",
   "execution_count": 18,
   "id": "3a99120a",
   "metadata": {
    "ExecuteTime": {
     "end_time": "2022-09-15T05:45:06.200428Z",
     "start_time": "2022-09-15T05:45:06.184805Z"
    }
   },
   "outputs": [
    {
     "name": "stdout",
     "output_type": "stream",
     "text": [
      "[Errno 2] No such file or directory: 'sample.txt'\n"
     ]
    }
   ],
   "source": [
    "try:\n",
    "    f = open(\"sample.txt\", \"r\")\n",
    "\n",
    "except FileNotFoundError as e:\n",
    "    print(e)\n",
    "else:\n",
    "    while True:\n",
    "        line = f.readline()\n",
    "        if not line: break\n",
    "        print(line, end=\"\")\n",
    "\n",
    "    f.close()"
   ]
  },
  {
   "cell_type": "code",
   "execution_count": null,
   "id": "9b39ab00",
   "metadata": {},
   "outputs": [],
   "source": []
  }
 ],
 "metadata": {
  "kernelspec": {
   "display_name": "Python 3 (ipykernel)",
   "language": "python",
   "name": "python3"
  },
  "language_info": {
   "codemirror_mode": {
    "name": "ipython",
    "version": 3
   },
   "file_extension": ".py",
   "mimetype": "text/x-python",
   "name": "python",
   "nbconvert_exporter": "python",
   "pygments_lexer": "ipython3",
   "version": "3.9.12"
  },
  "toc": {
   "base_numbering": 1,
   "nav_menu": {},
   "number_sections": true,
   "sideBar": true,
   "skip_h1_title": false,
   "title_cell": "Table of Contents",
   "title_sidebar": "Contents",
   "toc_cell": false,
   "toc_position": {},
   "toc_section_display": true,
   "toc_window_display": false
  }
 },
 "nbformat": 4,
 "nbformat_minor": 5
}
