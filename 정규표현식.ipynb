{
 "cells": [
  {
   "cell_type": "code",
   "execution_count": 6,
   "id": "a7b813bd",
   "metadata": {
    "ExecuteTime": {
     "end_time": "2022-09-15T06:24:51.944981Z",
     "start_time": "2022-09-15T06:24:51.925955Z"
    }
   },
   "outputs": [
    {
     "name": "stdout",
     "output_type": "stream",
     "text": [
      "[]\n",
      "[]\n",
      "['i', 'i']\n",
      "['y', 'i', 'd', 'n', 'u', 'm', 'b', 'e', 'r', 'i', 's']\n",
      "['y', 'id', 'number', 'is']\n",
      "['M', 'L', 'E', 'E']\n",
      "['M', 'LEE']\n"
     ]
    }
   ],
   "source": [
    "# 정규 표현식(Regular Expression)\n",
    "import re\n",
    "\n",
    "string = \"My id number is LEE1230\"\n",
    "\n",
    "# findall(\"패턴\", 문자열)\n",
    "a = re.findall(\"a\", string)\n",
    "print(a)\n",
    "\n",
    "b = re.findall(\"lee\", string)\n",
    "print(b)\n",
    "\n",
    "c = re.findall(\"i\", string)\n",
    "print(c)\n",
    "\n",
    "# 소문자를 찾아서 리스트로 반환\n",
    "d = re.findall(\"[a-z]\", string)\n",
    "print(d)\n",
    "\n",
    "# 소문자를 단어 단위로 찾아서 리스트로 반환\n",
    "e = re.findall(\"[a-z]+\", string)\n",
    "print(e)\n",
    "\n",
    "# 대문자를 찾아서 리스트로 반환\n",
    "f = re.findall(\"[A-Z]\", string)\n",
    "print(f)\n",
    "\n",
    "g = re.findall(\"[A-Z]+\", string)\n",
    "print(g)"
   ]
  },
  {
   "cell_type": "markdown",
   "id": "3f24bc59",
   "metadata": {},
   "source": [
    "### 주민등록번호 뒷자리를 '*' 문자로 변경하는 작업"
   ]
  },
  {
   "cell_type": "code",
   "execution_count": 7,
   "id": "cf9116ad",
   "metadata": {
    "ExecuteTime": {
     "end_time": "2022-09-15T06:37:24.106547Z",
     "start_time": "2022-09-15T06:37:24.091576Z"
    }
   },
   "outputs": [],
   "source": [
    "data = \"\"\"\n",
    "park 800905-1049118\n",
    "kim 700405-1059119\n",
    "lee 900714-2012345\n",
    "\"\"\""
   ]
  },
  {
   "cell_type": "code",
   "execution_count": null,
   "id": "d0ad13c7",
   "metadata": {},
   "outputs": [],
   "source": [
    "# 전체 텍스트를 공백 문자로 나운다. => split\n",
    "# 나눈 단어가 주민등록번호 형식인지 조사한다.\n",
    "# 주민등록번호 형식에 맞다면 뒷자리를 *로 변환한다.\n",
    "# 나눈 단어를 합치기"
   ]
  },
  {
   "cell_type": "code",
   "execution_count": 8,
   "id": "f4f7bf6e",
   "metadata": {
    "ExecuteTime": {
     "end_time": "2022-09-15T06:48:07.925678Z",
     "start_time": "2022-09-15T06:48:07.916701Z"
    }
   },
   "outputs": [
    {
     "name": "stdout",
     "output_type": "stream",
     "text": [
      "\n",
      "800905-*******\n",
      "700405-*******\n",
      "900714-*******\n",
      "\n"
     ]
    }
   ],
   "source": [
    "result = []\n",
    "\n",
    "for line in data.split(\"\\n\"):\n",
    "    word_result = []\n",
    "    for word in line.split(\" \"):\n",
    "        if len(word) == 14 and word[:6].isdigit() and word[7:].isdigit():\n",
    "            word = word[:6] + \"-\" + \"*\" * 7\n",
    "            word_result.append(word)\n",
    "    result.append(\" \".join(word_result))\n",
    "\n",
    "print(\"\\n\".join(result))"
   ]
  },
  {
   "cell_type": "code",
   "execution_count": 9,
   "id": "b60309d1",
   "metadata": {
    "ExecuteTime": {
     "end_time": "2022-09-15T06:51:26.044797Z",
     "start_time": "2022-09-15T06:51:26.037799Z"
    }
   },
   "outputs": [
    {
     "name": "stdout",
     "output_type": "stream",
     "text": [
      "\n",
      "park 800905-*******\n",
      "kim 700405-*******\n",
      "lee 900714-*******\n",
      "\n"
     ]
    }
   ],
   "source": [
    "import re\n",
    "\n",
    "data = \"\"\"\n",
    "park 800905-1049118\n",
    "kim 700405-1059119\n",
    "lee 900714-2012345\n",
    "\"\"\"\n",
    "\n",
    "pattern = re.compile(\"(\\d{6})[-]\\d{7}\")\n",
    "print(pattern.sub(\"\\g<1>-*******\", data))"
   ]
  },
  {
   "cell_type": "code",
   "execution_count": 11,
   "id": "072ad12d",
   "metadata": {
    "ExecuteTime": {
     "end_time": "2022-09-15T07:08:56.833127Z",
     "start_time": "2022-09-15T07:08:56.818428Z"
    }
   },
   "outputs": [
    {
     "name": "stdout",
     "output_type": "stream",
     "text": [
      "<re.Match object; span=(0, 5), match='Hello'>\n"
     ]
    }
   ],
   "source": [
    "a = re.search('^Hello', 'Hello, world!')\n",
    "print(a)"
   ]
  },
  {
   "cell_type": "code",
   "execution_count": 12,
   "id": "66c87006",
   "metadata": {
    "ExecuteTime": {
     "end_time": "2022-09-15T07:09:24.243300Z",
     "start_time": "2022-09-15T07:09:24.238311Z"
    }
   },
   "outputs": [
    {
     "name": "stdout",
     "output_type": "stream",
     "text": [
      "<re.Match object; span=(7, 13), match='world!'>\n"
     ]
    }
   ],
   "source": [
    "a = re.search('world!$', 'Hello, world!')\n",
    "print(a)"
   ]
  },
  {
   "cell_type": "code",
   "execution_count": 13,
   "id": "b9ce4041",
   "metadata": {
    "ExecuteTime": {
     "end_time": "2022-09-15T07:09:46.610668Z",
     "start_time": "2022-09-15T07:09:46.602690Z"
    }
   },
   "outputs": [
    {
     "name": "stdout",
     "output_type": "stream",
     "text": [
      "None\n"
     ]
    }
   ],
   "source": [
    "a = re.search('Hello$', 'Hello, world!')\n",
    "print(a)"
   ]
  },
  {
   "cell_type": "code",
   "execution_count": 16,
   "id": "936174d6",
   "metadata": {
    "ExecuteTime": {
     "end_time": "2022-09-15T07:15:24.591734Z",
     "start_time": "2022-09-15T07:15:24.573477Z"
    }
   },
   "outputs": [
    {
     "data": {
      "text/plain": [
       "<re.Match object; span=(0, 4), match='1234'>"
      ]
     },
     "execution_count": 16,
     "metadata": {},
     "output_type": "execute_result"
    }
   ],
   "source": [
    "re.match('[0-9]+', '1234')"
   ]
  },
  {
   "cell_type": "code",
   "execution_count": 25,
   "id": "af7f75d3",
   "metadata": {
    "ExecuteTime": {
     "end_time": "2022-09-15T07:29:42.915776Z",
     "start_time": "2022-09-15T07:29:42.905802Z"
    }
   },
   "outputs": [
    {
     "name": "stdout",
     "output_type": "stream",
     "text": [
      "['M', 'y', 'i', 'd', 'i', 's', 'H', 'o', 'n', 'g', 'G', 'i', 'l', 'D', 'o', 'n', 'g', '0', '5', '0', '2']\n",
      "['My', 'id', 'is', 'HongGilDong', '0502']\n",
      "[' ', ' ', ' ', '_', '$%']\n"
     ]
    }
   ],
   "source": [
    "string = \"My id is HongGilDong_0502$%\"\n",
    "\n",
    "# 영문자와 숫자만 추출\n",
    "import re\n",
    "a = re.findall(\"[A-Za-z0-9]\", string)\n",
    "print(a)\n",
    "\n",
    "# 영문자와 숫자를 단어단위로 추출\n",
    "\n",
    "b = re.findall(\"[A-Za-z0-9]+\", string)\n",
    "print(b)\n",
    "\n",
    "# 영문자와 숫자를 제외한 글자를 추출\n",
    "c = re.findall(\"[^A-Za-z0-9]+\", string)\n",
    "print(c)"
   ]
  },
  {
   "cell_type": "code",
   "execution_count": 20,
   "id": "f6841b3b",
   "metadata": {
    "ExecuteTime": {
     "end_time": "2022-09-15T07:27:28.923884Z",
     "start_time": "2022-09-15T07:27:28.905932Z"
    }
   },
   "outputs": [
    {
     "name": "stdout",
     "output_type": "stream",
     "text": [
      "['My', 'id', 'is', 'HongGilDong_0502']\n"
     ]
    }
   ],
   "source": [
    "# \\w : 영문자,숫자,_(밑줄)\n",
    "d = re.findall(\"[\\w]+\", string)\n",
    "print(d)"
   ]
  },
  {
   "cell_type": "code",
   "execution_count": 23,
   "id": "c144a2e8",
   "metadata": {
    "ExecuteTime": {
     "end_time": "2022-09-15T07:29:25.209201Z",
     "start_time": "2022-09-15T07:29:25.195240Z"
    }
   },
   "outputs": [
    {
     "name": "stdout",
     "output_type": "stream",
     "text": [
      "[' ', ' ', ' ', '$%']\n"
     ]
    }
   ],
   "source": [
    "# \\W : \\w의 반대\n",
    "e = re.findall(\"[\\W]+\", string)\n",
    "print(e)"
   ]
  },
  {
   "cell_type": "code",
   "execution_count": 37,
   "id": "e84579ce",
   "metadata": {
    "ExecuteTime": {
     "end_time": "2022-09-15T07:48:35.665113Z",
     "start_time": "2022-09-15T07:48:35.650157Z"
    }
   },
   "outputs": [],
   "source": [
    "def pwd_check(pwd):\n",
    "    \n",
    "    #문자의 길이를 체크\n",
    "    if len(pwd) < 6 or len(pwd) > 12:\n",
    "        print(pwd,\"의 길이가 적당하지 않습니다.\")\n",
    "        return False\n",
    "    \n",
    "    # 숫자와 영문자로만 구성되어야 한다.\n",
    "    if re.findall(\"[a-zA-Z0-9]+\", pwd)[0] != pwd:\n",
    "        print(pwd, \"는 숫자와 영문자로만 구성되어야 합니다.\")\n",
    "        return False\n",
    "        \n",
    "    # 영문자는 대소문자가 포함되어 있어야 한다.\n",
    "    if len(re.findall(\"[a-z]+\", pwd)) == 0 or len(re.findall(\"[A-Z]+\", pwd)) == 0:\n",
    "        print(pwd, \"는 대소문자를 포함해야 합니다.\")\n",
    "        return False\n",
    "    \n",
    "    return (\"%s는 적합한 비밀번호 입니다.\" % pwd)\n",
    "\n"
   ]
  },
  {
   "cell_type": "code",
   "execution_count": 38,
   "id": "b720ac89",
   "metadata": {
    "ExecuteTime": {
     "end_time": "2022-09-15T07:48:36.715245Z",
     "start_time": "2022-09-15T07:48:36.700283Z"
    }
   },
   "outputs": [
    {
     "name": "stdout",
     "output_type": "stream",
     "text": [
      "12abc 의 길이가 적당하지 않습니다.\n",
      "False\n",
      "123abc 는 대소문자를 포함해야 합니다.\n",
      "False\n",
      "123abc% 는 숫자와 영문자로만 구성되어야 합니다.\n",
      "False\n",
      "123Abc는 적합한 비밀번호 입니다.\n"
     ]
    }
   ],
   "source": [
    "# 유효성검사를 수행하는 함수를 구현하시오.\n",
    "# 비밀번호를 체크하는 작업을 수행한다.\n",
    "## 글자수가 6 ~ 12 사이\n",
    "## 숫자와 영문자로만 구성되어야 한다.\n",
    "## 영문자는 대소문자가 포함되어 있어야 한다.\n",
    "\n",
    "print(pwd_check('12abc')) # False, 길이 오류\n",
    "print(pwd_check('123abc')) # False, 대문자 부재\n",
    "print(pwd_check('123abc%')) # False, 특수문자 포함\n",
    "print(pwd_check('123Abc')) # True"
   ]
  },
  {
   "cell_type": "markdown",
   "id": "0f46e145",
   "metadata": {},
   "source": [
    "### Question 이메일 형식 체크\n",
    "- id@회사명.종류\n",
    "- id나 회사명이나 종류는 두글자 이상이어야 한다.\n",
    "- 이메일 형식에 맞는지 맞지 않는지를 체크하는 함수 email_check()를 구현하시오."
   ]
  },
  {
   "cell_type": "code",
   "execution_count": 54,
   "id": "dd04a321",
   "metadata": {
    "ExecuteTime": {
     "end_time": "2022-09-15T08:16:12.546253Z",
     "start_time": "2022-09-15T08:16:12.527301Z"
    }
   },
   "outputs": [],
   "source": [
    "# ^[] : 사작, [^] : not, []$ : 끝\n",
    "# {2,} : 2글자 이상\n",
    "\n",
    "def email_check2(email):\n",
    "    pat = re.findall(\"^[a-z0-9]{2,}@[a-z0-9]{2,}\\.[a-z]{2,}$\", email)\n",
    "    \n",
    "    if len(pat) == 0:\n",
    "        print(email, \" : 이메일 형식이 올바르지 않습니다.\")\n",
    "        return\n",
    "    print(email, \" : 올바른 이메일 형식입니다.\")\n",
    "    return"
   ]
  },
  {
   "cell_type": "code",
   "execution_count": 52,
   "id": "c9523b0a",
   "metadata": {
    "ExecuteTime": {
     "end_time": "2022-09-15T08:09:40.499219Z",
     "start_time": "2022-09-15T08:09:40.483262Z"
    }
   },
   "outputs": [],
   "source": [
    "# ^[] : 사작, [^] : not, []$ : 끝\n",
    "# {2,} : 2글자 이상\n",
    "\n",
    "def email_check(add):\n",
    "    if '@' not in add:\n",
    "        print(\"@를 포함하지 않은 이메일 주소입니다.\")\n",
    "        return\n",
    "    if '.' not in add:\n",
    "        print(\".을 포함하지 않은 이메일 주소입니다.\")\n",
    "        return\n",
    "    for i in add.split(\"@\"):\n",
    "        if len(i) < 2:\n",
    "            print(\"id, 회사명 혹은 종류가 한 글자 입니다.\")\n",
    "            return\n",
    "        acc = i\n",
    "        for i in acc.split(\".\"):\n",
    "            if len(i) < 2:\n",
    "                print(\"id, 회사명 혹은 종류가 한 글자 입니다.\")\n",
    "                return\n",
    "    print(\"알맞은 이메일 형식입니다.\")"
   ]
  },
  {
   "cell_type": "code",
   "execution_count": 55,
   "id": "765c5fe5",
   "metadata": {
    "ExecuteTime": {
     "end_time": "2022-09-15T08:16:19.636248Z",
     "start_time": "2022-09-15T08:16:19.620625Z"
    }
   },
   "outputs": [
    {
     "name": "stdout",
     "output_type": "stream",
     "text": [
      "lee@gmail  : 이메일 형식이 올바르지 않습니다.\n",
      "lee_gmail.com  : 이메일 형식이 올바르지 않습니다.\n",
      "lee  : 이메일 형식이 올바르지 않습니다.\n",
      "lee@gmail.com  : 올바른 이메일 형식입니다.\n"
     ]
    }
   ],
   "source": [
    "email_check2(\"lee@gmail\")\n",
    "email_check2(\"lee_gmail.com\")\n",
    "email_check2(\"lee\")\n",
    "email_check2(\"lee@gmail.com\")"
   ]
  },
  {
   "cell_type": "code",
   "execution_count": 45,
   "id": "670f8817",
   "metadata": {
    "ExecuteTime": {
     "end_time": "2022-09-15T07:59:04.817260Z",
     "start_time": "2022-09-15T07:59:04.799307Z"
    }
   },
   "outputs": [
    {
     "name": "stdout",
     "output_type": "stream",
     "text": [
      "['lee', 'gmail.com']\n"
     ]
    }
   ],
   "source": [
    "add = 'lee@gmail.com'\n",
    "print(add.split(\"@\"))"
   ]
  },
  {
   "cell_type": "code",
   "execution_count": 43,
   "id": "489c4fac",
   "metadata": {
    "ExecuteTime": {
     "end_time": "2022-09-15T07:56:26.631104Z",
     "start_time": "2022-09-15T07:56:26.615150Z"
    }
   },
   "outputs": [
    {
     "name": "stdout",
     "output_type": "stream",
     "text": [
      "False\n"
     ]
    }
   ],
   "source": [
    "add = 'lee_gmail.com'\n",
    "if '@' in add:\n",
    "    print(True)\n",
    "else:\n",
    "    print(False)"
   ]
  },
  {
   "cell_type": "code",
   "execution_count": 47,
   "id": "d88c205a",
   "metadata": {
    "ExecuteTime": {
     "end_time": "2022-09-15T08:03:22.428327Z",
     "start_time": "2022-09-15T08:03:22.411374Z"
    }
   },
   "outputs": [
    {
     "name": "stdout",
     "output_type": "stream",
     "text": [
      "['gmail', 'com']\n"
     ]
    }
   ],
   "source": [
    "add = 'lee@gmail.com'\n",
    "acc = add.split(\"@\")\n",
    "for i in acc:\n",
    "    acc = i.split(\".\")\n",
    "print(acc)"
   ]
  },
  {
   "cell_type": "code",
   "execution_count": 56,
   "id": "f7fad133",
   "metadata": {
    "ExecuteTime": {
     "end_time": "2022-09-15T08:22:19.676705Z",
     "start_time": "2022-09-15T08:22:19.664739Z"
    }
   },
   "outputs": [
    {
     "ename": "SyntaxError",
     "evalue": "invalid syntax (3020280931.py, line 4)",
     "output_type": "error",
     "traceback": [
      "\u001b[1;36m  Input \u001b[1;32mIn [56]\u001b[1;36m\u001b[0m\n\u001b[1;33m    Else:\u001b[0m\n\u001b[1;37m         ^\u001b[0m\n\u001b[1;31mSyntaxError\u001b[0m\u001b[1;31m:\u001b[0m invalid syntax\n"
     ]
    }
   ],
   "source": [
    "def solution(num):\n",
    "    if num % 2 == 0:\n",
    "        answer = 'Even'\n",
    "    Else:\n",
    "        answer = 'Odd'\n",
    "    return answer\n",
    "solution(2)"
   ]
  },
  {
   "cell_type": "code",
   "execution_count": null,
   "id": "883ad5d6",
   "metadata": {},
   "outputs": [],
   "source": []
  }
 ],
 "metadata": {
  "kernelspec": {
   "display_name": "Python 3 (ipykernel)",
   "language": "python",
   "name": "python3"
  },
  "language_info": {
   "codemirror_mode": {
    "name": "ipython",
    "version": 3
   },
   "file_extension": ".py",
   "mimetype": "text/x-python",
   "name": "python",
   "nbconvert_exporter": "python",
   "pygments_lexer": "ipython3",
   "version": "3.9.12"
  },
  "toc": {
   "base_numbering": 1,
   "nav_menu": {},
   "number_sections": true,
   "sideBar": true,
   "skip_h1_title": false,
   "title_cell": "Table of Contents",
   "title_sidebar": "Contents",
   "toc_cell": false,
   "toc_position": {},
   "toc_section_display": true,
   "toc_window_display": false
  }
 },
 "nbformat": 4,
 "nbformat_minor": 5
}
