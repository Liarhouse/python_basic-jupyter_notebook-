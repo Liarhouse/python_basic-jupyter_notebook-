{
 "cells": [
  {
   "cell_type": "code",
   "execution_count": null,
   "id": "e8521ab1",
   "metadata": {
    "ExecuteTime": {
     "end_time": "2022-09-15T02:44:18.493341Z",
     "start_time": "2022-09-15T02:44:18.488352Z"
    }
   },
   "outputs": [],
   "source": [
    "# 현재 작업중인 디렉토리(폴더)에 파일이 생성된다.\n",
    "# open(\"filename\", \"mode\")\n",
    "# mode : w(쓰기), r(읽기), a(추가)\n",
    "# f = open(\"binary_file\", \"rb\")\n",
    "\n",
    "# step1. 객체생성 + 파일오픈\n",
    "f = open(\"file1.txt\", \"w\")\n",
    "\n",
    "# step2. 실제 처리할 작업 기술\n",
    "\n",
    "\n",
    "# step3. 파일닫기\n",
    "f.close()"
   ]
  },
  {
   "cell_type": "code",
   "execution_count": 2,
   "id": "018fd864",
   "metadata": {
    "ExecuteTime": {
     "end_time": "2022-09-15T02:46:35.442306Z",
     "start_time": "2022-09-15T02:46:35.424357Z"
    }
   },
   "outputs": [],
   "source": [
    "# 디렉토리 지정하여 파일 생석\n",
    "f = open(\"C:/K_digital/source/python_source/game/file2.txt\", \"w\")\n",
    "f.close()"
   ]
  },
  {
   "cell_type": "code",
   "execution_count": 3,
   "id": "010b1fd2",
   "metadata": {
    "ExecuteTime": {
     "end_time": "2022-09-15T02:50:15.745581Z",
     "start_time": "2022-09-15T02:50:15.730606Z"
    }
   },
   "outputs": [],
   "source": [
    "# 파일 출력\n",
    "# step1. 객체생성 + 파일오픈\n",
    "f = open(\"C:/K_digital/source/python_source/game/file3.txt\", \"w\")\n",
    "\n",
    "# step2. 실제 처리할 작업 기술\n",
    "for i in range(1,11):\n",
    "    data = \"{0}번째 줄입니다.\\n\".format(i)\n",
    "    f.write(data)\n",
    "\n",
    "# step3. 파일닫기\n",
    "f.close()"
   ]
  },
  {
   "cell_type": "code",
   "execution_count": 5,
   "id": "c276550a",
   "metadata": {
    "ExecuteTime": {
     "end_time": "2022-09-15T02:56:32.228713Z",
     "start_time": "2022-09-15T02:56:32.222724Z"
    }
   },
   "outputs": [
    {
     "name": "stdout",
     "output_type": "stream",
     "text": [
      "1번째 줄입니다.\n",
      "2번째 줄입니다.\n",
      "3번째 줄입니다.\n",
      "4번째 줄입니다.\n",
      "5번째 줄입니다.\n",
      "6번째 줄입니다.\n",
      "7번째 줄입니다.\n",
      "8번째 줄입니다.\n",
      "9번째 줄입니다.\n",
      "10번째 줄입니다.\n"
     ]
    }
   ],
   "source": [
    "# step1\n",
    "f = open(\"C:/K_digital/source/python_source/game/file3.txt\", \"r\")\n",
    "\n",
    "# step2\n",
    "while True:\n",
    "    line = f.readline()\n",
    "    # EOF = End Of File, 파일의 끝\n",
    "    if not line: break\n",
    "    print(line, end = \"\")\n",
    "    \n",
    "# step3\n",
    "f.close()"
   ]
  },
  {
   "cell_type": "code",
   "execution_count": 11,
   "id": "8471d297",
   "metadata": {
    "ExecuteTime": {
     "end_time": "2022-09-15T03:20:08.329335Z",
     "start_time": "2022-09-15T03:20:08.315155Z"
    }
   },
   "outputs": [
    {
     "name": "stdout",
     "output_type": "stream",
     "text": [
      "추가되었습니다.\n"
     ]
    }
   ],
   "source": [
    "nums = [0, 1, 2, 3, 4, 5, 6, 7, 8, 9]\n",
    "\n",
    "count = len(nums)\n",
    "\n",
    "# print(count)\n",
    "outfle = \"C:/K_digital/source/python_source/game/result.csv\"\n",
    "\n",
    "# step1\n",
    "f = open(\"C:/K_digital/source/python_source/game/result.csv\", \"a\")\n",
    "\n",
    "# step2\n",
    "for idx in range(count):\n",
    "    if idx < (count-1):\n",
    "        f.write(str(nums[idx]) + \",\")\n",
    "    else:\n",
    "        f.write(str(nums[idx]) + \"\\n\")\n",
    "        \n",
    "# step3\n",
    "f.close()\n",
    "print(\"추가되었습니다.\")"
   ]
  },
  {
   "cell_type": "code",
   "execution_count": 14,
   "id": "98de471f",
   "metadata": {
    "ExecuteTime": {
     "end_time": "2022-09-15T03:24:28.425893Z",
     "start_time": "2022-09-15T03:24:28.416917Z"
    }
   },
   "outputs": [
    {
     "name": "stdout",
     "output_type": "stream",
     "text": [
      "['0,1,2,3,4,5,6,7,8,9\\n', '0,1,2,3,4,5,6,7,8,9\\n', '0,1,2,3,4,5,6,7,8,9\\n', '0,1,2,3,4,5,6,7,8,9\\n', '0,1,2,3,4,5,6,7,8,9\\n']\n",
      "0,1,2,3,4,5,6,7,8,9\n",
      "0,1,2,3,4,5,6,7,8,9\n",
      "0,1,2,3,4,5,6,7,8,9\n",
      "0,1,2,3,4,5,6,7,8,9\n",
      "0,1,2,3,4,5,6,7,8,9\n"
     ]
    }
   ],
   "source": [
    "# step1\n",
    "f = open(\"C:/K_digital/source/python_source/game/result.csv\", \"r\")\n",
    "\n",
    "# 모든 라인을 읽어서 리스트에 저장하는 함수\n",
    "lines = f.readlines()\n",
    "\n",
    "print(lines)\n",
    "for line in lines:\n",
    "    print(line, end=\"\")\n",
    "    \n",
    "#step3\n",
    "f.close()"
   ]
  },
  {
   "cell_type": "code",
   "execution_count": 15,
   "id": "ce6a534e",
   "metadata": {
    "ExecuteTime": {
     "end_time": "2022-09-15T03:26:53.454888Z",
     "start_time": "2022-09-15T03:26:53.435938Z"
    }
   },
   "outputs": [
    {
     "name": "stdout",
     "output_type": "stream",
     "text": [
      "0,1,2,3,4,5,6,7,8,9\n",
      "0,1,2,3,4,5,6,7,8,9\n",
      "0,1,2,3,4,5,6,7,8,9\n",
      "0,1,2,3,4,5,6,7,8,9\n",
      "0,1,2,3,4,5,6,7,8,9\n",
      "\n"
     ]
    }
   ],
   "source": [
    "# step1\n",
    "f = open(\"C:/K_digital/source/python_source/game/result.csv\", \"r\")\n",
    "\n",
    "# step2\n",
    "data = f.read() # 파일 안에 모든 내용을 전부 읽어오는 함수\n",
    "print(data)\n",
    "\n",
    "# step3\n",
    "f.close()"
   ]
  },
  {
   "cell_type": "code",
   "execution_count": 16,
   "id": "44585082",
   "metadata": {
    "ExecuteTime": {
     "end_time": "2022-09-15T03:27:39.913607Z",
     "start_time": "2022-09-15T03:27:39.903621Z"
    }
   },
   "outputs": [
    {
     "name": "stdout",
     "output_type": "stream",
     "text": [
      "0,1,2,3,4,5,6,7,8,9\n",
      "0,1,2,3,4,5,6,7,8,9\n",
      "0,1,2,3,4,5,6,7,8,9\n",
      "0,1,2,3,4,5,6,7,8,9\n",
      "0,1,2,3,4,5,6,7,8,9\n"
     ]
    }
   ],
   "source": [
    "f = open(\"C:/K_digital/source/python_source/game/result.csv\", \"r\")\n",
    "\n",
    "for line in f:\n",
    "    print(line,end=\"\")\n",
    "f.close()"
   ]
  },
  {
   "cell_type": "code",
   "execution_count": 17,
   "id": "6a5dd8ac",
   "metadata": {
    "ExecuteTime": {
     "end_time": "2022-09-15T03:29:22.557273Z",
     "start_time": "2022-09-15T03:29:22.537607Z"
    }
   },
   "outputs": [],
   "source": [
    "# with 구문을 활용하여 close() 함수 자동 호출\n",
    "with open(\"C:/K_digital/source/python_source/game/file4.txt\", \"w\") as f:\n",
    "    f.write(\"Hello Python\")"
   ]
  },
  {
   "cell_type": "code",
   "execution_count": 18,
   "id": "70f7e2eb",
   "metadata": {
    "ExecuteTime": {
     "end_time": "2022-09-15T03:30:22.138669Z",
     "start_time": "2022-09-15T03:30:22.123716Z"
    }
   },
   "outputs": [
    {
     "name": "stdout",
     "output_type": "stream",
     "text": [
      "Hello Python"
     ]
    }
   ],
   "source": [
    "with open(\"C:/K_digital/source/python_source/game/file4.txt\", \"r\") as f:\n",
    "    for line in f:\n",
    "        print(line, end=\"\")"
   ]
  },
  {
   "cell_type": "code",
   "execution_count": 22,
   "id": "8595a21b",
   "metadata": {
    "ExecuteTime": {
     "end_time": "2022-09-15T03:38:59.132657Z",
     "start_time": "2022-09-15T03:38:59.113708Z"
    }
   },
   "outputs": [
    {
     "name": "stdout",
     "output_type": "stream",
     "text": [
      "1번째 줄입니다.\n",
      "2번째 줄입니다.\n",
      "3번째 줄입니다.\n",
      "4번째 줄입니다.\n",
      "5번째 줄입니다.\n",
      "6번째 줄입니다.\n",
      "7번째 줄입니다.\n",
      "8번째 줄입니다.\n",
      "9번째 줄입니다.\n",
      "10번째 줄입니다.\n",
      "171\n",
      "0\n",
      "1번째 줄입니다.\n",
      "\n"
     ]
    }
   ],
   "source": [
    "with open(\"C:/K_digital/source/python_source/game/file3.txt\", \"r\") as f:\n",
    "    for line in f:\n",
    "        print(line, end=\"\")\n",
    "        \n",
    "    print(f.tell()) # 파일 포인터의 위치를 출력\n",
    "    \n",
    "    # 파일의 시작위치로 포인터를 이동\n",
    "    f.seek(0) # seek(offset, from)\n",
    "    # offset : 상대적인 위치\n",
    "    # from : 기준위치, 0(시작), 1(현재위치), 2(끝)\n",
    "    print(f.tell())\n",
    "    line = f.readline() # 한 라인을 읽어오는 함수\n",
    "    print(line)"
   ]
  },
  {
   "cell_type": "code",
   "execution_count": null,
   "id": "609507c1",
   "metadata": {},
   "outputs": [],
   "source": []
  }
 ],
 "metadata": {
  "kernelspec": {
   "display_name": "Python 3 (ipykernel)",
   "language": "python",
   "name": "python3"
  },
  "language_info": {
   "codemirror_mode": {
    "name": "ipython",
    "version": 3
   },
   "file_extension": ".py",
   "mimetype": "text/x-python",
   "name": "python",
   "nbconvert_exporter": "python",
   "pygments_lexer": "ipython3",
   "version": "3.9.12"
  },
  "toc": {
   "base_numbering": 1,
   "nav_menu": {},
   "number_sections": true,
   "sideBar": true,
   "skip_h1_title": false,
   "title_cell": "Table of Contents",
   "title_sidebar": "Contents",
   "toc_cell": false,
   "toc_position": {},
   "toc_section_display": true,
   "toc_window_display": false
  }
 },
 "nbformat": 4,
 "nbformat_minor": 5
}
